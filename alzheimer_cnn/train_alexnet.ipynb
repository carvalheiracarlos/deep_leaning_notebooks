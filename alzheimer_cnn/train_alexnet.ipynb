{
  "nbformat": 4,
  "nbformat_minor": 0,
  "metadata": {
    "colab": {
      "provenance": [],
      "mount_file_id": "1a5vEefr6-yqlH82mGbkPHmsqPeRyO9OI",
      "authorship_tag": "ABX9TyOZVixmWRyW6VzK3yImKe1f",
      "include_colab_link": true
    },
    "kernelspec": {
      "name": "python3",
      "display_name": "Python 3"
    },
    "language_info": {
      "name": "python"
    },
    "accelerator": "GPU"
  },
  "cells": [
    {
      "cell_type": "markdown",
      "metadata": {
        "id": "view-in-github",
        "colab_type": "text"
      },
      "source": [
        "<a href=\"https://colab.research.google.com/github/carvalheiracarlos/deep_leaning_notebooks/blob/main/alzheimer_cnn/train_alexnet.ipynb\" target=\"_parent\"><img src=\"https://colab.research.google.com/assets/colab-badge.svg\" alt=\"Open In Colab\"/></a>"
      ]
    },
    {
      "cell_type": "code",
      "source": [
        "from keras.callbacks import ModelCheckpoint\n",
        "from keras.metrics import categorical_accuracy\n",
        "from keras.models import Sequential\n",
        "from keras.layers.convolutional import Convolution2D\n",
        "from keras.layers import Conv2D, MaxPooling2D\n",
        "from keras.layers.core import Activation\n",
        "from keras.layers.core import Flatten\n",
        "from keras.layers.core import Dense\n",
        "from keras import backend\n",
        "import tensorflow as tf\n",
        "import json\n",
        "from keras.regularizers import l2\n",
        "import matplotlib.pyplot as plt\n",
        "import numpy as np"
      ],
      "metadata": {
        "id": "gM1oevhDkyub"
      },
      "execution_count": 1,
      "outputs": []
    },
    {
      "cell_type": "code",
      "source": [
        "!mkdir weights"
      ],
      "metadata": {
        "id": "yfqqSz-Y8Nsb"
      },
      "execution_count": 2,
      "outputs": []
    },
    {
      "cell_type": "code",
      "source": [
        "device_name = tf.test.gpu_device_name()\n",
        "if device_name != '/device:GPU:0':\n",
        "  raise SystemError('GPU device not found')\n",
        "print('Found GPU at: {}'.format(device_name))"
      ],
      "metadata": {
        "colab": {
          "base_uri": "https://localhost:8080/"
        },
        "id": "XhvcDvM4ldwa",
        "outputId": "bb1faca0-b22d-410f-8ccf-0d9c383c7b03"
      },
      "execution_count": 3,
      "outputs": [
        {
          "output_type": "stream",
          "name": "stdout",
          "text": [
            "Found GPU at: /device:GPU:0\n"
          ]
        }
      ]
    },
    {
      "cell_type": "code",
      "source": [
        "X_train = np.load('drive/MyDrive/alzheimer_datasets/X_train.npy', allow_pickle=True)\n",
        "X_test = np.load('drive/MyDrive/alzheimer_datasets/X_test.npy', allow_pickle=True)\n",
        "\n",
        "y_train = np.load('drive/MyDrive/alzheimer_datasets/y_train.npy', allow_pickle=True)\n",
        "y_test = np.load('drive/MyDrive/alzheimer_datasets/y_test.npy', allow_pickle=True)"
      ],
      "metadata": {
        "id": "n-u7pThdhjd9"
      },
      "execution_count": 4,
      "outputs": []
    },
    {
      "cell_type": "code",
      "source": [
        "X_train[0].shape"
      ],
      "metadata": {
        "colab": {
          "base_uri": "https://localhost:8080/"
        },
        "id": "MVYrlRcTk-Ek",
        "outputId": "8ef5d2d8-2e61-4d44-95b9-deb04fdaa3c7"
      },
      "execution_count": 5,
      "outputs": [
        {
          "output_type": "execute_result",
          "data": {
            "text/plain": [
              "(100, 100, 1)"
            ]
          },
          "metadata": {},
          "execution_count": 5
        }
      ]
    },
    {
      "cell_type": "code",
      "source": [
        "class LightAlexNet:\n",
        "  @staticmethod\n",
        "  def build(n_channels, \n",
        "            rows, \n",
        "            cols, \n",
        "            n_classes, \n",
        "            activation='relu', \n",
        "            weights_path=None):\n",
        "    model = tf.keras.models.Sequential()\n",
        "    \n",
        "    input_Shape = (rows, cols, n_channels)\n",
        "    \n",
        "    model.add(tf.keras.layers.Conv2D(filters=128, \n",
        "                                  kernel_size=(10,10),\n",
        "                                  strides=(2,2),\n",
        "                                  activation=activation, \n",
        "                                  input_shape=input_Shape))\n",
        "    model.add(tf.keras.layers.BatchNormalization())\n",
        "    model.add(tf.keras.layers.MaxPooling2D(pool_size=(3, 3), strides=(2, 2)))\n",
        "    model.add(tf.keras.layers.Dropout(0.5))\n",
        "    \n",
        "    \n",
        "    model.add(tf.keras.layers.Conv2D(filters=256, \n",
        "                                  kernel_size=(8,8),\n",
        "                                  strides=(2,2),\n",
        "                                  activation=activation, \n",
        "                                  input_shape=input_Shape,\n",
        "                                  padding='same'))\n",
        "    model.add(tf.keras.layers.BatchNormalization())\n",
        "    model.add(tf.keras.layers.MaxPooling2D(pool_size=(3, 3), strides=(2, 2)))\n",
        "    model.add(tf.keras.layers.Dropout(0.5))\n",
        "    \n",
        "    \n",
        "    model.add(tf.keras.layers.Conv2D(filters=512, \n",
        "                                  kernel_size=(8,8),\n",
        "                                  strides=(2,2),\n",
        "                                  activation=activation, \n",
        "                                  input_shape=input_Shape,\n",
        "                                  padding='same'))\n",
        "    model.add(tf.keras.layers.BatchNormalization())\n",
        "    model.add(tf.keras.layers.Dropout(0.5))\n",
        "\n",
        "\n",
        "    model.add(tf.keras.layers.Flatten())\n",
        "\n",
        "    model.add(tf.keras.layers.Dense(512, activation=activation, kernel_regularizer=l2(0.01)))\n",
        "    model.add(tf.keras.layers.Dropout(0.5))\n",
        "\n",
        "    model.add(tf.keras.layers.Dense(n_classes, activation='softmax'))\n",
        "\n",
        "    # if a weights path is supplied (inicating that the model was\n",
        "    # pre-trained), then load the weights\n",
        "    if weights_path is not None:\n",
        "      model.load_weights(weights_path)\n",
        "    \n",
        "    return model"
      ],
      "metadata": {
        "id": "7QErIWvvkvoE"
      },
      "execution_count": 6,
      "outputs": []
    },
    {
      "cell_type": "code",
      "source": [
        "n_epochs = 100\n",
        "ini_learning_rate = 1e-3\n",
        "batch_size = 32"
      ],
      "metadata": {
        "id": "ZFrYl1WelLx4"
      },
      "execution_count": 7,
      "outputs": []
    },
    {
      "cell_type": "code",
      "source": [
        "file_path = 'weights/alex_weights_train.h5'\n",
        "check_point = ModelCheckpoint(file_path, \n",
        "                              monitor='categorical_accuracy', \n",
        "                              verbose=0, \n",
        "                              save_best_only=True,\n",
        "                              mode='max',\n",
        "                              save_weights_only=True)\n",
        "\n",
        "\n",
        "tensorboard = tf.keras.callbacks.TensorBoard('./logs/fit/',\n",
        "                                              write_images=True)"
      ],
      "metadata": {
        "id": "V56F1lBx6lqH"
      },
      "execution_count": 8,
      "outputs": []
    },
    {
      "cell_type": "code",
      "source": [
        "with tf.device('/device:GPU:0') as sess:\n",
        "    train_model = LightAlexNet.build(n_channels=1, \n",
        "                                     rows=100,\n",
        "                                     cols=100, \n",
        "                                     n_classes=4, \n",
        "                                     activation='relu', \n",
        "                                     weights_path=None)\n",
        "\n",
        "    opt = tf.keras.optimizers.Adam(learning_rate=ini_learning_rate,\n",
        "                                   beta_1=0.9, \n",
        "                                   beta_2=0.999, \n",
        "                                   epsilon=1e-08,\n",
        "                                   decay=ini_learning_rate/n_epochs)\n",
        "    \n",
        "    train_model.compile(loss='categorical_crossentropy', \n",
        "                        optimizer=opt, \n",
        "                        metrics=[tf.keras.metrics.categorical_accuracy])\n",
        "\n",
        "    train_model.summary()\n",
        "    \n",
        "    callbacks_list = [tensorboard, check_point]\n",
        "    \n",
        "    fit_history = train_model.fit(x=X_train,\n",
        "                                  y=y_train,\n",
        "                                  epochs=n_epochs,\n",
        "                                  validation_split=0.3,\n",
        "                                  validation_freq=1,\n",
        "                                  batch_size=batch_size,\n",
        "                                  callbacks=callbacks_list,\n",
        "                                  verbose=1)"
      ],
      "metadata": {
        "colab": {
          "base_uri": "https://localhost:8080/"
        },
        "id": "X_XAWzgrlO89",
        "outputId": "8f1c4f2b-7831-4b6f-dab2-1c5713d562a7"
      },
      "execution_count": 9,
      "outputs": [
        {
          "output_type": "stream",
          "name": "stdout",
          "text": [
            "Model: \"sequential\"\n",
            "_________________________________________________________________\n",
            " Layer (type)                Output Shape              Param #   \n",
            "=================================================================\n",
            " conv2d (Conv2D)             (None, 46, 46, 128)       12928     \n",
            "                                                                 \n",
            " batch_normalization (BatchN  (None, 46, 46, 128)      512       \n",
            " ormalization)                                                   \n",
            "                                                                 \n",
            " max_pooling2d (MaxPooling2D  (None, 22, 22, 128)      0         \n",
            " )                                                               \n",
            "                                                                 \n",
            " dropout (Dropout)           (None, 22, 22, 128)       0         \n",
            "                                                                 \n",
            " conv2d_1 (Conv2D)           (None, 11, 11, 256)       2097408   \n",
            "                                                                 \n",
            " batch_normalization_1 (Batc  (None, 11, 11, 256)      1024      \n",
            " hNormalization)                                                 \n",
            "                                                                 \n",
            " max_pooling2d_1 (MaxPooling  (None, 5, 5, 256)        0         \n",
            " 2D)                                                             \n",
            "                                                                 \n",
            " dropout_1 (Dropout)         (None, 5, 5, 256)         0         \n",
            "                                                                 \n",
            " conv2d_2 (Conv2D)           (None, 3, 3, 512)         8389120   \n",
            "                                                                 \n",
            " batch_normalization_2 (Batc  (None, 3, 3, 512)        2048      \n",
            " hNormalization)                                                 \n",
            "                                                                 \n",
            " dropout_2 (Dropout)         (None, 3, 3, 512)         0         \n",
            "                                                                 \n",
            " flatten (Flatten)           (None, 4608)              0         \n",
            "                                                                 \n",
            " dense (Dense)               (None, 512)               2359808   \n",
            "                                                                 \n",
            " dropout_3 (Dropout)         (None, 512)               0         \n",
            "                                                                 \n",
            " dense_1 (Dense)             (None, 4)                 2052      \n",
            "                                                                 \n",
            "=================================================================\n",
            "Total params: 12,864,900\n",
            "Trainable params: 12,863,108\n",
            "Non-trainable params: 1,792\n",
            "_________________________________________________________________\n",
            "Epoch 1/100\n",
            "521/521 [==============================] - 42s 58ms/step - loss: 3.6565 - categorical_accuracy: 0.3367 - val_loss: 2.3678 - val_categorical_accuracy: 0.3342\n",
            "Epoch 2/100\n",
            "521/521 [==============================] - 31s 59ms/step - loss: 1.3654 - categorical_accuracy: 0.4948 - val_loss: 1.2873 - val_categorical_accuracy: 0.4970\n",
            "Epoch 3/100\n",
            "521/521 [==============================] - 30s 58ms/step - loss: 1.0820 - categorical_accuracy: 0.5633 - val_loss: 0.9665 - val_categorical_accuracy: 0.5749\n",
            "Epoch 4/100\n",
            "521/521 [==============================] - 30s 57ms/step - loss: 0.9295 - categorical_accuracy: 0.6090 - val_loss: 1.2502 - val_categorical_accuracy: 0.5152\n",
            "Epoch 5/100\n",
            "521/521 [==============================] - 30s 58ms/step - loss: 0.8744 - categorical_accuracy: 0.6253 - val_loss: 1.0220 - val_categorical_accuracy: 0.5614\n",
            "Epoch 6/100\n",
            "521/521 [==============================] - 28s 54ms/step - loss: 0.8275 - categorical_accuracy: 0.6540 - val_loss: 0.9468 - val_categorical_accuracy: 0.5855\n",
            "Epoch 7/100\n",
            "521/521 [==============================] - 30s 57ms/step - loss: 0.7863 - categorical_accuracy: 0.6740 - val_loss: 0.7351 - val_categorical_accuracy: 0.6885\n",
            "Epoch 8/100\n",
            "521/521 [==============================] - 28s 55ms/step - loss: 0.7459 - categorical_accuracy: 0.6958 - val_loss: 0.7533 - val_categorical_accuracy: 0.6709\n",
            "Epoch 9/100\n",
            "521/521 [==============================] - 30s 58ms/step - loss: 0.7299 - categorical_accuracy: 0.7058 - val_loss: 0.6823 - val_categorical_accuracy: 0.7446\n",
            "Epoch 10/100\n",
            "521/521 [==============================] - 30s 58ms/step - loss: 0.7050 - categorical_accuracy: 0.7242 - val_loss: 0.7243 - val_categorical_accuracy: 0.6944\n",
            "Epoch 11/100\n",
            "521/521 [==============================] - 30s 58ms/step - loss: 0.6875 - categorical_accuracy: 0.7365 - val_loss: 0.6720 - val_categorical_accuracy: 0.7377\n",
            "Epoch 12/100\n",
            "521/521 [==============================] - 30s 58ms/step - loss: 0.6741 - categorical_accuracy: 0.7431 - val_loss: 0.6089 - val_categorical_accuracy: 0.7818\n",
            "Epoch 13/100\n",
            "521/521 [==============================] - 28s 54ms/step - loss: 0.6387 - categorical_accuracy: 0.7658 - val_loss: 0.5919 - val_categorical_accuracy: 0.7916\n",
            "Epoch 14/100\n",
            "521/521 [==============================] - 30s 58ms/step - loss: 0.6154 - categorical_accuracy: 0.7769 - val_loss: 0.5617 - val_categorical_accuracy: 0.7988\n",
            "Epoch 15/100\n",
            "521/521 [==============================] - 30s 58ms/step - loss: 0.5911 - categorical_accuracy: 0.7979 - val_loss: 0.5005 - val_categorical_accuracy: 0.8324\n",
            "Epoch 16/100\n",
            "521/521 [==============================] - 30s 58ms/step - loss: 0.5723 - categorical_accuracy: 0.8034 - val_loss: 0.5318 - val_categorical_accuracy: 0.8122\n",
            "Epoch 17/100\n",
            "521/521 [==============================] - 30s 57ms/step - loss: 0.5535 - categorical_accuracy: 0.8165 - val_loss: 0.4441 - val_categorical_accuracy: 0.8662\n",
            "Epoch 18/100\n",
            "521/521 [==============================] - 30s 57ms/step - loss: 0.5360 - categorical_accuracy: 0.8293 - val_loss: 0.4878 - val_categorical_accuracy: 0.8499\n",
            "Epoch 19/100\n",
            "521/521 [==============================] - 30s 58ms/step - loss: 0.5247 - categorical_accuracy: 0.8377 - val_loss: 0.4991 - val_categorical_accuracy: 0.8375\n",
            "Epoch 20/100\n",
            "521/521 [==============================] - 28s 54ms/step - loss: 0.4887 - categorical_accuracy: 0.8503 - val_loss: 0.4430 - val_categorical_accuracy: 0.8606\n",
            "Epoch 21/100\n",
            "521/521 [==============================] - 30s 58ms/step - loss: 0.4742 - categorical_accuracy: 0.8592 - val_loss: 0.4361 - val_categorical_accuracy: 0.8747\n",
            "Epoch 22/100\n",
            "521/521 [==============================] - 30s 58ms/step - loss: 0.4595 - categorical_accuracy: 0.8653 - val_loss: 0.4377 - val_categorical_accuracy: 0.8691\n",
            "Epoch 23/100\n",
            "521/521 [==============================] - 30s 58ms/step - loss: 0.4343 - categorical_accuracy: 0.8748 - val_loss: 0.4430 - val_categorical_accuracy: 0.8705\n",
            "Epoch 24/100\n",
            "521/521 [==============================] - 30s 58ms/step - loss: 0.4454 - categorical_accuracy: 0.8777 - val_loss: 0.4599 - val_categorical_accuracy: 0.8753\n",
            "Epoch 25/100\n",
            "521/521 [==============================] - 30s 58ms/step - loss: 0.4236 - categorical_accuracy: 0.8890 - val_loss: 0.3680 - val_categorical_accuracy: 0.9102\n",
            "Epoch 26/100\n",
            "521/521 [==============================] - 28s 54ms/step - loss: 0.3937 - categorical_accuracy: 0.8942 - val_loss: 0.3692 - val_categorical_accuracy: 0.9051\n",
            "Epoch 27/100\n",
            "521/521 [==============================] - 30s 58ms/step - loss: 0.4013 - categorical_accuracy: 0.8999 - val_loss: 0.3499 - val_categorical_accuracy: 0.9171\n",
            "Epoch 28/100\n",
            "521/521 [==============================] - 30s 58ms/step - loss: 0.3824 - categorical_accuracy: 0.9052 - val_loss: 0.3564 - val_categorical_accuracy: 0.9109\n",
            "Epoch 29/100\n",
            "521/521 [==============================] - 30s 58ms/step - loss: 0.3536 - categorical_accuracy: 0.9130 - val_loss: 0.4105 - val_categorical_accuracy: 0.8837\n",
            "Epoch 30/100\n",
            "521/521 [==============================] - 30s 58ms/step - loss: 0.3530 - categorical_accuracy: 0.9174 - val_loss: 0.3708 - val_categorical_accuracy: 0.9124\n",
            "Epoch 31/100\n",
            "521/521 [==============================] - 28s 55ms/step - loss: 0.3633 - categorical_accuracy: 0.9193 - val_loss: 0.3903 - val_categorical_accuracy: 0.9009\n",
            "Epoch 32/100\n",
            "521/521 [==============================] - 30s 58ms/step - loss: 0.3469 - categorical_accuracy: 0.9227 - val_loss: 0.3712 - val_categorical_accuracy: 0.9075\n",
            "Epoch 33/100\n",
            "521/521 [==============================] - 30s 57ms/step - loss: 0.3396 - categorical_accuracy: 0.9264 - val_loss: 0.3371 - val_categorical_accuracy: 0.9256\n",
            "Epoch 34/100\n",
            "521/521 [==============================] - 28s 54ms/step - loss: 0.3229 - categorical_accuracy: 0.9294 - val_loss: 0.3095 - val_categorical_accuracy: 0.9298\n",
            "Epoch 35/100\n",
            "521/521 [==============================] - 30s 58ms/step - loss: 0.3212 - categorical_accuracy: 0.9344 - val_loss: 0.3279 - val_categorical_accuracy: 0.9255\n",
            "Epoch 36/100\n",
            "521/521 [==============================] - 30s 58ms/step - loss: 0.3081 - categorical_accuracy: 0.9363 - val_loss: 0.3380 - val_categorical_accuracy: 0.9271\n",
            "Epoch 37/100\n",
            "521/521 [==============================] - 30s 58ms/step - loss: 0.3006 - categorical_accuracy: 0.9407 - val_loss: 0.3085 - val_categorical_accuracy: 0.9301\n",
            "Epoch 38/100\n",
            "521/521 [==============================] - 28s 54ms/step - loss: 0.3037 - categorical_accuracy: 0.9386 - val_loss: 0.3197 - val_categorical_accuracy: 0.9337\n",
            "Epoch 39/100\n",
            "521/521 [==============================] - 28s 54ms/step - loss: 0.3072 - categorical_accuracy: 0.9397 - val_loss: 0.3306 - val_categorical_accuracy: 0.9260\n",
            "Epoch 40/100\n",
            "521/521 [==============================] - 30s 57ms/step - loss: 0.2857 - categorical_accuracy: 0.9449 - val_loss: 0.2969 - val_categorical_accuracy: 0.9391\n",
            "Epoch 41/100\n",
            "521/521 [==============================] - 30s 58ms/step - loss: 0.2709 - categorical_accuracy: 0.9493 - val_loss: 0.2764 - val_categorical_accuracy: 0.9391\n",
            "Epoch 42/100\n",
            "521/521 [==============================] - 28s 54ms/step - loss: 0.2792 - categorical_accuracy: 0.9455 - val_loss: 0.3237 - val_categorical_accuracy: 0.9334\n",
            "Epoch 43/100\n",
            "521/521 [==============================] - 30s 58ms/step - loss: 0.2749 - categorical_accuracy: 0.9496 - val_loss: 0.3614 - val_categorical_accuracy: 0.9155\n",
            "Epoch 44/100\n",
            "521/521 [==============================] - 30s 58ms/step - loss: 0.2583 - categorical_accuracy: 0.9539 - val_loss: 0.3359 - val_categorical_accuracy: 0.9211\n",
            "Epoch 45/100\n",
            "521/521 [==============================] - 30s 57ms/step - loss: 0.2645 - categorical_accuracy: 0.9517 - val_loss: 0.2994 - val_categorical_accuracy: 0.9330\n",
            "Epoch 46/100\n",
            "521/521 [==============================] - 30s 58ms/step - loss: 0.2545 - categorical_accuracy: 0.9546 - val_loss: 0.2762 - val_categorical_accuracy: 0.9420\n",
            "Epoch 47/100\n",
            "521/521 [==============================] - 28s 54ms/step - loss: 0.2620 - categorical_accuracy: 0.9559 - val_loss: 0.2729 - val_categorical_accuracy: 0.9451\n",
            "Epoch 48/100\n",
            "521/521 [==============================] - 30s 58ms/step - loss: 0.2512 - categorical_accuracy: 0.9543 - val_loss: 0.2958 - val_categorical_accuracy: 0.9355\n",
            "Epoch 49/100\n",
            "521/521 [==============================] - 30s 58ms/step - loss: 0.2353 - categorical_accuracy: 0.9595 - val_loss: 0.2873 - val_categorical_accuracy: 0.9378\n",
            "Epoch 50/100\n",
            "521/521 [==============================] - 30s 58ms/step - loss: 0.2348 - categorical_accuracy: 0.9608 - val_loss: 0.2745 - val_categorical_accuracy: 0.9444\n",
            "Epoch 51/100\n",
            "521/521 [==============================] - 30s 57ms/step - loss: 0.2344 - categorical_accuracy: 0.9601 - val_loss: 0.2793 - val_categorical_accuracy: 0.9426\n",
            "Epoch 52/100\n",
            "521/521 [==============================] - 30s 58ms/step - loss: 0.2251 - categorical_accuracy: 0.9648 - val_loss: 0.2965 - val_categorical_accuracy: 0.9393\n",
            "Epoch 53/100\n",
            "521/521 [==============================] - 30s 57ms/step - loss: 0.2326 - categorical_accuracy: 0.9637 - val_loss: 0.3009 - val_categorical_accuracy: 0.9378\n",
            "Epoch 54/100\n",
            "521/521 [==============================] - 30s 57ms/step - loss: 0.2293 - categorical_accuracy: 0.9622 - val_loss: 0.2664 - val_categorical_accuracy: 0.9448\n",
            "Epoch 55/100\n",
            "521/521 [==============================] - 30s 57ms/step - loss: 0.2254 - categorical_accuracy: 0.9630 - val_loss: 0.2956 - val_categorical_accuracy: 0.9374\n",
            "Epoch 56/100\n",
            "521/521 [==============================] - 30s 58ms/step - loss: 0.2274 - categorical_accuracy: 0.9641 - val_loss: 0.2798 - val_categorical_accuracy: 0.9382\n",
            "Epoch 57/100\n",
            "521/521 [==============================] - 30s 58ms/step - loss: 0.2083 - categorical_accuracy: 0.9683 - val_loss: 0.3078 - val_categorical_accuracy: 0.9330\n",
            "Epoch 58/100\n",
            "521/521 [==============================] - 30s 57ms/step - loss: 0.2070 - categorical_accuracy: 0.9661 - val_loss: 0.2527 - val_categorical_accuracy: 0.9458\n",
            "Epoch 59/100\n",
            "521/521 [==============================] - 30s 57ms/step - loss: 0.2145 - categorical_accuracy: 0.9672 - val_loss: 0.3181 - val_categorical_accuracy: 0.9295\n",
            "Epoch 60/100\n",
            "521/521 [==============================] - 30s 57ms/step - loss: 0.2158 - categorical_accuracy: 0.9671 - val_loss: 0.2531 - val_categorical_accuracy: 0.9472\n",
            "Epoch 61/100\n",
            "521/521 [==============================] - 30s 58ms/step - loss: 0.2012 - categorical_accuracy: 0.9706 - val_loss: 0.3201 - val_categorical_accuracy: 0.9276\n",
            "Epoch 62/100\n",
            "521/521 [==============================] - 30s 58ms/step - loss: 0.2004 - categorical_accuracy: 0.9696 - val_loss: 0.2480 - val_categorical_accuracy: 0.9465\n",
            "Epoch 63/100\n",
            "521/521 [==============================] - 30s 57ms/step - loss: 0.2034 - categorical_accuracy: 0.9688 - val_loss: 0.2714 - val_categorical_accuracy: 0.9412\n",
            "Epoch 64/100\n",
            "521/521 [==============================] - 28s 54ms/step - loss: 0.1974 - categorical_accuracy: 0.9708 - val_loss: 0.2455 - val_categorical_accuracy: 0.9522\n",
            "Epoch 65/100\n",
            "521/521 [==============================] - 30s 58ms/step - loss: 0.1968 - categorical_accuracy: 0.9717 - val_loss: 0.2472 - val_categorical_accuracy: 0.9480\n",
            "Epoch 66/100\n",
            "521/521 [==============================] - 28s 54ms/step - loss: 0.1915 - categorical_accuracy: 0.9730 - val_loss: 0.2809 - val_categorical_accuracy: 0.9472\n",
            "Epoch 67/100\n",
            "521/521 [==============================] - 30s 58ms/step - loss: 0.1980 - categorical_accuracy: 0.9723 - val_loss: 0.2662 - val_categorical_accuracy: 0.9463\n",
            "Epoch 68/100\n",
            "521/521 [==============================] - 30s 58ms/step - loss: 0.1842 - categorical_accuracy: 0.9741 - val_loss: 0.2344 - val_categorical_accuracy: 0.9505\n",
            "Epoch 69/100\n",
            "521/521 [==============================] - 30s 57ms/step - loss: 0.1897 - categorical_accuracy: 0.9740 - val_loss: 0.2658 - val_categorical_accuracy: 0.9427\n",
            "Epoch 70/100\n",
            "521/521 [==============================] - 28s 54ms/step - loss: 0.1818 - categorical_accuracy: 0.9750 - val_loss: 0.2679 - val_categorical_accuracy: 0.9417\n",
            "Epoch 71/100\n",
            "521/521 [==============================] - 30s 57ms/step - loss: 0.1882 - categorical_accuracy: 0.9745 - val_loss: 0.2547 - val_categorical_accuracy: 0.9487\n",
            "Epoch 72/100\n",
            "521/521 [==============================] - 30s 57ms/step - loss: 0.1781 - categorical_accuracy: 0.9747 - val_loss: 0.2655 - val_categorical_accuracy: 0.9472\n",
            "Epoch 73/100\n",
            "521/521 [==============================] - 30s 57ms/step - loss: 0.1839 - categorical_accuracy: 0.9733 - val_loss: 0.2378 - val_categorical_accuracy: 0.9553\n",
            "Epoch 74/100\n",
            "521/521 [==============================] - 30s 58ms/step - loss: 0.1797 - categorical_accuracy: 0.9746 - val_loss: 0.3004 - val_categorical_accuracy: 0.9367\n",
            "Epoch 75/100\n",
            "521/521 [==============================] - 30s 58ms/step - loss: 0.1759 - categorical_accuracy: 0.9751 - val_loss: 0.2502 - val_categorical_accuracy: 0.9487\n",
            "Epoch 76/100\n",
            "521/521 [==============================] - 30s 58ms/step - loss: 0.1657 - categorical_accuracy: 0.9781 - val_loss: 0.2372 - val_categorical_accuracy: 0.9491\n",
            "Epoch 77/100\n",
            "521/521 [==============================] - 30s 57ms/step - loss: 0.1746 - categorical_accuracy: 0.9772 - val_loss: 0.2616 - val_categorical_accuracy: 0.9491\n",
            "Epoch 78/100\n",
            "521/521 [==============================] - 28s 54ms/step - loss: 0.1788 - categorical_accuracy: 0.9765 - val_loss: 0.2497 - val_categorical_accuracy: 0.9529\n",
            "Epoch 79/100\n",
            "521/521 [==============================] - 30s 58ms/step - loss: 0.1841 - categorical_accuracy: 0.9772 - val_loss: 0.2321 - val_categorical_accuracy: 0.9515\n",
            "Epoch 80/100\n",
            "521/521 [==============================] - 28s 55ms/step - loss: 0.1659 - categorical_accuracy: 0.9788 - val_loss: 0.2231 - val_categorical_accuracy: 0.9542\n",
            "Epoch 81/100\n",
            "521/521 [==============================] - 28s 54ms/step - loss: 0.1741 - categorical_accuracy: 0.9766 - val_loss: 0.2591 - val_categorical_accuracy: 0.9493\n",
            "Epoch 82/100\n",
            "521/521 [==============================] - 30s 57ms/step - loss: 0.1633 - categorical_accuracy: 0.9791 - val_loss: 0.2251 - val_categorical_accuracy: 0.9525\n",
            "Epoch 83/100\n",
            "521/521 [==============================] - 30s 57ms/step - loss: 0.1687 - categorical_accuracy: 0.9772 - val_loss: 0.2649 - val_categorical_accuracy: 0.9434\n",
            "Epoch 84/100\n",
            "521/521 [==============================] - 30s 57ms/step - loss: 0.1528 - categorical_accuracy: 0.9792 - val_loss: 0.2130 - val_categorical_accuracy: 0.9556\n",
            "Epoch 85/100\n",
            "521/521 [==============================] - 30s 57ms/step - loss: 0.1609 - categorical_accuracy: 0.9768 - val_loss: 0.2586 - val_categorical_accuracy: 0.9458\n",
            "Epoch 86/100\n",
            "521/521 [==============================] - 28s 54ms/step - loss: 0.1702 - categorical_accuracy: 0.9790 - val_loss: 0.2706 - val_categorical_accuracy: 0.9466\n",
            "Epoch 87/100\n",
            "521/521 [==============================] - 28s 54ms/step - loss: 0.1558 - categorical_accuracy: 0.9804 - val_loss: 0.2373 - val_categorical_accuracy: 0.9573\n",
            "Epoch 88/100\n",
            "521/521 [==============================] - 30s 57ms/step - loss: 0.1583 - categorical_accuracy: 0.9800 - val_loss: 0.2348 - val_categorical_accuracy: 0.9519\n",
            "Epoch 89/100\n",
            "521/521 [==============================] - 30s 58ms/step - loss: 0.1498 - categorical_accuracy: 0.9813 - val_loss: 0.2550 - val_categorical_accuracy: 0.9469\n",
            "Epoch 90/100\n",
            "521/521 [==============================] - 30s 57ms/step - loss: 0.1589 - categorical_accuracy: 0.9804 - val_loss: 0.2379 - val_categorical_accuracy: 0.9542\n",
            "Epoch 91/100\n",
            "521/521 [==============================] - 30s 57ms/step - loss: 0.1536 - categorical_accuracy: 0.9801 - val_loss: 0.2163 - val_categorical_accuracy: 0.9542\n",
            "Epoch 92/100\n",
            "521/521 [==============================] - 30s 57ms/step - loss: 0.1526 - categorical_accuracy: 0.9808 - val_loss: 0.2331 - val_categorical_accuracy: 0.9549\n",
            "Epoch 93/100\n",
            "521/521 [==============================] - 30s 58ms/step - loss: 0.1503 - categorical_accuracy: 0.9804 - val_loss: 0.2270 - val_categorical_accuracy: 0.9518\n",
            "Epoch 94/100\n",
            "521/521 [==============================] - 30s 57ms/step - loss: 0.1638 - categorical_accuracy: 0.9785 - val_loss: 0.2198 - val_categorical_accuracy: 0.9552\n",
            "Epoch 95/100\n",
            "521/521 [==============================] - 30s 57ms/step - loss: 0.1528 - categorical_accuracy: 0.9811 - val_loss: 0.2350 - val_categorical_accuracy: 0.9525\n",
            "Epoch 96/100\n",
            "521/521 [==============================] - 30s 58ms/step - loss: 0.1421 - categorical_accuracy: 0.9817 - val_loss: 0.2473 - val_categorical_accuracy: 0.9448\n",
            "Epoch 97/100\n",
            "521/521 [==============================] - 28s 54ms/step - loss: 0.1501 - categorical_accuracy: 0.9814 - val_loss: 0.2276 - val_categorical_accuracy: 0.9540\n",
            "Epoch 98/100\n",
            "521/521 [==============================] - 30s 58ms/step - loss: 0.1364 - categorical_accuracy: 0.9838 - val_loss: 0.2624 - val_categorical_accuracy: 0.9500\n",
            "Epoch 99/100\n",
            "521/521 [==============================] - 30s 58ms/step - loss: 0.1492 - categorical_accuracy: 0.9817 - val_loss: 0.2289 - val_categorical_accuracy: 0.9559\n",
            "Epoch 100/100\n",
            "521/521 [==============================] - 30s 58ms/step - loss: 0.1387 - categorical_accuracy: 0.9834 - val_loss: 0.2994 - val_categorical_accuracy: 0.9298\n"
          ]
        }
      ]
    },
    {
      "cell_type": "code",
      "source": [
        "fig, ax = plt.subplots(figsize=(10, 8))\n",
        "ax = plt.plot(fit_history.history['categorical_accuracy'], label='Train')\n",
        "ax = plt.plot(fit_history.history['val_categorical_accuracy'], label='Validation')\n",
        "ax = plt.xlabel('Epochs')\n",
        "ax = plt.ylabel('Accuracy')\n",
        "ax = plt.title('Categorical Acuracy')\n",
        "ax = plt.legend()"
      ],
      "metadata": {
        "colab": {
          "base_uri": "https://localhost:8080/",
          "height": 513
        },
        "id": "D05D3bCdVkP8",
        "outputId": "290cd76e-2039-4bff-def6-9827eaa939f1"
      },
      "execution_count": 10,
      "outputs": [
        {
          "output_type": "display_data",
          "data": {
            "text/plain": [
              "<Figure size 720x576 with 1 Axes>"
            ],
            "image/png": "[encoded data removed]"
          },
          "metadata": {
            "needs_background": "light"
          }
        }
      ]
    },
    {
      "cell_type": "code",
      "source": [
        "fig, ax = plt.subplots(figsize=(10, 8))\n",
        "ax = plt.plot(fit_history.history['loss'], label='Train')\n",
        "ax = plt.plot(fit_history.history['val_loss'], label='Validation')\n",
        "ax = plt.xlabel('Epochs')\n",
        "ax = plt.ylabel('Loss')\n",
        "ax = plt.title('Loss')\n",
        "ax = plt.legend()"
      ],
      "metadata": {
        "colab": {
          "base_uri": "https://localhost:8080/",
          "height": 513
        },
        "id": "EbHEVRtcVt0s",
        "outputId": "4e5af9d5-d292-4a71-96a7-192d7b7189e9"
      },
      "execution_count": 11,
      "outputs": [
        {
          "output_type": "display_data",
          "data": {
            "text/plain": [
              "<Figure size 720x576 with 1 Axes>"
            ],
            "image/png": "[encoded data removed]"
          },
          "metadata": {
            "needs_background": "light"
          }
        }
      ]
    }
  ]
}