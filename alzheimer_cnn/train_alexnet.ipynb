{
  "nbformat": 4,
  "nbformat_minor": 0,
  "metadata": {
    "colab": {
      "provenance": [],
      "mount_file_id": "https://github.com/carvalheiracarlos/deep_leaning_notebooks/blob/main/alzheimer_cnn/testdrive_lenet.ipynb",
      "authorship_tag": "ABX9TyNdkIIsOXpqvUBmcjiPAGgU",
      "include_colab_link": true
    },
    "kernelspec": {
      "name": "python3",
      "display_name": "Python 3"
    },
    "language_info": {
      "name": "python"
    },
    "accelerator": "GPU"
  },
  "cells": [
    {
      "cell_type": "markdown",
      "metadata": {
        "id": "view-in-github",
        "colab_type": "text"
      },
      "source": [
        "<a href=\"https://colab.research.google.com/github/carvalheiracarlos/deep_leaning_notebooks/blob/main/alzheimer_cnn/train_alexnet.ipynb\" target=\"_parent\"><img src=\"https://colab.research.google.com/assets/colab-badge.svg\" alt=\"Open In Colab\"/></a>"
      ]
    },
    {
      "cell_type": "code",
      "execution_count": null,
      "metadata": {
        "id": "J2Ache_3hU_c"
      },
      "outputs": [],
      "source": [
        "import numpy as np"
      ]
    },
    {
      "cell_type": "code",
      "source": [
        "from keras.callbacks import ModelCheckpoint\n",
        "from keras.metrics import categorical_accuracy\n",
        "from keras.models import Sequential\n",
        "from keras.layers.convolutional import Convolution2D\n",
        "from keras.layers import Conv2D, MaxPooling2D\n",
        "from keras.layers.core import Activation\n",
        "from keras.layers.core import Flatten\n",
        "from keras.layers.core import Dense\n",
        "from keras import backend\n",
        "import tensorflow as tf\n",
        "import json\n",
        "from keras.regularizers import l2\n",
        "import matplotlib.pyplot as plt"
      ],
      "metadata": {
        "id": "gM1oevhDkyub"
      },
      "execution_count": null,
      "outputs": []
    },
    {
      "cell_type": "code",
      "source": [
        "device_name = tf.test.gpu_device_name()\n",
        "if device_name != '/device:GPU:0':\n",
        "  raise SystemError('GPU device not found')\n",
        "print('Found GPU at: {}'.format(device_name))"
      ],
      "metadata": {
        "colab": {
          "base_uri": "https://localhost:8080/"
        },
        "id": "XhvcDvM4ldwa",
        "outputId": "4d6a4458-15a2-4e46-cd06-28e58608765c"
      },
      "execution_count": null,
      "outputs": [
        {
          "output_type": "stream",
          "name": "stdout",
          "text": [
            "Found GPU at: /device:GPU:0\n"
          ]
        }
      ]
    },
    {
      "cell_type": "code",
      "source": [
        "X_train = np.load('drive/MyDrive/alzheimer_datasets/X_train.npy', allow_pickle=True)\n",
        "X_test = np.load('drive/MyDrive/alzheimer_datasets/X_test.npy', allow_pickle=True)\n",
        "\n",
        "y_train = np.load('drive/MyDrive/alzheimer_datasets/y_train.npy', allow_pickle=True)\n",
        "y_test = np.load('drive/MyDrive/alzheimer_datasets/y_test.npy', allow_pickle=True)"
      ],
      "metadata": {
        "id": "n-u7pThdhjd9"
      },
      "execution_count": null,
      "outputs": []
    },
    {
      "cell_type": "code",
      "source": [
        "X_train[0].shape"
      ],
      "metadata": {
        "colab": {
          "base_uri": "https://localhost:8080/"
        },
        "id": "MVYrlRcTk-Ek",
        "outputId": "d3a50654-76cd-441f-d108-078269566451"
      },
      "execution_count": null,
      "outputs": [
        {
          "output_type": "execute_result",
          "data": {
            "text/plain": [
              "(100, 100, 1)"
            ]
          },
          "metadata": {},
          "execution_count": 5
        }
      ]
    },
    {
      "cell_type": "code",
      "source": [
        "class LightAlexNet:\n",
        "  @staticmethod\n",
        "  def build(n_channels, \n",
        "            rows, \n",
        "            cols, \n",
        "            n_classes, \n",
        "            activation='relu', \n",
        "            weights_path=None):\n",
        "    model = tf.keras.models.Sequential()\n",
        "    \n",
        "    input_Shape = (rows, cols, n_channels)\n",
        "    \n",
        "    model.add(tf.keras.layers.Conv2D(filters=128, \n",
        "                                  kernel_size=(10,10),\n",
        "                                  strides=(2,2),\n",
        "                                  activation=activation, \n",
        "                                  input_shape=input_Shape))\n",
        "    model.add(tf.keras.layers.BatchNormalization())\n",
        "    model.add(tf.keras.layers.MaxPooling2D(pool_size=(3, 3), strides=(2, 2)))\n",
        "    model.add(tf.keras.layers.Dropout(0.5))\n",
        "    \n",
        "    \n",
        "    model.add(tf.keras.layers.Conv2D(filters=256, \n",
        "                                  kernel_size=(8,8),\n",
        "                                  strides=(2,2),\n",
        "                                  activation=activation, \n",
        "                                  input_shape=input_Shape,\n",
        "                                  padding='same'))\n",
        "    model.add(tf.keras.layers.BatchNormalization())\n",
        "    model.add(tf.keras.layers.MaxPooling2D(pool_size=(3, 3), strides=(2, 2)))\n",
        "    model.add(tf.keras.layers.Dropout(0.5))\n",
        "    \n",
        "    \n",
        "    model.add(tf.keras.layers.Conv2D(filters=512, \n",
        "                                  kernel_size=(8,8),\n",
        "                                  strides=(2,2),\n",
        "                                  activation=activation, \n",
        "                                  input_shape=input_Shape,\n",
        "                                  padding='same'))\n",
        "    model.add(tf.keras.layers.BatchNormalization())\n",
        "    model.add(tf.keras.layers.Dropout(0.5))\n",
        "\n",
        "\n",
        "    model.add(tf.keras.layers.Flatten())\n",
        "\n",
        "    model.add(tf.keras.layers.Dense(512, activation=activation, kernel_regularizer=l2(0.01)))\n",
        "    model.add(tf.keras.layers.Dropout(0.5))\n",
        "\n",
        "    model.add(tf.keras.layers.Dense(n_classes, activation='softmax'))\n",
        "\n",
        "    # if a weights path is supplied (inicating that the model was\n",
        "    # pre-trained), then load the weights\n",
        "    if weights_path is not None:\n",
        "      model.load_weights(weights_path)\n",
        "    \n",
        "    return model"
      ],
      "metadata": {
        "id": "7QErIWvvkvoE"
      },
      "execution_count": null,
      "outputs": []
    },
    {
      "cell_type": "code",
      "source": [
        "n_epochs = 100\n",
        "ini_learning_rate = 1e-3\n",
        "batch_size = 32"
      ],
      "metadata": {
        "id": "ZFrYl1WelLx4"
      },
      "execution_count": null,
      "outputs": []
    },
    {
      "cell_type": "code",
      "source": [
        "with tf.device('/device:GPU:0') as sess:\n",
        "    train_model = LightAlexNet.build(n_channels=1, \n",
        "                                     rows=100,\n",
        "                                     cols=100, \n",
        "                                     n_classes=4, \n",
        "                                     activation='relu', \n",
        "                                     weights_path=None)\n",
        "\n",
        "    opt = tf.keras.optimizers.Adam(learning_rate=ini_learning_rate,\n",
        "                                beta_1=0.9, \n",
        "                                beta_2=0.999, \n",
        "                                epsilon=1e-08,\n",
        "                                decay=ini_learning_rate/n_epochs)\n",
        "    \n",
        "    train_model.compile(loss='categorical_crossentropy', \n",
        "                        optimizer=opt, \n",
        "                        metrics=[tf.keras.metrics.categorical_accuracy])\n",
        "    train_model.summary()\n",
        "    tensorboard = tf.keras.callbacks.TensorBoard('./logs/fit/',\n",
        "                                              write_images=True)\n",
        "    \n",
        "    callbacks_list = [tensorboard]\n",
        "    \n",
        "    fit_history = train_model.fit(x=X_train,\n",
        "                                  y=y_train,\n",
        "                                  epochs=n_epochs,\n",
        "                                  validation_split=0.3,\n",
        "                                  validation_freq=1,\n",
        "                                  batch_size=batch_size,\n",
        "                                  callbacks=callbacks_list,\n",
        "                                  verbose=1)\n",
        "\n"
      ],
      "metadata": {
        "colab": {
          "base_uri": "https://localhost:8080/"
        },
        "id": "X_XAWzgrlO89",
        "outputId": "c08984e1-aa87-4759-d49d-9dbface8e15e"
      },
      "execution_count": null,
      "outputs": [
        {
          "output_type": "stream",
          "name": "stdout",
          "text": [
            "Model: \"sequential\"\n",
            "_________________________________________________________________\n",
            " Layer (type)                Output Shape              Param #   \n",
            "=================================================================\n",
            " conv2d (Conv2D)             (None, 46, 46, 128)       12928     \n",
            "                                                                 \n",
            " batch_normalization (BatchN  (None, 46, 46, 128)      512       \n",
            " ormalization)                                                   \n",
            "                                                                 \n",
            " max_pooling2d (MaxPooling2D  (None, 22, 22, 128)      0         \n",
            " )                                                               \n",
            "                                                                 \n",
            " dropout (Dropout)           (None, 22, 22, 128)       0         \n",
            "                                                                 \n",
            " conv2d_1 (Conv2D)           (None, 11, 11, 256)       2097408   \n",
            "                                                                 \n",
            " batch_normalization_1 (Batc  (None, 11, 11, 256)      1024      \n",
            " hNormalization)                                                 \n",
            "                                                                 \n",
            " max_pooling2d_1 (MaxPooling  (None, 5, 5, 256)        0         \n",
            " 2D)                                                             \n",
            "                                                                 \n",
            " dropout_1 (Dropout)         (None, 5, 5, 256)         0         \n",
            "                                                                 \n",
            " conv2d_2 (Conv2D)           (None, 3, 3, 512)         8389120   \n",
            "                                                                 \n",
            " batch_normalization_2 (Batc  (None, 3, 3, 512)        2048      \n",
            " hNormalization)                                                 \n",
            "                                                                 \n",
            " dropout_2 (Dropout)         (None, 3, 3, 512)         0         \n",
            "                                                                 \n",
            " flatten (Flatten)           (None, 4608)              0         \n",
            "                                                                 \n",
            " dense (Dense)               (None, 512)               2359808   \n",
            "                                                                 \n",
            " dropout_3 (Dropout)         (None, 512)               0         \n",
            "                                                                 \n",
            " dense_1 (Dense)             (None, 4)                 2052      \n",
            "                                                                 \n",
            "=================================================================\n",
            "Total params: 12,864,900\n",
            "Trainable params: 12,863,108\n",
            "Non-trainable params: 1,792\n",
            "_________________________________________________________________\n",
            "Epoch 1/100\n",
            "521/521 [==============================] - 34s 52ms/step - loss: 3.7611 - categorical_accuracy: 0.3014 - val_loss: 2.7147 - val_categorical_accuracy: 0.3071\n",
            "Epoch 2/100\n",
            "521/521 [==============================] - 25s 48ms/step - loss: 1.4105 - categorical_accuracy: 0.4553 - val_loss: 1.2136 - val_categorical_accuracy: 0.5393\n",
            "Epoch 3/100\n",
            "521/521 [==============================] - 27s 52ms/step - loss: 1.1411 - categorical_accuracy: 0.5477 - val_loss: 1.0306 - val_categorical_accuracy: 0.5413\n",
            "Epoch 4/100\n",
            "521/521 [==============================] - 25s 48ms/step - loss: 0.9683 - categorical_accuracy: 0.5952 - val_loss: 0.9513 - val_categorical_accuracy: 0.5770\n",
            "Epoch 5/100\n",
            "521/521 [==============================] - 27s 52ms/step - loss: 0.8823 - categorical_accuracy: 0.6248 - val_loss: 0.8154 - val_categorical_accuracy: 0.6207\n",
            "Epoch 6/100\n",
            "521/521 [==============================] - 27s 53ms/step - loss: 0.8404 - categorical_accuracy: 0.6480 - val_loss: 0.7370 - val_categorical_accuracy: 0.6885\n",
            "Epoch 7/100\n",
            "521/521 [==============================] - 27s 53ms/step - loss: 0.7957 - categorical_accuracy: 0.6690 - val_loss: 0.7324 - val_categorical_accuracy: 0.7028\n",
            "Epoch 8/100\n",
            "521/521 [==============================] - 27s 53ms/step - loss: 0.7722 - categorical_accuracy: 0.6830 - val_loss: 0.6877 - val_categorical_accuracy: 0.7294\n",
            "Epoch 9/100\n",
            "521/521 [==============================] - 26s 50ms/step - loss: 0.7294 - categorical_accuracy: 0.6988 - val_loss: 0.6577 - val_categorical_accuracy: 0.7387\n",
            "Epoch 10/100\n",
            "521/521 [==============================] - 28s 53ms/step - loss: 0.7169 - categorical_accuracy: 0.7135 - val_loss: 0.6178 - val_categorical_accuracy: 0.7542\n",
            "Epoch 11/100\n",
            "521/521 [==============================] - 28s 53ms/step - loss: 0.6941 - categorical_accuracy: 0.7309 - val_loss: 0.7168 - val_categorical_accuracy: 0.7076\n",
            "Epoch 12/100\n",
            "521/521 [==============================] - 28s 53ms/step - loss: 0.6596 - categorical_accuracy: 0.7544 - val_loss: 0.5974 - val_categorical_accuracy: 0.7900\n",
            "Epoch 13/100\n",
            "521/521 [==============================] - 27s 53ms/step - loss: 0.6435 - categorical_accuracy: 0.7577 - val_loss: 0.6012 - val_categorical_accuracy: 0.7825\n",
            "Epoch 14/100\n",
            "521/521 [==============================] - 28s 53ms/step - loss: 0.6189 - categorical_accuracy: 0.7762 - val_loss: 0.5203 - val_categorical_accuracy: 0.8162\n",
            "Epoch 15/100\n",
            "521/521 [==============================] - 28s 53ms/step - loss: 0.5910 - categorical_accuracy: 0.7933 - val_loss: 0.5302 - val_categorical_accuracy: 0.8024\n",
            "Epoch 16/100\n",
            "521/521 [==============================] - 26s 49ms/step - loss: 0.5770 - categorical_accuracy: 0.7974 - val_loss: 0.5235 - val_categorical_accuracy: 0.8295\n",
            "Epoch 17/100\n",
            "521/521 [==============================] - 27s 53ms/step - loss: 0.5645 - categorical_accuracy: 0.8093 - val_loss: 0.5002 - val_categorical_accuracy: 0.8362\n",
            "Epoch 18/100\n",
            "521/521 [==============================] - 27s 53ms/step - loss: 0.5409 - categorical_accuracy: 0.8254 - val_loss: 0.5023 - val_categorical_accuracy: 0.8405\n",
            "Epoch 19/100\n",
            "521/521 [==============================] - 26s 49ms/step - loss: 0.5223 - categorical_accuracy: 0.8348 - val_loss: 0.4609 - val_categorical_accuracy: 0.8547\n",
            "Epoch 20/100\n",
            "521/521 [==============================] - 27s 52ms/step - loss: 0.5150 - categorical_accuracy: 0.8393 - val_loss: 0.5471 - val_categorical_accuracy: 0.8243\n",
            "Epoch 21/100\n",
            "521/521 [==============================] - 27s 53ms/step - loss: 0.5373 - categorical_accuracy: 0.8395 - val_loss: 0.4971 - val_categorical_accuracy: 0.8557\n",
            "Epoch 22/100\n",
            "521/521 [==============================] - 27s 52ms/step - loss: 0.4661 - categorical_accuracy: 0.8621 - val_loss: 0.4445 - val_categorical_accuracy: 0.8562\n",
            "Epoch 23/100\n",
            "521/521 [==============================] - 27s 53ms/step - loss: 0.4427 - categorical_accuracy: 0.8744 - val_loss: 0.4335 - val_categorical_accuracy: 0.8771\n",
            "Epoch 24/100\n",
            "521/521 [==============================] - 27s 53ms/step - loss: 0.4465 - categorical_accuracy: 0.8823 - val_loss: 0.4276 - val_categorical_accuracy: 0.8873\n",
            "Epoch 25/100\n",
            "521/521 [==============================] - 26s 49ms/step - loss: 0.4202 - categorical_accuracy: 0.8878 - val_loss: 0.3532 - val_categorical_accuracy: 0.9099\n",
            "Epoch 26/100\n",
            "521/521 [==============================] - 27s 52ms/step - loss: 0.4166 - categorical_accuracy: 0.8891 - val_loss: 0.5164 - val_categorical_accuracy: 0.8544\n",
            "Epoch 27/100\n",
            "521/521 [==============================] - 26s 49ms/step - loss: 0.4142 - categorical_accuracy: 0.8965 - val_loss: 0.4084 - val_categorical_accuracy: 0.8967\n",
            "Epoch 28/100\n",
            "521/521 [==============================] - 27s 53ms/step - loss: 0.3919 - categorical_accuracy: 0.9033 - val_loss: 0.3841 - val_categorical_accuracy: 0.9035\n",
            "Epoch 29/100\n",
            "521/521 [==============================] - 27s 53ms/step - loss: 0.3813 - categorical_accuracy: 0.9078 - val_loss: 0.3332 - val_categorical_accuracy: 0.9187\n",
            "Epoch 30/100\n",
            "521/521 [==============================] - 26s 49ms/step - loss: 0.3664 - categorical_accuracy: 0.9118 - val_loss: 0.3681 - val_categorical_accuracy: 0.9137\n",
            "Epoch 31/100\n",
            "521/521 [==============================] - 27s 52ms/step - loss: 0.3620 - categorical_accuracy: 0.9179 - val_loss: 0.3321 - val_categorical_accuracy: 0.9206\n",
            "Epoch 32/100\n",
            "521/521 [==============================] - 27s 52ms/step - loss: 0.3377 - categorical_accuracy: 0.9220 - val_loss: 0.3741 - val_categorical_accuracy: 0.9051\n",
            "Epoch 33/100\n",
            "521/521 [==============================] - 26s 49ms/step - loss: 0.3462 - categorical_accuracy: 0.9213 - val_loss: 0.3670 - val_categorical_accuracy: 0.8972\n",
            "Epoch 34/100\n",
            "521/521 [==============================] - 27s 53ms/step - loss: 0.3210 - categorical_accuracy: 0.9278 - val_loss: 0.3680 - val_categorical_accuracy: 0.9049\n",
            "Epoch 35/100\n",
            "521/521 [==============================] - 27s 52ms/step - loss: 0.3219 - categorical_accuracy: 0.9318 - val_loss: 0.3194 - val_categorical_accuracy: 0.9253\n",
            "Epoch 36/100\n",
            "521/521 [==============================] - 27s 53ms/step - loss: 0.3204 - categorical_accuracy: 0.9331 - val_loss: 0.3688 - val_categorical_accuracy: 0.9082\n",
            "Epoch 37/100\n",
            "521/521 [==============================] - 27s 52ms/step - loss: 0.3107 - categorical_accuracy: 0.9367 - val_loss: 0.3210 - val_categorical_accuracy: 0.9262\n",
            "Epoch 38/100\n",
            "521/521 [==============================] - 27s 52ms/step - loss: 0.2987 - categorical_accuracy: 0.9400 - val_loss: 0.3334 - val_categorical_accuracy: 0.9325\n",
            "Epoch 39/100\n",
            "521/521 [==============================] - 27s 52ms/step - loss: 0.2925 - categorical_accuracy: 0.9414 - val_loss: 0.3414 - val_categorical_accuracy: 0.9263\n",
            "Epoch 40/100\n",
            "521/521 [==============================] - 26s 49ms/step - loss: 0.2978 - categorical_accuracy: 0.9420 - val_loss: 0.3504 - val_categorical_accuracy: 0.9165\n",
            "Epoch 41/100\n",
            "521/521 [==============================] - 26s 49ms/step - loss: 0.2882 - categorical_accuracy: 0.9447 - val_loss: 0.3054 - val_categorical_accuracy: 0.9344\n",
            "Epoch 42/100\n",
            "521/521 [==============================] - 26s 49ms/step - loss: 0.2762 - categorical_accuracy: 0.9465 - val_loss: 0.3288 - val_categorical_accuracy: 0.9260\n",
            "Epoch 43/100\n",
            "521/521 [==============================] - 27s 53ms/step - loss: 0.2725 - categorical_accuracy: 0.9492 - val_loss: 0.3178 - val_categorical_accuracy: 0.9348\n",
            "Epoch 44/100\n",
            "521/521 [==============================] - 27s 53ms/step - loss: 0.2644 - categorical_accuracy: 0.9513 - val_loss: 0.2964 - val_categorical_accuracy: 0.9414\n",
            "Epoch 45/100\n",
            "521/521 [==============================] - 27s 53ms/step - loss: 0.2560 - categorical_accuracy: 0.9530 - val_loss: 0.3271 - val_categorical_accuracy: 0.9266\n",
            "Epoch 46/100\n",
            "521/521 [==============================] - 27s 53ms/step - loss: 0.2616 - categorical_accuracy: 0.9538 - val_loss: 0.2957 - val_categorical_accuracy: 0.9392\n",
            "Epoch 47/100\n",
            "521/521 [==============================] - 27s 53ms/step - loss: 0.2479 - categorical_accuracy: 0.9559 - val_loss: 0.2935 - val_categorical_accuracy: 0.9364\n",
            "Epoch 48/100\n",
            "521/521 [==============================] - 27s 53ms/step - loss: 0.2379 - categorical_accuracy: 0.9581 - val_loss: 0.2901 - val_categorical_accuracy: 0.9400\n",
            "Epoch 49/100\n",
            "521/521 [==============================] - 27s 53ms/step - loss: 0.2436 - categorical_accuracy: 0.9577 - val_loss: 0.3188 - val_categorical_accuracy: 0.9264\n",
            "Epoch 50/100\n",
            "521/521 [==============================] - 26s 49ms/step - loss: 0.2460 - categorical_accuracy: 0.9604 - val_loss: 0.3064 - val_categorical_accuracy: 0.9383\n",
            "Epoch 51/100\n",
            "521/521 [==============================] - 27s 53ms/step - loss: 0.2443 - categorical_accuracy: 0.9606 - val_loss: 0.3007 - val_categorical_accuracy: 0.9402\n",
            "Epoch 52/100\n",
            "521/521 [==============================] - 27s 53ms/step - loss: 0.2371 - categorical_accuracy: 0.9622 - val_loss: 0.3702 - val_categorical_accuracy: 0.9197\n",
            "Epoch 53/100\n",
            "521/521 [==============================] - 26s 49ms/step - loss: 0.2314 - categorical_accuracy: 0.9632 - val_loss: 0.2982 - val_categorical_accuracy: 0.9393\n",
            "Epoch 54/100\n",
            "521/521 [==============================] - 26s 49ms/step - loss: 0.2293 - categorical_accuracy: 0.9636 - val_loss: 0.2755 - val_categorical_accuracy: 0.9403\n",
            "Epoch 55/100\n",
            "521/521 [==============================] - 26s 49ms/step - loss: 0.2336 - categorical_accuracy: 0.9619 - val_loss: 0.3013 - val_categorical_accuracy: 0.9416\n",
            "Epoch 56/100\n",
            "521/521 [==============================] - 27s 53ms/step - loss: 0.2203 - categorical_accuracy: 0.9669 - val_loss: 0.3271 - val_categorical_accuracy: 0.9305\n",
            "Epoch 57/100\n",
            "521/521 [==============================] - 27s 53ms/step - loss: 0.2164 - categorical_accuracy: 0.9658 - val_loss: 0.3305 - val_categorical_accuracy: 0.9347\n",
            "Epoch 58/100\n",
            "521/521 [==============================] - 27s 53ms/step - loss: 0.2103 - categorical_accuracy: 0.9687 - val_loss: 0.2582 - val_categorical_accuracy: 0.9486\n",
            "Epoch 59/100\n",
            "521/521 [==============================] - 26s 49ms/step - loss: 0.2140 - categorical_accuracy: 0.9677 - val_loss: 0.2643 - val_categorical_accuracy: 0.9455\n",
            "Epoch 60/100\n",
            "521/521 [==============================] - 27s 53ms/step - loss: 0.2010 - categorical_accuracy: 0.9695 - val_loss: 0.2728 - val_categorical_accuracy: 0.9441\n",
            "Epoch 61/100\n",
            "521/521 [==============================] - 27s 52ms/step - loss: 0.2095 - categorical_accuracy: 0.9686 - val_loss: 0.2482 - val_categorical_accuracy: 0.9507\n",
            "Epoch 62/100\n",
            "521/521 [==============================] - 26s 49ms/step - loss: 0.1977 - categorical_accuracy: 0.9690 - val_loss: 0.2647 - val_categorical_accuracy: 0.9486\n",
            "Epoch 63/100\n",
            "521/521 [==============================] - 27s 52ms/step - loss: 0.2074 - categorical_accuracy: 0.9689 - val_loss: 0.3883 - val_categorical_accuracy: 0.9164\n",
            "Epoch 64/100\n",
            "521/521 [==============================] - 27s 53ms/step - loss: 0.2052 - categorical_accuracy: 0.9694 - val_loss: 0.3368 - val_categorical_accuracy: 0.9339\n",
            "Epoch 65/100\n",
            "521/521 [==============================] - 26s 49ms/step - loss: 0.2004 - categorical_accuracy: 0.9706 - val_loss: 0.2578 - val_categorical_accuracy: 0.9484\n",
            "Epoch 66/100\n",
            "521/521 [==============================] - 27s 53ms/step - loss: 0.2030 - categorical_accuracy: 0.9690 - val_loss: 0.3148 - val_categorical_accuracy: 0.9355\n",
            "Epoch 67/100\n",
            "521/521 [==============================] - 27s 53ms/step - loss: 0.1999 - categorical_accuracy: 0.9708 - val_loss: 0.2837 - val_categorical_accuracy: 0.9440\n",
            "Epoch 68/100\n",
            "521/521 [==============================] - 27s 53ms/step - loss: 0.1848 - categorical_accuracy: 0.9739 - val_loss: 0.2681 - val_categorical_accuracy: 0.9487\n",
            "Epoch 69/100\n",
            "521/521 [==============================] - 27s 53ms/step - loss: 0.1863 - categorical_accuracy: 0.9734 - val_loss: 0.3322 - val_categorical_accuracy: 0.9270\n",
            "Epoch 70/100\n",
            "521/521 [==============================] - 27s 53ms/step - loss: 0.1717 - categorical_accuracy: 0.9760 - val_loss: 0.2872 - val_categorical_accuracy: 0.9438\n",
            "Epoch 71/100\n",
            "521/521 [==============================] - 27s 53ms/step - loss: 0.1919 - categorical_accuracy: 0.9742 - val_loss: 0.2689 - val_categorical_accuracy: 0.9466\n",
            "Epoch 72/100\n",
            "521/521 [==============================] - 26s 49ms/step - loss: 0.1816 - categorical_accuracy: 0.9742 - val_loss: 0.2534 - val_categorical_accuracy: 0.9487\n",
            "Epoch 73/100\n",
            "521/521 [==============================] - 27s 52ms/step - loss: 0.1762 - categorical_accuracy: 0.9751 - val_loss: 0.3073 - val_categorical_accuracy: 0.9389\n",
            "Epoch 74/100\n",
            "521/521 [==============================] - 27s 53ms/step - loss: 0.1755 - categorical_accuracy: 0.9771 - val_loss: 0.2743 - val_categorical_accuracy: 0.9448\n",
            "Epoch 75/100\n",
            "521/521 [==============================] - 26s 49ms/step - loss: 0.1907 - categorical_accuracy: 0.9735 - val_loss: 0.2828 - val_categorical_accuracy: 0.9490\n",
            "Epoch 76/100\n",
            "521/521 [==============================] - 26s 49ms/step - loss: 0.1831 - categorical_accuracy: 0.9768 - val_loss: 0.2474 - val_categorical_accuracy: 0.9539\n",
            "Epoch 77/100\n",
            "521/521 [==============================] - 27s 52ms/step - loss: 0.1749 - categorical_accuracy: 0.9757 - val_loss: 0.2393 - val_categorical_accuracy: 0.9515\n",
            "Epoch 78/100\n",
            "521/521 [==============================] - 27s 52ms/step - loss: 0.1664 - categorical_accuracy: 0.9780 - val_loss: 0.2564 - val_categorical_accuracy: 0.9505\n",
            "Epoch 79/100\n",
            "521/521 [==============================] - 27s 52ms/step - loss: 0.1665 - categorical_accuracy: 0.9790 - val_loss: 0.2585 - val_categorical_accuracy: 0.9496\n",
            "Epoch 80/100\n",
            "521/521 [==============================] - 27s 52ms/step - loss: 0.1718 - categorical_accuracy: 0.9777 - val_loss: 0.2227 - val_categorical_accuracy: 0.9542\n",
            "Epoch 81/100\n",
            "521/521 [==============================] - 27s 52ms/step - loss: 0.1576 - categorical_accuracy: 0.9805 - val_loss: 0.2397 - val_categorical_accuracy: 0.9559\n",
            "Epoch 82/100\n",
            "521/521 [==============================] - 27s 52ms/step - loss: 0.1568 - categorical_accuracy: 0.9790 - val_loss: 0.2223 - val_categorical_accuracy: 0.9581\n",
            "Epoch 83/100\n",
            "521/521 [==============================] - 27s 53ms/step - loss: 0.1588 - categorical_accuracy: 0.9793 - val_loss: 0.2672 - val_categorical_accuracy: 0.9494\n",
            "Epoch 84/100\n",
            "521/521 [==============================] - 27s 52ms/step - loss: 0.1727 - categorical_accuracy: 0.9783 - val_loss: 0.2320 - val_categorical_accuracy: 0.9570\n",
            "Epoch 85/100\n",
            "521/521 [==============================] - 27s 53ms/step - loss: 0.1593 - categorical_accuracy: 0.9800 - val_loss: 0.2533 - val_categorical_accuracy: 0.9568\n",
            "Epoch 86/100\n",
            "521/521 [==============================] - 27s 53ms/step - loss: 0.1703 - categorical_accuracy: 0.9786 - val_loss: 0.2399 - val_categorical_accuracy: 0.9532\n",
            "Epoch 87/100\n",
            "521/521 [==============================] - 27s 53ms/step - loss: 0.1660 - categorical_accuracy: 0.9789 - val_loss: 0.2499 - val_categorical_accuracy: 0.9510\n",
            "Epoch 88/100\n",
            "521/521 [==============================] - 27s 52ms/step - loss: 0.1535 - categorical_accuracy: 0.9800 - val_loss: 0.2805 - val_categorical_accuracy: 0.9414\n",
            "Epoch 89/100\n",
            "521/521 [==============================] - 27s 53ms/step - loss: 0.1485 - categorical_accuracy: 0.9816 - val_loss: 0.2310 - val_categorical_accuracy: 0.9552\n",
            "Epoch 90/100\n",
            "521/521 [==============================] - 27s 53ms/step - loss: 0.1434 - categorical_accuracy: 0.9840 - val_loss: 0.2742 - val_categorical_accuracy: 0.9368\n",
            "Epoch 91/100\n",
            "521/521 [==============================] - 27s 53ms/step - loss: 0.1511 - categorical_accuracy: 0.9806 - val_loss: 0.2385 - val_categorical_accuracy: 0.9514\n",
            "Epoch 92/100\n",
            "521/521 [==============================] - 27s 53ms/step - loss: 0.1459 - categorical_accuracy: 0.9814 - val_loss: 0.2181 - val_categorical_accuracy: 0.9560\n",
            "Epoch 93/100\n",
            "521/521 [==============================] - 26s 49ms/step - loss: 0.1516 - categorical_accuracy: 0.9811 - val_loss: 0.2598 - val_categorical_accuracy: 0.9465\n",
            "Epoch 94/100\n",
            "521/521 [==============================] - 27s 52ms/step - loss: 0.1468 - categorical_accuracy: 0.9819 - val_loss: 0.2214 - val_categorical_accuracy: 0.9589\n",
            "Epoch 95/100\n",
            "521/521 [==============================] - 26s 49ms/step - loss: 0.1419 - categorical_accuracy: 0.9828 - val_loss: 0.2568 - val_categorical_accuracy: 0.9526\n",
            "Epoch 96/100\n",
            "521/521 [==============================] - 26s 49ms/step - loss: 0.1420 - categorical_accuracy: 0.9827 - val_loss: 0.2639 - val_categorical_accuracy: 0.9433\n",
            "Epoch 97/100\n",
            "521/521 [==============================] - 27s 53ms/step - loss: 0.1448 - categorical_accuracy: 0.9839 - val_loss: 0.2376 - val_categorical_accuracy: 0.9550\n",
            "Epoch 98/100\n",
            "521/521 [==============================] - 27s 52ms/step - loss: 0.1630 - categorical_accuracy: 0.9819 - val_loss: 0.2930 - val_categorical_accuracy: 0.9362\n",
            "Epoch 99/100\n",
            "521/521 [==============================] - 27s 53ms/step - loss: 0.1520 - categorical_accuracy: 0.9817 - val_loss: 0.2579 - val_categorical_accuracy: 0.9476\n",
            "Epoch 100/100\n",
            "521/521 [==============================] - 27s 53ms/step - loss: 0.1424 - categorical_accuracy: 0.9828 - val_loss: 0.2204 - val_categorical_accuracy: 0.9538\n"
          ]
        }
      ]
    },
    {
      "cell_type": "code",
      "source": [
        "fig, ax = plt.subplots(figsize=(10, 8))\n",
        "ax = plt.plot(fit_history.history['categorical_accuracy'], label='Train')\n",
        "ax = plt.plot(fit_history.history['val_categorical_accuracy'], label='Validation')\n",
        "ax = plt.xlabel('Epochs')\n",
        "ax = plt.ylabel('Accuracy')\n",
        "ax = plt.title('Categorical Acuracy')\n",
        "ax = plt.legend()"
      ],
      "metadata": {
        "colab": {
          "base_uri": "https://localhost:8080/",
          "height": 513
        },
        "id": "D05D3bCdVkP8",
        "outputId": "97a4c105-a2ef-4aeb-9571-bd8684ce3788"
      },
      "execution_count": null,
      "outputs": [
        {
          "output_type": "display_data",
          "data": {
            "text/plain": [
              "<Figure size 720x576 with 1 Axes>"
            ],
            "image/png": "[encoded data removed]"
          },
          "metadata": {
            "needs_background": "light"
          }
        }
      ]
    },
    {
      "cell_type": "code",
      "source": [
        "fig, ax = plt.subplots(figsize=(10, 8))\n",
        "ax = plt.plot(fit_history.history['loss'], label='Train')\n",
        "ax = plt.plot(fit_history.history['val_loss'], label='Validation')\n",
        "ax = plt.xlabel('Epochs')\n",
        "ax = plt.ylabel('Loss')\n",
        "ax = plt.title('Loss')\n",
        "ax = plt.legend()"
      ],
      "metadata": {
        "colab": {
          "base_uri": "https://localhost:8080/",
          "height": 513
        },
        "id": "EbHEVRtcVt0s",
        "outputId": "fbd77a78-01ef-4dc7-b25e-be4586e4a642"
      },
      "execution_count": null,
      "outputs": [
        {
          "output_type": "display_data",
          "data": {
            "text/plain": [
              "<Figure size 720x576 with 1 Axes>"
            ],
            "image/png": "[encoded data removed]"
          },
          "metadata": {
            "needs_background": "light"
          }
        }
      ]
    }
  ]
}