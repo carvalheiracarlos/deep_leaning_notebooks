{
  "nbformat": 4,
  "nbformat_minor": 0,
  "metadata": {
    "colab": {
      "provenance": [],
      "mount_file_id": "1g9cFQMM8QDxl3bD7CK1dYjVaikBD2dAF",
      "authorship_tag": "ABX9TyNTaSmxzjabXO1fBw4GQM+e",
      "include_colab_link": true
    },
    "kernelspec": {
      "name": "python3",
      "display_name": "Python 3"
    },
    "language_info": {
      "name": "python"
    },
    "accelerator": "GPU"
  },
  "cells": [
    {
      "cell_type": "markdown",
      "metadata": {
        "id": "view-in-github",
        "colab_type": "text"
      },
      "source": [
        "<a href=\"https://colab.research.google.com/github/carvalheiracarlos/deep_leaning_notebooks/blob/main/alzheimer_cnn/test_alexnet.ipynb\" target=\"_parent\"><img src=\"https://colab.research.google.com/assets/colab-badge.svg\" alt=\"Open In Colab\"/></a>"
      ]
    },
    {
      "cell_type": "code",
      "source": [
        "from sklearn.metrics import precision_recall_fscore_support\n",
        "from sklearn.metrics import accuracy_score\n",
        "from keras.callbacks import ModelCheckpoint\n",
        "from keras.metrics import categorical_accuracy\n",
        "from keras.models import Sequential\n",
        "from keras.layers.convolutional import Convolution2D\n",
        "from keras.layers import Conv2D, MaxPooling2D\n",
        "from keras.layers.core import Activation\n",
        "from keras.layers.core import Flatten\n",
        "from keras.layers.core import Dense\n",
        "from keras import backend\n",
        "import tensorflow as tf\n",
        "import json\n",
        "from keras.regularizers import l2\n",
        "import matplotlib.pyplot as plt\n",
        "import numpy as np"
      ],
      "metadata": {
        "id": "gM1oevhDkyub"
      },
      "execution_count": 7,
      "outputs": []
    },
    {
      "cell_type": "code",
      "source": [
        "device_name = tf.test.gpu_device_name()\n",
        "if device_name != '/device:GPU:0':\n",
        "  raise SystemError('GPU device not found')\n",
        "print('Found GPU at: {}'.format(device_name))"
      ],
      "metadata": {
        "colab": {
          "base_uri": "https://localhost:8080/"
        },
        "id": "XhvcDvM4ldwa",
        "outputId": "5ddf1eb4-0709-4122-94c2-d6ec599c6b4b"
      },
      "execution_count": 3,
      "outputs": [
        {
          "output_type": "stream",
          "name": "stdout",
          "text": [
            "Found GPU at: /device:GPU:0\n"
          ]
        }
      ]
    },
    {
      "cell_type": "code",
      "source": [
        "X_test = np.load('drive/MyDrive/alzheimer_datasets/X_test.npy', allow_pickle=True)\n",
        "y_test = np.load('drive/MyDrive/alzheimer_datasets/y_test.npy', allow_pickle=True)"
      ],
      "metadata": {
        "id": "KkhaVYf4fGvW"
      },
      "execution_count": 5,
      "outputs": []
    },
    {
      "cell_type": "code",
      "source": [
        "class LightAlexNet:\n",
        "  @staticmethod\n",
        "  def build(n_channels, \n",
        "            rows, \n",
        "            cols, \n",
        "            n_classes, \n",
        "            activation='relu', \n",
        "            weights_path=None):\n",
        "    model = tf.keras.models.Sequential()\n",
        "    \n",
        "    input_Shape = (rows, cols, n_channels)\n",
        "    \n",
        "    model.add(tf.keras.layers.Conv2D(filters=128, \n",
        "                                  kernel_size=(10,10),\n",
        "                                  strides=(2,2),\n",
        "                                  activation=activation, \n",
        "                                  input_shape=input_Shape))\n",
        "    model.add(tf.keras.layers.BatchNormalization())\n",
        "    model.add(tf.keras.layers.MaxPooling2D(pool_size=(3, 3), strides=(2, 2)))\n",
        "    model.add(tf.keras.layers.Dropout(0.5))\n",
        "    \n",
        "    \n",
        "    model.add(tf.keras.layers.Conv2D(filters=256, \n",
        "                                  kernel_size=(8,8),\n",
        "                                  strides=(2,2),\n",
        "                                  activation=activation, \n",
        "                                  input_shape=input_Shape,\n",
        "                                  padding='same'))\n",
        "    model.add(tf.keras.layers.BatchNormalization())\n",
        "    model.add(tf.keras.layers.MaxPooling2D(pool_size=(3, 3), strides=(2, 2)))\n",
        "    model.add(tf.keras.layers.Dropout(0.5))\n",
        "    \n",
        "    \n",
        "    model.add(tf.keras.layers.Conv2D(filters=512, \n",
        "                                  kernel_size=(8,8),\n",
        "                                  strides=(2,2),\n",
        "                                  activation=activation, \n",
        "                                  input_shape=input_Shape,\n",
        "                                  padding='same'))\n",
        "    model.add(tf.keras.layers.BatchNormalization())\n",
        "    model.add(tf.keras.layers.Dropout(0.5))\n",
        "\n",
        "\n",
        "    model.add(tf.keras.layers.Flatten())\n",
        "\n",
        "    model.add(tf.keras.layers.Dense(512, activation=activation, kernel_regularizer=l2(0.01)))\n",
        "    model.add(tf.keras.layers.Dropout(0.5))\n",
        "\n",
        "    model.add(tf.keras.layers.Dense(n_classes, activation='softmax'))\n",
        "\n",
        "    # if a weights path is supplied (inicating that the model was\n",
        "    # pre-trained), then load the weights\n",
        "    if weights_path is not None:\n",
        "      model.load_weights(weights_path)\n",
        "    \n",
        "    return model"
      ],
      "metadata": {
        "id": "7QErIWvvkvoE"
      },
      "execution_count": 6,
      "outputs": []
    },
    {
      "cell_type": "code",
      "source": [
        "file_path='drive/MyDrive/alzheimer_datasets/alex_weights_train.h5'\n",
        "with tf.device('/device:GPU:0') as sess:\n",
        "    test_model = LightAlexNet.build(n_channels=1, \n",
        "                                    rows=100,\n",
        "                                    cols=100, \n",
        "                                    n_classes=4, \n",
        "                                    activation='relu', \n",
        "                                    weights_path=file_path)\n",
        "\n",
        "    pred = test_model.predict(X_test, verbose=1)"
      ],
      "metadata": {
        "colab": {
          "base_uri": "https://localhost:8080/"
        },
        "id": "-JSMF1jGe0Hj",
        "outputId": "160b82bf-b86f-4e1d-d12e-ff562a8e4325"
      },
      "execution_count": 8,
      "outputs": [
        {
          "output_type": "stream",
          "name": "stdout",
          "text": [
            "319/319 [==============================] - 14s 13ms/step\n"
          ]
        }
      ]
    },
    {
      "cell_type": "code",
      "source": [
        "precision, recall, f_betta, support = precision_recall_fscore_support(y_test.argmax(1), \n",
        "                                                                      pred.argmax(1),\n",
        "                                                                      average='weighted')\n",
        "\n",
        "accuracy = accuracy_score(y_test.argmax(1), pred.argmax(1))\n",
        "\n",
        "print('Accuracy: {}'.format(accuracy))\n",
        "print('Precision: {}'.format(precision))\n",
        "print('Recall: {}'.format(recall))\n",
        "print('F Betta: {}'.format(f_betta))"
      ],
      "metadata": {
        "colab": {
          "base_uri": "https://localhost:8080/"
        },
        "id": "adAyUv7ye4XM",
        "outputId": "04864754-2ecb-4025-aaa7-13919c865529"
      },
      "execution_count": 9,
      "outputs": [
        {
          "output_type": "stream",
          "name": "stdout",
          "text": [
            "Accuracy: 0.9517457826598666\n",
            "Precision: 0.9523366393996786\n",
            "Recall: 0.9517457826598666\n",
            "F Betta: 0.951553760670827\n"
          ]
        }
      ]
    }
  ]
}