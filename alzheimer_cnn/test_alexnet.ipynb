{
  "nbformat": 4,
  "nbformat_minor": 0,
  "metadata": {
    "colab": {
      "provenance": [],
      "mount_file_id": "1g9cFQMM8QDxl3bD7CK1dYjVaikBD2dAF",
      "authorship_tag": "ABX9TyOtpNrqLYowCUMzB/4FYl51",
      "include_colab_link": true
    },
    "kernelspec": {
      "name": "python3",
      "display_name": "Python 3"
    },
    "language_info": {
      "name": "python"
    },
    "accelerator": "GPU"
  },
  "cells": [
    {
      "cell_type": "markdown",
      "metadata": {
        "id": "view-in-github",
        "colab_type": "text"
      },
      "source": [
        "<a href=\"https://colab.research.google.com/github/carvalheiracarlos/deep_leaning_notebooks/blob/main/alzheimer_cnn/test_alexnet.ipynb\" target=\"_parent\"><img src=\"https://colab.research.google.com/assets/colab-badge.svg\" alt=\"Open In Colab\"/></a>"
      ]
    },
    {
      "cell_type": "code",
      "source": [
        "from sklearn.metrics import confusion_matrix\n",
        "from sklearn.metrics import precision_recall_fscore_support\n",
        "from sklearn.metrics import accuracy_score\n",
        "from keras.callbacks import ModelCheckpoint\n",
        "from keras.metrics import categorical_accuracy\n",
        "from keras.models import Sequential\n",
        "from keras.layers.convolutional import Convolution2D\n",
        "from keras.layers import Conv2D, MaxPooling2D\n",
        "from keras.layers.core import Activation\n",
        "from keras.layers.core import Flatten\n",
        "from keras.layers.core import Dense\n",
        "from keras import backend\n",
        "import tensorflow as tf\n",
        "import json\n",
        "from keras.regularizers import l2\n",
        "import matplotlib.pyplot as plt\n",
        "import numpy as np\n",
        "import pandas as pd\n",
        "import seaborn"
      ],
      "metadata": {
        "id": "gM1oevhDkyub"
      },
      "execution_count": 5,
      "outputs": []
    },
    {
      "cell_type": "code",
      "source": [
        "X_test = np.load('drive/MyDrive/alzheimer_datasets/X_test.npy', allow_pickle=True)\n",
        "y_test = np.load('drive/MyDrive/alzheimer_datasets/y_test.npy', allow_pickle=True)"
      ],
      "metadata": {
        "id": "KkhaVYf4fGvW"
      },
      "execution_count": 6,
      "outputs": []
    },
    {
      "cell_type": "code",
      "source": [
        "class LightAlexNet:\n",
        "  @staticmethod\n",
        "  def build(n_channels, \n",
        "            rows, \n",
        "            cols, \n",
        "            n_classes, \n",
        "            activation='relu', \n",
        "            weights_path=None):\n",
        "    model = tf.keras.models.Sequential()\n",
        "    \n",
        "    input_Shape = (rows, cols, n_channels)\n",
        "    \n",
        "    model.add(tf.keras.layers.Conv2D(filters=128, \n",
        "                                  kernel_size=(10,10),\n",
        "                                  strides=(2,2),\n",
        "                                  activation=activation, \n",
        "                                  input_shape=input_Shape))\n",
        "    model.add(tf.keras.layers.BatchNormalization())\n",
        "    model.add(tf.keras.layers.MaxPooling2D(pool_size=(3, 3), strides=(2, 2)))\n",
        "    model.add(tf.keras.layers.Dropout(0.5))\n",
        "    \n",
        "    \n",
        "    model.add(tf.keras.layers.Conv2D(filters=256, \n",
        "                                  kernel_size=(8,8),\n",
        "                                  strides=(2,2),\n",
        "                                  activation=activation, \n",
        "                                  input_shape=input_Shape,\n",
        "                                  padding='same'))\n",
        "    model.add(tf.keras.layers.BatchNormalization())\n",
        "    model.add(tf.keras.layers.MaxPooling2D(pool_size=(3, 3), strides=(2, 2)))\n",
        "    model.add(tf.keras.layers.Dropout(0.5))\n",
        "    \n",
        "    \n",
        "    model.add(tf.keras.layers.Conv2D(filters=512, \n",
        "                                  kernel_size=(8,8),\n",
        "                                  strides=(2,2),\n",
        "                                  activation=activation, \n",
        "                                  input_shape=input_Shape,\n",
        "                                  padding='same'))\n",
        "    model.add(tf.keras.layers.BatchNormalization())\n",
        "    model.add(tf.keras.layers.Dropout(0.5))\n",
        "\n",
        "\n",
        "    model.add(tf.keras.layers.Flatten())\n",
        "\n",
        "    model.add(tf.keras.layers.Dense(512, activation=activation, kernel_regularizer=l2(0.01)))\n",
        "    model.add(tf.keras.layers.Dropout(0.5))\n",
        "\n",
        "    model.add(tf.keras.layers.Dense(n_classes, activation='softmax'))\n",
        "\n",
        "    # if a weights path is supplied (inicating that the model was\n",
        "    # pre-trained), then load the weights\n",
        "    if weights_path is not None:\n",
        "      model.load_weights(weights_path)\n",
        "    \n",
        "    return model"
      ],
      "metadata": {
        "id": "7QErIWvvkvoE"
      },
      "execution_count": 7,
      "outputs": []
    },
    {
      "cell_type": "code",
      "source": [
        "file_path='drive/MyDrive/alzheimer_datasets/alex_weights_train.h5'\n",
        "test_model = LightAlexNet.build(n_channels=1, \n",
        "                                rows=100,\n",
        "                                cols=100, \n",
        "                                n_classes=4, \n",
        "                                activation='relu', \n",
        "                                weights_path=file_path)\n",
        "\n",
        "pred = test_model.predict(X_test, verbose=1)"
      ],
      "metadata": {
        "colab": {
          "base_uri": "https://localhost:8080/"
        },
        "id": "-JSMF1jGe0Hj",
        "outputId": "9f96c2bf-4612-4470-ca06-1da0f1b20727"
      },
      "execution_count": 8,
      "outputs": [
        {
          "output_type": "stream",
          "name": "stdout",
          "text": [
            "319/319 [==============================] - 154s 474ms/step\n"
          ]
        }
      ]
    },
    {
      "cell_type": "code",
      "source": [
        "precision, recall, f_betta, support = precision_recall_fscore_support(y_test.argmax(1), \n",
        "                                                                      pred.argmax(1),\n",
        "                                                                      average='weighted')\n",
        "\n",
        "accuracy = accuracy_score(y_test.argmax(1), pred.argmax(1))\n",
        "\n",
        "print('Accuracy: {}'.format(accuracy))\n",
        "print('Precision: {}'.format(precision))\n",
        "print('Recall: {}'.format(recall))\n",
        "print('F Betta: {}'.format(f_betta))"
      ],
      "metadata": {
        "colab": {
          "base_uri": "https://localhost:8080/"
        },
        "id": "adAyUv7ye4XM",
        "outputId": "e9e2afea-0c29-4b3e-91b0-2a50cd3361e6"
      },
      "execution_count": 9,
      "outputs": [
        {
          "output_type": "stream",
          "name": "stdout",
          "text": [
            "Accuracy: 0.9517457826598666\n",
            "Precision: 0.9523366393996786\n",
            "Recall: 0.9517457826598666\n",
            "F Betta: 0.951553760670827\n"
          ]
        }
      ]
    },
    {
      "cell_type": "code",
      "source": [
        "data = pd.DataFrame(confusion_matrix(y_test.argmax(1), pred.argmax(1)), \n",
        "                    index = ['Mild', 'Moderated', 'Non', 'VeryMild'], \n",
        "                    columns = ['Mild', 'Moderated', 'Non', 'VeryMild'])"
      ],
      "metadata": {
        "id": "8In293g1hwTx"
      },
      "execution_count": 10,
      "outputs": []
    },
    {
      "cell_type": "code",
      "source": [
        "fig, ax = plt.subplots(figsize=(20, 15))\n",
        "ax = seaborn.heatmap(data, annot=True)\n",
        "ax = plt.xlabel('Predicted')\n",
        "ax = plt.ylabel('Target')\n",
        "ax = plt.title('Class Confusion Matrix')"
      ],
      "metadata": {
        "colab": {
          "base_uri": "https://localhost:8080/",
          "height": 766
        },
        "id": "DDQ1E9GziK1C",
        "outputId": "da8c36ea-d254-4c7d-80b7-ac88c3cbcf85"
      },
      "execution_count": 11,
      "outputs": [
        {
          "output_type": "display_data",
          "data": {
            "text/plain": [
              "<Figure size 1440x1080 with 2 Axes>"
            ],
            "image/png": "[encoded data removed]"
          },
          "metadata": {
            "needs_background": "light"
          }
        }
      ]
    }
  ]
}