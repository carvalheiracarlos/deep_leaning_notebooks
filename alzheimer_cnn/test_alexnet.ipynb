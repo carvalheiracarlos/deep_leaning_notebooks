{
  "nbformat": 4,
  "nbformat_minor": 0,
  "metadata": {
    "colab": {
      "provenance": [],
      "mount_file_id": "https://github.com/carvalheiracarlos/deep_leaning_notebooks/blob/main/alzheimer_cnn/test_alexnet.ipynb",
      "authorship_tag": "ABX9TyMLGXE7X99tewa2anERfkAM",
      "include_colab_link": true
    },
    "kernelspec": {
      "name": "python3",
      "display_name": "Python 3"
    },
    "language_info": {
      "name": "python"
    },
    "accelerator": "GPU"
  },
  "cells": [
    {
      "cell_type": "markdown",
      "metadata": {
        "id": "view-in-github",
        "colab_type": "text"
      },
      "source": [
        "<a href=\"https://colab.research.google.com/github/carvalheiracarlos/deep_leaning_notebooks/blob/main/alzheimer_cnn/test_alexnet.ipynb\" target=\"_parent\"><img src=\"https://colab.research.google.com/assets/colab-badge.svg\" alt=\"Open In Colab\"/></a>"
      ]
    },
    {
      "cell_type": "code",
      "source": [
        "from sklearn.metrics import confusion_matrix\n",
        "from sklearn.metrics import precision_recall_fscore_support\n",
        "from sklearn.metrics import accuracy_score\n",
        "from keras.callbacks import ModelCheckpoint\n",
        "from keras.metrics import categorical_accuracy\n",
        "from keras.models import Sequential\n",
        "from keras.layers.convolutional import Convolution2D\n",
        "from keras.layers import Conv2D, MaxPooling2D\n",
        "from keras.layers.core import Activation\n",
        "from keras.layers.core import Flatten\n",
        "from keras.layers.core import Dense\n",
        "from keras import backend\n",
        "import tensorflow as tf\n",
        "import json\n",
        "from keras.regularizers import l2\n",
        "import matplotlib.pyplot as plt\n",
        "import numpy as np\n",
        "from pickle import load\n",
        "import cv2\n",
        "from keras.preprocessing.image import img_to_array, array_to_img \n",
        "from sklearn.metrics import plot_confusion_matrix\n",
        "import seaborn as sns\n",
        "from sklearn.metrics import classification_report"
      ],
      "metadata": {
        "id": "gM1oevhDkyub"
      },
      "execution_count": 18,
      "outputs": []
    },
    {
      "cell_type": "code",
      "source": [
        "X_test = np.load('drive/MyDrive/alzheimer_datasets/X_test.npy', allow_pickle=True)\n",
        "y_test = np.load('drive/MyDrive/alzheimer_datasets/y_test.npy', allow_pickle=True)"
      ],
      "metadata": {
        "id": "KkhaVYf4fGvW"
      },
      "execution_count": 2,
      "outputs": []
    },
    {
      "cell_type": "code",
      "source": [
        "class LightAlexNet:\n",
        "  @staticmethod\n",
        "  def build(n_channels, \n",
        "            rows, \n",
        "            cols, \n",
        "            n_classes, \n",
        "            activation='relu', \n",
        "            weights_path=None):\n",
        "    model = tf.keras.models.Sequential()\n",
        "    \n",
        "    input_Shape = (rows, cols, n_channels)\n",
        "    \n",
        "    model.add(tf.keras.layers.Conv2D(filters=128, \n",
        "                                  kernel_size=(10,10),\n",
        "                                  strides=(2,2),\n",
        "                                  activation=activation, \n",
        "                                  input_shape=input_Shape))\n",
        "    model.add(tf.keras.layers.BatchNormalization())\n",
        "    model.add(tf.keras.layers.MaxPooling2D(pool_size=(3, 3), strides=(2, 2)))\n",
        "    model.add(tf.keras.layers.Dropout(0.5))\n",
        "    \n",
        "    \n",
        "    model.add(tf.keras.layers.Conv2D(filters=256, \n",
        "                                  kernel_size=(8,8),\n",
        "                                  strides=(2,2),\n",
        "                                  activation=activation, \n",
        "                                  input_shape=input_Shape,\n",
        "                                  padding='same'))\n",
        "    model.add(tf.keras.layers.BatchNormalization())\n",
        "    model.add(tf.keras.layers.MaxPooling2D(pool_size=(3, 3), strides=(2, 2)))\n",
        "    model.add(tf.keras.layers.Dropout(0.5))\n",
        "    \n",
        "    \n",
        "    model.add(tf.keras.layers.Conv2D(filters=512, \n",
        "                                  kernel_size=(8,8),\n",
        "                                  strides=(2,2),\n",
        "                                  activation=activation, \n",
        "                                  input_shape=input_Shape,\n",
        "                                  padding='same'))\n",
        "    model.add(tf.keras.layers.BatchNormalization())\n",
        "    model.add(tf.keras.layers.Dropout(0.5))\n",
        "\n",
        "\n",
        "    model.add(tf.keras.layers.Flatten())\n",
        "\n",
        "    model.add(tf.keras.layers.Dense(512, activation=activation, kernel_regularizer=l2(0.01)))\n",
        "    model.add(tf.keras.layers.Dropout(0.5))\n",
        "\n",
        "    model.add(tf.keras.layers.Dense(n_classes, activation='softmax'))\n",
        "\n",
        "    # if a weights path is supplied (inicating that the model was\n",
        "    # pre-trained), then load the weights\n",
        "    if weights_path is not None:\n",
        "      model.load_weights(weights_path)\n",
        "    \n",
        "    return model"
      ],
      "metadata": {
        "id": "7QErIWvvkvoE"
      },
      "execution_count": 3,
      "outputs": []
    },
    {
      "cell_type": "code",
      "source": [
        "file_path='drive/MyDrive/alzheimer_datasets/alex_weights_train.h5'\n",
        "test_model = LightAlexNet.build(n_channels=1, \n",
        "                                rows=100,\n",
        "                                cols=100, \n",
        "                                n_classes=4, \n",
        "                                activation='relu', \n",
        "                                weights_path=file_path)\n",
        "\n",
        "pred = test_model.predict(X_test, verbose=1)"
      ],
      "metadata": {
        "colab": {
          "base_uri": "https://localhost:8080/"
        },
        "id": "-JSMF1jGe0Hj",
        "outputId": "1f258806-39ca-4a9b-a66a-6297ff28c064"
      },
      "execution_count": 4,
      "outputs": [
        {
          "output_type": "stream",
          "name": "stdout",
          "text": [
            "319/319 [==============================] - 14s 18ms/step\n"
          ]
        }
      ]
    },
    {
      "cell_type": "code",
      "source": [
        "precision, recall, f_betta, support = precision_recall_fscore_support(y_test.argmax(1), \n",
        "                                                                      pred.argmax(1),\n",
        "                                                                      average='weighted')\n",
        "\n",
        "accuracy = accuracy_score(y_test.argmax(1), pred.argmax(1))\n",
        "\n",
        "print('Accuracy: {}'.format(accuracy))\n",
        "print('Precision: {}'.format(precision))\n",
        "print('Recall: {}'.format(recall))\n",
        "print('F Betta: {}'.format(f_betta))"
      ],
      "metadata": {
        "colab": {
          "base_uri": "https://localhost:8080/"
        },
        "id": "adAyUv7ye4XM",
        "outputId": "a1e23a57-a8c7-4ff7-fea3-f4940e1e7c6f"
      },
      "execution_count": 5,
      "outputs": [
        {
          "output_type": "stream",
          "name": "stdout",
          "text": [
            "Accuracy: 0.9517457826598666\n",
            "Precision: 0.9523366393996786\n",
            "Recall: 0.9517457826598666\n",
            "F Betta: 0.951553760670827\n"
          ]
        }
      ]
    },
    {
      "cell_type": "code",
      "source": [
        "encoder = load(open('drive/MyDrive/alzheimer_datasets/encoder.pkl', 'rb'))"
      ],
      "metadata": {
        "id": "edEtMKG_RewH"
      },
      "execution_count": 6,
      "outputs": []
    },
    {
      "cell_type": "code",
      "source": [
        "y_label_inverse = encoder.inverse_transform(y_test)\n",
        "y_pred_inverse = encoder.inverse_transform(pred)"
      ],
      "metadata": {
        "id": "OHvnNFDisnYY"
      },
      "execution_count": 12,
      "outputs": []
    },
    {
      "cell_type": "code",
      "source": [
        "print(classification_report(y_label_inverse, y_pred_inverse))"
      ],
      "metadata": {
        "id": "7i1y0s6avlo7",
        "outputId": "0115946d-afb8-4ad7-c2a3-191696ca5fb9",
        "colab": {
          "base_uri": "https://localhost:8080/"
        }
      },
      "execution_count": 19,
      "outputs": [
        {
          "output_type": "stream",
          "name": "stdout",
          "text": [
            "                  precision    recall  f1-score   support\n",
            "\n",
            "    MildDemented       0.97      0.98      0.97      2677\n",
            "ModerateDemented       1.00      1.00      1.00      1921\n",
            "     NonDemented       0.91      0.95      0.93      2897\n",
            "VeryMildDemented       0.95      0.89      0.92      2701\n",
            "\n",
            "        accuracy                           0.95     10196\n",
            "       macro avg       0.96      0.96      0.96     10196\n",
            "    weighted avg       0.95      0.95      0.95     10196\n",
            "\n"
          ]
        }
      ]
    },
    {
      "cell_type": "code",
      "source": [
        "cm = confusion_matrix(y_label_inverse, y_pred_inverse)"
      ],
      "metadata": {
        "id": "vQLa-MVUtX36"
      },
      "execution_count": 20,
      "outputs": []
    },
    {
      "cell_type": "code",
      "source": [
        "labels = ['MildDemented', 'ModerateDemented', 'NonDemented', 'VeryMildDemented']\n",
        "fig, ax = plt.subplots(figsize=(20, 15))\n",
        "sns.heatmap(cm, annot=True, fmt='g', ax=ax, cmap='CMRmap')\n",
        "ax.set_xlabel('Predicted labels') \n",
        "ax.set_ylabel('True labels') \n",
        "ax.set_title('Confusion Matrix')\n",
        "ax.xaxis.set_ticklabels(labels)\n",
        "ax.yaxis.set_ticklabels(labels)"
      ],
      "metadata": {
        "id": "P_Yry0D8tvLC",
        "outputId": "6bf58ce7-e271-477e-b2f4-6bb623046571",
        "colab": {
          "base_uri": "https://localhost:8080/",
          "height": 962
        }
      },
      "execution_count": 42,
      "outputs": [
        {
          "output_type": "execute_result",
          "data": {
            "text/plain": [
              "[Text(0, 0.5, 'MildDemented'),\n",
              " Text(0, 1.5, 'ModerateDemented'),\n",
              " Text(0, 2.5, 'NonDemented'),\n",
              " Text(0, 3.5, 'VeryMildDemented')]"
            ]
          },
          "metadata": {},
          "execution_count": 42
        },
        {
          "output_type": "display_data",
          "data": {
            "text/plain": [
              "<Figure size 1440x1080 with 2 Axes>"
            ],
            "image/png": "[encoded data removed]"
          },
          "metadata": {
            "needs_background": "light"
          }
        }
      ]
    },
    {
      "cell_type": "code",
      "source": [
        "image_path = 'mild_d.png'\n",
        "sample = cv2.imread(image_path)\n",
        "sample = cv2.cvtColor(sample, cv2.COLOR_BGR2GRAY)\n",
        "sample = cv2.resize(sample, (100, 100))\n",
        "sample = img_to_array(sample)\n",
        "plt.imshow(array_to_img(sample))"
      ],
      "metadata": {
        "id": "EQUYiPF0RysO"
      },
      "execution_count": null,
      "outputs": []
    },
    {
      "cell_type": "code",
      "source": [
        "sample_prediction = test_model.predict(np.array( [sample,] ))\n",
        "encoder.inverse_transform(sample_prediction)"
      ],
      "metadata": {
        "id": "3u7wJOwpUWHH"
      },
      "execution_count": null,
      "outputs": []
    }
  ]
}