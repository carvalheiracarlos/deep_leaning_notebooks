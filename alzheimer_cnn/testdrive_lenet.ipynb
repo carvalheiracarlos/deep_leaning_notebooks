{
  "nbformat": 4,
  "nbformat_minor": 0,
  "metadata": {
    "colab": {
      "provenance": [],
      "mount_file_id": "https://github.com/carvalheiracarlos/deep_leaning_notebooks/blob/main/alzheimer_cnn/testdrive_lenet.ipynb",
      "authorship_tag": "ABX9TyPzSN1ldto2MrSQHeuBBPoj",
      "include_colab_link": true
    },
    "kernelspec": {
      "name": "python3",
      "display_name": "Python 3"
    },
    "language_info": {
      "name": "python"
    },
    "accelerator": "GPU"
  },
  "cells": [
    {
      "cell_type": "markdown",
      "metadata": {
        "id": "view-in-github",
        "colab_type": "text"
      },
      "source": [
        "<a href=\"https://colab.research.google.com/github/carvalheiracarlos/deep_leaning_notebooks/blob/main/alzheimer_cnn/testdrive_lenet.ipynb\" target=\"_parent\"><img src=\"https://colab.research.google.com/assets/colab-badge.svg\" alt=\"Open In Colab\"/></a>"
      ]
    },
    {
      "cell_type": "code",
      "execution_count": 1,
      "metadata": {
        "id": "J2Ache_3hU_c"
      },
      "outputs": [],
      "source": [
        "import numpy as np"
      ]
    },
    {
      "cell_type": "code",
      "source": [
        "from keras.callbacks import ModelCheckpoint\n",
        "from keras.metrics import categorical_accuracy\n",
        "from keras.models import Sequential\n",
        "from keras.layers.convolutional import Convolution2D\n",
        "from keras.layers import Conv2D, MaxPooling2D\n",
        "from keras.layers.core import Activation\n",
        "from keras.layers.core import Flatten\n",
        "from keras.layers.core import Dense\n",
        "from keras import backend\n",
        "import tensorflow as tf\n",
        "import json"
      ],
      "metadata": {
        "id": "gM1oevhDkyub"
      },
      "execution_count": 2,
      "outputs": []
    },
    {
      "cell_type": "code",
      "source": [
        "device_name = tf.test.gpu_device_name()\n",
        "if device_name != '/device:GPU:0':\n",
        "  raise SystemError('GPU device not found')\n",
        "print('Found GPU at: {}'.format(device_name))"
      ],
      "metadata": {
        "colab": {
          "base_uri": "https://localhost:8080/"
        },
        "id": "XhvcDvM4ldwa",
        "outputId": "b6f83814-0ede-4927-eba3-6722dbd7a92c"
      },
      "execution_count": 3,
      "outputs": [
        {
          "output_type": "stream",
          "name": "stdout",
          "text": [
            "Found GPU at: /device:GPU:0\n"
          ]
        }
      ]
    },
    {
      "cell_type": "code",
      "source": [
        "X_train = np.load('drive/MyDrive/alzheimer_datasets/X_train.npy', allow_pickle=True)\n",
        "X_test = np.load('drive/MyDrive/alzheimer_datasets/X_test.npy', allow_pickle=True)\n",
        "\n",
        "y_train = np.load('drive/MyDrive/alzheimer_datasets/y_train.npy', allow_pickle=True)\n",
        "y_test = np.load('drive/MyDrive/alzheimer_datasets/y_test.npy', allow_pickle=True)"
      ],
      "metadata": {
        "id": "n-u7pThdhjd9"
      },
      "execution_count": 4,
      "outputs": []
    },
    {
      "cell_type": "code",
      "source": [
        "X_train[0].shape"
      ],
      "metadata": {
        "colab": {
          "base_uri": "https://localhost:8080/"
        },
        "id": "MVYrlRcTk-Ek",
        "outputId": "dc5627d3-b573-432b-cb71-1c47240f75a4"
      },
      "execution_count": 5,
      "outputs": [
        {
          "output_type": "execute_result",
          "data": {
            "text/plain": [
              "(100, 100, 1)"
            ]
          },
          "metadata": {},
          "execution_count": 5
        }
      ]
    },
    {
      "cell_type": "code",
      "source": [
        "class LeNet:\n",
        "  @staticmethod\n",
        "  def build(n_channels, \n",
        "            rows, \n",
        "            cols, \n",
        "            n_classes, \n",
        "            activation='relu', \n",
        "            weights_path=None):\n",
        "    model = Sequential()\n",
        "    \n",
        "    input_Shape = (rows, cols, n_channels)\n",
        "    \n",
        "   \n",
        "    #Convolution and Pooling Layers\n",
        "    model.add(Conv2D(20, kernel_size=5, activation=activation, input_shape=input_Shape))\n",
        "    model.add(MaxPooling2D(pool_size=(2, 2), strides=(2, 2)))\n",
        "    \n",
        "    model.add(Conv2D(50, kernel_size=5, activation=activation))\n",
        "    model.add(MaxPooling2D(pool_size=(2, 2), strides=(2, 2)))\n",
        "    \n",
        "    #Flatten and Fully Conected layer\n",
        "    model.add(Flatten())\n",
        "    model.add(Dense(32))\n",
        "    model.add(Activation(activation))\n",
        "    \n",
        "    # OutputLayer SOFTMAX activation\n",
        "    model.add(Dense(n_classes))\n",
        "    model.add(Activation('softmax'))\n",
        "    \n",
        "    # if a weights path is supplied (inicating that the model was\n",
        "    # pre-trained), then load the weights\n",
        "    if weights_path is not None:\n",
        "      model.load_weights(weights_path)\n",
        "    \n",
        "    return model"
      ],
      "metadata": {
        "id": "7QErIWvvkvoE"
      },
      "execution_count": 6,
      "outputs": []
    },
    {
      "cell_type": "code",
      "source": [
        "n_epochs = 10\n",
        "ini_learning_rate = 1e-3\n",
        "batch_size = 32"
      ],
      "metadata": {
        "id": "ZFrYl1WelLx4"
      },
      "execution_count": 7,
      "outputs": []
    },
    {
      "cell_type": "code",
      "source": [
        "with tf.device('/device:GPU:0') as sess:\n",
        "    train_model = LeNet.build(n_channels=1, \n",
        "                              rows=100,\n",
        "                              cols=100, \n",
        "                              n_classes=4, \n",
        "                              activation='relu', \n",
        "                              weights_path=None)\n",
        "\n",
        "    opt = tf.keras.optimizers.Adam(lr=ini_learning_rate, decay=ini_learning_rate / n_epochs)\n",
        "    train_model.compile(loss='categorical_crossentropy', optimizer=opt, metrics=[categorical_accuracy])\n",
        "    try:\n",
        "        file_path = 'weights/alpha_weights_Letras.h5'\n",
        "        check_point = ModelCheckpoint(file_path, \n",
        "                                      monitor='categorical_accuracy', \n",
        "                                      verbose=0, \n",
        "                                      save_best_only=True,\n",
        "                                      mode='max',\n",
        "                                      save_weights_only=True)\n",
        "        callbacks_list = [check_point]\n",
        "        \n",
        "        train_history = train_model.fit(x=X_train, \n",
        "                                        y=y_train, \n",
        "                                        batch_size=batch_size, \n",
        "                                        epochs=n_epochs,\n",
        "                                        verbose=1)\n",
        "    \n",
        "   \n",
        "    except IOError:\n",
        "        print('Error while saving the Model weights')\n",
        "\n"
      ],
      "metadata": {
        "colab": {
          "base_uri": "https://localhost:8080/"
        },
        "id": "X_XAWzgrlO89",
        "outputId": "ece1327d-5cd4-4ad9-a72e-1393cab057da"
      },
      "execution_count": 8,
      "outputs": [
        {
          "output_type": "stream",
          "name": "stderr",
          "text": [
            "/usr/local/lib/python3.7/dist-packages/keras/optimizer_v2/adam.py:105: UserWarning: The `lr` argument is deprecated, use `learning_rate` instead.\n",
            "  super(Adam, self).__init__(name, **kwargs)\n"
          ]
        },
        {
          "output_type": "stream",
          "name": "stdout",
          "text": [
            "Epoch 1/10\n",
            "744/744 [==============================] - 19s 10ms/step - loss: 0.8992 - categorical_accuracy: 0.5853\n",
            "Epoch 2/10\n",
            "744/744 [==============================] - 7s 9ms/step - loss: 0.5890 - categorical_accuracy: 0.7395\n",
            "Epoch 3/10\n",
            "744/744 [==============================] - 7s 9ms/step - loss: 0.4398 - categorical_accuracy: 0.8179\n",
            "Epoch 4/10\n",
            "744/744 [==============================] - 7s 9ms/step - loss: 0.3226 - categorical_accuracy: 0.8724\n",
            "Epoch 5/10\n",
            "744/744 [==============================] - 7s 10ms/step - loss: 0.2369 - categorical_accuracy: 0.9109\n",
            "Epoch 6/10\n",
            "744/744 [==============================] - 7s 10ms/step - loss: 0.1772 - categorical_accuracy: 0.9350\n",
            "Epoch 7/10\n",
            "744/744 [==============================] - 7s 10ms/step - loss: 0.1250 - categorical_accuracy: 0.9560\n",
            "Epoch 8/10\n",
            "744/744 [==============================] - 7s 9ms/step - loss: 0.0904 - categorical_accuracy: 0.9685\n",
            "Epoch 9/10\n",
            "744/744 [==============================] - 7s 10ms/step - loss: 0.0698 - categorical_accuracy: 0.9754\n",
            "Epoch 10/10\n",
            "744/744 [==============================] - 7s 10ms/step - loss: 0.0491 - categorical_accuracy: 0.9844\n"
          ]
        }
      ]
    }
  ]
}