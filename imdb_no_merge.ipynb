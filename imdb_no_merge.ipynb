{
  "nbformat": 4,
  "nbformat_minor": 0,
  "metadata": {
    "colab": {
      "provenance": [],
      "authorship_tag": "ABX9TyPur9scrOB/Kh3NNXWQa5OE",
      "include_colab_link": true
    },
    "kernelspec": {
      "name": "python3",
      "display_name": "Python 3"
    },
    "language_info": {
      "name": "python"
    }
  },
  "cells": [
    {
      "cell_type": "markdown",
      "metadata": {
        "id": "view-in-github",
        "colab_type": "text"
      },
      "source": [
        "<a href=\"https://colab.research.google.com/github/carvalheiracarlos/deep_leaning_notebooks/blob/main/imdb_no_merge.ipynb\" target=\"_parent\"><img src=\"https://colab.research.google.com/assets/colab-badge.svg\" alt=\"Open In Colab\"/></a>"
      ]
    },
    {
      "cell_type": "code",
      "execution_count": 1,
      "metadata": {
        "id": "t9d1db2aB0ZW"
      },
      "outputs": [],
      "source": [
        "import numpy as np\n",
        "import matplotlib.pyplot as plt\n",
        "import tensorflow as tf"
      ]
    },
    {
      "cell_type": "code",
      "source": [
        "(X_train, y_train), (X_test, y_test) = tf.keras.datasets.imdb.load_data(num_words=10000)"
      ],
      "metadata": {
        "id": "4azctbIeCDPf"
      },
      "execution_count": 2,
      "outputs": []
    },
    {
      "cell_type": "code",
      "source": [
        "'''\n",
        "Probably need to merge this X_train and X_test, \n",
        "than partition again in some better proportion(train: 80% | test: 20%).\n",
        "\n",
        "Fill review arrarys with zeros to have same lenght.\n",
        "'''\n",
        "print(f'Train Sets Shapes.....X_train: {X_train.shape}')\n",
        "print(f'Train Sets Shapes.....y_train: {y_train.shape}')\n",
        "print(f'Train Sets Largest Review Size: {max([max(review) for review in X_train])}')\n",
        "print(f'Tests Sets Shapes.....X_test: {X_test.shape}')\n",
        "print(f'Tests Sets Shapes.....y_test: {y_test.shape}')\n",
        "print(f'Train Sets Largest Review Size: {max([max(review) for review in X_test])}')"
      ],
      "metadata": {
        "colab": {
          "base_uri": "https://localhost:8080/"
        },
        "id": "_8bpZO37Sd81",
        "outputId": "507e5ddb-ec9c-46af-ed2b-6aa6c478062b"
      },
      "execution_count": 3,
      "outputs": [
        {
          "output_type": "stream",
          "name": "stdout",
          "text": [
            "Train Sets Shapes.....X_train: (25000,)\n",
            "Train Sets Shapes.....y_train: (25000,)\n",
            "Train Sets Largest Review Size: 9999\n",
            "Tests Sets Shapes.....X_test: (25000,)\n",
            "Tests Sets Shapes.....y_test: (25000,)\n",
            "Train Sets Largest Review Size: 9999\n"
          ]
        }
      ]
    },
    {
      "cell_type": "code",
      "source": [
        "# Thanks to https://github.com/kashif/tf-keras-tutorial/blob/tf2/3-imdb.ipynb\n",
        "def vectorize_sequences(sequences, dimension=10000):\n",
        "    results = np.zeros((len(sequences), dimension), dtype=np.float32)\n",
        "    for i, sequence in enumerate(sequences):\n",
        "        results[i, sequence] = 1.\n",
        "    return results\n",
        "\n",
        "X_train = vectorize_sequences(X_train)\n",
        "X_test = vectorize_sequences(X_test)"
      ],
      "metadata": {
        "id": "4YAhBD1x7POE"
      },
      "execution_count": 4,
      "outputs": []
    },
    {
      "cell_type": "code",
      "source": [
        "# Thanks to https://github.com/kashif/tf-keras-tutorial/blob/tf2/3-imdb.ipynb\n",
        "y_train = np.reshape(np.asarray(y_train, dtype=np.float32), (len(X_train), 1))\n",
        "y_test = np.reshape(np.asarray(y_test, dtype=np.float32), (len(X_test), 1))"
      ],
      "metadata": {
        "id": "HN8wLLHo-CCS"
      },
      "execution_count": 5,
      "outputs": []
    },
    {
      "cell_type": "code",
      "source": [
        "class DenseNet:\n",
        "  @staticmethod\n",
        "  def build(input_shape, \n",
        "            n_classes, \n",
        "            activation='relu', \n",
        "            weights_path=None):\n",
        "\n",
        "    model = tf.keras.models.Sequential()\n",
        "    model.add(tf.keras.layers.Dense(32, activation=activation, input_shape=input_shape, kernel_regularizer=tf.keras.regularizers.l2(0.01)))\n",
        "    model.add(tf.keras.layers.BatchNormalization())\n",
        "    model.add(tf.keras.layers.Dropout(0.6))\n",
        "\n",
        "    model.add(tf.keras.layers.Dense(32, activation=activation, kernel_regularizer=tf.keras.regularizers.l2(0.01)))\n",
        "    model.add(tf.keras.layers.BatchNormalization())\n",
        "    model.add(tf.keras.layers.Dropout(0.8))\n",
        "\n",
        "    model.add(tf.keras.layers.Dense(32, activation=activation, kernel_regularizer=tf.keras.regularizers.l2(0.01)))\n",
        "    model.add(tf.keras.layers.BatchNormalization())\n",
        "    model.add(tf.keras.layers.Dropout(0.8))\n",
        "\n",
        "    model.add(tf.keras.layers.Dense(n_classes, activation='sigmoid'))\n",
        "\n",
        "    # if a weights path is supplied (inicating that the model was\n",
        "    # pre-trained), then load the weights\n",
        "    if weights_path is not None:\n",
        "      model.load_weights(weights_path)\n",
        "    \n",
        "    return model"
      ],
      "metadata": {
        "id": "MfjP15KQWpJu"
      },
      "execution_count": 6,
      "outputs": []
    },
    {
      "cell_type": "code",
      "source": [
        "n_epochs = 100 \n",
        "ini_learning_rate = 1e-3\n",
        "batch_size=128"
      ],
      "metadata": {
        "id": "kBC_rlcnXrsB"
      },
      "execution_count": 7,
      "outputs": []
    },
    {
      "cell_type": "code",
      "source": [
        "train_model = DenseNet.build(input_shape=(10000, ), \n",
        "                             n_classes=1, \n",
        "                             activation='relu', \n",
        "                             weights_path=None)\n",
        "\n",
        "opt = tf.keras.optimizers.Adam(learning_rate=ini_learning_rate,\n",
        "                               beta_1=0.9, \n",
        "                               beta_2=0.999, \n",
        "                               epsilon=1e-08,\n",
        "                               decay=ini_learning_rate/n_epochs)\n",
        "\n",
        "train_model.compile(loss=tf.keras.losses.BinaryCrossentropy(from_logits=True), \n",
        "                    optimizer=opt, \n",
        "                    metrics=[tf.keras.metrics.BinaryAccuracy()])\n",
        "\n",
        "train_model.summary()\n",
        "\n",
        "tensorboard = tf.keras.callbacks.TensorBoard('./logs/fit/',\n",
        "                                          write_images=True)\n",
        "\n",
        "callbacks_list = [tensorboard]\n",
        "\n",
        "fit_history = train_model.fit(x=X_train,\n",
        "                              y=y_train,\n",
        "                              epochs=n_epochs,\n",
        "                              validation_split=0.1,\n",
        "                              validation_freq=1,\n",
        "                              batch_size=batch_size,\n",
        "                              callbacks=callbacks_list,\n",
        "                              verbose=1)"
      ],
      "metadata": {
        "colab": {
          "base_uri": "https://localhost:8080/"
        },
        "id": "jmmD9BhHXikH",
        "outputId": "9b4ab05c-065a-40c2-efe4-04c711fead2c"
      },
      "execution_count": 8,
      "outputs": [
        {
          "output_type": "stream",
          "name": "stdout",
          "text": [
            "Model: \"sequential\"\n",
            "_________________________________________________________________\n",
            " Layer (type)                Output Shape              Param #   \n",
            "=================================================================\n",
            " dense (Dense)               (None, 32)                320032    \n",
            "                                                                 \n",
            " batch_normalization (BatchN  (None, 32)               128       \n",
            " ormalization)                                                   \n",
            "                                                                 \n",
            " dropout (Dropout)           (None, 32)                0         \n",
            "                                                                 \n",
            " dense_1 (Dense)             (None, 32)                1056      \n",
            "                                                                 \n",
            " batch_normalization_1 (Batc  (None, 32)               128       \n",
            " hNormalization)                                                 \n",
            "                                                                 \n",
            " dropout_1 (Dropout)         (None, 32)                0         \n",
            "                                                                 \n",
            " dense_2 (Dense)             (None, 32)                1056      \n",
            "                                                                 \n",
            " batch_normalization_2 (Batc  (None, 32)               128       \n",
            " hNormalization)                                                 \n",
            "                                                                 \n",
            " dropout_2 (Dropout)         (None, 32)                0         \n",
            "                                                                 \n",
            " dense_3 (Dense)             (None, 1)                 33        \n",
            "                                                                 \n",
            "=================================================================\n",
            "Total params: 322,561\n",
            "Trainable params: 322,369\n",
            "Non-trainable params: 192\n",
            "_________________________________________________________________\n",
            "Epoch 1/100\n"
          ]
        },
        {
          "output_type": "stream",
          "name": "stderr",
          "text": [
            "/usr/local/lib/python3.7/dist-packages/tensorflow/python/util/dispatch.py:1082: UserWarning: \"`binary_crossentropy` received `from_logits=True`, but the `output` argument was produced by a sigmoid or softmax activation and thus does not represent logits. Was this intended?\"\n",
            "  return dispatch_target(*args, **kwargs)\n"
          ]
        },
        {
          "output_type": "stream",
          "name": "stdout",
          "text": [
            "176/176 [==============================] - 4s 14ms/step - loss: 2.0915 - binary_accuracy: 0.5153 - val_loss: 1.6079 - val_binary_accuracy: 0.5948\n",
            "Epoch 2/100\n",
            "176/176 [==============================] - 2s 13ms/step - loss: 1.6300 - binary_accuracy: 0.5626 - val_loss: 1.3371 - val_binary_accuracy: 0.8064\n",
            "Epoch 3/100\n",
            "176/176 [==============================] - 2s 13ms/step - loss: 1.2360 - binary_accuracy: 0.6750 - val_loss: 0.9648 - val_binary_accuracy: 0.8572\n",
            "Epoch 4/100\n",
            "176/176 [==============================] - 2s 13ms/step - loss: 0.9332 - binary_accuracy: 0.7784 - val_loss: 0.7284 - val_binary_accuracy: 0.8772\n",
            "Epoch 5/100\n",
            "176/176 [==============================] - 2s 13ms/step - loss: 0.7529 - binary_accuracy: 0.8330 - val_loss: 0.6201 - val_binary_accuracy: 0.8772\n",
            "Epoch 6/100\n",
            "176/176 [==============================] - 2s 13ms/step - loss: 0.6573 - binary_accuracy: 0.8555 - val_loss: 0.5786 - val_binary_accuracy: 0.8748\n",
            "Epoch 7/100\n",
            "176/176 [==============================] - 2s 13ms/step - loss: 0.6008 - binary_accuracy: 0.8724 - val_loss: 0.5393 - val_binary_accuracy: 0.8840\n",
            "Epoch 8/100\n",
            "176/176 [==============================] - 2s 13ms/step - loss: 0.5720 - binary_accuracy: 0.8799 - val_loss: 0.5265 - val_binary_accuracy: 0.8864\n",
            "Epoch 9/100\n",
            "176/176 [==============================] - 2s 13ms/step - loss: 0.5424 - binary_accuracy: 0.8868 - val_loss: 0.5336 - val_binary_accuracy: 0.8752\n",
            "Epoch 10/100\n",
            "176/176 [==============================] - 2s 13ms/step - loss: 0.5220 - binary_accuracy: 0.8908 - val_loss: 0.5208 - val_binary_accuracy: 0.8764\n",
            "Epoch 11/100\n",
            "176/176 [==============================] - 2s 13ms/step - loss: 0.5228 - binary_accuracy: 0.8909 - val_loss: 0.5212 - val_binary_accuracy: 0.8832\n",
            "Epoch 12/100\n",
            "176/176 [==============================] - 2s 13ms/step - loss: 0.5201 - binary_accuracy: 0.8933 - val_loss: 0.5240 - val_binary_accuracy: 0.8800\n",
            "Epoch 13/100\n",
            "176/176 [==============================] - 2s 13ms/step - loss: 0.5110 - binary_accuracy: 0.8948 - val_loss: 0.5249 - val_binary_accuracy: 0.8792\n",
            "Epoch 14/100\n",
            "176/176 [==============================] - 2s 13ms/step - loss: 0.5162 - binary_accuracy: 0.8964 - val_loss: 0.5210 - val_binary_accuracy: 0.8788\n",
            "Epoch 15/100\n",
            "176/176 [==============================] - 2s 14ms/step - loss: 0.5183 - binary_accuracy: 0.8958 - val_loss: 0.5308 - val_binary_accuracy: 0.8776\n",
            "Epoch 16/100\n",
            "176/176 [==============================] - 2s 13ms/step - loss: 0.5151 - binary_accuracy: 0.8950 - val_loss: 0.5168 - val_binary_accuracy: 0.8852\n",
            "Epoch 17/100\n",
            "176/176 [==============================] - 2s 13ms/step - loss: 0.5120 - binary_accuracy: 0.8967 - val_loss: 0.5536 - val_binary_accuracy: 0.8720\n",
            "Epoch 18/100\n",
            "176/176 [==============================] - 2s 14ms/step - loss: 0.5084 - binary_accuracy: 0.8963 - val_loss: 0.5513 - val_binary_accuracy: 0.8656\n",
            "Epoch 19/100\n",
            "176/176 [==============================] - 2s 14ms/step - loss: 0.5209 - binary_accuracy: 0.8936 - val_loss: 0.5227 - val_binary_accuracy: 0.8848\n",
            "Epoch 20/100\n",
            "176/176 [==============================] - 2s 13ms/step - loss: 0.5130 - binary_accuracy: 0.8943 - val_loss: 0.5303 - val_binary_accuracy: 0.8688\n",
            "Epoch 21/100\n",
            "176/176 [==============================] - 2s 13ms/step - loss: 0.5173 - binary_accuracy: 0.8948 - val_loss: 0.5589 - val_binary_accuracy: 0.8768\n",
            "Epoch 22/100\n",
            "176/176 [==============================] - 2s 13ms/step - loss: 0.5221 - binary_accuracy: 0.8958 - val_loss: 0.5391 - val_binary_accuracy: 0.8772\n",
            "Epoch 23/100\n",
            "176/176 [==============================] - 2s 13ms/step - loss: 0.5209 - binary_accuracy: 0.8960 - val_loss: 0.5227 - val_binary_accuracy: 0.8844\n",
            "Epoch 24/100\n",
            "176/176 [==============================] - 2s 14ms/step - loss: 0.5248 - binary_accuracy: 0.8956 - val_loss: 0.5325 - val_binary_accuracy: 0.8800\n",
            "Epoch 25/100\n",
            "176/176 [==============================] - 2s 14ms/step - loss: 0.5229 - binary_accuracy: 0.8952 - val_loss: 0.5509 - val_binary_accuracy: 0.8800\n",
            "Epoch 26/100\n",
            "176/176 [==============================] - 2s 13ms/step - loss: 0.5141 - binary_accuracy: 0.8946 - val_loss: 0.5298 - val_binary_accuracy: 0.8776\n",
            "Epoch 27/100\n",
            "176/176 [==============================] - 3s 15ms/step - loss: 0.5132 - binary_accuracy: 0.8956 - val_loss: 0.5205 - val_binary_accuracy: 0.8840\n",
            "Epoch 28/100\n",
            "176/176 [==============================] - 3s 15ms/step - loss: 0.5130 - binary_accuracy: 0.8940 - val_loss: 0.5031 - val_binary_accuracy: 0.8856\n",
            "Epoch 29/100\n",
            "176/176 [==============================] - 2s 13ms/step - loss: 0.5027 - binary_accuracy: 0.8944 - val_loss: 0.5313 - val_binary_accuracy: 0.8768\n",
            "Epoch 30/100\n",
            "176/176 [==============================] - 2s 13ms/step - loss: 0.5087 - binary_accuracy: 0.8953 - val_loss: 0.5221 - val_binary_accuracy: 0.8780\n",
            "Epoch 31/100\n",
            "176/176 [==============================] - 2s 14ms/step - loss: 0.5177 - binary_accuracy: 0.8961 - val_loss: 0.5240 - val_binary_accuracy: 0.8792\n",
            "Epoch 32/100\n",
            "176/176 [==============================] - 2s 14ms/step - loss: 0.5162 - binary_accuracy: 0.8943 - val_loss: 0.5407 - val_binary_accuracy: 0.8744\n",
            "Epoch 33/100\n",
            "176/176 [==============================] - 2s 13ms/step - loss: 0.5048 - binary_accuracy: 0.8953 - val_loss: 0.5157 - val_binary_accuracy: 0.8844\n",
            "Epoch 34/100\n",
            "176/176 [==============================] - 2s 13ms/step - loss: 0.5064 - binary_accuracy: 0.8974 - val_loss: 0.5208 - val_binary_accuracy: 0.8848\n",
            "Epoch 35/100\n",
            "176/176 [==============================] - 2s 13ms/step - loss: 0.5189 - binary_accuracy: 0.8935 - val_loss: 0.5201 - val_binary_accuracy: 0.8820\n",
            "Epoch 36/100\n",
            "176/176 [==============================] - 2s 13ms/step - loss: 0.5009 - binary_accuracy: 0.8973 - val_loss: 0.5122 - val_binary_accuracy: 0.8856\n",
            "Epoch 37/100\n",
            "176/176 [==============================] - 2s 13ms/step - loss: 0.5039 - binary_accuracy: 0.8952 - val_loss: 0.5238 - val_binary_accuracy: 0.8776\n",
            "Epoch 38/100\n",
            "176/176 [==============================] - 2s 13ms/step - loss: 0.5053 - binary_accuracy: 0.8974 - val_loss: 0.5245 - val_binary_accuracy: 0.8764\n",
            "Epoch 39/100\n",
            "176/176 [==============================] - 2s 13ms/step - loss: 0.5084 - binary_accuracy: 0.8980 - val_loss: 0.5250 - val_binary_accuracy: 0.8728\n",
            "Epoch 40/100\n",
            "176/176 [==============================] - 2s 13ms/step - loss: 0.5157 - binary_accuracy: 0.8936 - val_loss: 0.5220 - val_binary_accuracy: 0.8796\n",
            "Epoch 41/100\n",
            "176/176 [==============================] - 2s 13ms/step - loss: 0.5040 - binary_accuracy: 0.8951 - val_loss: 0.5293 - val_binary_accuracy: 0.8740\n",
            "Epoch 42/100\n",
            "176/176 [==============================] - 2s 13ms/step - loss: 0.5101 - binary_accuracy: 0.8975 - val_loss: 0.5203 - val_binary_accuracy: 0.8856\n",
            "Epoch 43/100\n",
            "176/176 [==============================] - 2s 13ms/step - loss: 0.5122 - binary_accuracy: 0.8948 - val_loss: 0.5283 - val_binary_accuracy: 0.8684\n",
            "Epoch 44/100\n",
            "176/176 [==============================] - 3s 15ms/step - loss: 0.5011 - binary_accuracy: 0.8944 - val_loss: 0.5166 - val_binary_accuracy: 0.8844\n",
            "Epoch 45/100\n",
            "176/176 [==============================] - 3s 17ms/step - loss: 0.5009 - binary_accuracy: 0.8942 - val_loss: 0.5184 - val_binary_accuracy: 0.8752\n",
            "Epoch 46/100\n",
            "176/176 [==============================] - 2s 13ms/step - loss: 0.5127 - binary_accuracy: 0.8950 - val_loss: 0.5278 - val_binary_accuracy: 0.8812\n",
            "Epoch 47/100\n",
            "176/176 [==============================] - 2s 13ms/step - loss: 0.5133 - binary_accuracy: 0.8964 - val_loss: 0.5188 - val_binary_accuracy: 0.8768\n",
            "Epoch 48/100\n",
            "176/176 [==============================] - 2s 13ms/step - loss: 0.5022 - binary_accuracy: 0.8961 - val_loss: 0.5133 - val_binary_accuracy: 0.8752\n",
            "Epoch 49/100\n",
            "176/176 [==============================] - 2s 14ms/step - loss: 0.4891 - binary_accuracy: 0.8978 - val_loss: 0.5185 - val_binary_accuracy: 0.8748\n",
            "Epoch 50/100\n",
            "176/176 [==============================] - 2s 13ms/step - loss: 0.4974 - binary_accuracy: 0.8964 - val_loss: 0.4834 - val_binary_accuracy: 0.8832\n",
            "Epoch 51/100\n",
            "176/176 [==============================] - 2s 13ms/step - loss: 0.4943 - binary_accuracy: 0.8969 - val_loss: 0.5019 - val_binary_accuracy: 0.8840\n",
            "Epoch 52/100\n",
            "176/176 [==============================] - 2s 14ms/step - loss: 0.5016 - binary_accuracy: 0.8950 - val_loss: 0.5100 - val_binary_accuracy: 0.8820\n",
            "Epoch 53/100\n",
            "176/176 [==============================] - 2s 13ms/step - loss: 0.4851 - binary_accuracy: 0.8972 - val_loss: 0.5241 - val_binary_accuracy: 0.8680\n",
            "Epoch 54/100\n",
            "176/176 [==============================] - 2s 13ms/step - loss: 0.4860 - binary_accuracy: 0.8984 - val_loss: 0.5256 - val_binary_accuracy: 0.8760\n",
            "Epoch 55/100\n",
            "176/176 [==============================] - 2s 13ms/step - loss: 0.5010 - binary_accuracy: 0.8925 - val_loss: 0.5335 - val_binary_accuracy: 0.8780\n",
            "Epoch 56/100\n",
            "176/176 [==============================] - 2s 14ms/step - loss: 0.5051 - binary_accuracy: 0.8987 - val_loss: 0.5104 - val_binary_accuracy: 0.8808\n",
            "Epoch 57/100\n",
            "176/176 [==============================] - 2s 13ms/step - loss: 0.4987 - binary_accuracy: 0.8990 - val_loss: 0.5092 - val_binary_accuracy: 0.8828\n",
            "Epoch 58/100\n",
            "176/176 [==============================] - 2s 13ms/step - loss: 0.4965 - binary_accuracy: 0.8980 - val_loss: 0.5030 - val_binary_accuracy: 0.8828\n",
            "Epoch 59/100\n",
            "176/176 [==============================] - 2s 13ms/step - loss: 0.4940 - binary_accuracy: 0.8996 - val_loss: 0.5067 - val_binary_accuracy: 0.8820\n",
            "Epoch 60/100\n",
            "176/176 [==============================] - 2s 13ms/step - loss: 0.4906 - binary_accuracy: 0.8966 - val_loss: 0.4960 - val_binary_accuracy: 0.8852\n",
            "Epoch 61/100\n",
            "176/176 [==============================] - 2s 14ms/step - loss: 0.4965 - binary_accuracy: 0.8944 - val_loss: 0.5043 - val_binary_accuracy: 0.8852\n",
            "Epoch 62/100\n",
            "176/176 [==============================] - 2s 14ms/step - loss: 0.4925 - binary_accuracy: 0.8992 - val_loss: 0.4935 - val_binary_accuracy: 0.8856\n",
            "Epoch 63/100\n",
            "176/176 [==============================] - 2s 13ms/step - loss: 0.4893 - binary_accuracy: 0.8982 - val_loss: 0.5047 - val_binary_accuracy: 0.8808\n",
            "Epoch 64/100\n",
            "176/176 [==============================] - 2s 14ms/step - loss: 0.4983 - binary_accuracy: 0.8961 - val_loss: 0.5168 - val_binary_accuracy: 0.8776\n",
            "Epoch 65/100\n",
            "176/176 [==============================] - 2s 13ms/step - loss: 0.4883 - binary_accuracy: 0.8994 - val_loss: 0.5112 - val_binary_accuracy: 0.8884\n",
            "Epoch 66/100\n",
            "176/176 [==============================] - 2s 14ms/step - loss: 0.4909 - binary_accuracy: 0.8969 - val_loss: 0.5236 - val_binary_accuracy: 0.8780\n",
            "Epoch 67/100\n",
            "176/176 [==============================] - 2s 14ms/step - loss: 0.4928 - binary_accuracy: 0.8983 - val_loss: 0.5063 - val_binary_accuracy: 0.8796\n",
            "Epoch 68/100\n",
            "176/176 [==============================] - 2s 14ms/step - loss: 0.4948 - binary_accuracy: 0.8987 - val_loss: 0.4942 - val_binary_accuracy: 0.8812\n",
            "Epoch 69/100\n",
            "176/176 [==============================] - 2s 13ms/step - loss: 0.4794 - binary_accuracy: 0.8984 - val_loss: 0.5245 - val_binary_accuracy: 0.8844\n",
            "Epoch 70/100\n",
            "176/176 [==============================] - 2s 13ms/step - loss: 0.4961 - binary_accuracy: 0.8960 - val_loss: 0.5176 - val_binary_accuracy: 0.8776\n",
            "Epoch 71/100\n",
            "176/176 [==============================] - 2s 13ms/step - loss: 0.4975 - binary_accuracy: 0.8999 - val_loss: 0.5192 - val_binary_accuracy: 0.8788\n",
            "Epoch 72/100\n",
            "176/176 [==============================] - 2s 13ms/step - loss: 0.4916 - binary_accuracy: 0.8988 - val_loss: 0.5294 - val_binary_accuracy: 0.8768\n",
            "Epoch 73/100\n",
            "176/176 [==============================] - 2s 13ms/step - loss: 0.4916 - binary_accuracy: 0.8989 - val_loss: 0.5022 - val_binary_accuracy: 0.8880\n",
            "Epoch 74/100\n",
            "176/176 [==============================] - 2s 13ms/step - loss: 0.4879 - binary_accuracy: 0.8992 - val_loss: 0.5078 - val_binary_accuracy: 0.8836\n",
            "Epoch 75/100\n",
            "176/176 [==============================] - 2s 13ms/step - loss: 0.4830 - binary_accuracy: 0.9020 - val_loss: 0.5031 - val_binary_accuracy: 0.8820\n",
            "Epoch 76/100\n",
            "176/176 [==============================] - 2s 13ms/step - loss: 0.4834 - binary_accuracy: 0.8989 - val_loss: 0.5059 - val_binary_accuracy: 0.8844\n",
            "Epoch 77/100\n",
            "176/176 [==============================] - 2s 13ms/step - loss: 0.4838 - binary_accuracy: 0.9012 - val_loss: 0.5037 - val_binary_accuracy: 0.8832\n",
            "Epoch 78/100\n",
            "176/176 [==============================] - 2s 14ms/step - loss: 0.4796 - binary_accuracy: 0.8993 - val_loss: 0.5146 - val_binary_accuracy: 0.8884\n",
            "Epoch 79/100\n",
            "176/176 [==============================] - 2s 13ms/step - loss: 0.4946 - binary_accuracy: 0.8976 - val_loss: 0.5364 - val_binary_accuracy: 0.8712\n",
            "Epoch 80/100\n",
            "176/176 [==============================] - 2s 13ms/step - loss: 0.4884 - binary_accuracy: 0.8990 - val_loss: 0.4984 - val_binary_accuracy: 0.8836\n",
            "Epoch 81/100\n",
            "176/176 [==============================] - 2s 13ms/step - loss: 0.4784 - binary_accuracy: 0.8995 - val_loss: 0.5019 - val_binary_accuracy: 0.8776\n",
            "Epoch 82/100\n",
            "176/176 [==============================] - 2s 13ms/step - loss: 0.4864 - binary_accuracy: 0.8988 - val_loss: 0.5147 - val_binary_accuracy: 0.8784\n",
            "Epoch 83/100\n",
            "176/176 [==============================] - 2s 14ms/step - loss: 0.4950 - binary_accuracy: 0.8948 - val_loss: 0.4918 - val_binary_accuracy: 0.8856\n",
            "Epoch 84/100\n",
            "176/176 [==============================] - 2s 13ms/step - loss: 0.4810 - binary_accuracy: 0.9001 - val_loss: 0.5132 - val_binary_accuracy: 0.8780\n",
            "Epoch 85/100\n",
            "176/176 [==============================] - 2s 14ms/step - loss: 0.4830 - binary_accuracy: 0.9018 - val_loss: 0.5150 - val_binary_accuracy: 0.8772\n",
            "Epoch 86/100\n",
            "176/176 [==============================] - 2s 13ms/step - loss: 0.4833 - binary_accuracy: 0.9016 - val_loss: 0.5272 - val_binary_accuracy: 0.8740\n",
            "Epoch 87/100\n",
            "176/176 [==============================] - 2s 13ms/step - loss: 0.4786 - binary_accuracy: 0.9019 - val_loss: 0.5020 - val_binary_accuracy: 0.8788\n",
            "Epoch 88/100\n",
            "176/176 [==============================] - 2s 13ms/step - loss: 0.4875 - binary_accuracy: 0.8988 - val_loss: 0.5099 - val_binary_accuracy: 0.8828\n",
            "Epoch 89/100\n",
            "176/176 [==============================] - 2s 13ms/step - loss: 0.4837 - binary_accuracy: 0.9014 - val_loss: 0.5168 - val_binary_accuracy: 0.8712\n",
            "Epoch 90/100\n",
            "176/176 [==============================] - 2s 14ms/step - loss: 0.4865 - binary_accuracy: 0.9003 - val_loss: 0.4999 - val_binary_accuracy: 0.8808\n",
            "Epoch 91/100\n",
            "176/176 [==============================] - 2s 13ms/step - loss: 0.4815 - binary_accuracy: 0.8996 - val_loss: 0.4921 - val_binary_accuracy: 0.8820\n",
            "Epoch 92/100\n",
            "176/176 [==============================] - 2s 14ms/step - loss: 0.4674 - binary_accuracy: 0.9023 - val_loss: 0.4959 - val_binary_accuracy: 0.8836\n",
            "Epoch 93/100\n",
            "176/176 [==============================] - 2s 14ms/step - loss: 0.4798 - binary_accuracy: 0.8968 - val_loss: 0.4889 - val_binary_accuracy: 0.8848\n",
            "Epoch 94/100\n",
            "176/176 [==============================] - 2s 14ms/step - loss: 0.4766 - binary_accuracy: 0.8985 - val_loss: 0.5132 - val_binary_accuracy: 0.8752\n",
            "Epoch 95/100\n",
            "176/176 [==============================] - 2s 14ms/step - loss: 0.4792 - binary_accuracy: 0.9024 - val_loss: 0.4951 - val_binary_accuracy: 0.8848\n",
            "Epoch 96/100\n",
            "176/176 [==============================] - 2s 13ms/step - loss: 0.4795 - binary_accuracy: 0.8981 - val_loss: 0.4942 - val_binary_accuracy: 0.8860\n",
            "Epoch 97/100\n",
            "176/176 [==============================] - 2s 13ms/step - loss: 0.4851 - binary_accuracy: 0.8988 - val_loss: 0.5026 - val_binary_accuracy: 0.8840\n",
            "Epoch 98/100\n",
            "176/176 [==============================] - 2s 13ms/step - loss: 0.4785 - binary_accuracy: 0.9000 - val_loss: 0.4937 - val_binary_accuracy: 0.8888\n",
            "Epoch 99/100\n",
            "176/176 [==============================] - 2s 13ms/step - loss: 0.4774 - binary_accuracy: 0.9006 - val_loss: 0.5010 - val_binary_accuracy: 0.8896\n",
            "Epoch 100/100\n",
            "176/176 [==============================] - 2s 13ms/step - loss: 0.4787 - binary_accuracy: 0.8996 - val_loss: 0.4995 - val_binary_accuracy: 0.8760\n"
          ]
        }
      ]
    },
    {
      "cell_type": "code",
      "source": [
        "fig, ax = plt.subplots(figsize=(10, 8))\n",
        "ax = plt.plot(fit_history.history['binary_accuracy'], label='Train')\n",
        "ax = plt.plot(fit_history.history['val_binary_accuracy'], label='Validation')\n",
        "ax = plt.xlabel('Epochs')\n",
        "ax = plt.ylabel('Accuracy')\n",
        "ax = plt.legend()"
      ],
      "metadata": {
        "colab": {
          "base_uri": "https://localhost:8080/",
          "height": 497
        },
        "id": "p5Pd6Kz-FVlq",
        "outputId": "31160ecc-e82a-4f44-bd90-8048a7ee11d1"
      },
      "execution_count": 9,
      "outputs": [
        {
          "output_type": "display_data",
          "data": {
            "text/plain": [
              "<Figure size 720x576 with 1 Axes>"
            ],
            "image/png": "[encoded data removed]"
          },
          "metadata": {
            "needs_background": "light"
          }
        }
      ]
    },
    {
      "cell_type": "code",
      "source": [
        "fig, ax = plt.subplots(figsize=(10, 8))\n",
        "ax = plt.plot(fit_history.history['loss'], label='Train')\n",
        "ax = plt.plot(fit_history.history['val_loss'], label='Validation')\n",
        "ax = plt.xlabel('Epochs')\n",
        "ax = plt.ylabel('Loss')\n",
        "ax = plt.title('Loss')\n",
        "ax = plt.legend()"
      ],
      "metadata": {
        "colab": {
          "base_uri": "https://localhost:8080/",
          "height": 513
        },
        "id": "HlXqMOt9FiXF",
        "outputId": "56f0c9a2-6e56-48c6-e0d6-c14ce05a3146"
      },
      "execution_count": 10,
      "outputs": [
        {
          "output_type": "display_data",
          "data": {
            "text/plain": [
              "<Figure size 720x576 with 1 Axes>"
            ],
            "image/png": "[encoded data removed]"
          },
          "metadata": {
            "needs_background": "light"
          }
        }
      ]
    }
  ]
}