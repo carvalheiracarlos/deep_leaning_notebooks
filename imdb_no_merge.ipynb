{
  "nbformat": 4,
  "nbformat_minor": 0,
  "metadata": {
    "colab": {
      "provenance": [],
      "authorship_tag": "ABX9TyNx3DRPqMFHXvtGBqRTTSlf",
      "include_colab_link": true
    },
    "kernelspec": {
      "name": "python3",
      "display_name": "Python 3"
    },
    "language_info": {
      "name": "python"
    }
  },
  "cells": [
    {
      "cell_type": "markdown",
      "metadata": {
        "id": "view-in-github",
        "colab_type": "text"
      },
      "source": [
        "<a href=\"https://colab.research.google.com/github/carvalheiracarlos/deep_leaning_notebooks/blob/main/imdb_no_merge.ipynb\" target=\"_parent\"><img src=\"https://colab.research.google.com/assets/colab-badge.svg\" alt=\"Open In Colab\"/></a>"
      ]
    },
    {
      "cell_type": "code",
      "execution_count": 1,
      "metadata": {
        "id": "t9d1db2aB0ZW"
      },
      "outputs": [],
      "source": [
        "import numpy as np\n",
        "import matplotlib.pyplot as plt\n",
        "import tensorflow as tf"
      ]
    },
    {
      "cell_type": "code",
      "source": [
        "(X_train, y_train), (X_test, y_test) = tf.keras.datasets.imdb.load_data(num_words=10000)"
      ],
      "metadata": {
        "id": "4azctbIeCDPf"
      },
      "execution_count": 2,
      "outputs": []
    },
    {
      "cell_type": "code",
      "source": [
        "'''\n",
        "Probably need to merge this X_train and X_test, \n",
        "than partition again in some better proportion(train: 80% | test: 20%).\n",
        "\n",
        "Fill review arrarys with zeros to have same lenght.\n",
        "'''\n",
        "print(f'Train Sets Shapes.....X_train: {X_train.shape}')\n",
        "print(f'Train Sets Shapes.....y_train: {y_train.shape}')\n",
        "print(f'Train Sets Largest Review Size: {max([max(review) for review in X_train])}')\n",
        "print(f'Tests Sets Shapes.....X_test: {X_test.shape}')\n",
        "print(f'Tests Sets Shapes.....y_test: {y_test.shape}')\n",
        "print(f'Train Sets Largest Review Size: {max([max(review) for review in X_test])}')"
      ],
      "metadata": {
        "colab": {
          "base_uri": "https://localhost:8080/"
        },
        "id": "_8bpZO37Sd81",
        "outputId": "42f72827-79b9-4fc4-925d-22774873bd29"
      },
      "execution_count": 3,
      "outputs": [
        {
          "output_type": "stream",
          "name": "stdout",
          "text": [
            "Train Sets Shapes.....X_train: (25000,)\n",
            "Train Sets Shapes.....y_train: (25000,)\n",
            "Train Sets Largest Review Size: 9999\n",
            "Tests Sets Shapes.....X_test: (25000,)\n",
            "Tests Sets Shapes.....y_test: (25000,)\n",
            "Train Sets Largest Review Size: 9999\n"
          ]
        }
      ]
    },
    {
      "cell_type": "code",
      "source": [
        "# Thanks to https://github.com/kashif/tf-keras-tutorial/blob/tf2/3-imdb.ipynb\n",
        "def vectorize_sequences(sequences, dimension=10000):\n",
        "    results = np.zeros((len(sequences), dimension), dtype=np.float32)\n",
        "    for i, sequence in enumerate(sequences):\n",
        "        results[i, sequence] = 1.\n",
        "    return results\n",
        "\n",
        "X_train = vectorize_sequences(X_train)\n",
        "X_test = vectorize_sequences(X_test)"
      ],
      "metadata": {
        "id": "4YAhBD1x7POE"
      },
      "execution_count": 4,
      "outputs": []
    },
    {
      "cell_type": "code",
      "source": [
        "# Thanks to https://github.com/kashif/tf-keras-tutorial/blob/tf2/3-imdb.ipynb\n",
        "y_train = np.reshape(np.asarray(y_train, dtype=np.float32), (len(X_train), 1))\n",
        "y_test = np.reshape(np.asarray(y_test, dtype=np.float32), (len(X_test), 1))"
      ],
      "metadata": {
        "id": "HN8wLLHo-CCS"
      },
      "execution_count": 5,
      "outputs": []
    },
    {
      "cell_type": "code",
      "source": [
        "class DenseNet:\n",
        "  @staticmethod\n",
        "  def build(input_shape, \n",
        "            n_classes, \n",
        "            activation='relu', \n",
        "            weights_path=None):\n",
        "\n",
        "    model = tf.keras.models.Sequential()\n",
        "    model.add(tf.keras.layers.Dense(16, activation=activation, input_shape=input_shape, kernel_regularizer=tf.keras.regularizers.l2(0.01)))\n",
        "    model.add(tf.keras.layers.BatchNormalization())\n",
        "    model.add(tf.keras.layers.Dropout(0.6))\n",
        "\n",
        "    model.add(tf.keras.layers.Dense(32, activation=activation, kernel_regularizer=tf.keras.regularizers.l2(0.01)))\n",
        "    model.add(tf.keras.layers.BatchNormalization())\n",
        "    model.add(tf.keras.layers.Dropout(0.6))\n",
        "\n",
        "    model.add(tf.keras.layers.Dense(n_classes, activation='sigmoid'))\n",
        "\n",
        "    # if a weights path is supplied (inicating that the model was\n",
        "    # pre-trained), then load the weights\n",
        "    if weights_path is not None:\n",
        "      model.load_weights(weights_path)\n",
        "    \n",
        "    return model"
      ],
      "metadata": {
        "id": "MfjP15KQWpJu"
      },
      "execution_count": 6,
      "outputs": []
    },
    {
      "cell_type": "code",
      "source": [
        "n_epochs = 100 \n",
        "ini_learning_rate = 1e-3\n",
        "batch_size=128"
      ],
      "metadata": {
        "id": "kBC_rlcnXrsB"
      },
      "execution_count": 7,
      "outputs": []
    },
    {
      "cell_type": "code",
      "source": [
        "train_model = DenseNet.build(input_shape=(10000, ), \n",
        "                             n_classes=1, \n",
        "                             activation='relu', \n",
        "                             weights_path=None)\n",
        "\n",
        "opt = tf.keras.optimizers.Adam(learning_rate=ini_learning_rate,\n",
        "                               beta_1=0.9, \n",
        "                               beta_2=0.999, \n",
        "                               epsilon=1e-08,\n",
        "                               decay=ini_learning_rate/n_epochs)\n",
        "\n",
        "train_model.compile(loss=tf.keras.losses.BinaryCrossentropy(from_logits=True), \n",
        "                    optimizer=opt, \n",
        "                    metrics=[tf.keras.metrics.BinaryAccuracy()])\n",
        "\n",
        "train_model.summary()\n",
        "\n",
        "tensorboard = tf.keras.callbacks.TensorBoard('./logs/fit/',\n",
        "                                          write_images=True)\n",
        "\n",
        "callbacks_list = [tensorboard]\n",
        "\n",
        "fit_history = train_model.fit(x=X_train,\n",
        "                              y=y_train,\n",
        "                              epochs=n_epochs,\n",
        "                              validation_split=0.4,\n",
        "                              validation_freq=1,\n",
        "                              batch_size=batch_size,\n",
        "                              callbacks=callbacks_list,\n",
        "                              verbose=1)"
      ],
      "metadata": {
        "colab": {
          "base_uri": "https://localhost:8080/"
        },
        "id": "jmmD9BhHXikH",
        "outputId": "844abe6f-cd7d-4443-a20a-a1619b6e8955"
      },
      "execution_count": 8,
      "outputs": [
        {
          "output_type": "stream",
          "name": "stdout",
          "text": [
            "Model: \"sequential\"\n",
            "_________________________________________________________________\n",
            " Layer (type)                Output Shape              Param #   \n",
            "=================================================================\n",
            " dense (Dense)               (None, 16)                160016    \n",
            "                                                                 \n",
            " batch_normalization (BatchN  (None, 16)               64        \n",
            " ormalization)                                                   \n",
            "                                                                 \n",
            " dropout (Dropout)           (None, 16)                0         \n",
            "                                                                 \n",
            " dense_1 (Dense)             (None, 32)                544       \n",
            "                                                                 \n",
            " batch_normalization_1 (Batc  (None, 32)               128       \n",
            " hNormalization)                                                 \n",
            "                                                                 \n",
            " dropout_1 (Dropout)         (None, 32)                0         \n",
            "                                                                 \n",
            " dense_2 (Dense)             (None, 1)                 33        \n",
            "                                                                 \n",
            "=================================================================\n",
            "Total params: 160,785\n",
            "Trainable params: 160,689\n",
            "Non-trainable params: 96\n",
            "_________________________________________________________________\n",
            "Epoch 1/100\n"
          ]
        },
        {
          "output_type": "stream",
          "name": "stderr",
          "text": [
            "/usr/local/lib/python3.7/dist-packages/tensorflow/python/util/dispatch.py:1082: UserWarning: \"`binary_crossentropy` received `from_logits=True`, but the `output` argument was produced by a sigmoid or softmax activation and thus does not represent logits. Was this intended?\"\n",
            "  return dispatch_target(*args, **kwargs)\n"
          ]
        },
        {
          "output_type": "stream",
          "name": "stdout",
          "text": [
            "118/118 [==============================] - 3s 14ms/step - loss: 1.0671 - binary_accuracy: 0.6188 - val_loss: 0.8955 - val_binary_accuracy: 0.8430\n",
            "Epoch 2/100\n",
            "118/118 [==============================] - 1s 12ms/step - loss: 0.7139 - binary_accuracy: 0.8092 - val_loss: 0.6283 - val_binary_accuracy: 0.8778\n",
            "Epoch 3/100\n",
            "118/118 [==============================] - 1s 13ms/step - loss: 0.5609 - binary_accuracy: 0.8644 - val_loss: 0.5084 - val_binary_accuracy: 0.8795\n",
            "Epoch 4/100\n",
            "118/118 [==============================] - 1s 12ms/step - loss: 0.4762 - binary_accuracy: 0.8897 - val_loss: 0.4759 - val_binary_accuracy: 0.8835\n",
            "Epoch 5/100\n",
            "118/118 [==============================] - 2s 13ms/step - loss: 0.4402 - binary_accuracy: 0.9011 - val_loss: 0.4993 - val_binary_accuracy: 0.8699\n",
            "Epoch 6/100\n",
            "118/118 [==============================] - 1s 13ms/step - loss: 0.4285 - binary_accuracy: 0.9071 - val_loss: 0.4876 - val_binary_accuracy: 0.8762\n",
            "Epoch 7/100\n",
            "118/118 [==============================] - 2s 13ms/step - loss: 0.4114 - binary_accuracy: 0.9083 - val_loss: 0.4759 - val_binary_accuracy: 0.8791\n",
            "Epoch 8/100\n",
            "118/118 [==============================] - 1s 13ms/step - loss: 0.4135 - binary_accuracy: 0.9099 - val_loss: 0.4805 - val_binary_accuracy: 0.8787\n",
            "Epoch 9/100\n",
            "118/118 [==============================] - 1s 12ms/step - loss: 0.4032 - binary_accuracy: 0.9149 - val_loss: 0.4873 - val_binary_accuracy: 0.8819\n",
            "Epoch 10/100\n",
            "118/118 [==============================] - 1s 13ms/step - loss: 0.4036 - binary_accuracy: 0.9163 - val_loss: 0.4874 - val_binary_accuracy: 0.8749\n",
            "Epoch 11/100\n",
            "118/118 [==============================] - 1s 12ms/step - loss: 0.3941 - binary_accuracy: 0.9167 - val_loss: 0.4952 - val_binary_accuracy: 0.8763\n",
            "Epoch 12/100\n",
            "118/118 [==============================] - 1s 12ms/step - loss: 0.4030 - binary_accuracy: 0.9141 - val_loss: 0.4888 - val_binary_accuracy: 0.8781\n",
            "Epoch 13/100\n",
            "118/118 [==============================] - 1s 12ms/step - loss: 0.4019 - binary_accuracy: 0.9155 - val_loss: 0.4923 - val_binary_accuracy: 0.8789\n",
            "Epoch 14/100\n",
            "118/118 [==============================] - 2s 14ms/step - loss: 0.4034 - binary_accuracy: 0.9145 - val_loss: 0.4813 - val_binary_accuracy: 0.8797\n",
            "Epoch 15/100\n",
            "118/118 [==============================] - 2s 19ms/step - loss: 0.3953 - binary_accuracy: 0.9164 - val_loss: 0.4915 - val_binary_accuracy: 0.8762\n",
            "Epoch 16/100\n",
            "118/118 [==============================] - 1s 12ms/step - loss: 0.4035 - binary_accuracy: 0.9171 - val_loss: 0.5535 - val_binary_accuracy: 0.8607\n",
            "Epoch 17/100\n",
            "118/118 [==============================] - 2s 13ms/step - loss: 0.3976 - binary_accuracy: 0.9166 - val_loss: 0.5030 - val_binary_accuracy: 0.8713\n",
            "Epoch 18/100\n",
            "118/118 [==============================] - 1s 12ms/step - loss: 0.3873 - binary_accuracy: 0.9183 - val_loss: 0.4859 - val_binary_accuracy: 0.8762\n",
            "Epoch 19/100\n",
            "118/118 [==============================] - 1s 12ms/step - loss: 0.3901 - binary_accuracy: 0.9211 - val_loss: 0.5037 - val_binary_accuracy: 0.8729\n",
            "Epoch 20/100\n",
            "118/118 [==============================] - 2s 13ms/step - loss: 0.4044 - binary_accuracy: 0.9151 - val_loss: 0.4916 - val_binary_accuracy: 0.8732\n",
            "Epoch 21/100\n",
            "118/118 [==============================] - 1s 12ms/step - loss: 0.3869 - binary_accuracy: 0.9204 - val_loss: 0.5328 - val_binary_accuracy: 0.8701\n",
            "Epoch 22/100\n",
            "118/118 [==============================] - 2s 13ms/step - loss: 0.4045 - binary_accuracy: 0.9158 - val_loss: 0.4992 - val_binary_accuracy: 0.8764\n",
            "Epoch 23/100\n",
            "118/118 [==============================] - 1s 12ms/step - loss: 0.4006 - binary_accuracy: 0.9177 - val_loss: 0.4976 - val_binary_accuracy: 0.8755\n",
            "Epoch 24/100\n",
            "118/118 [==============================] - 1s 12ms/step - loss: 0.4030 - binary_accuracy: 0.9183 - val_loss: 0.5209 - val_binary_accuracy: 0.8676\n",
            "Epoch 25/100\n",
            "118/118 [==============================] - 1s 12ms/step - loss: 0.3949 - binary_accuracy: 0.9185 - val_loss: 0.5118 - val_binary_accuracy: 0.8689\n",
            "Epoch 26/100\n",
            "118/118 [==============================] - 1s 12ms/step - loss: 0.4016 - binary_accuracy: 0.9181 - val_loss: 0.5122 - val_binary_accuracy: 0.8748\n",
            "Epoch 27/100\n",
            "118/118 [==============================] - 2s 15ms/step - loss: 0.4081 - binary_accuracy: 0.9154 - val_loss: 0.5661 - val_binary_accuracy: 0.8552\n",
            "Epoch 28/100\n",
            "118/118 [==============================] - 1s 12ms/step - loss: 0.4058 - binary_accuracy: 0.9169 - val_loss: 0.5098 - val_binary_accuracy: 0.8759\n",
            "Epoch 29/100\n",
            "118/118 [==============================] - 1s 12ms/step - loss: 0.3876 - binary_accuracy: 0.9189 - val_loss: 0.5106 - val_binary_accuracy: 0.8659\n",
            "Epoch 30/100\n",
            "118/118 [==============================] - 1s 12ms/step - loss: 0.4037 - binary_accuracy: 0.9155 - val_loss: 0.5211 - val_binary_accuracy: 0.8721\n",
            "Epoch 31/100\n",
            "118/118 [==============================] - 1s 12ms/step - loss: 0.4065 - binary_accuracy: 0.9168 - val_loss: 0.5046 - val_binary_accuracy: 0.8761\n",
            "Epoch 32/100\n",
            "118/118 [==============================] - 1s 12ms/step - loss: 0.3999 - binary_accuracy: 0.9179 - val_loss: 0.5132 - val_binary_accuracy: 0.8729\n",
            "Epoch 33/100\n",
            "118/118 [==============================] - 2s 15ms/step - loss: 0.4099 - binary_accuracy: 0.9137 - val_loss: 0.5132 - val_binary_accuracy: 0.8728\n",
            "Epoch 34/100\n",
            "118/118 [==============================] - 1s 12ms/step - loss: 0.4031 - binary_accuracy: 0.9147 - val_loss: 0.4917 - val_binary_accuracy: 0.8729\n",
            "Epoch 35/100\n",
            "118/118 [==============================] - 1s 12ms/step - loss: 0.4005 - binary_accuracy: 0.9181 - val_loss: 0.4960 - val_binary_accuracy: 0.8747\n",
            "Epoch 36/100\n",
            "118/118 [==============================] - 2s 15ms/step - loss: 0.3931 - binary_accuracy: 0.9203 - val_loss: 0.5110 - val_binary_accuracy: 0.8735\n",
            "Epoch 37/100\n",
            "118/118 [==============================] - 1s 12ms/step - loss: 0.4033 - binary_accuracy: 0.9163 - val_loss: 0.5195 - val_binary_accuracy: 0.8685\n",
            "Epoch 38/100\n",
            "118/118 [==============================] - 1s 12ms/step - loss: 0.4032 - binary_accuracy: 0.9181 - val_loss: 0.5047 - val_binary_accuracy: 0.8746\n",
            "Epoch 39/100\n",
            "118/118 [==============================] - 1s 12ms/step - loss: 0.3996 - binary_accuracy: 0.9179 - val_loss: 0.5051 - val_binary_accuracy: 0.8770\n",
            "Epoch 40/100\n",
            "118/118 [==============================] - 1s 12ms/step - loss: 0.3873 - binary_accuracy: 0.9215 - val_loss: 0.4962 - val_binary_accuracy: 0.8716\n",
            "Epoch 41/100\n",
            "118/118 [==============================] - 1s 12ms/step - loss: 0.4090 - binary_accuracy: 0.9151 - val_loss: 0.5347 - val_binary_accuracy: 0.8701\n",
            "Epoch 42/100\n",
            "118/118 [==============================] - 1s 12ms/step - loss: 0.4104 - binary_accuracy: 0.9159 - val_loss: 0.5157 - val_binary_accuracy: 0.8757\n",
            "Epoch 43/100\n",
            "118/118 [==============================] - 1s 12ms/step - loss: 0.3972 - binary_accuracy: 0.9185 - val_loss: 0.4971 - val_binary_accuracy: 0.8777\n",
            "Epoch 44/100\n",
            "118/118 [==============================] - 1s 12ms/step - loss: 0.4027 - binary_accuracy: 0.9174 - val_loss: 0.4978 - val_binary_accuracy: 0.8751\n",
            "Epoch 45/100\n",
            "118/118 [==============================] - 2s 15ms/step - loss: 0.3961 - binary_accuracy: 0.9187 - val_loss: 0.5097 - val_binary_accuracy: 0.8773\n",
            "Epoch 46/100\n",
            "118/118 [==============================] - 1s 12ms/step - loss: 0.3984 - binary_accuracy: 0.9171 - val_loss: 0.5232 - val_binary_accuracy: 0.8706\n",
            "Epoch 47/100\n",
            "118/118 [==============================] - 1s 12ms/step - loss: 0.3967 - binary_accuracy: 0.9178 - val_loss: 0.5042 - val_binary_accuracy: 0.8748\n",
            "Epoch 48/100\n",
            "118/118 [==============================] - 2s 15ms/step - loss: 0.3918 - binary_accuracy: 0.9213 - val_loss: 0.5163 - val_binary_accuracy: 0.8728\n",
            "Epoch 49/100\n",
            "118/118 [==============================] - 1s 13ms/step - loss: 0.3955 - binary_accuracy: 0.9184 - val_loss: 0.5156 - val_binary_accuracy: 0.8760\n",
            "Epoch 50/100\n",
            "118/118 [==============================] - 1s 12ms/step - loss: 0.4009 - binary_accuracy: 0.9174 - val_loss: 0.5311 - val_binary_accuracy: 0.8709\n",
            "Epoch 51/100\n",
            "118/118 [==============================] - 1s 12ms/step - loss: 0.4091 - binary_accuracy: 0.9158 - val_loss: 0.5208 - val_binary_accuracy: 0.8727\n",
            "Epoch 52/100\n",
            "118/118 [==============================] - 1s 12ms/step - loss: 0.3931 - binary_accuracy: 0.9209 - val_loss: 0.5279 - val_binary_accuracy: 0.8751\n",
            "Epoch 53/100\n",
            "118/118 [==============================] - 1s 12ms/step - loss: 0.3983 - binary_accuracy: 0.9204 - val_loss: 0.5362 - val_binary_accuracy: 0.8712\n",
            "Epoch 54/100\n",
            "118/118 [==============================] - 2s 18ms/step - loss: 0.3929 - binary_accuracy: 0.9213 - val_loss: 0.5359 - val_binary_accuracy: 0.8588\n",
            "Epoch 55/100\n",
            "118/118 [==============================] - 1s 12ms/step - loss: 0.3984 - binary_accuracy: 0.9172 - val_loss: 0.5006 - val_binary_accuracy: 0.8763\n",
            "Epoch 56/100\n",
            "118/118 [==============================] - 1s 12ms/step - loss: 0.3851 - binary_accuracy: 0.9203 - val_loss: 0.4964 - val_binary_accuracy: 0.8739\n",
            "Epoch 57/100\n",
            "118/118 [==============================] - 2s 13ms/step - loss: 0.3930 - binary_accuracy: 0.9185 - val_loss: 0.5010 - val_binary_accuracy: 0.8806\n",
            "Epoch 58/100\n",
            "118/118 [==============================] - 1s 12ms/step - loss: 0.3965 - binary_accuracy: 0.9159 - val_loss: 0.5127 - val_binary_accuracy: 0.8768\n",
            "Epoch 59/100\n",
            "118/118 [==============================] - 1s 12ms/step - loss: 0.3917 - binary_accuracy: 0.9197 - val_loss: 0.5128 - val_binary_accuracy: 0.8762\n",
            "Epoch 60/100\n",
            "118/118 [==============================] - 1s 12ms/step - loss: 0.3990 - binary_accuracy: 0.9169 - val_loss: 0.5177 - val_binary_accuracy: 0.8666\n",
            "Epoch 61/100\n",
            "118/118 [==============================] - 1s 12ms/step - loss: 0.3945 - binary_accuracy: 0.9215 - val_loss: 0.5013 - val_binary_accuracy: 0.8727\n",
            "Epoch 62/100\n",
            "118/118 [==============================] - 1s 13ms/step - loss: 0.3929 - binary_accuracy: 0.9160 - val_loss: 0.5091 - val_binary_accuracy: 0.8738\n",
            "Epoch 63/100\n",
            "118/118 [==============================] - 1s 12ms/step - loss: 0.3899 - binary_accuracy: 0.9185 - val_loss: 0.4986 - val_binary_accuracy: 0.8781\n",
            "Epoch 64/100\n",
            "118/118 [==============================] - 1s 12ms/step - loss: 0.3956 - binary_accuracy: 0.9189 - val_loss: 0.5319 - val_binary_accuracy: 0.8788\n",
            "Epoch 65/100\n",
            "118/118 [==============================] - 1s 12ms/step - loss: 0.3965 - binary_accuracy: 0.9195 - val_loss: 0.5087 - val_binary_accuracy: 0.8721\n",
            "Epoch 66/100\n",
            "118/118 [==============================] - 1s 12ms/step - loss: 0.3969 - binary_accuracy: 0.9184 - val_loss: 0.5277 - val_binary_accuracy: 0.8750\n",
            "Epoch 67/100\n",
            "118/118 [==============================] - 1s 13ms/step - loss: 0.4035 - binary_accuracy: 0.9175 - val_loss: 0.5223 - val_binary_accuracy: 0.8761\n",
            "Epoch 68/100\n",
            "118/118 [==============================] - 2s 13ms/step - loss: 0.3934 - binary_accuracy: 0.9207 - val_loss: 0.5244 - val_binary_accuracy: 0.8730\n",
            "Epoch 69/100\n",
            "118/118 [==============================] - 1s 12ms/step - loss: 0.3866 - binary_accuracy: 0.9229 - val_loss: 0.5014 - val_binary_accuracy: 0.8778\n",
            "Epoch 70/100\n",
            "118/118 [==============================] - 1s 12ms/step - loss: 0.3993 - binary_accuracy: 0.9171 - val_loss: 0.5080 - val_binary_accuracy: 0.8776\n",
            "Epoch 71/100\n",
            "118/118 [==============================] - 2s 15ms/step - loss: 0.4017 - binary_accuracy: 0.9163 - val_loss: 0.5015 - val_binary_accuracy: 0.8757\n",
            "Epoch 72/100\n",
            "118/118 [==============================] - 1s 12ms/step - loss: 0.3835 - binary_accuracy: 0.9228 - val_loss: 0.5138 - val_binary_accuracy: 0.8736\n",
            "Epoch 73/100\n",
            "118/118 [==============================] - 1s 12ms/step - loss: 0.3989 - binary_accuracy: 0.9173 - val_loss: 0.5167 - val_binary_accuracy: 0.8730\n",
            "Epoch 74/100\n",
            "118/118 [==============================] - 1s 12ms/step - loss: 0.3934 - binary_accuracy: 0.9173 - val_loss: 0.5273 - val_binary_accuracy: 0.8650\n",
            "Epoch 75/100\n",
            "118/118 [==============================] - 1s 12ms/step - loss: 0.3928 - binary_accuracy: 0.9188 - val_loss: 0.5172 - val_binary_accuracy: 0.8773\n",
            "Epoch 76/100\n",
            "118/118 [==============================] - 1s 12ms/step - loss: 0.3999 - binary_accuracy: 0.9188 - val_loss: 0.5344 - val_binary_accuracy: 0.8769\n",
            "Epoch 77/100\n",
            "118/118 [==============================] - 1s 12ms/step - loss: 0.3885 - binary_accuracy: 0.9212 - val_loss: 0.5238 - val_binary_accuracy: 0.8736\n",
            "Epoch 78/100\n",
            "118/118 [==============================] - 1s 12ms/step - loss: 0.3821 - binary_accuracy: 0.9220 - val_loss: 0.5082 - val_binary_accuracy: 0.8768\n",
            "Epoch 79/100\n",
            "118/118 [==============================] - 1s 12ms/step - loss: 0.3856 - binary_accuracy: 0.9222 - val_loss: 0.5252 - val_binary_accuracy: 0.8711\n",
            "Epoch 80/100\n",
            "118/118 [==============================] - 1s 12ms/step - loss: 0.3930 - binary_accuracy: 0.9174 - val_loss: 0.5196 - val_binary_accuracy: 0.8758\n",
            "Epoch 81/100\n",
            "118/118 [==============================] - 1s 12ms/step - loss: 0.3844 - binary_accuracy: 0.9210 - val_loss: 0.5038 - val_binary_accuracy: 0.8700\n",
            "Epoch 82/100\n",
            "118/118 [==============================] - 1s 12ms/step - loss: 0.3913 - binary_accuracy: 0.9172 - val_loss: 0.5167 - val_binary_accuracy: 0.8755\n",
            "Epoch 83/100\n",
            "118/118 [==============================] - 1s 12ms/step - loss: 0.3892 - binary_accuracy: 0.9210 - val_loss: 0.5226 - val_binary_accuracy: 0.8732\n",
            "Epoch 84/100\n",
            "118/118 [==============================] - 1s 12ms/step - loss: 0.3969 - binary_accuracy: 0.9198 - val_loss: 0.5246 - val_binary_accuracy: 0.8743\n",
            "Epoch 85/100\n",
            "118/118 [==============================] - 1s 12ms/step - loss: 0.3900 - binary_accuracy: 0.9215 - val_loss: 0.5082 - val_binary_accuracy: 0.8764\n",
            "Epoch 86/100\n",
            "118/118 [==============================] - 1s 13ms/step - loss: 0.3998 - binary_accuracy: 0.9165 - val_loss: 0.5160 - val_binary_accuracy: 0.8786\n",
            "Epoch 87/100\n",
            "118/118 [==============================] - 2s 16ms/step - loss: 0.3990 - binary_accuracy: 0.9171 - val_loss: 0.5372 - val_binary_accuracy: 0.8655\n",
            "Epoch 88/100\n",
            "118/118 [==============================] - 1s 13ms/step - loss: 0.3970 - binary_accuracy: 0.9201 - val_loss: 0.5126 - val_binary_accuracy: 0.8734\n",
            "Epoch 89/100\n",
            "118/118 [==============================] - 2s 13ms/step - loss: 0.3869 - binary_accuracy: 0.9227 - val_loss: 0.4985 - val_binary_accuracy: 0.8804\n",
            "Epoch 90/100\n",
            "118/118 [==============================] - 1s 13ms/step - loss: 0.3814 - binary_accuracy: 0.9238 - val_loss: 0.5082 - val_binary_accuracy: 0.8756\n",
            "Epoch 91/100\n",
            "118/118 [==============================] - 1s 13ms/step - loss: 0.3877 - binary_accuracy: 0.9215 - val_loss: 0.5113 - val_binary_accuracy: 0.8739\n",
            "Epoch 92/100\n",
            "118/118 [==============================] - 1s 13ms/step - loss: 0.3922 - binary_accuracy: 0.9187 - val_loss: 0.5183 - val_binary_accuracy: 0.8726\n",
            "Epoch 93/100\n",
            "118/118 [==============================] - 2s 15ms/step - loss: 0.3869 - binary_accuracy: 0.9223 - val_loss: 0.5138 - val_binary_accuracy: 0.8744\n",
            "Epoch 94/100\n",
            "118/118 [==============================] - 1s 12ms/step - loss: 0.3920 - binary_accuracy: 0.9204 - val_loss: 0.5142 - val_binary_accuracy: 0.8733\n",
            "Epoch 95/100\n",
            "118/118 [==============================] - 2s 13ms/step - loss: 0.3970 - binary_accuracy: 0.9195 - val_loss: 0.5172 - val_binary_accuracy: 0.8753\n",
            "Epoch 96/100\n",
            "118/118 [==============================] - 1s 13ms/step - loss: 0.3858 - binary_accuracy: 0.9211 - val_loss: 0.4935 - val_binary_accuracy: 0.8777\n",
            "Epoch 97/100\n",
            "118/118 [==============================] - 2s 13ms/step - loss: 0.3913 - binary_accuracy: 0.9188 - val_loss: 0.5028 - val_binary_accuracy: 0.8766\n",
            "Epoch 98/100\n",
            "118/118 [==============================] - 2s 13ms/step - loss: 0.3891 - binary_accuracy: 0.9209 - val_loss: 0.5037 - val_binary_accuracy: 0.8773\n",
            "Epoch 99/100\n",
            "118/118 [==============================] - 2s 15ms/step - loss: 0.3842 - binary_accuracy: 0.9221 - val_loss: 0.5102 - val_binary_accuracy: 0.8784\n",
            "Epoch 100/100\n",
            "118/118 [==============================] - 2s 16ms/step - loss: 0.3835 - binary_accuracy: 0.9209 - val_loss: 0.5175 - val_binary_accuracy: 0.8802\n"
          ]
        }
      ]
    },
    {
      "cell_type": "code",
      "source": [
        "fig, ax = plt.subplots(figsize=(10, 8))\n",
        "ax = plt.plot(fit_history.history['binary_accuracy'], label='Train')\n",
        "ax = plt.plot(fit_history.history['val_binary_accuracy'], label='Validation')\n",
        "ax = plt.xlabel('Epochs')\n",
        "ax = plt.ylabel('Accuracy')\n",
        "ax = plt.legend()"
      ],
      "metadata": {
        "colab": {
          "base_uri": "https://localhost:8080/",
          "height": 497
        },
        "id": "p5Pd6Kz-FVlq",
        "outputId": "6fb6ab21-65b1-43eb-bbf5-ed835b220631"
      },
      "execution_count": 9,
      "outputs": [
        {
          "output_type": "display_data",
          "data": {
            "text/plain": [
              "<Figure size 720x576 with 1 Axes>"
            ],
            "image/png": "[encoded data removed]"
          },
          "metadata": {
            "needs_background": "light"
          }
        }
      ]
    },
    {
      "cell_type": "code",
      "source": [
        "fig, ax = plt.subplots(figsize=(10, 8))\n",
        "ax = plt.plot(fit_history.history['loss'], label='Train')\n",
        "ax = plt.plot(fit_history.history['val_loss'], label='Validation')\n",
        "ax = plt.xlabel('Epochs')\n",
        "ax = plt.ylabel('Loss')\n",
        "ax = plt.title('Loss')\n",
        "ax = plt.legend()"
      ],
      "metadata": {
        "colab": {
          "base_uri": "https://localhost:8080/",
          "height": 513
        },
        "id": "HlXqMOt9FiXF",
        "outputId": "880902a3-a04a-4602-92f3-6314fed2dec6"
      },
      "execution_count": 10,
      "outputs": [
        {
          "output_type": "display_data",
          "data": {
            "text/plain": [
              "<Figure size 720x576 with 1 Axes>"
            ],
            "image/png": "[encoded data removed]"
          },
          "metadata": {
            "needs_background": "light"
          }
        }
      ]
    }
  ]
}