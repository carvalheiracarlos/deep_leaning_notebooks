{
  "nbformat": 4,
  "nbformat_minor": 0,
  "metadata": {
    "colab": {
      "provenance": [],
      "authorship_tag": "ABX9TyOWaGSjV4KEhb0S6S/Rtm1A",
      "include_colab_link": true
    },
    "kernelspec": {
      "name": "python3",
      "display_name": "Python 3"
    },
    "language_info": {
      "name": "python"
    }
  },
  "cells": [
    {
      "cell_type": "markdown",
      "metadata": {
        "id": "view-in-github",
        "colab_type": "text"
      },
      "source": [
        "<a href=\"https://colab.research.google.com/github/carvalheiracarlos/deep_leaning_notebooks/blob/main/imdb_no_merge.ipynb\" target=\"_parent\"><img src=\"https://colab.research.google.com/assets/colab-badge.svg\" alt=\"Open In Colab\"/></a>"
      ]
    },
    {
      "cell_type": "code",
      "execution_count": 1,
      "metadata": {
        "id": "t9d1db2aB0ZW"
      },
      "outputs": [],
      "source": [
        "import numpy as np\n",
        "import matplotlib.pyplot as plt\n",
        "import tensorflow as tf"
      ]
    },
    {
      "cell_type": "code",
      "source": [
        "(X_train, y_train), (X_test, y_test) = tf.keras.datasets.imdb.load_data(num_words=10000)"
      ],
      "metadata": {
        "id": "4azctbIeCDPf"
      },
      "execution_count": 2,
      "outputs": []
    },
    {
      "cell_type": "code",
      "source": [
        "'''\n",
        "Probably need to merge this X_train and X_test, \n",
        "than partition again in some better proportion(train: 80% | test: 20%).\n",
        "\n",
        "Fill review arrarys with zeros to have same lenght.\n",
        "'''\n",
        "print(f'Train Sets Shapes.....X_train: {X_train.shape}')\n",
        "print(f'Train Sets Shapes.....y_train: {y_train.shape}')\n",
        "print(f'Train Sets Largest Review Size: {max([max(review) for review in X_train])}')\n",
        "print(f'Tests Sets Shapes.....X_test: {X_test.shape}')\n",
        "print(f'Tests Sets Shapes.....y_test: {y_test.shape}')\n",
        "print(f'Train Sets Largest Review Size: {max([max(review) for review in X_test])}')"
      ],
      "metadata": {
        "colab": {
          "base_uri": "https://localhost:8080/"
        },
        "id": "_8bpZO37Sd81",
        "outputId": "676c5aa8-2e5a-47b2-f730-b0224af1279e"
      },
      "execution_count": 3,
      "outputs": [
        {
          "output_type": "stream",
          "name": "stdout",
          "text": [
            "Train Sets Shapes.....X_train: (25000,)\n",
            "Train Sets Shapes.....y_train: (25000,)\n",
            "Train Sets Largest Review Size: 9999\n",
            "Tests Sets Shapes.....X_test: (25000,)\n",
            "Tests Sets Shapes.....y_test: (25000,)\n",
            "Train Sets Largest Review Size: 9999\n"
          ]
        }
      ]
    },
    {
      "cell_type": "code",
      "source": [
        "# Thanks to https://github.com/kashif/tf-keras-tutorial/blob/tf2/3-imdb.ipynb\n",
        "def vectorize_sequences(sequences, dimension=10000):\n",
        "    results = np.zeros((len(sequences), dimension), dtype=np.float32)\n",
        "    for i, sequence in enumerate(sequences):\n",
        "        results[i, sequence] = 1.\n",
        "    return results\n",
        "\n",
        "X_train = vectorize_sequences(X_train)\n",
        "X_test = vectorize_sequences(X_test)"
      ],
      "metadata": {
        "id": "4YAhBD1x7POE"
      },
      "execution_count": 4,
      "outputs": []
    },
    {
      "cell_type": "code",
      "source": [
        "# Thanks to https://github.com/kashif/tf-keras-tutorial/blob/tf2/3-imdb.ipynb\n",
        "y_train = np.reshape(np.asarray(y_train, dtype=np.float32), (len(X_train), 1))\n",
        "y_test = np.reshape(np.asarray(y_test, dtype=np.float32), (len(X_test), 1))"
      ],
      "metadata": {
        "id": "HN8wLLHo-CCS"
      },
      "execution_count": 5,
      "outputs": []
    },
    {
      "cell_type": "code",
      "source": [
        "class DenseNet:\n",
        "  @staticmethod\n",
        "  def build(input_shape, \n",
        "            n_classes, \n",
        "            activation='relu', \n",
        "            weights_path=None):\n",
        "\n",
        "    model = tf.keras.models.Sequential()\n",
        "    model.add(tf.keras.layers.Dense(32, activation=activation, input_shape=input_shape, kernel_regularizer=tf.keras.regularizers.l2(0.01)))\n",
        "    model.add(tf.keras.layers.BatchNormalization())\n",
        "    model.add(tf.keras.layers.Dropout(0.8))\n",
        "\n",
        "    model.add(tf.keras.layers.Dense(64, activation=activation, kernel_regularizer=tf.keras.regularizers.l2(0.01)))\n",
        "    model.add(tf.keras.layers.BatchNormalization())\n",
        "    model.add(tf.keras.layers.Dropout(0.8))\n",
        "\n",
        "\n",
        "    model.add(tf.keras.layers.Dense(n_classes, activation='sigmoid'))\n",
        "\n",
        "    # if a weights path is supplied (inicating that the model was\n",
        "    # pre-trained), then load the weights\n",
        "    if weights_path is not None:\n",
        "      model.load_weights(weights_path)\n",
        "    \n",
        "    return model"
      ],
      "metadata": {
        "id": "MfjP15KQWpJu"
      },
      "execution_count": 6,
      "outputs": []
    },
    {
      "cell_type": "code",
      "source": [
        "n_epochs = 100 \n",
        "ini_learning_rate = 1e-3\n",
        "batch_size=128"
      ],
      "metadata": {
        "id": "kBC_rlcnXrsB"
      },
      "execution_count": 7,
      "outputs": []
    },
    {
      "cell_type": "code",
      "source": [
        "train_model = DenseNet.build(input_shape=(10000, ), \n",
        "                             n_classes=1, \n",
        "                             activation='relu', \n",
        "                             weights_path=None)\n",
        "\n",
        "opt = tf.keras.optimizers.Adam(learning_rate=ini_learning_rate,\n",
        "                               beta_1=0.9, \n",
        "                               beta_2=0.999, \n",
        "                               epsilon=1e-08,\n",
        "                               decay=ini_learning_rate/n_epochs)\n",
        "\n",
        "train_model.compile(loss=tf.keras.losses.BinaryCrossentropy(from_logits=True), \n",
        "                    optimizer=opt, \n",
        "                    metrics=[tf.keras.metrics.BinaryAccuracy()])\n",
        "\n",
        "train_model.summary()\n",
        "\n",
        "tensorboard = tf.keras.callbacks.TensorBoard('./logs/fit/',\n",
        "                                          write_images=True)\n",
        "\n",
        "callbacks_list = [tensorboard]\n",
        "\n",
        "fit_history = train_model.fit(x=X_train,\n",
        "                              y=y_train,\n",
        "                              epochs=n_epochs,\n",
        "                              validation_split=0.1,\n",
        "                              validation_freq=1,\n",
        "                              batch_size=batch_size,\n",
        "                              callbacks=callbacks_list,\n",
        "                              verbose=1)"
      ],
      "metadata": {
        "colab": {
          "base_uri": "https://localhost:8080/"
        },
        "id": "jmmD9BhHXikH",
        "outputId": "07b1bafb-e9c6-4a6b-a12a-e1f40db2d414"
      },
      "execution_count": 8,
      "outputs": [
        {
          "output_type": "stream",
          "name": "stdout",
          "text": [
            "Model: \"sequential\"\n",
            "_________________________________________________________________\n",
            " Layer (type)                Output Shape              Param #   \n",
            "=================================================================\n",
            " dense (Dense)               (None, 32)                320032    \n",
            "                                                                 \n",
            " batch_normalization (BatchN  (None, 32)               128       \n",
            " ormalization)                                                   \n",
            "                                                                 \n",
            " dropout (Dropout)           (None, 32)                0         \n",
            "                                                                 \n",
            " dense_1 (Dense)             (None, 64)                2112      \n",
            "                                                                 \n",
            " batch_normalization_1 (Batc  (None, 64)               256       \n",
            " hNormalization)                                                 \n",
            "                                                                 \n",
            " dropout_1 (Dropout)         (None, 64)                0         \n",
            "                                                                 \n",
            " dense_2 (Dense)             (None, 1)                 65        \n",
            "                                                                 \n",
            "=================================================================\n",
            "Total params: 322,593\n",
            "Trainable params: 322,401\n",
            "Non-trainable params: 192\n",
            "_________________________________________________________________\n",
            "Epoch 1/100\n"
          ]
        },
        {
          "output_type": "stream",
          "name": "stderr",
          "text": [
            "/usr/local/lib/python3.7/dist-packages/tensorflow/python/util/dispatch.py:1082: UserWarning: \"`binary_crossentropy` received `from_logits=True`, but the `output` argument was produced by a sigmoid or softmax activation and thus does not represent logits. Was this intended?\"\n",
            "  return dispatch_target(*args, **kwargs)\n"
          ]
        },
        {
          "output_type": "stream",
          "name": "stdout",
          "text": [
            "176/176 [==============================] - 4s 14ms/step - loss: 1.6951 - binary_accuracy: 0.5795 - val_loss: 1.1972 - val_binary_accuracy: 0.8164\n",
            "Epoch 2/100\n",
            "176/176 [==============================] - 2s 13ms/step - loss: 1.1158 - binary_accuracy: 0.7369 - val_loss: 0.8405 - val_binary_accuracy: 0.8740\n",
            "Epoch 3/100\n",
            "176/176 [==============================] - 2s 13ms/step - loss: 0.8329 - binary_accuracy: 0.8127 - val_loss: 0.6534 - val_binary_accuracy: 0.8836\n",
            "Epoch 4/100\n",
            "176/176 [==============================] - 2s 13ms/step - loss: 0.6770 - binary_accuracy: 0.8428 - val_loss: 0.5614 - val_binary_accuracy: 0.8840\n",
            "Epoch 5/100\n",
            "176/176 [==============================] - 2s 12ms/step - loss: 0.5885 - binary_accuracy: 0.8616 - val_loss: 0.5158 - val_binary_accuracy: 0.8844\n",
            "Epoch 6/100\n",
            "176/176 [==============================] - 2s 13ms/step - loss: 0.5464 - binary_accuracy: 0.8672 - val_loss: 0.4989 - val_binary_accuracy: 0.8804\n",
            "Epoch 7/100\n",
            "176/176 [==============================] - 2s 13ms/step - loss: 0.5333 - binary_accuracy: 0.8688 - val_loss: 0.4990 - val_binary_accuracy: 0.8832\n",
            "Epoch 8/100\n",
            "176/176 [==============================] - 2s 13ms/step - loss: 0.5136 - binary_accuracy: 0.8744 - val_loss: 0.4731 - val_binary_accuracy: 0.8892\n",
            "Epoch 9/100\n",
            "176/176 [==============================] - 2s 13ms/step - loss: 0.5096 - binary_accuracy: 0.8756 - val_loss: 0.4766 - val_binary_accuracy: 0.8880\n",
            "Epoch 10/100\n",
            "176/176 [==============================] - 3s 16ms/step - loss: 0.5122 - binary_accuracy: 0.8732 - val_loss: 0.4833 - val_binary_accuracy: 0.8892\n",
            "Epoch 11/100\n",
            "176/176 [==============================] - 2s 13ms/step - loss: 0.5086 - binary_accuracy: 0.8740 - val_loss: 0.4789 - val_binary_accuracy: 0.8856\n",
            "Epoch 12/100\n",
            "176/176 [==============================] - 2s 13ms/step - loss: 0.5086 - binary_accuracy: 0.8778 - val_loss: 0.4888 - val_binary_accuracy: 0.8844\n",
            "Epoch 13/100\n",
            "176/176 [==============================] - 2s 13ms/step - loss: 0.5062 - binary_accuracy: 0.8788 - val_loss: 0.5056 - val_binary_accuracy: 0.8724\n",
            "Epoch 14/100\n",
            "176/176 [==============================] - 2s 13ms/step - loss: 0.5123 - binary_accuracy: 0.8740 - val_loss: 0.4888 - val_binary_accuracy: 0.8860\n",
            "Epoch 15/100\n",
            "176/176 [==============================] - 2s 13ms/step - loss: 0.5192 - binary_accuracy: 0.8747 - val_loss: 0.4940 - val_binary_accuracy: 0.8824\n",
            "Epoch 16/100\n",
            "176/176 [==============================] - 2s 13ms/step - loss: 0.5158 - binary_accuracy: 0.8732 - val_loss: 0.4985 - val_binary_accuracy: 0.8812\n",
            "Epoch 17/100\n",
            "176/176 [==============================] - 2s 13ms/step - loss: 0.5175 - binary_accuracy: 0.8751 - val_loss: 0.4925 - val_binary_accuracy: 0.8792\n",
            "Epoch 18/100\n",
            "176/176 [==============================] - 2s 13ms/step - loss: 0.5171 - binary_accuracy: 0.8737 - val_loss: 0.4857 - val_binary_accuracy: 0.8824\n",
            "Epoch 19/100\n",
            "176/176 [==============================] - 2s 13ms/step - loss: 0.5246 - binary_accuracy: 0.8716 - val_loss: 0.5071 - val_binary_accuracy: 0.8740\n",
            "Epoch 20/100\n",
            "176/176 [==============================] - 2s 13ms/step - loss: 0.5233 - binary_accuracy: 0.8733 - val_loss: 0.4985 - val_binary_accuracy: 0.8824\n",
            "Epoch 21/100\n",
            "176/176 [==============================] - 2s 13ms/step - loss: 0.5184 - binary_accuracy: 0.8720 - val_loss: 0.4926 - val_binary_accuracy: 0.8808\n",
            "Epoch 22/100\n",
            "176/176 [==============================] - 2s 13ms/step - loss: 0.5137 - binary_accuracy: 0.8727 - val_loss: 0.4867 - val_binary_accuracy: 0.8852\n",
            "Epoch 23/100\n",
            "176/176 [==============================] - 2s 13ms/step - loss: 0.5206 - binary_accuracy: 0.8715 - val_loss: 0.4847 - val_binary_accuracy: 0.8852\n",
            "Epoch 24/100\n",
            "176/176 [==============================] - 2s 13ms/step - loss: 0.5135 - binary_accuracy: 0.8763 - val_loss: 0.4893 - val_binary_accuracy: 0.8824\n",
            "Epoch 25/100\n",
            "176/176 [==============================] - 2s 13ms/step - loss: 0.5221 - binary_accuracy: 0.8719 - val_loss: 0.4944 - val_binary_accuracy: 0.8816\n",
            "Epoch 26/100\n",
            "176/176 [==============================] - 2s 13ms/step - loss: 0.5182 - binary_accuracy: 0.8745 - val_loss: 0.4844 - val_binary_accuracy: 0.8880\n",
            "Epoch 27/100\n",
            "176/176 [==============================] - 2s 13ms/step - loss: 0.5202 - binary_accuracy: 0.8751 - val_loss: 0.4842 - val_binary_accuracy: 0.8868\n",
            "Epoch 28/100\n",
            "176/176 [==============================] - 2s 13ms/step - loss: 0.5202 - binary_accuracy: 0.8708 - val_loss: 0.4896 - val_binary_accuracy: 0.8852\n",
            "Epoch 29/100\n",
            "176/176 [==============================] - 2s 13ms/step - loss: 0.5212 - binary_accuracy: 0.8694 - val_loss: 0.4884 - val_binary_accuracy: 0.8860\n",
            "Epoch 30/100\n",
            "176/176 [==============================] - 2s 13ms/step - loss: 0.5242 - binary_accuracy: 0.8744 - val_loss: 0.5069 - val_binary_accuracy: 0.8752\n",
            "Epoch 31/100\n",
            "176/176 [==============================] - 3s 15ms/step - loss: 0.5226 - binary_accuracy: 0.8724 - val_loss: 0.5123 - val_binary_accuracy: 0.8812\n",
            "Epoch 32/100\n",
            "176/176 [==============================] - 3s 17ms/step - loss: 0.5241 - binary_accuracy: 0.8734 - val_loss: 0.5207 - val_binary_accuracy: 0.8736\n",
            "Epoch 33/100\n",
            "176/176 [==============================] - 2s 12ms/step - loss: 0.5113 - binary_accuracy: 0.8780 - val_loss: 0.4908 - val_binary_accuracy: 0.8816\n",
            "Epoch 34/100\n",
            "176/176 [==============================] - 2s 13ms/step - loss: 0.5204 - binary_accuracy: 0.8730 - val_loss: 0.4924 - val_binary_accuracy: 0.8820\n",
            "Epoch 35/100\n",
            "176/176 [==============================] - 2s 13ms/step - loss: 0.5114 - binary_accuracy: 0.8760 - val_loss: 0.4902 - val_binary_accuracy: 0.8840\n",
            "Epoch 36/100\n",
            "176/176 [==============================] - 2s 13ms/step - loss: 0.5210 - binary_accuracy: 0.8740 - val_loss: 0.4906 - val_binary_accuracy: 0.8856\n",
            "Epoch 37/100\n",
            "176/176 [==============================] - 2s 13ms/step - loss: 0.5117 - binary_accuracy: 0.8740 - val_loss: 0.4891 - val_binary_accuracy: 0.8888\n",
            "Epoch 38/100\n",
            "176/176 [==============================] - 2s 13ms/step - loss: 0.5206 - binary_accuracy: 0.8734 - val_loss: 0.5181 - val_binary_accuracy: 0.8764\n",
            "Epoch 39/100\n",
            "176/176 [==============================] - 2s 13ms/step - loss: 0.5231 - binary_accuracy: 0.8728 - val_loss: 0.5145 - val_binary_accuracy: 0.8796\n",
            "Epoch 40/100\n",
            "176/176 [==============================] - 2s 13ms/step - loss: 0.5230 - binary_accuracy: 0.8732 - val_loss: 0.4935 - val_binary_accuracy: 0.8844\n",
            "Epoch 41/100\n",
            "176/176 [==============================] - 2s 13ms/step - loss: 0.5192 - binary_accuracy: 0.8751 - val_loss: 0.5065 - val_binary_accuracy: 0.8836\n",
            "Epoch 42/100\n",
            "176/176 [==============================] - 2s 13ms/step - loss: 0.5163 - binary_accuracy: 0.8733 - val_loss: 0.4845 - val_binary_accuracy: 0.8868\n",
            "Epoch 43/100\n",
            "176/176 [==============================] - 2s 13ms/step - loss: 0.5125 - binary_accuracy: 0.8752 - val_loss: 0.4875 - val_binary_accuracy: 0.8888\n",
            "Epoch 44/100\n",
            "176/176 [==============================] - 2s 13ms/step - loss: 0.5140 - binary_accuracy: 0.8739 - val_loss: 0.4956 - val_binary_accuracy: 0.8808\n",
            "Epoch 45/100\n",
            "176/176 [==============================] - 2s 13ms/step - loss: 0.5177 - binary_accuracy: 0.8726 - val_loss: 0.4950 - val_binary_accuracy: 0.8852\n",
            "Epoch 46/100\n",
            "176/176 [==============================] - 2s 13ms/step - loss: 0.5186 - binary_accuracy: 0.8778 - val_loss: 0.4934 - val_binary_accuracy: 0.8836\n",
            "Epoch 47/100\n",
            "176/176 [==============================] - 2s 13ms/step - loss: 0.5185 - binary_accuracy: 0.8742 - val_loss: 0.4979 - val_binary_accuracy: 0.8828\n",
            "Epoch 48/100\n",
            "176/176 [==============================] - 2s 13ms/step - loss: 0.5199 - binary_accuracy: 0.8710 - val_loss: 0.4878 - val_binary_accuracy: 0.8832\n",
            "Epoch 49/100\n",
            "176/176 [==============================] - 2s 13ms/step - loss: 0.5179 - binary_accuracy: 0.8722 - val_loss: 0.4992 - val_binary_accuracy: 0.8808\n",
            "Epoch 50/100\n",
            "176/176 [==============================] - 2s 14ms/step - loss: 0.5142 - binary_accuracy: 0.8763 - val_loss: 0.4971 - val_binary_accuracy: 0.8748\n",
            "Epoch 51/100\n",
            "176/176 [==============================] - 2s 13ms/step - loss: 0.5157 - binary_accuracy: 0.8720 - val_loss: 0.4851 - val_binary_accuracy: 0.8848\n",
            "Epoch 52/100\n",
            "176/176 [==============================] - 2s 13ms/step - loss: 0.5138 - binary_accuracy: 0.8757 - val_loss: 0.4863 - val_binary_accuracy: 0.8908\n",
            "Epoch 53/100\n",
            "176/176 [==============================] - 2s 13ms/step - loss: 0.5122 - binary_accuracy: 0.8752 - val_loss: 0.4840 - val_binary_accuracy: 0.8888\n",
            "Epoch 54/100\n",
            "176/176 [==============================] - 2s 13ms/step - loss: 0.5142 - binary_accuracy: 0.8732 - val_loss: 0.4839 - val_binary_accuracy: 0.8824\n",
            "Epoch 55/100\n",
            "176/176 [==============================] - 2s 13ms/step - loss: 0.5142 - binary_accuracy: 0.8742 - val_loss: 0.4794 - val_binary_accuracy: 0.8856\n",
            "Epoch 56/100\n",
            "176/176 [==============================] - 2s 13ms/step - loss: 0.5135 - binary_accuracy: 0.8751 - val_loss: 0.4826 - val_binary_accuracy: 0.8860\n",
            "Epoch 57/100\n",
            "176/176 [==============================] - 2s 13ms/step - loss: 0.5086 - binary_accuracy: 0.8764 - val_loss: 0.4881 - val_binary_accuracy: 0.8884\n",
            "Epoch 58/100\n",
            "176/176 [==============================] - 2s 13ms/step - loss: 0.5094 - binary_accuracy: 0.8768 - val_loss: 0.4884 - val_binary_accuracy: 0.8832\n",
            "Epoch 59/100\n",
            "176/176 [==============================] - 2s 13ms/step - loss: 0.5181 - binary_accuracy: 0.8701 - val_loss: 0.4844 - val_binary_accuracy: 0.8832\n",
            "Epoch 60/100\n",
            "176/176 [==============================] - 2s 13ms/step - loss: 0.5054 - binary_accuracy: 0.8784 - val_loss: 0.4852 - val_binary_accuracy: 0.8876\n",
            "Epoch 61/100\n",
            "176/176 [==============================] - 2s 13ms/step - loss: 0.5139 - binary_accuracy: 0.8764 - val_loss: 0.4844 - val_binary_accuracy: 0.8832\n",
            "Epoch 62/100\n",
            "176/176 [==============================] - 2s 13ms/step - loss: 0.5018 - binary_accuracy: 0.8776 - val_loss: 0.4871 - val_binary_accuracy: 0.8836\n",
            "Epoch 63/100\n",
            "176/176 [==============================] - 2s 13ms/step - loss: 0.5181 - binary_accuracy: 0.8751 - val_loss: 0.4848 - val_binary_accuracy: 0.8840\n",
            "Epoch 64/100\n",
            "176/176 [==============================] - 2s 13ms/step - loss: 0.5104 - binary_accuracy: 0.8757 - val_loss: 0.4865 - val_binary_accuracy: 0.8844\n",
            "Epoch 65/100\n",
            "176/176 [==============================] - 2s 13ms/step - loss: 0.5096 - binary_accuracy: 0.8769 - val_loss: 0.4911 - val_binary_accuracy: 0.8812\n",
            "Epoch 66/100\n",
            "176/176 [==============================] - 2s 13ms/step - loss: 0.5076 - binary_accuracy: 0.8755 - val_loss: 0.4862 - val_binary_accuracy: 0.8828\n",
            "Epoch 67/100\n",
            "176/176 [==============================] - 2s 13ms/step - loss: 0.5098 - binary_accuracy: 0.8749 - val_loss: 0.4747 - val_binary_accuracy: 0.8852\n",
            "Epoch 68/100\n",
            "176/176 [==============================] - 2s 13ms/step - loss: 0.5096 - binary_accuracy: 0.8755 - val_loss: 0.4830 - val_binary_accuracy: 0.8844\n",
            "Epoch 69/100\n",
            "176/176 [==============================] - 2s 13ms/step - loss: 0.5084 - binary_accuracy: 0.8761 - val_loss: 0.4896 - val_binary_accuracy: 0.8868\n",
            "Epoch 70/100\n",
            "176/176 [==============================] - 2s 14ms/step - loss: 0.5079 - binary_accuracy: 0.8777 - val_loss: 0.4773 - val_binary_accuracy: 0.8856\n",
            "Epoch 71/100\n",
            "176/176 [==============================] - 2s 13ms/step - loss: 0.5004 - binary_accuracy: 0.8756 - val_loss: 0.5028 - val_binary_accuracy: 0.8804\n",
            "Epoch 72/100\n",
            "176/176 [==============================] - 2s 13ms/step - loss: 0.5081 - binary_accuracy: 0.8755 - val_loss: 0.4794 - val_binary_accuracy: 0.8844\n",
            "Epoch 73/100\n",
            "176/176 [==============================] - 2s 13ms/step - loss: 0.5047 - binary_accuracy: 0.8764 - val_loss: 0.4882 - val_binary_accuracy: 0.8828\n",
            "Epoch 74/100\n",
            "176/176 [==============================] - 3s 15ms/step - loss: 0.5037 - binary_accuracy: 0.8764 - val_loss: 0.4837 - val_binary_accuracy: 0.8816\n",
            "Epoch 75/100\n",
            "176/176 [==============================] - 3s 16ms/step - loss: 0.5102 - binary_accuracy: 0.8771 - val_loss: 0.4927 - val_binary_accuracy: 0.8816\n",
            "Epoch 76/100\n",
            "176/176 [==============================] - 2s 13ms/step - loss: 0.5068 - binary_accuracy: 0.8734 - val_loss: 0.4748 - val_binary_accuracy: 0.8868\n",
            "Epoch 77/100\n",
            "176/176 [==============================] - 2s 13ms/step - loss: 0.5023 - binary_accuracy: 0.8768 - val_loss: 0.4832 - val_binary_accuracy: 0.8824\n",
            "Epoch 78/100\n",
            "176/176 [==============================] - 2s 13ms/step - loss: 0.5090 - binary_accuracy: 0.8721 - val_loss: 0.4801 - val_binary_accuracy: 0.8832\n",
            "Epoch 79/100\n",
            "176/176 [==============================] - 2s 13ms/step - loss: 0.5068 - binary_accuracy: 0.8762 - val_loss: 0.4782 - val_binary_accuracy: 0.8904\n",
            "Epoch 80/100\n",
            "176/176 [==============================] - 2s 13ms/step - loss: 0.5027 - binary_accuracy: 0.8769 - val_loss: 0.4865 - val_binary_accuracy: 0.8832\n",
            "Epoch 81/100\n",
            "176/176 [==============================] - 2s 13ms/step - loss: 0.5046 - binary_accuracy: 0.8780 - val_loss: 0.4900 - val_binary_accuracy: 0.8812\n",
            "Epoch 82/100\n",
            "176/176 [==============================] - 2s 13ms/step - loss: 0.5109 - binary_accuracy: 0.8756 - val_loss: 0.5003 - val_binary_accuracy: 0.8752\n",
            "Epoch 83/100\n",
            "176/176 [==============================] - 2s 13ms/step - loss: 0.4998 - binary_accuracy: 0.8756 - val_loss: 0.4851 - val_binary_accuracy: 0.8808\n",
            "Epoch 84/100\n",
            "176/176 [==============================] - 2s 13ms/step - loss: 0.5041 - binary_accuracy: 0.8752 - val_loss: 0.4789 - val_binary_accuracy: 0.8840\n",
            "Epoch 85/100\n",
            "176/176 [==============================] - 2s 13ms/step - loss: 0.4964 - binary_accuracy: 0.8776 - val_loss: 0.4761 - val_binary_accuracy: 0.8852\n",
            "Epoch 86/100\n",
            "176/176 [==============================] - 2s 13ms/step - loss: 0.4977 - binary_accuracy: 0.8764 - val_loss: 0.4876 - val_binary_accuracy: 0.8780\n",
            "Epoch 87/100\n",
            "176/176 [==============================] - 2s 13ms/step - loss: 0.5040 - binary_accuracy: 0.8796 - val_loss: 0.4881 - val_binary_accuracy: 0.8828\n",
            "Epoch 88/100\n",
            "176/176 [==============================] - 2s 13ms/step - loss: 0.5064 - binary_accuracy: 0.8748 - val_loss: 0.4826 - val_binary_accuracy: 0.8848\n",
            "Epoch 89/100\n",
            "176/176 [==============================] - 2s 13ms/step - loss: 0.4992 - binary_accuracy: 0.8764 - val_loss: 0.5071 - val_binary_accuracy: 0.8708\n",
            "Epoch 90/100\n",
            "176/176 [==============================] - 2s 13ms/step - loss: 0.5064 - binary_accuracy: 0.8770 - val_loss: 0.4934 - val_binary_accuracy: 0.8788\n",
            "Epoch 91/100\n",
            "176/176 [==============================] - 2s 13ms/step - loss: 0.5036 - binary_accuracy: 0.8798 - val_loss: 0.4716 - val_binary_accuracy: 0.8916\n",
            "Epoch 92/100\n",
            "176/176 [==============================] - 2s 13ms/step - loss: 0.4988 - binary_accuracy: 0.8778 - val_loss: 0.4799 - val_binary_accuracy: 0.8852\n",
            "Epoch 93/100\n",
            "176/176 [==============================] - 2s 13ms/step - loss: 0.4952 - binary_accuracy: 0.8784 - val_loss: 0.4822 - val_binary_accuracy: 0.8892\n",
            "Epoch 94/100\n",
            "176/176 [==============================] - 2s 13ms/step - loss: 0.5017 - binary_accuracy: 0.8744 - val_loss: 0.4836 - val_binary_accuracy: 0.8780\n",
            "Epoch 95/100\n",
            "176/176 [==============================] - 2s 13ms/step - loss: 0.5019 - binary_accuracy: 0.8788 - val_loss: 0.4845 - val_binary_accuracy: 0.8856\n",
            "Epoch 96/100\n",
            "176/176 [==============================] - 2s 13ms/step - loss: 0.5056 - binary_accuracy: 0.8776 - val_loss: 0.5076 - val_binary_accuracy: 0.8712\n",
            "Epoch 97/100\n",
            "176/176 [==============================] - 2s 13ms/step - loss: 0.5024 - binary_accuracy: 0.8772 - val_loss: 0.4823 - val_binary_accuracy: 0.8816\n",
            "Epoch 98/100\n",
            "176/176 [==============================] - 2s 13ms/step - loss: 0.4971 - binary_accuracy: 0.8802 - val_loss: 0.4859 - val_binary_accuracy: 0.8844\n",
            "Epoch 99/100\n",
            "176/176 [==============================] - 2s 13ms/step - loss: 0.5018 - binary_accuracy: 0.8776 - val_loss: 0.4959 - val_binary_accuracy: 0.8744\n",
            "Epoch 100/100\n",
            "176/176 [==============================] - 2s 13ms/step - loss: 0.5006 - binary_accuracy: 0.8790 - val_loss: 0.4783 - val_binary_accuracy: 0.8856\n"
          ]
        }
      ]
    },
    {
      "cell_type": "code",
      "source": [
        "fig, ax = plt.subplots(figsize=(10, 8))\n",
        "ax = plt.plot(fit_history.history['binary_accuracy'], label='Train')\n",
        "ax = plt.plot(fit_history.history['val_binary_accuracy'], label='Validation')\n",
        "ax = plt.xlabel('Epochs')\n",
        "ax = plt.ylabel('Accuracy')\n",
        "ax = plt.legend()"
      ],
      "metadata": {
        "colab": {
          "base_uri": "https://localhost:8080/",
          "height": 497
        },
        "id": "p5Pd6Kz-FVlq",
        "outputId": "f8793368-9e5b-4ae5-b263-3266cf3bc632"
      },
      "execution_count": 9,
      "outputs": [
        {
          "output_type": "display_data",
          "data": {
            "text/plain": [
              "<Figure size 720x576 with 1 Axes>"
            ],
            "image/png": "[encoded data removed]"
          },
          "metadata": {
            "needs_background": "light"
          }
        }
      ]
    },
    {
      "cell_type": "code",
      "source": [
        "fig, ax = plt.subplots(figsize=(10, 8))\n",
        "ax = plt.plot(fit_history.history['loss'], label='Train')\n",
        "ax = plt.plot(fit_history.history['val_loss'], label='Validation')\n",
        "ax = plt.xlabel('Epochs')\n",
        "ax = plt.ylabel('Loss')\n",
        "ax = plt.title('Loss')\n",
        "ax = plt.legend()"
      ],
      "metadata": {
        "colab": {
          "base_uri": "https://localhost:8080/",
          "height": 513
        },
        "id": "HlXqMOt9FiXF",
        "outputId": "8da08538-fba0-4ceb-c349-6e0feb7cc3ad"
      },
      "execution_count": 10,
      "outputs": [
        {
          "output_type": "display_data",
          "data": {
            "text/plain": [
              "<Figure size 720x576 with 1 Axes>"
            ],
            "image/png": "[encoded data removed]"
          },
          "metadata": {
            "needs_background": "light"
          }
        }
      ]
    }
  ]
}