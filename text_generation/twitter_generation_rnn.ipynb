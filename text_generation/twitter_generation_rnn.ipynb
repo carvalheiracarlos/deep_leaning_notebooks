{
  "nbformat": 4,
  "nbformat_minor": 0,
  "metadata": {
    "colab": {
      "provenance": [],
      "authorship_tag": "ABX9TyNZeKAeRSIbaKuSofMPPqL4",
      "include_colab_link": true
    },
    "kernelspec": {
      "name": "python3",
      "display_name": "Python 3"
    },
    "language_info": {
      "name": "python"
    },
    "accelerator": "GPU",
    "gpuClass": "standard"
  },
  "cells": [
    {
      "cell_type": "markdown",
      "metadata": {
        "id": "view-in-github",
        "colab_type": "text"
      },
      "source": [
        "<a href=\"https://colab.research.google.com/github/carvalheiracarlos/deep_leaning_notebooks/blob/main/text_generation/twitter_generation_rnn.ipynb\" target=\"_parent\"><img src=\"https://colab.research.google.com/assets/colab-badge.svg\" alt=\"Open In Colab\"/></a>"
      ]
    },
    {
      "cell_type": "code",
      "source": [
        "!pip install clean-text"
      ],
      "metadata": {
        "id": "mUVDyoX-WgwR",
        "outputId": "2c48c8e9-08ff-4f99-f2d7-b3d953c18e17",
        "colab": {
          "base_uri": "https://localhost:8080/"
        }
      },
      "execution_count": 1,
      "outputs": [
        {
          "output_type": "stream",
          "name": "stdout",
          "text": [
            "Looking in indexes: https://pypi.org/simple, https://us-python.pkg.dev/colab-wheels/public/simple/\n",
            "Requirement already satisfied: clean-text in /usr/local/lib/python3.7/dist-packages (0.6.0)\n",
            "Requirement already satisfied: emoji<2.0.0,>=1.0.0 in /usr/local/lib/python3.7/dist-packages (from clean-text) (1.7.0)\n",
            "Requirement already satisfied: ftfy<7.0,>=6.0 in /usr/local/lib/python3.7/dist-packages (from clean-text) (6.1.1)\n",
            "Requirement already satisfied: wcwidth>=0.2.5 in /usr/local/lib/python3.7/dist-packages (from ftfy<7.0,>=6.0->clean-text) (0.2.5)\n"
          ]
        }
      ]
    },
    {
      "cell_type": "code",
      "execution_count": 2,
      "metadata": {
        "id": "mh5IqIwAFFSW",
        "outputId": "26b3680b-649d-4d7a-d868-9e6b5abb7e56",
        "colab": {
          "base_uri": "https://localhost:8080/"
        }
      },
      "outputs": [
        {
          "output_type": "stream",
          "name": "stderr",
          "text": [
            "WARNING:root:Since the GPL-licensed package `unidecode` is not installed, using Python's `unicodedata` package which yields worse results.\n"
          ]
        }
      ],
      "source": [
        "import pandas as pd\n",
        "import tensorflow as tf\n",
        "import numpy as np\n",
        "import os\n",
        "import time\n",
        "from cleantext import clean"
      ]
    },
    {
      "cell_type": "code",
      "source": [
        "path_to_file = 'xorume_do_bolsonaro.txt'\n",
        "# Read, then decode for py2 compat.\n",
        "text = open(path_to_file, 'rb').read().decode(encoding='utf-8')\n",
        "text = clean(text, no_emoji=True, lower=False)\n",
        "# length of text is the number of characters in it\n",
        "print(f'Length of text: {len(text)} characters')\n"
      ],
      "metadata": {
        "id": "Z8X8LtUf9CL7",
        "outputId": "276f38e9-26a9-4749-e0a3-6a2bcfb19e4f",
        "colab": {
          "base_uri": "https://localhost:8080/"
        }
      },
      "execution_count": 3,
      "outputs": [
        {
          "output_type": "stream",
          "name": "stdout",
          "text": [
            "Length of text: 394214 characters\n"
          ]
        }
      ]
    },
    {
      "cell_type": "code",
      "source": [
        "print(text[:250])"
      ],
      "metadata": {
        "colab": {
          "base_uri": "https://localhost:8080/"
        },
        "id": "5_aoVa_EPNch",
        "outputId": "8f035095-6590-4354-cc3e-095a53fcb2b2"
      },
      "execution_count": 4,
      "outputs": [
        {
          "output_type": "stream",
          "name": "stdout",
          "text": [
            "- E preciso compreender aqueles que ainda nao decidiram e lhes oferecer seguranca para que facam a melhor escolha para o futuro da nossa nacao. Mais do que promessas vazias e abstratas, o Brasil precisa de um caminho solido, pautado em acoes concreta\n"
          ]
        }
      ]
    },
    {
      "cell_type": "code",
      "source": [
        "vocab = sorted(set(text))\n",
        "print(f'{len(vocab)} unique characters')\n",
        "print(vocab[:250])"
      ],
      "metadata": {
        "colab": {
          "base_uri": "https://localhost:8080/"
        },
        "id": "RS1NrIefIEIG",
        "outputId": "00a85108-a167-4c86-f37c-0ecb052f4619"
      },
      "execution_count": 5,
      "outputs": [
        {
          "output_type": "stream",
          "name": "stdout",
          "text": [
            "86 unique characters\n",
            "['\\n', ' ', '!', '\"', '#', '$', '%', '&', \"'\", '(', ')', '*', '+', ',', '-', '.', '/', '0', '1', '2', '3', '4', '5', '6', '7', '8', '9', ':', ';', '=', '?', '@', 'A', 'B', 'C', 'D', 'E', 'F', 'G', 'H', 'I', 'J', 'K', 'L', 'M', 'N', 'O', 'P', 'Q', 'R', 'S', 'T', 'U', 'V', 'W', 'X', 'Y', 'Z', '_', 'a', 'b', 'c', 'd', 'e', 'f', 'g', 'h', 'i', 'j', 'k', 'l', 'm', 'n', 'o', 'p', 'q', 'r', 's', 't', 'u', 'v', 'w', 'x', 'y', 'z', '|']\n"
          ]
        }
      ]
    },
    {
      "cell_type": "code",
      "source": [
        "example_texts = ['abcdefg', 'xyz']\n",
        "\n",
        "chars = tf.strings.unicode_split(example_texts, input_encoding='UTF-8')\n",
        "chars"
      ],
      "metadata": {
        "colab": {
          "base_uri": "https://localhost:8080/"
        },
        "id": "zpZmRrHqJPGW",
        "outputId": "e7d9e630-aab9-4228-cddd-b7d345069c29"
      },
      "execution_count": 6,
      "outputs": [
        {
          "output_type": "execute_result",
          "data": {
            "text/plain": [
              "<tf.RaggedTensor [[b'a', b'b', b'c', b'd', b'e', b'f', b'g'], [b'x', b'y', b'z']]>"
            ]
          },
          "metadata": {},
          "execution_count": 6
        }
      ]
    },
    {
      "cell_type": "code",
      "source": [
        "# characters -> numbers (layer)\n",
        "ids_from_chars = tf.keras.layers.StringLookup(\n",
        "    vocabulary=list(vocab), mask_token=None)"
      ],
      "metadata": {
        "id": "86revmcyJgmW"
      },
      "execution_count": 7,
      "outputs": []
    },
    {
      "cell_type": "code",
      "source": [
        "# It converts from tokens to character IDs:\n",
        "ids = ids_from_chars(chars)\n",
        "ids"
      ],
      "metadata": {
        "colab": {
          "base_uri": "https://localhost:8080/"
        },
        "id": "2LANprqUJp6k",
        "outputId": "95a82393-85ac-443d-85f1-80511f8f76b4"
      },
      "execution_count": 8,
      "outputs": [
        {
          "output_type": "execute_result",
          "data": {
            "text/plain": [
              "<tf.RaggedTensor [[60, 61, 62, 63, 64, 65, 66], [83, 84, 85]]>"
            ]
          },
          "metadata": {},
          "execution_count": 8
        }
      ]
    },
    {
      "cell_type": "code",
      "source": [
        "# numbers -> ids (layer)\n",
        "chars_from_ids = tf.keras.layers.StringLookup(\n",
        "    vocabulary=ids_from_chars.get_vocabulary(), invert=True, mask_token=None)"
      ],
      "metadata": {
        "id": "nfPf7ow2RPrM"
      },
      "execution_count": 9,
      "outputs": []
    },
    {
      "cell_type": "code",
      "source": [
        "# convert numbers -> characters\n",
        "chars = chars_from_ids(ids)\n",
        "chars"
      ],
      "metadata": {
        "colab": {
          "base_uri": "https://localhost:8080/"
        },
        "id": "wsXSoOjTRRap",
        "outputId": "69011796-bc8c-42d4-e716-8b8ab3c9b490"
      },
      "execution_count": 10,
      "outputs": [
        {
          "output_type": "execute_result",
          "data": {
            "text/plain": [
              "<tf.RaggedTensor [[b'a', b'b', b'c', b'd', b'e', b'f', b'g'], [b'x', b'y', b'z']]>"
            ]
          },
          "metadata": {},
          "execution_count": 10
        }
      ]
    },
    {
      "cell_type": "code",
      "source": [
        "# join characters back into text (layer)\n",
        "tf.strings.reduce_join(chars, axis=-1).numpy()"
      ],
      "metadata": {
        "colab": {
          "base_uri": "https://localhost:8080/"
        },
        "id": "FMc8xY_3RUBq",
        "outputId": "3e69416b-c60c-4fa2-8184-e5d174d511a3"
      },
      "execution_count": 11,
      "outputs": [
        {
          "output_type": "execute_result",
          "data": {
            "text/plain": [
              "array([b'abcdefg', b'xyz'], dtype=object)"
            ]
          },
          "metadata": {},
          "execution_count": 11
        }
      ]
    },
    {
      "cell_type": "code",
      "source": [
        "# convert numbers into text\n",
        "def text_from_ids(ids):\n",
        "  return tf.strings.reduce_join(chars_from_ids(ids), axis=-1)"
      ],
      "metadata": {
        "id": "2G1W59VdRXUX"
      },
      "execution_count": 12,
      "outputs": []
    },
    {
      "cell_type": "code",
      "source": [
        "# text -> stream of indices (numbers)\n",
        "all_ids = ids_from_chars(tf.strings.unicode_split(text, 'UTF-8'))\n",
        "all_ids"
      ],
      "metadata": {
        "colab": {
          "base_uri": "https://localhost:8080/"
        },
        "id": "iQFomAnHRZ8K",
        "outputId": "c6253268-64b8-4729-8489-13b81822ca9e"
      },
      "execution_count": 13,
      "outputs": [
        {
          "output_type": "execute_result",
          "data": {
            "text/plain": [
              "<tf.Tensor: shape=(394214,), dtype=int64, numpy=array([15,  2, 37, ..., 68, 72, 64])>"
            ]
          },
          "metadata": {},
          "execution_count": 13
        }
      ]
    },
    {
      "cell_type": "code",
      "source": [
        "ids_dataset = tf.data.Dataset.from_tensor_slices(all_ids)\n",
        "for ids in ids_dataset.take(10):\n",
        "    print(chars_from_ids(ids).numpy().decode('utf-8'))"
      ],
      "metadata": {
        "colab": {
          "base_uri": "https://localhost:8080/"
        },
        "id": "OJYY8kvyRb04",
        "outputId": "fb043f15-8c18-472f-88bc-b3f1e0673b47"
      },
      "execution_count": 14,
      "outputs": [
        {
          "output_type": "stream",
          "name": "stdout",
          "text": [
            "-\n",
            " \n",
            "E\n",
            " \n",
            "p\n",
            "r\n",
            "e\n",
            "c\n",
            "i\n",
            "s\n"
          ]
        }
      ]
    },
    {
      "cell_type": "code",
      "source": [
        "# size of the textual sequences to be used\n",
        "seq_length = 100\n",
        "\n",
        "sequences = ids_dataset.batch(seq_length+1, drop_remainder=True)\n",
        "\n",
        "for seq in sequences.take(1):\n",
        "  print(chars_from_ids(seq))"
      ],
      "metadata": {
        "colab": {
          "base_uri": "https://localhost:8080/"
        },
        "id": "qw5Vl9v7RhxZ",
        "outputId": "f50edf1d-a590-47ef-a4b9-af9c173e145e"
      },
      "execution_count": 15,
      "outputs": [
        {
          "output_type": "stream",
          "name": "stdout",
          "text": [
            "tf.Tensor(\n",
            "[b'-' b' ' b'E' b' ' b'p' b'r' b'e' b'c' b'i' b's' b'o' b' ' b'c' b'o'\n",
            " b'm' b'p' b'r' b'e' b'e' b'n' b'd' b'e' b'r' b' ' b'a' b'q' b'u' b'e'\n",
            " b'l' b'e' b's' b' ' b'q' b'u' b'e' b' ' b'a' b'i' b'n' b'd' b'a' b' '\n",
            " b'n' b'a' b'o' b' ' b'd' b'e' b'c' b'i' b'd' b'i' b'r' b'a' b'm' b' '\n",
            " b'e' b' ' b'l' b'h' b'e' b's' b' ' b'o' b'f' b'e' b'r' b'e' b'c' b'e'\n",
            " b'r' b' ' b's' b'e' b'g' b'u' b'r' b'a' b'n' b'c' b'a' b' ' b'p' b'a'\n",
            " b'r' b'a' b' ' b'q' b'u' b'e' b' ' b'f' b'a' b'c' b'a' b'm' b' ' b'a'\n",
            " b' ' b'm' b'e'], shape=(101,), dtype=string)\n"
          ]
        }
      ]
    },
    {
      "cell_type": "code",
      "source": [
        "for seq in sequences.take(5):\n",
        "  print(text_from_ids(seq).numpy())"
      ],
      "metadata": {
        "colab": {
          "base_uri": "https://localhost:8080/"
        },
        "id": "13KS99P3Ro-3",
        "outputId": "769a07b8-daff-4f3e-8751-093932db232d"
      },
      "execution_count": 16,
      "outputs": [
        {
          "output_type": "stream",
          "name": "stdout",
          "text": [
            "b'- E preciso compreender aqueles que ainda nao decidiram e lhes oferecer seguranca para que facam a me'\n",
            "b'lhor escolha para o futuro da nossa nacao. Mais do que promessas vazias e abstratas, o Brasil precisa'\n",
            "b' de um caminho solido, pautado em acoes concretas e, sobretudo, em principios.\\n- Logo mais, as 19h, f'\n",
            "b'aremos um importante anuncio em nossas redes sociais. Peco que compartilhem este convite com todos os'\n",
            "b' seus contatos para que o nosso anuncio chegue a todos os brasileiros. Voltamos em breve!\\n- Diferente'\n"
          ]
        }
      ]
    },
    {
      "cell_type": "code",
      "source": [
        "# For training you'll need a dataset of (input, label) pairs.\n",
        "# Where input and label are sequences.\n",
        "# At each time step the input is the current character and the label is the next character.\n",
        "# Here's a function that takes a sequence as input, duplicates, and shifts it\n",
        "# to align the input and label for each timestep:\n",
        "def split_input_target(sequence):\n",
        "    input_text = sequence[:-1]\n",
        "    target_text = sequence[1:]\n",
        "    return input_text, target_text"
      ],
      "metadata": {
        "id": "gxKD5hSgRr87"
      },
      "execution_count": 17,
      "outputs": []
    },
    {
      "cell_type": "code",
      "source": [
        "dataset = sequences.map(split_input_target)\n",
        "\n",
        "for input_example, target_example in dataset.take(1):\n",
        "    print(\"Input :\", text_from_ids(input_example).numpy())\n",
        "    print(\"Target:\", text_from_ids(target_example).numpy())"
      ],
      "metadata": {
        "colab": {
          "base_uri": "https://localhost:8080/"
        },
        "id": "pna5TQjHRvBs",
        "outputId": "5f2b33e0-956b-470f-9dc9-2a19551b969c"
      },
      "execution_count": 18,
      "outputs": [
        {
          "output_type": "stream",
          "name": "stdout",
          "text": [
            "Input : b'- E preciso compreender aqueles que ainda nao decidiram e lhes oferecer seguranca para que facam a m'\n",
            "Target: b' E preciso compreender aqueles que ainda nao decidiram e lhes oferecer seguranca para que facam a me'\n"
          ]
        }
      ]
    },
    {
      "cell_type": "code",
      "source": [
        "# Batch size\n",
        "BATCH_SIZE = 64\n",
        "\n",
        "# Buffer size to shuffle the dataset\n",
        "# (TF data is designed to work with possibly infinite sequences,\n",
        "# so it doesn't attempt to shuffle the entire sequence in memory. Instead,\n",
        "# it maintains a buffer in which it shuffles elements).\n",
        "BUFFER_SIZE = 10000\n",
        "\n",
        "dataset = (\n",
        "    dataset\n",
        "    .shuffle(BUFFER_SIZE)\n",
        "    .batch(BATCH_SIZE, drop_remainder=True)\n",
        "    .prefetch(tf.data.experimental.AUTOTUNE))\n",
        "\n",
        "dataset"
      ],
      "metadata": {
        "colab": {
          "base_uri": "https://localhost:8080/"
        },
        "id": "tx8oUEe4RzlT",
        "outputId": "987138d5-5150-4784-a9c8-05b7bb9de233"
      },
      "execution_count": 19,
      "outputs": [
        {
          "output_type": "execute_result",
          "data": {
            "text/plain": [
              "<PrefetchDataset element_spec=(TensorSpec(shape=(64, 100), dtype=tf.int64, name=None), TensorSpec(shape=(64, 100), dtype=tf.int64, name=None))>"
            ]
          },
          "metadata": {},
          "execution_count": 19
        }
      ]
    },
    {
      "cell_type": "code",
      "source": [
        "# Length of the vocabulary in StringLookup Layer\n",
        "vocab_size = len(ids_from_chars.get_vocabulary())\n",
        "\n",
        "# The embedding dimension\n",
        "embedding_dim = 128 \n",
        "\n",
        "# Number of RNN units\n",
        "rnn_units = 512"
      ],
      "metadata": {
        "id": "-WNEA-VETkDS"
      },
      "execution_count": 20,
      "outputs": []
    },
    {
      "cell_type": "code",
      "source": [
        "# building the model\n",
        "class MyModel(tf.keras.Model):\n",
        "  def __init__(self, vocab_size, embedding_dim, rnn_units):\n",
        "    super().__init__(self)\n",
        "    self.embedding = tf.keras.layers.Embedding(vocab_size, embedding_dim)\n",
        "    self.gru_one = tf.keras.layers.GRU(rnn_units,\n",
        "                                   return_sequences=True,\n",
        "                                   return_state=True)\n",
        "\n",
        "    self.dense = tf.keras.layers.Dense(vocab_size)\n",
        "\n",
        "  def call(self, inputs, states=None, return_state=False, training=False):\n",
        "    x = inputs\n",
        "    x = self.embedding(x, training=training)\n",
        "    if states is None:\n",
        "      states = self.gru_one.get_initial_state(x)\n",
        "    x, states = self.gru_one(x, initial_state=states, training=training)\n",
        "    x = self.dense(x, training=training)\n",
        "\n",
        "    if return_state:\n",
        "      return x, states\n",
        "    else:\n",
        "      return x"
      ],
      "metadata": {
        "id": "AXPrXBoGTkgj"
      },
      "execution_count": 21,
      "outputs": []
    },
    {
      "cell_type": "code",
      "source": [
        "# load model\n",
        "model = MyModel(\n",
        "    vocab_size=vocab_size,\n",
        "    embedding_dim=embedding_dim,\n",
        "    rnn_units=rnn_units)"
      ],
      "metadata": {
        "id": "ZyRSYNI3TmkK"
      },
      "execution_count": 22,
      "outputs": []
    },
    {
      "cell_type": "code",
      "source": [
        "# trying the model\n",
        "for input_example_batch, target_example_batch in dataset.take(1):\n",
        "    example_batch_predictions = model(input_example_batch)\n",
        "    print(example_batch_predictions.shape, \"# (batch_size, sequence_length, vocab_size)\")"
      ],
      "metadata": {
        "colab": {
          "base_uri": "https://localhost:8080/"
        },
        "id": "ygVRkf-bTomK",
        "outputId": "6163a87a-870d-4099-fdbe-34034aa181b1"
      },
      "execution_count": 23,
      "outputs": [
        {
          "output_type": "stream",
          "name": "stdout",
          "text": [
            "(64, 100, 87) # (batch_size, sequence_length, vocab_size)\n"
          ]
        }
      ]
    },
    {
      "cell_type": "code",
      "source": [
        "model.summary()"
      ],
      "metadata": {
        "colab": {
          "base_uri": "https://localhost:8080/"
        },
        "id": "YBOrK8xTTrID",
        "outputId": "cfec08d3-40f5-4782-b444-377e548fa9b6"
      },
      "execution_count": 24,
      "outputs": [
        {
          "output_type": "stream",
          "name": "stdout",
          "text": [
            "Model: \"my_model\"\n",
            "_________________________________________________________________\n",
            " Layer (type)                Output Shape              Param #   \n",
            "=================================================================\n",
            " embedding (Embedding)       multiple                  11136     \n",
            "                                                                 \n",
            " gru (GRU)                   multiple                  986112    \n",
            "                                                                 \n",
            " dense (Dense)               multiple                  44631     \n",
            "                                                                 \n",
            "=================================================================\n",
            "Total params: 1,041,879\n",
            "Trainable params: 1,041,879\n",
            "Non-trainable params: 0\n",
            "_________________________________________________________________\n"
          ]
        }
      ]
    },
    {
      "cell_type": "code",
      "source": [
        "# To get actual predictions from the model you need to sample from the output distribution,\n",
        "#to get actual character indices. This distribution is defined by the logits over the character vocabulary.\n",
        "sampled_indices = tf.random.categorical(example_batch_predictions[0], num_samples=1)\n",
        "sampled_indices = tf.squeeze(sampled_indices, axis=-1).numpy()"
      ],
      "metadata": {
        "id": "YotcdIFnTtH6"
      },
      "execution_count": 25,
      "outputs": []
    },
    {
      "cell_type": "code",
      "source": [
        "# example\n",
        "sampled_indices"
      ],
      "metadata": {
        "colab": {
          "base_uri": "https://localhost:8080/"
        },
        "id": "d2JEpu_0Tv8A",
        "outputId": "667a39e0-b3b7-4cc4-d459-a8fb09f63b29"
      },
      "execution_count": 26,
      "outputs": [
        {
          "output_type": "execute_result",
          "data": {
            "text/plain": [
              "array([38, 61, 40, 67, 27, 73,  4, 66, 57, 31, 58, 21,  0, 32,  7, 56, 66,\n",
              "       82, 19, 82, 47, 39, 12, 19,  5, 52, 52, 55,  5, 79, 14,  8, 43,  5,\n",
              "        0, 14, 56, 28, 14, 86, 80, 82, 31, 74, 59,  1, 61, 41, 51, 57, 23,\n",
              "       15, 48, 65, 56, 41, 45, 78, 79, 44, 30, 67, 23, 36, 37, 74, 15, 36,\n",
              "       66, 11, 20, 82, 79, 49, 14, 22, 27,  2, 29, 58, 83, 37,  6, 43, 21,\n",
              "       73, 12, 21, 39, 60, 81, 53, 20, 73, 73, 65, 37, 82, 30,  3])"
            ]
          },
          "metadata": {},
          "execution_count": 26
        }
      ]
    },
    {
      "cell_type": "code",
      "source": [
        "# Decode these to see the text predicted by this untrained model:\n",
        "print(\"Input:\\n\", text_from_ids(input_example_batch[0]).numpy())\n",
        "print()\n",
        "print(\"Next Char Predictions:\\n\", text_from_ids(sampled_indices).numpy())"
      ],
      "metadata": {
        "colab": {
          "base_uri": "https://localhost:8080/"
        },
        "id": "lQz5ZGdtTxpC",
        "outputId": "bc2c7d3c-eac7-4a3f-da61-0cfe4ad6e23d"
      },
      "execution_count": 27,
      "outputs": [
        {
          "output_type": "stream",
          "name": "stdout",
          "text": [
            "Input:\n",
            " b' apelo do leitor Vennicios M. Teles pedindo para baixar impostos sobre jogos eletronicos, resolvi co'\n",
            "\n",
            "Next Char Predictions:\n",
            " b'FbHh9n\"gY?Z3[UNK]@%Xgw1wOG*1#TTW#t,&K#[UNK],X:,|uw?o_\\nbISY5-PfXIMstL=h5DEo-Dg)2wtQ,49 ;ZxE$K3n*3GavU2nnfEw=!'\n"
          ]
        }
      ]
    },
    {
      "cell_type": "code",
      "source": [
        "# cost function\n",
        "loss = tf.losses.SparseCategoricalCrossentropy(from_logits=True)"
      ],
      "metadata": {
        "id": "48Lu3H-WTzfQ"
      },
      "execution_count": 28,
      "outputs": []
    },
    {
      "cell_type": "code",
      "source": [
        "# cost (untrained)\n",
        "example_batch_mean_loss = loss(target_example_batch, example_batch_predictions)\n",
        "print(\"Prediction shape: \", example_batch_predictions.shape, \" # (batch_size, sequence_length, vocab_size)\")\n",
        "print(\"Mean loss:        \", example_batch_mean_loss)"
      ],
      "metadata": {
        "colab": {
          "base_uri": "https://localhost:8080/"
        },
        "id": "81W9IYnxT7uq",
        "outputId": "5638fece-a1d8-4d3d-fcf0-6972d6607f20"
      },
      "execution_count": 29,
      "outputs": [
        {
          "output_type": "stream",
          "name": "stdout",
          "text": [
            "Prediction shape:  (64, 100, 87)  # (batch_size, sequence_length, vocab_size)\n",
            "Mean loss:         tf.Tensor(4.4657874, shape=(), dtype=float32)\n"
          ]
        }
      ]
    },
    {
      "cell_type": "code",
      "source": [
        "tf.exp(example_batch_mean_loss).numpy()"
      ],
      "metadata": {
        "colab": {
          "base_uri": "https://localhost:8080/"
        },
        "id": "MVpYqxwyT_Qn",
        "outputId": "802e0ab8-e9a3-4a05-c763-203c875eb4a9"
      },
      "execution_count": 30,
      "outputs": [
        {
          "output_type": "execute_result",
          "data": {
            "text/plain": [
              "86.989494"
            ]
          },
          "metadata": {},
          "execution_count": 30
        }
      ]
    },
    {
      "cell_type": "code",
      "source": [
        "# model compilation\n",
        "model.compile(optimizer='adam', loss=loss)"
      ],
      "metadata": {
        "id": "xbTkHDDyUBEz"
      },
      "execution_count": 31,
      "outputs": []
    },
    {
      "cell_type": "code",
      "source": [
        "# Directory where the checkpoints will be saved\n",
        "checkpoint_dir = './training_checkpoints'\n",
        "# Name of the checkpoint files\n",
        "checkpoint_prefix = os.path.join(checkpoint_dir, \"ckpt_{epoch}\")\n",
        "\n",
        "checkpoint_callback = tf.keras.callbacks.ModelCheckpoint(\n",
        "    filepath=checkpoint_prefix,\n",
        "    save_weights_only=True)"
      ],
      "metadata": {
        "id": "wIb5tXs6UDXX"
      },
      "execution_count": 32,
      "outputs": []
    },
    {
      "cell_type": "code",
      "source": [
        "EPOCHS = 20"
      ],
      "metadata": {
        "id": "quDBThecUFdn"
      },
      "execution_count": 33,
      "outputs": []
    },
    {
      "cell_type": "code",
      "source": [
        "history = model.fit(dataset, epochs=EPOCHS, callbacks=[checkpoint_callback])"
      ],
      "metadata": {
        "colab": {
          "base_uri": "https://localhost:8080/"
        },
        "id": "RL1HdLuzULkn",
        "outputId": "2d471bb4-301a-4d03-ae6a-8c6a1bf5fc14"
      },
      "execution_count": 34,
      "outputs": [
        {
          "output_type": "stream",
          "name": "stdout",
          "text": [
            "Epoch 1/20\n",
            "60/60 [==============================] - 4s 27ms/step - loss: 3.2830\n",
            "Epoch 2/20\n",
            "60/60 [==============================] - 3s 26ms/step - loss: 2.6105\n",
            "Epoch 3/20\n",
            "60/60 [==============================] - 3s 24ms/step - loss: 2.3879\n",
            "Epoch 4/20\n",
            "60/60 [==============================] - 2s 23ms/step - loss: 2.2725\n",
            "Epoch 5/20\n",
            "60/60 [==============================] - 2s 21ms/step - loss: 2.1753\n",
            "Epoch 6/20\n",
            "60/60 [==============================] - 2s 20ms/step - loss: 2.0844\n",
            "Epoch 7/20\n",
            "60/60 [==============================] - 2s 20ms/step - loss: 1.9951\n",
            "Epoch 8/20\n",
            "60/60 [==============================] - 2s 20ms/step - loss: 1.9089\n",
            "Epoch 9/20\n",
            "60/60 [==============================] - 2s 20ms/step - loss: 1.8264\n",
            "Epoch 10/20\n",
            "60/60 [==============================] - 2s 21ms/step - loss: 1.7469\n",
            "Epoch 11/20\n",
            "60/60 [==============================] - 2s 20ms/step - loss: 1.6768\n",
            "Epoch 12/20\n",
            "60/60 [==============================] - 2s 20ms/step - loss: 1.6158\n",
            "Epoch 13/20\n",
            "60/60 [==============================] - 2s 20ms/step - loss: 1.5605\n",
            "Epoch 14/20\n",
            "60/60 [==============================] - 2s 20ms/step - loss: 1.5104\n",
            "Epoch 15/20\n",
            "60/60 [==============================] - 2s 20ms/step - loss: 1.4666\n",
            "Epoch 16/20\n",
            "60/60 [==============================] - 2s 20ms/step - loss: 1.4251\n",
            "Epoch 17/20\n",
            "60/60 [==============================] - 2s 20ms/step - loss: 1.3886\n",
            "Epoch 18/20\n",
            "60/60 [==============================] - 2s 20ms/step - loss: 1.3517\n",
            "Epoch 19/20\n",
            "60/60 [==============================] - 2s 20ms/step - loss: 1.3190\n",
            "Epoch 20/20\n",
            "60/60 [==============================] - 2s 20ms/step - loss: 1.2891\n"
          ]
        }
      ]
    },
    {
      "cell_type": "code",
      "source": [
        "# text generation model\n",
        "class OneStep(tf.keras.Model):\n",
        "  def __init__(self, model, chars_from_ids, ids_from_chars, temperature=1.0):\n",
        "    super().__init__()\n",
        "    self.temperature = temperature\n",
        "    self.model = model\n",
        "    self.chars_from_ids = chars_from_ids\n",
        "    self.ids_from_chars = ids_from_chars\n",
        "\n",
        "    # Create a mask to prevent \"[UNK]\" from being generated.\n",
        "    skip_ids = self.ids_from_chars(['[UNK]'])[:, None]\n",
        "    sparse_mask = tf.SparseTensor(\n",
        "        # Put a -inf at each bad index.\n",
        "        values=[-float('inf')]*len(skip_ids),\n",
        "        indices=skip_ids,\n",
        "        # Match the shape to the vocabulary\n",
        "        dense_shape=[len(ids_from_chars.get_vocabulary())])\n",
        "    self.prediction_mask = tf.sparse.to_dense(sparse_mask)\n",
        "\n",
        "  @tf.function\n",
        "  def generate_one_step(self, inputs, states=None):\n",
        "    # Convert strings to token IDs.\n",
        "    input_chars = tf.strings.unicode_split(inputs, 'UTF-8')\n",
        "    input_ids = self.ids_from_chars(input_chars).to_tensor()\n",
        "\n",
        "    # Run the model.\n",
        "    # predicted_logits.shape is [batch, char, next_char_logits]\n",
        "    predicted_logits, states = self.model(inputs=input_ids, states=states,\n",
        "                                          return_state=True)\n",
        "    # Only use the last prediction.\n",
        "    predicted_logits = predicted_logits[:, -1, :]\n",
        "    predicted_logits = predicted_logits/self.temperature\n",
        "    # Apply the prediction mask: prevent \"[UNK]\" from being generated.\n",
        "    predicted_logits = predicted_logits + self.prediction_mask\n",
        "\n",
        "    # Sample the output logits to generate token IDs.\n",
        "    predicted_ids = tf.random.categorical(predicted_logits, num_samples=1)\n",
        "    predicted_ids = tf.squeeze(predicted_ids, axis=-1)\n",
        "\n",
        "    # Convert from token ids to characters\n",
        "    predicted_chars = self.chars_from_ids(predicted_ids)\n",
        "\n",
        "    # Return the characters and model state.\n",
        "    return predicted_chars, states"
      ],
      "metadata": {
        "id": "Kg_AY6o-VQW1"
      },
      "execution_count": 35,
      "outputs": []
    },
    {
      "cell_type": "code",
      "source": [
        "one_step_model = OneStep(model, chars_from_ids, ids_from_chars)"
      ],
      "metadata": {
        "id": "gDGpIHpQVRDl"
      },
      "execution_count": 36,
      "outputs": []
    },
    {
      "cell_type": "code",
      "source": [
        "start = time.time()\n",
        "states = None\n",
        "next_char = tf.constant(['Bolsonaro:'])\n",
        "result = [next_char]\n",
        "\n",
        "for n in range(256):\n",
        "  next_char, states = one_step_model.generate_one_step(next_char, states=states)\n",
        "  result.append(next_char)\n",
        "\n",
        "result = tf.strings.join(result)\n",
        "end = time.time()\n",
        "print(result[0].numpy().decode('utf-8'), '\\n\\n' + '_'*80)\n",
        "print('\\nRun time:', end - start)"
      ],
      "metadata": {
        "colab": {
          "base_uri": "https://localhost:8080/"
        },
        "id": "QURSzgj3VTHA",
        "outputId": "7de97b7d-13cf-4e1d-8593-31e16302bbf8"
      },
      "execution_count": 38,
      "outputs": [
        {
          "output_type": "stream",
          "name": "stdout",
          "text": [
            "Bolsonaro: 1 homos 4.000 empresas e tonda qua levar a ate,balidade e terrorista que estamos minimo, tadidamente e sensivo que notos! Sao esta espalha do que podemos defenas para imavem de mulhoris;\n",
            ". mais. Que Direito da Cidadativa e taxa, o Brasil propogica, o que  \n",
            "\n",
            "________________________________________________________________________________\n",
            "\n",
            "Run time: 0.5401482582092285\n"
          ]
        }
      ]
    }
  ]
}