{
  "nbformat": 4,
  "nbformat_minor": 0,
  "metadata": {
    "colab": {
      "provenance": [],
      "authorship_tag": "ABX9TyOAnq/G8tEAEKoN+hJQd0ww",
      "include_colab_link": true
    },
    "kernelspec": {
      "name": "python3",
      "display_name": "Python 3"
    },
    "language_info": {
      "name": "python"
    },
    "accelerator": "GPU",
    "gpuClass": "standard"
  },
  "cells": [
    {
      "cell_type": "markdown",
      "metadata": {
        "id": "view-in-github",
        "colab_type": "text"
      },
      "source": [
        "<a href=\"https://colab.research.google.com/github/carvalheiracarlos/deep_leaning_notebooks/blob/main/text_generation/twitter_generation_rnn.ipynb\" target=\"_parent\"><img src=\"https://colab.research.google.com/assets/colab-badge.svg\" alt=\"Open In Colab\"/></a>"
      ]
    },
    {
      "cell_type": "code",
      "execution_count": null,
      "metadata": {
        "id": "mh5IqIwAFFSW"
      },
      "outputs": [],
      "source": [
        "import pandas as pd\n",
        "import tensorflow as tf\n",
        "import numpy as np\n",
        "import os\n",
        "import time"
      ]
    },
    {
      "cell_type": "code",
      "source": [
        "path_to_file = 'xorume_do_bolsonaro.txt'\n",
        "# Read, then decode for py2 compat.\n",
        "text = open(path_to_file, 'rb').read().decode(encoding='utf-8')\n",
        "# length of text is the number of characters in it\n",
        "print(f'Length of text: {len(text)} characters')"
      ],
      "metadata": {
        "colab": {
          "base_uri": "https://localhost:8080/"
        },
        "id": "BdGcEVFVPA4n",
        "outputId": "35070e6e-c58a-40ba-c4b6-3d5402cc373d"
      },
      "execution_count": null,
      "outputs": [
        {
          "output_type": "stream",
          "name": "stdout",
          "text": [
            "Length of text: 395857 characters\n"
          ]
        }
      ]
    },
    {
      "cell_type": "code",
      "source": [
        "print(text[:250])"
      ],
      "metadata": {
        "colab": {
          "base_uri": "https://localhost:8080/"
        },
        "id": "5_aoVa_EPNch",
        "outputId": "dfad68e0-6a48-4a35-e9ee-0bc0ae7e1270"
      },
      "execution_count": null,
      "outputs": [
        {
          "output_type": "stream",
          "name": "stdout",
          "text": [
            "- É preciso compreender aqueles que ainda não decidiram e lhes oferecer segurança para que façam a melhor escolha para o futuro da nossa nação. Mais do que promessas vazias e abstratas, o Brasil precisa de um caminho sólido, pautado em ações concreta\n"
          ]
        }
      ]
    },
    {
      "cell_type": "code",
      "source": [
        "#text = text.apply(lambda x: x.encode('ascii', 'ignore').decode('ascii'))"
      ],
      "metadata": {
        "id": "RltViFw1I7qN"
      },
      "execution_count": null,
      "outputs": []
    },
    {
      "cell_type": "code",
      "source": [
        "vocab = sorted(set(text))\n",
        "print(f'{len(vocab)} unique characters')\n",
        "print(vocab[:250])"
      ],
      "metadata": {
        "colab": {
          "base_uri": "https://localhost:8080/"
        },
        "id": "RS1NrIefIEIG",
        "outputId": "66873685-425b-4d05-891a-ebd94524ab18"
      },
      "execution_count": null,
      "outputs": [
        {
          "output_type": "stream",
          "name": "stdout",
          "text": [
            "176 unique characters\n",
            "['\\n', ' ', '!', '\"', '#', '$', '%', '&', \"'\", '(', ')', '*', '+', ',', '-', '.', '/', '0', '1', '2', '3', '4', '5', '6', '7', '8', '9', ':', ';', '=', '?', '@', 'A', 'B', 'C', 'D', 'E', 'F', 'G', 'H', 'I', 'J', 'K', 'L', 'M', 'N', 'O', 'P', 'Q', 'R', 'S', 'T', 'U', 'V', 'W', 'X', 'Y', 'Z', '_', 'a', 'b', 'c', 'd', 'e', 'f', 'g', 'h', 'i', 'j', 'k', 'l', 'm', 'n', 'o', 'p', 'q', 'r', 's', 't', 'u', 'v', 'w', 'x', 'y', 'z', '|', '\\xa0', '¡', 'ª', '°', 'º', 'À', 'Á', 'Â', 'Ã', 'Ç', 'É', 'Ê', 'Í', 'Ñ', 'Ó', 'Ô', 'Õ', 'Ú', 'à', 'á', 'â', 'ã', 'ç', 'é', 'ê', 'í', 'ñ', 'ó', 'ô', 'õ', 'ú', 'ᕵ', 'ᖶ', '\\u200b', '–', '—', '‘', '’', '“', '”', '•', '…', '₱', '₵', '⃣', '⚓', '✅', '✈', '➡', '⬇', 'い', 'し', 'ら', '日', '晴', '素', '️', '🇦', '🇧', '🇨', '🇪', '🇬', '🇭', '🇮', '🇯', '🇱', '🇴', '🇵', '🇷', '🇸', '🇹', '🇺', '🇻', '🇾', '🌃', '🌎', '🍕', '🎸', '🏻', '🏼', '👉', '👍', '😂', '🙏', '🚁', '🛫', '🤔', '🤖', '🤝', '🥤']\n"
          ]
        }
      ]
    },
    {
      "cell_type": "code",
      "source": [
        "example_texts = ['abcdefg', 'xyz']\n",
        "\n",
        "chars = tf.strings.unicode_split(example_texts, input_encoding='UTF-8')\n",
        "chars"
      ],
      "metadata": {
        "colab": {
          "base_uri": "https://localhost:8080/"
        },
        "id": "zpZmRrHqJPGW",
        "outputId": "64d42dd9-9be6-408b-f0df-af2dc0735a54"
      },
      "execution_count": null,
      "outputs": [
        {
          "output_type": "execute_result",
          "data": {
            "text/plain": [
              "<tf.RaggedTensor [[b'a', b'b', b'c', b'd', b'e', b'f', b'g'], [b'x', b'y', b'z']]>"
            ]
          },
          "metadata": {},
          "execution_count": 6
        }
      ]
    },
    {
      "cell_type": "code",
      "source": [
        "# characters -> numbers (layer)\n",
        "ids_from_chars = tf.keras.layers.StringLookup(\n",
        "    vocabulary=list(vocab), mask_token=None)"
      ],
      "metadata": {
        "id": "86revmcyJgmW"
      },
      "execution_count": null,
      "outputs": []
    },
    {
      "cell_type": "code",
      "source": [
        "# It converts from tokens to character IDs:\n",
        "ids = ids_from_chars(chars)\n",
        "ids"
      ],
      "metadata": {
        "colab": {
          "base_uri": "https://localhost:8080/"
        },
        "id": "2LANprqUJp6k",
        "outputId": "53ccf464-a2e3-4410-a83f-37f705643583"
      },
      "execution_count": null,
      "outputs": [
        {
          "output_type": "execute_result",
          "data": {
            "text/plain": [
              "<tf.RaggedTensor [[60, 61, 62, 63, 64, 65, 66], [83, 84, 85]]>"
            ]
          },
          "metadata": {},
          "execution_count": 8
        }
      ]
    },
    {
      "cell_type": "code",
      "source": [
        "# numbers -> ids (layer)\n",
        "chars_from_ids = tf.keras.layers.StringLookup(\n",
        "    vocabulary=ids_from_chars.get_vocabulary(), invert=True, mask_token=None)"
      ],
      "metadata": {
        "id": "nfPf7ow2RPrM"
      },
      "execution_count": null,
      "outputs": []
    },
    {
      "cell_type": "code",
      "source": [
        "# convert numbers -> characters\n",
        "chars = chars_from_ids(ids)\n",
        "chars"
      ],
      "metadata": {
        "colab": {
          "base_uri": "https://localhost:8080/"
        },
        "id": "wsXSoOjTRRap",
        "outputId": "468fd0f8-9b97-4793-b580-efa0e609d46f"
      },
      "execution_count": null,
      "outputs": [
        {
          "output_type": "execute_result",
          "data": {
            "text/plain": [
              "<tf.RaggedTensor [[b'a', b'b', b'c', b'd', b'e', b'f', b'g'], [b'x', b'y', b'z']]>"
            ]
          },
          "metadata": {},
          "execution_count": 10
        }
      ]
    },
    {
      "cell_type": "code",
      "source": [
        "# join characters back into text (layer)\n",
        "tf.strings.reduce_join(chars, axis=-1).numpy()"
      ],
      "metadata": {
        "colab": {
          "base_uri": "https://localhost:8080/"
        },
        "id": "FMc8xY_3RUBq",
        "outputId": "882621f8-a262-43ae-bc21-a1387f628c4e"
      },
      "execution_count": null,
      "outputs": [
        {
          "output_type": "execute_result",
          "data": {
            "text/plain": [
              "array([b'abcdefg', b'xyz'], dtype=object)"
            ]
          },
          "metadata": {},
          "execution_count": 11
        }
      ]
    },
    {
      "cell_type": "code",
      "source": [
        "# convert numbers into text\n",
        "def text_from_ids(ids):\n",
        "  return tf.strings.reduce_join(chars_from_ids(ids), axis=-1)"
      ],
      "metadata": {
        "id": "2G1W59VdRXUX"
      },
      "execution_count": null,
      "outputs": []
    },
    {
      "cell_type": "code",
      "source": [
        "# text -> stream of indices (numbers)\n",
        "all_ids = ids_from_chars(tf.strings.unicode_split(text, 'UTF-8'))\n",
        "all_ids"
      ],
      "metadata": {
        "colab": {
          "base_uri": "https://localhost:8080/"
        },
        "id": "iQFomAnHRZ8K",
        "outputId": "fde94eb3-3b09-4f5d-fdea-441c334e0a57"
      },
      "execution_count": null,
      "outputs": [
        {
          "output_type": "execute_result",
          "data": {
            "text/plain": [
              "<tf.Tensor: shape=(395857,), dtype=int64, numpy=array([15,  2, 97, ..., 72, 64,  1])>"
            ]
          },
          "metadata": {},
          "execution_count": 13
        }
      ]
    },
    {
      "cell_type": "code",
      "source": [
        "ids_dataset = tf.data.Dataset.from_tensor_slices(all_ids)\n",
        "for ids in ids_dataset.take(10):\n",
        "    print(chars_from_ids(ids).numpy().decode('utf-8'))"
      ],
      "metadata": {
        "colab": {
          "base_uri": "https://localhost:8080/"
        },
        "id": "OJYY8kvyRb04",
        "outputId": "286598c0-5432-40c7-c575-67965ecac092"
      },
      "execution_count": null,
      "outputs": [
        {
          "output_type": "stream",
          "name": "stdout",
          "text": [
            "-\n",
            " \n",
            "É\n",
            " \n",
            "p\n",
            "r\n",
            "e\n",
            "c\n",
            "i\n",
            "s\n"
          ]
        }
      ]
    },
    {
      "cell_type": "code",
      "source": [
        "# size of the textual sequences to be used\n",
        "seq_length = 100\n",
        "\n",
        "sequences = ids_dataset.batch(seq_length+1, drop_remainder=True)\n",
        "\n",
        "for seq in sequences.take(1):\n",
        "  print(chars_from_ids(seq))"
      ],
      "metadata": {
        "colab": {
          "base_uri": "https://localhost:8080/"
        },
        "id": "qw5Vl9v7RhxZ",
        "outputId": "d574df24-1a40-414f-a840-6bce92ef9697"
      },
      "execution_count": null,
      "outputs": [
        {
          "output_type": "stream",
          "name": "stdout",
          "text": [
            "tf.Tensor(\n",
            "[b'-' b' ' b'\\xc3\\x89' b' ' b'p' b'r' b'e' b'c' b'i' b's' b'o' b' ' b'c'\n",
            " b'o' b'm' b'p' b'r' b'e' b'e' b'n' b'd' b'e' b'r' b' ' b'a' b'q' b'u'\n",
            " b'e' b'l' b'e' b's' b' ' b'q' b'u' b'e' b' ' b'a' b'i' b'n' b'd' b'a'\n",
            " b' ' b'n' b'\\xc3\\xa3' b'o' b' ' b'd' b'e' b'c' b'i' b'd' b'i' b'r' b'a'\n",
            " b'm' b' ' b'e' b' ' b'l' b'h' b'e' b's' b' ' b'o' b'f' b'e' b'r' b'e'\n",
            " b'c' b'e' b'r' b' ' b's' b'e' b'g' b'u' b'r' b'a' b'n' b'\\xc3\\xa7' b'a'\n",
            " b' ' b'p' b'a' b'r' b'a' b' ' b'q' b'u' b'e' b' ' b'f' b'a' b'\\xc3\\xa7'\n",
            " b'a' b'm' b' ' b'a' b' ' b'm' b'e'], shape=(101,), dtype=string)\n"
          ]
        }
      ]
    },
    {
      "cell_type": "code",
      "source": [
        "for seq in sequences.take(5):\n",
        "  print(text_from_ids(seq).numpy())"
      ],
      "metadata": {
        "colab": {
          "base_uri": "https://localhost:8080/"
        },
        "id": "13KS99P3Ro-3",
        "outputId": "cbe6b591-35cc-438f-d40d-31ffcc3b9830"
      },
      "execution_count": null,
      "outputs": [
        {
          "output_type": "stream",
          "name": "stdout",
          "text": [
            "b'- \\xc3\\x89 preciso compreender aqueles que ainda n\\xc3\\xa3o decidiram e lhes oferecer seguran\\xc3\\xa7a para que fa\\xc3\\xa7am a me'\n",
            "b'lhor escolha para o futuro da nossa na\\xc3\\xa7\\xc3\\xa3o. Mais do que promessas vazias e abstratas, o Brasil precisa'\n",
            "b' de um caminho s\\xc3\\xb3lido, pautado em a\\xc3\\xa7\\xc3\\xb5es concretas e, sobretudo, em princ\\xc3\\xadpios.\\n- Logo mais, \\xc3\\xa0s 19h, f'\n",
            "b'aremos um importante an\\xc3\\xbancio em nossas redes sociais. Pe\\xc3\\xa7o que compartilhem este convite com todos os'\n",
            "b' seus contatos para que o nosso an\\xc3\\xbancio chegue a todos os brasileiros. Voltamos em breve!\\n- Diferente'\n"
          ]
        }
      ]
    },
    {
      "cell_type": "code",
      "source": [
        "# For training you'll need a dataset of (input, label) pairs.\n",
        "# Where input and label are sequences.\n",
        "# At each time step the input is the current character and the label is the next character.\n",
        "# Here's a function that takes a sequence as input, duplicates, and shifts it\n",
        "# to align the input and label for each timestep:\n",
        "def split_input_target(sequence):\n",
        "    input_text = sequence[:-1]\n",
        "    target_text = sequence[1:]\n",
        "    return input_text, target_text"
      ],
      "metadata": {
        "id": "gxKD5hSgRr87"
      },
      "execution_count": null,
      "outputs": []
    },
    {
      "cell_type": "code",
      "source": [
        "dataset = sequences.map(split_input_target)\n",
        "\n",
        "for input_example, target_example in dataset.take(1):\n",
        "    print(\"Input :\", text_from_ids(input_example).numpy())\n",
        "    print(\"Target:\", text_from_ids(target_example).numpy())"
      ],
      "metadata": {
        "colab": {
          "base_uri": "https://localhost:8080/"
        },
        "id": "pna5TQjHRvBs",
        "outputId": "54c38a53-b192-4de0-c3b8-f3d64cf1b6df"
      },
      "execution_count": null,
      "outputs": [
        {
          "output_type": "stream",
          "name": "stdout",
          "text": [
            "Input : b'- \\xc3\\x89 preciso compreender aqueles que ainda n\\xc3\\xa3o decidiram e lhes oferecer seguran\\xc3\\xa7a para que fa\\xc3\\xa7am a m'\n",
            "Target: b' \\xc3\\x89 preciso compreender aqueles que ainda n\\xc3\\xa3o decidiram e lhes oferecer seguran\\xc3\\xa7a para que fa\\xc3\\xa7am a me'\n"
          ]
        }
      ]
    },
    {
      "cell_type": "code",
      "source": [
        "# Batch size\n",
        "BATCH_SIZE = 64\n",
        "\n",
        "# Buffer size to shuffle the dataset\n",
        "# (TF data is designed to work with possibly infinite sequences,\n",
        "# so it doesn't attempt to shuffle the entire sequence in memory. Instead,\n",
        "# it maintains a buffer in which it shuffles elements).\n",
        "BUFFER_SIZE = 10000\n",
        "\n",
        "dataset = (\n",
        "    dataset\n",
        "    .shuffle(BUFFER_SIZE)\n",
        "    .batch(BATCH_SIZE, drop_remainder=True)\n",
        "    .prefetch(tf.data.experimental.AUTOTUNE))\n",
        "\n",
        "dataset"
      ],
      "metadata": {
        "colab": {
          "base_uri": "https://localhost:8080/"
        },
        "id": "tx8oUEe4RzlT",
        "outputId": "c4d7567f-d142-447e-9cf9-5c4d83108fbf"
      },
      "execution_count": null,
      "outputs": [
        {
          "output_type": "execute_result",
          "data": {
            "text/plain": [
              "<PrefetchDataset element_spec=(TensorSpec(shape=(64, 100), dtype=tf.int64, name=None), TensorSpec(shape=(64, 100), dtype=tf.int64, name=None))>"
            ]
          },
          "metadata": {},
          "execution_count": 19
        }
      ]
    },
    {
      "cell_type": "code",
      "source": [
        "# Length of the vocabulary in StringLookup Layer\n",
        "vocab_size = len(ids_from_chars.get_vocabulary())\n",
        "\n",
        "# The embedding dimension\n",
        "embedding_dim = 256\n",
        "\n",
        "# Number of RNN units\n",
        "rnn_units = 1024"
      ],
      "metadata": {
        "id": "-WNEA-VETkDS"
      },
      "execution_count": null,
      "outputs": []
    },
    {
      "cell_type": "code",
      "source": [
        "# building the model\n",
        "class MyModel(tf.keras.Model):\n",
        "  def __init__(self, vocab_size, embedding_dim, rnn_units):\n",
        "    super().__init__(self)\n",
        "    self.embedding = tf.keras.layers.Embedding(vocab_size, embedding_dim)\n",
        "    self.gru = tf.keras.layers.GRU(rnn_units,\n",
        "                                   return_sequences=True,\n",
        "                                   return_state=True)\n",
        "    self.dense = tf.keras.layers.Dense(vocab_size)\n",
        "\n",
        "  def call(self, inputs, states=None, return_state=False, training=False):\n",
        "    x = inputs\n",
        "    x = self.embedding(x, training=training)\n",
        "    if states is None:\n",
        "      states = self.gru.get_initial_state(x)\n",
        "    x, states = self.gru(x, initial_state=states, training=training)\n",
        "    x = self.dense(x, training=training)\n",
        "\n",
        "    if return_state:\n",
        "      return x, states\n",
        "    else:\n",
        "      return x"
      ],
      "metadata": {
        "id": "AXPrXBoGTkgj"
      },
      "execution_count": null,
      "outputs": []
    },
    {
      "cell_type": "code",
      "source": [
        "# load model\n",
        "model = MyModel(\n",
        "    vocab_size=vocab_size,\n",
        "    embedding_dim=embedding_dim,\n",
        "    rnn_units=rnn_units)"
      ],
      "metadata": {
        "id": "ZyRSYNI3TmkK"
      },
      "execution_count": null,
      "outputs": []
    },
    {
      "cell_type": "code",
      "source": [
        "# trying the model\n",
        "for input_example_batch, target_example_batch in dataset.take(1):\n",
        "    example_batch_predictions = model(input_example_batch)\n",
        "    print(example_batch_predictions.shape, \"# (batch_size, sequence_length, vocab_size)\")"
      ],
      "metadata": {
        "colab": {
          "base_uri": "https://localhost:8080/"
        },
        "id": "ygVRkf-bTomK",
        "outputId": "5ef14916-725d-4841-c8e3-30611590b58e"
      },
      "execution_count": null,
      "outputs": [
        {
          "output_type": "stream",
          "name": "stdout",
          "text": [
            "(64, 100, 177) # (batch_size, sequence_length, vocab_size)\n"
          ]
        }
      ]
    },
    {
      "cell_type": "code",
      "source": [
        "model.summary()"
      ],
      "metadata": {
        "colab": {
          "base_uri": "https://localhost:8080/"
        },
        "id": "YBOrK8xTTrID",
        "outputId": "38dc530d-34d8-44a9-d2f7-79fa3e52035e"
      },
      "execution_count": null,
      "outputs": [
        {
          "output_type": "stream",
          "name": "stdout",
          "text": [
            "Model: \"my_model\"\n",
            "_________________________________________________________________\n",
            " Layer (type)                Output Shape              Param #   \n",
            "=================================================================\n",
            " embedding (Embedding)       multiple                  45312     \n",
            "                                                                 \n",
            " gru (GRU)                   multiple                  3938304   \n",
            "                                                                 \n",
            " dense (Dense)               multiple                  181425    \n",
            "                                                                 \n",
            "=================================================================\n",
            "Total params: 4,165,041\n",
            "Trainable params: 4,165,041\n",
            "Non-trainable params: 0\n",
            "_________________________________________________________________\n"
          ]
        }
      ]
    },
    {
      "cell_type": "code",
      "source": [
        "# To get actual predictions from the model you need to sample from the output distribution,\n",
        "#to get actual character indices. This distribution is defined by the logits over the character vocabulary.\n",
        "sampled_indices = tf.random.categorical(example_batch_predictions[0], num_samples=1)\n",
        "sampled_indices = tf.squeeze(sampled_indices, axis=-1).numpy()"
      ],
      "metadata": {
        "id": "YotcdIFnTtH6"
      },
      "execution_count": null,
      "outputs": []
    },
    {
      "cell_type": "code",
      "source": [
        "# example\n",
        "sampled_indices"
      ],
      "metadata": {
        "colab": {
          "base_uri": "https://localhost:8080/"
        },
        "id": "d2JEpu_0Tv8A",
        "outputId": "f9ff09e0-02dc-4e74-9356-31192cb580e3"
      },
      "execution_count": null,
      "outputs": [
        {
          "output_type": "execute_result",
          "data": {
            "text/plain": [
              "array([163,  51,  80,  17,  74, 132, 147,   3,   8, 103, 156, 174,  34,\n",
              "        99,  11, 166, 121, 107,  45,  30,  87, 141, 164,  89, 175, 130,\n",
              "       162, 125, 111, 159, 127,   6, 151,  75,  19, 168,  10, 147,  25,\n",
              "        74, 104,  66,  56,  25,   3,  42,  26, 166, 114,  85, 167, 145,\n",
              "        28,  18, 127,  67, 144, 137,  91,  78, 120, 135,  15,  42, 157,\n",
              "       117,  96,  47, 113, 153,  74,  43, 131, 133,  30, 106, 100,  51,\n",
              "       126, 134, 129,  41, 125, 154,  79, 174,  71,   7, 167, 131, 154,\n",
              "        21, 112,  44,  53, 159, 127,  47,  52,  59])"
            ]
          },
          "metadata": {},
          "execution_count": 26
        }
      ]
    },
    {
      "cell_type": "code",
      "source": [
        "# Decode these to see the text predicted by this untrained model:\n",
        "print(\"Input:\\n\", text_from_ids(input_example_batch[0]).numpy())\n",
        "print()\n",
        "print(\"Next Char Predictions:\\n\", text_from_ids(sampled_indices).numpy())"
      ],
      "metadata": {
        "colab": {
          "base_uri": "https://localhost:8080/"
        },
        "id": "lQz5ZGdtTxpC",
        "outputId": "2bf6b7c8-9eec-4d98-b1b6-b9caf13d3449"
      },
      "execution_count": null,
      "outputs": [
        {
          "output_type": "stream",
          "name": "stdout",
          "text": [
            "Input:\n",
            " b' que est\\xc3\\xa3o com libera\\xc3\\xa7\\xc3\\xa3o sendo acelerada. (Segue)\\nCumprimento Joe Biden como 46\\xc2\\xba Presidente dos EUA.'\n",
            "\n",
            "Next Char Predictions:\n",
            " b'\\xf0\\x9f\\x8d\\x95Su/o\\xe2\\x9a\\x93\\xf0\\x9f\\x87\\xaa!&\\xc3\\x95\\xf0\\x9f\\x87\\xb8\\xf0\\x9f\\xa4\\x96B\\xc3\\x8d)\\xf0\\x9f\\x8f\\xbc\\xe2\\x80\\x93\\xc3\\xa2M=\\xc2\\xa0\\xe6\\x99\\xb4\\xf0\\x9f\\x8e\\xb8\\xc2\\xaa\\xf0\\x9f\\xa4\\x9d\\xe2\\x82\\xb5\\xf0\\x9f\\x8c\\x8e\\xe2\\x80\\x9c\\xc3\\xaa\\xf0\\x9f\\x87\\xbb\\xe2\\x80\\xa2$\\xf0\\x9f\\x87\\xafp1\\xf0\\x9f\\x91\\x8d(\\xf0\\x9f\\x87\\xaa7o\\xc3\\x9agX7!J8\\xf0\\x9f\\x8f\\xbc\\xc3\\xb3z\\xf0\\x9f\\x91\\x89\\xf0\\x9f\\x87\\xa7:0\\xe2\\x80\\xa2h\\xf0\\x9f\\x87\\xa6\\xe3\\x81\\x84\\xc2\\xbas\\xe2\\x80\\x8b\\xe2\\x9e\\xa1-J\\xf0\\x9f\\x87\\xb9\\xc3\\xba\\xc3\\x87O\\xc3\\xb1\\xf0\\x9f\\x87\\xb4oK\\xe2\\x83\\xa3\\xe2\\x9c\\x85=\\xc3\\xa1\\xc3\\x91S\\xe2\\x80\\x9d\\xe2\\x9c\\x88\\xe2\\x82\\xb1I\\xe2\\x80\\x9c\\xf0\\x9f\\x87\\xb5t\\xf0\\x9f\\xa4\\x96l%\\xf0\\x9f\\x91\\x89\\xe2\\x83\\xa3\\xf0\\x9f\\x87\\xb53\\xc3\\xadLU\\xf0\\x9f\\x87\\xbb\\xe2\\x80\\xa2OT_'\n"
          ]
        }
      ]
    },
    {
      "cell_type": "code",
      "source": [
        "# cost function\n",
        "loss = tf.losses.SparseCategoricalCrossentropy(from_logits=True)"
      ],
      "metadata": {
        "id": "48Lu3H-WTzfQ"
      },
      "execution_count": null,
      "outputs": []
    },
    {
      "cell_type": "code",
      "source": [
        "# cost (untrained)\n",
        "example_batch_mean_loss = loss(target_example_batch, example_batch_predictions)\n",
        "print(\"Prediction shape: \", example_batch_predictions.shape, \" # (batch_size, sequence_length, vocab_size)\")\n",
        "print(\"Mean loss:        \", example_batch_mean_loss)"
      ],
      "metadata": {
        "colab": {
          "base_uri": "https://localhost:8080/"
        },
        "id": "81W9IYnxT7uq",
        "outputId": "53c84cbe-f30e-47ab-d615-b9e3e45c7ba3"
      },
      "execution_count": null,
      "outputs": [
        {
          "output_type": "stream",
          "name": "stdout",
          "text": [
            "Prediction shape:  (64, 100, 177)  # (batch_size, sequence_length, vocab_size)\n",
            "Mean loss:         tf.Tensor(5.177214, shape=(), dtype=float32)\n"
          ]
        }
      ]
    },
    {
      "cell_type": "code",
      "source": [
        "tf.exp(example_batch_mean_loss).numpy()"
      ],
      "metadata": {
        "colab": {
          "base_uri": "https://localhost:8080/"
        },
        "id": "MVpYqxwyT_Qn",
        "outputId": "318aa9fe-19a3-4310-ca71-b8b44f7cbf14"
      },
      "execution_count": null,
      "outputs": [
        {
          "output_type": "execute_result",
          "data": {
            "text/plain": [
              "177.1885"
            ]
          },
          "metadata": {},
          "execution_count": 30
        }
      ]
    },
    {
      "cell_type": "code",
      "source": [
        "# model compilation\n",
        "model.compile(optimizer='adam', loss=loss)"
      ],
      "metadata": {
        "id": "xbTkHDDyUBEz"
      },
      "execution_count": null,
      "outputs": []
    },
    {
      "cell_type": "code",
      "source": [
        "# Directory where the checkpoints will be saved\n",
        "checkpoint_dir = './training_checkpoints'\n",
        "# Name of the checkpoint files\n",
        "checkpoint_prefix = os.path.join(checkpoint_dir, \"ckpt_{epoch}\")\n",
        "\n",
        "checkpoint_callback = tf.keras.callbacks.ModelCheckpoint(\n",
        "    filepath=checkpoint_prefix,\n",
        "    save_weights_only=True)"
      ],
      "metadata": {
        "id": "wIb5tXs6UDXX"
      },
      "execution_count": null,
      "outputs": []
    },
    {
      "cell_type": "code",
      "source": [
        "EPOCHS = 20"
      ],
      "metadata": {
        "id": "quDBThecUFdn"
      },
      "execution_count": null,
      "outputs": []
    },
    {
      "cell_type": "code",
      "source": [
        "history = model.fit(dataset, epochs=EPOCHS, callbacks=[checkpoint_callback])"
      ],
      "metadata": {
        "colab": {
          "base_uri": "https://localhost:8080/"
        },
        "id": "RL1HdLuzULkn",
        "outputId": "2264b1aa-8e38-4edc-e9cd-b100f9153fd8"
      },
      "execution_count": null,
      "outputs": [
        {
          "output_type": "stream",
          "name": "stdout",
          "text": [
            "Epoch 1/20\n",
            "61/61 [==============================] - 6s 55ms/step - loss: 3.3986\n",
            "Epoch 2/20\n",
            "61/61 [==============================] - 4s 55ms/step - loss: 2.5241\n",
            "Epoch 3/20\n",
            "61/61 [==============================] - 4s 56ms/step - loss: 2.3236\n",
            "Epoch 4/20\n",
            "61/61 [==============================] - 4s 56ms/step - loss: 2.1761\n",
            "Epoch 5/20\n",
            "61/61 [==============================] - 4s 57ms/step - loss: 2.0371\n",
            "Epoch 6/20\n",
            "61/61 [==============================] - 4s 57ms/step - loss: 1.8991\n",
            "Epoch 7/20\n",
            "61/61 [==============================] - 4s 59ms/step - loss: 1.7668\n",
            "Epoch 8/20\n",
            "61/61 [==============================] - 4s 58ms/step - loss: 1.6507\n",
            "Epoch 9/20\n",
            "61/61 [==============================] - 4s 58ms/step - loss: 1.5527\n",
            "Epoch 10/20\n",
            "61/61 [==============================] - 4s 58ms/step - loss: 1.4660\n",
            "Epoch 11/20\n",
            "61/61 [==============================] - 4s 59ms/step - loss: 1.3924\n",
            "Epoch 12/20\n",
            "61/61 [==============================] - 4s 59ms/step - loss: 1.3224\n",
            "Epoch 13/20\n",
            "61/61 [==============================] - 4s 59ms/step - loss: 1.2585\n",
            "Epoch 14/20\n",
            "61/61 [==============================] - 4s 60ms/step - loss: 1.1949\n",
            "Epoch 15/20\n",
            "61/61 [==============================] - 4s 60ms/step - loss: 1.1345\n",
            "Epoch 16/20\n",
            "61/61 [==============================] - 4s 61ms/step - loss: 1.0709\n",
            "Epoch 17/20\n",
            "61/61 [==============================] - 4s 62ms/step - loss: 1.0054\n",
            "Epoch 18/20\n",
            "61/61 [==============================] - 4s 63ms/step - loss: 0.9415\n",
            "Epoch 19/20\n",
            "61/61 [==============================] - 4s 63ms/step - loss: 0.8739\n",
            "Epoch 20/20\n",
            "61/61 [==============================] - 4s 63ms/step - loss: 0.8020\n"
          ]
        }
      ]
    },
    {
      "cell_type": "code",
      "source": [
        "# text generation model\n",
        "class OneStep(tf.keras.Model):\n",
        "  def __init__(self, model, chars_from_ids, ids_from_chars, temperature=1.0):\n",
        "    super().__init__()\n",
        "    self.temperature = temperature\n",
        "    self.model = model\n",
        "    self.chars_from_ids = chars_from_ids\n",
        "    self.ids_from_chars = ids_from_chars\n",
        "\n",
        "    # Create a mask to prevent \"[UNK]\" from being generated.\n",
        "    skip_ids = self.ids_from_chars(['[UNK]'])[:, None]\n",
        "    sparse_mask = tf.SparseTensor(\n",
        "        # Put a -inf at each bad index.\n",
        "        values=[-float('inf')]*len(skip_ids),\n",
        "        indices=skip_ids,\n",
        "        # Match the shape to the vocabulary\n",
        "        dense_shape=[len(ids_from_chars.get_vocabulary())])\n",
        "    self.prediction_mask = tf.sparse.to_dense(sparse_mask)\n",
        "\n",
        "  @tf.function\n",
        "  def generate_one_step(self, inputs, states=None):\n",
        "    # Convert strings to token IDs.\n",
        "    input_chars = tf.strings.unicode_split(inputs, 'UTF-8')\n",
        "    input_ids = self.ids_from_chars(input_chars).to_tensor()\n",
        "\n",
        "    # Run the model.\n",
        "    # predicted_logits.shape is [batch, char, next_char_logits]\n",
        "    predicted_logits, states = self.model(inputs=input_ids, states=states,\n",
        "                                          return_state=True)\n",
        "    # Only use the last prediction.\n",
        "    predicted_logits = predicted_logits[:, -1, :]\n",
        "    predicted_logits = predicted_logits/self.temperature\n",
        "    # Apply the prediction mask: prevent \"[UNK]\" from being generated.\n",
        "    predicted_logits = predicted_logits + self.prediction_mask\n",
        "\n",
        "    # Sample the output logits to generate token IDs.\n",
        "    predicted_ids = tf.random.categorical(predicted_logits, num_samples=1)\n",
        "    predicted_ids = tf.squeeze(predicted_ids, axis=-1)\n",
        "\n",
        "    # Convert from token ids to characters\n",
        "    predicted_chars = self.chars_from_ids(predicted_ids)\n",
        "\n",
        "    # Return the characters and model state.\n",
        "    return predicted_chars, states"
      ],
      "metadata": {
        "id": "Kg_AY6o-VQW1"
      },
      "execution_count": null,
      "outputs": []
    },
    {
      "cell_type": "code",
      "source": [
        "one_step_model = OneStep(model, chars_from_ids, ids_from_chars)"
      ],
      "metadata": {
        "id": "gDGpIHpQVRDl"
      },
      "execution_count": null,
      "outputs": []
    },
    {
      "cell_type": "code",
      "source": [
        "start = time.time()\n",
        "states = None\n",
        "next_char = tf.constant(['Bolsonaro:'])\n",
        "result = [next_char]\n",
        "\n",
        "for n in range(1000):\n",
        "  next_char, states = one_step_model.generate_one_step(next_char, states=states)\n",
        "  result.append(next_char)\n",
        "\n",
        "result = tf.strings.join(result)\n",
        "end = time.time()\n",
        "print(result[0].numpy().decode('utf-8'), '\\n\\n' + '_'*80)\n",
        "print('\\nRun time:', end - start)"
      ],
      "metadata": {
        "colab": {
          "base_uri": "https://localhost:8080/"
        },
        "id": "QURSzgj3VTHA",
        "outputId": "0cccf64b-6e16-40e4-ef81-fde03316dc06"
      },
      "execution_count": null,
      "outputs": [
        {
          "output_type": "stream",
          "name": "stdout",
          "text": [
            "Bolsonaro:\n",
            "1- O @govbr consumido há pouco à aborto a desbinação fiz ao seu país entre as nações em comandonados pelo caro\n",
            "Ferendizento básico referando o caminho-ceperal ao PT e investir ao sensalão que potencialmente para negecires que serão destróinas de março do Siotórica. Codais baixos merecemos mais recussos sem setra 15 pensionistas.\n",
            "- UTA WEFRS-Jão: Etusa/entenca.\n",
            "O terrorás na Brasil pode mercado envolvendo mais justares até 2020, uma povia agrária\"?\n",
            "O dia 11 agora).\n",
            "Mais uma vez mais avançam a cobrar defendendo a compar come signões que conticulativos menos sua autoridade e investimentos nos meses. Também com profissionais e grandes possibilidade de informar, que seja hando ser a passagem de dinheiro das atuais assinados, cujo objetivo para se concluívam aos ideolos isso.\n",
            "- No dia de o trmísão em 2019 do Uma that, apresentado pela cristinh, aviação sibnicipal com a segurança e investiu R$ 15, bilhões, não gerem repossem obsas, autonomia pauta e após ser um deseja, nez a esquelda em 20 m \n",
            "\n",
            "________________________________________________________________________________\n",
            "\n",
            "Run time: 3.448136329650879\n"
          ]
        }
      ]
    }
  ]
}