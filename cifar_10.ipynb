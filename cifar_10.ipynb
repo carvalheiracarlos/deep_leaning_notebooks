{
  "nbformat": 4,
  "nbformat_minor": 0,
  "metadata": {
    "colab": {
      "provenance": [],
      "authorship_tag": "ABX9TyOjJCo/mVqVsJa2v7tg21iK",
      "include_colab_link": true
    },
    "kernelspec": {
      "name": "python3",
      "display_name": "Python 3"
    },
    "language_info": {
      "name": "python"
    },
    "accelerator": "GPU",
    "gpuClass": "standard"
  },
  "cells": [
    {
      "cell_type": "markdown",
      "metadata": {
        "id": "view-in-github",
        "colab_type": "text"
      },
      "source": [
        "<a href=\"https://colab.research.google.com/github/carvalheiracarlos/deep_leaning_notebooks/blob/main/cifar_10.ipynb\" target=\"_parent\"><img src=\"https://colab.research.google.com/assets/colab-badge.svg\" alt=\"Open In Colab\"/></a>"
      ]
    },
    {
      "cell_type": "code",
      "execution_count": 1,
      "metadata": {
        "id": "dn9CgTNIVVj1"
      },
      "outputs": [],
      "source": [
        "import numpy as np\n",
        "import tensorflow as tf\n",
        "import matplotlib.pyplot as plt\n",
        "from tensorflow import keras"
      ]
    },
    {
      "cell_type": "code",
      "execution_count": 2,
      "metadata": {
        "colab": {
          "base_uri": "https://localhost:8080/"
        },
        "id": "sXnDmXR7RDr2",
        "outputId": "133f09de-3cd1-4dc0-a2c1-c5f247c69ff0"
      },
      "outputs": [
        {
          "output_type": "stream",
          "name": "stdout",
          "text": [
            "Found GPU at: /device:GPU:0\n"
          ]
        }
      ],
      "source": [
        "device_name = tf.test.gpu_device_name()\n",
        "if device_name != '/device:GPU:0':\n",
        "  raise SystemError('GPU device not found')\n",
        "print('Found GPU at: {}'.format(device_name))"
      ]
    },
    {
      "cell_type": "code",
      "source": [
        "(X_train, y_train), (X_test, y_test) = keras.datasets.cifar10.load_data()"
      ],
      "metadata": {
        "id": "e_MaQE6vVo-w"
      },
      "execution_count": 3,
      "outputs": []
    },
    {
      "cell_type": "code",
      "source": [
        "print(f'Train Sets Shapes.....X_train: {X_train.shape}')\n",
        "print(f'Train Sets Shapes.....y_train: {y_train.shape}')\n",
        "print(f'Tests Sets Shapes.....X_test: {X_test.shape}')\n",
        "print(f'Tests Sets Shapes.....y_test: {y_test.shape}')"
      ],
      "metadata": {
        "colab": {
          "base_uri": "https://localhost:8080/"
        },
        "id": "v2r2aNq2WE9h",
        "outputId": "4ce618e7-70c7-47a1-9392-ee4a3603183a"
      },
      "execution_count": 4,
      "outputs": [
        {
          "output_type": "stream",
          "name": "stdout",
          "text": [
            "Train Sets Shapes.....X_train: (50000, 32, 32, 3)\n",
            "Train Sets Shapes.....y_train: (50000, 1)\n",
            "Tests Sets Shapes.....X_test: (10000, 32, 32, 3)\n",
            "Tests Sets Shapes.....y_test: (10000, 1)\n"
          ]
        }
      ]
    },
    {
      "cell_type": "code",
      "source": [
        "plt.imshow(X_train[22])\n",
        "print(y_train[22])"
      ],
      "metadata": {
        "colab": {
          "base_uri": "https://localhost:8080/",
          "height": 283
        },
        "id": "wnuu5lkPWL0o",
        "outputId": "fc4a4a25-5682-449e-d82c-da7870fc0218"
      },
      "execution_count": 5,
      "outputs": [
        {
          "output_type": "stream",
          "name": "stdout",
          "text": [
            "[6]\n"
          ]
        },
        {
          "output_type": "display_data",
          "data": {
            "text/plain": [
              "<Figure size 432x288 with 1 Axes>"
            ],
            "image/png": "[encoded data removed]"
          },
          "metadata": {
            "needs_background": "light"
          }
        }
      ]
    },
    {
      "cell_type": "code",
      "source": [
        "# Scale images to the [0, 1] range\n",
        "X_train = X_train.astype(\"float32\") / 255\n",
        "X_test = X_test.astype(\"float32\") / 255\n",
        "\n",
        "\n",
        "\n",
        "y_train = tf.keras.utils.to_categorical(y_train)\n",
        "y_test = tf.keras.utils.to_categorical(y_test)\n"
      ],
      "metadata": {
        "id": "kapRG19JoGeg"
      },
      "execution_count": 6,
      "outputs": []
    },
    {
      "cell_type": "code",
      "source": [
        "validation_images, validation_labels = X_train[:5000], y_train[:5000]\n",
        "train_images, train_labels = X_train[5000:], y_train[5000:]"
      ],
      "metadata": {
        "id": "jTTA50igRMad"
      },
      "execution_count": 6,
      "outputs": []
    },
    {
      "cell_type": "code",
      "source": [
        "# Referencies https://towardsdatascience.com/implementing-alexnet-cnn-architecture-using-tensorflow-2-0-and-keras-2113e090ad98"
      ],
      "metadata": {
        "id": "_i8GWUqDSYUn"
      },
      "execution_count": 7,
      "outputs": []
    },
    {
      "cell_type": "code",
      "source": [
        "def process_images(image, label):\n",
        "    image = tf.image.per_image_standardization(image)\n",
        "    image = tf.image.resize(image, (32,32))\n",
        "    return image, label"
      ],
      "metadata": {
        "id": "L-7zwU73QyDg"
      },
      "execution_count": 8,
      "outputs": []
    },
    {
      "cell_type": "code",
      "source": [
        "train_ds = tf.data.Dataset.from_tensor_slices((train_images, train_labels))\n",
        "test_ds = tf.data.Dataset.from_tensor_slices((X_test, y_test))\n",
        "validation_ds = tf.data.Dataset.from_tensor_slices((validation_images, validation_labels))\n",
        "train_images.shape"
      ],
      "metadata": {
        "colab": {
          "base_uri": "https://localhost:8080/"
        },
        "id": "5yvCJrfHRp8o",
        "outputId": "a70ffdf8-bc87-4eea-9846-64cc49ecc3a2"
      },
      "execution_count": 9,
      "outputs": [
        {
          "output_type": "execute_result",
          "data": {
            "text/plain": [
              "(45000, 32, 32, 3)"
            ]
          },
          "metadata": {},
          "execution_count": 9
        }
      ]
    },
    {
      "cell_type": "code",
      "source": [
        "train_ds_size = tf.data.experimental.cardinality(train_ds).numpy()\n",
        "test_ds_size = tf.data.experimental.cardinality(test_ds).numpy()\n",
        "validation_ds_size = tf.data.experimental.cardinality(validation_ds).numpy()\n",
        "print(\"Training data size:\", train_ds_size)\n",
        "print(\"Test data size:\", test_ds_size)\n",
        "print(\"Validation data size:\", validation_ds_size)"
      ],
      "metadata": {
        "colab": {
          "base_uri": "https://localhost:8080/"
        },
        "id": "cnWJ-wI1Q7M4",
        "outputId": "dbbce08b-8fc5-45c4-fe2c-ea68e187314c"
      },
      "execution_count": 10,
      "outputs": [
        {
          "output_type": "stream",
          "name": "stdout",
          "text": [
            "Training data size: 45000\n",
            "Test data size: 10000\n",
            "Validation data size: 5000\n"
          ]
        }
      ]
    },
    {
      "cell_type": "code",
      "source": [
        "train_ds = (train_ds\n",
        "                  .map(process_images)\n",
        "                  .shuffle(buffer_size=train_ds_size)\n",
        "                  .batch(batch_size=10, drop_remainder=True))\n",
        "test_ds = (test_ds\n",
        "                  .map(process_images)\n",
        "                  .shuffle(buffer_size=train_ds_size)\n",
        "                  .batch(batch_size=10, drop_remainder=True))\n",
        "validation_ds = (validation_ds\n",
        "                  .map(process_images)\n",
        "                  .shuffle(buffer_size=train_ds_size)\n",
        "                  .batch(batch_size=10, drop_remainder=True))"
      ],
      "metadata": {
        "id": "K_6RWQYFR9Qf"
      },
      "execution_count": 11,
      "outputs": []
    },
    {
      "cell_type": "code",
      "source": [
        "class LightAlexNet:\n",
        "  @staticmethod\n",
        "  def build(n_channels, \n",
        "            rows, \n",
        "            cols, \n",
        "            n_classes, \n",
        "            activation='relu', \n",
        "            weights_path=None):\n",
        "    model = keras.models.Sequential()\n",
        "    \n",
        "    input_Shape = (rows, cols, n_channels)\n",
        "    \n",
        "    model.add(keras.layers.Conv2D(filters=96, \n",
        "                                  kernel_size=(5,5),\n",
        "                                  strides=(2,2),\n",
        "                                  activation=activation, \n",
        "                                  input_shape=input_Shape))\n",
        "    model.add(keras.layers.BatchNormalization())\n",
        "    model.add(keras.layers.MaxPooling2D(pool_size=(3, 3), strides=(2, 2)))\n",
        "    \n",
        "    \n",
        "    model.add(keras.layers.Conv2D(filters=256, \n",
        "                                  kernel_size=(5,5),\n",
        "                                  strides=(1,1),\n",
        "                                  activation=activation, \n",
        "                                  input_shape=input_Shape,\n",
        "                                  padding='same'))\n",
        "    model.add(keras.layers.BatchNormalization())\n",
        "    model.add(keras.layers.MaxPooling2D(pool_size=(3, 3), strides=(2, 2)))\n",
        "    \n",
        "    \n",
        "    model.add(keras.layers.Conv2D(filters=384, \n",
        "                                  kernel_size=(3,3),\n",
        "                                  strides=(1,1),\n",
        "                                  activation=activation, \n",
        "                                  input_shape=input_Shape,\n",
        "                                  padding='same'))\n",
        "    model.add(keras.layers.BatchNormalization())\n",
        "    \n",
        "    \n",
        "    model.add(keras.layers.Conv2D(filters=384, \n",
        "                                  kernel_size=(3,3),\n",
        "                                  strides=(1,1),\n",
        "                                  activation=activation, \n",
        "                                  input_shape=input_Shape,\n",
        "                                  padding='same'))\n",
        "    model.add(keras.layers.BatchNormalization())\n",
        "    \n",
        "    \n",
        "    model.add(keras.layers.Conv2D(filters=384, \n",
        "                                  kernel_size=(3,3),\n",
        "                                  strides=(1,1),\n",
        "                                  activation=activation, \n",
        "                                  input_shape=input_Shape,\n",
        "                                  padding='same'))\n",
        "    model.add(keras.layers.BatchNormalization())\n",
        "    \n",
        "    \n",
        "    model.add(keras.layers.Flatten())\n",
        "    model.add(keras.layers.Dense(50, activation=activation))\n",
        "    model.add(keras.layers.Dropout(0.5))\n",
        "    \n",
        "    model.add(keras.layers.Flatten())\n",
        "    model.add(keras.layers.Dense(50, activation=activation))\n",
        "    model.add(keras.layers.Dropout(0.5))\n",
        "\n",
        "    model.add(keras.layers.Dense(n_classes, activation='softmax'))\n",
        "\n",
        "    # if a weights path is supplied (inicating that the model was\n",
        "    # pre-trained), then load the weights\n",
        "    if weights_path is not None:\n",
        "      model.load_weights(weights_path)\n",
        "    \n",
        "    return model"
      ],
      "metadata": {
        "id": "jJWgMrAZb4_q"
      },
      "execution_count": 10,
      "outputs": []
    },
    {
      "cell_type": "code",
      "source": [
        "n_epochs = 1\n",
        "ini_learning_rate = 1e-3"
      ],
      "metadata": {
        "id": "FTNgZU6PIWU_"
      },
      "execution_count": 8,
      "outputs": []
    },
    {
      "cell_type": "code",
      "source": [
        "with tf.device('/device:GPU:0') as sess:\n",
        "    train_model = LightAlexNet.build(n_channels=3, \n",
        "                                     rows=32,\n",
        "                                     cols=32, \n",
        "                                     n_classes=10, \n",
        "                                     activation='relu', \n",
        "                                     weights_path=None)\n",
        "\n",
        "    opt = keras.optimizers.Adam(learning_rate=ini_learning_rate, decay=ini_learning_rate / n_epochs)\n",
        "    train_model.compile(loss='categorical_crossentropy', \n",
        "                        optimizer=opt, \n",
        "                        metrics=[keras.metrics.categorical_accuracy])\n",
        "    train_model.summary()\n",
        "    try:\n",
        "        file_path = 'weights/LightAlexNet.h5'\n",
        "        check_point = keras.callbacks.ModelCheckpoint(file_path, \n",
        "                                                      monitor='accuracy', \n",
        "                                                      verbose=0, \n",
        "                                                      save_best_only=True,\n",
        "                                                      mode='max',\n",
        "                                                      save_weights_only=True)\n",
        "        #add tensorboard callbacks\n",
        "        tensorboard = keras.callbacks.TensorBoard('./logs/fit/')\n",
        "        callbacks_list = [check_point, tensorboard]\n",
        "        \n",
        "        fit_history = train_model.fit(x=X_train,\n",
        "                                      y=y_train,\n",
        "                                      epochs=n_epochs,\n",
        "                                      validation_split=0.1,\n",
        "                                      validation_freq=1,\n",
        "                                      callbacks=callbacks_list,\n",
        "                                      verbose=1)\n",
        "    \n",
        "   \n",
        "    except IOError:\n",
        "        print('Error while saving the Model weights')"
      ],
      "metadata": {
        "colab": {
          "base_uri": "https://localhost:8080/"
        },
        "id": "w4Vw5CfuIYU4",
        "outputId": "b78bb886-391a-4cd6-e3af-82fbf68fb5ab"
      },
      "execution_count": 14,
      "outputs": [
        {
          "output_type": "stream",
          "name": "stdout",
          "text": [
            "Model: \"sequential_4\"\n",
            "_________________________________________________________________\n",
            " Layer (type)                Output Shape              Param #   \n",
            "=================================================================\n",
            " conv2d_17 (Conv2D)          (None, 14, 14, 96)        7296      \n",
            "                                                                 \n",
            " batch_normalization_17 (Bat  (None, 14, 14, 96)       384       \n",
            " chNormalization)                                                \n",
            "                                                                 \n",
            " max_pooling2d_8 (MaxPooling  (None, 6, 6, 96)         0         \n",
            " 2D)                                                             \n",
            "                                                                 \n",
            " conv2d_18 (Conv2D)          (None, 6, 6, 256)         614656    \n",
            "                                                                 \n",
            " batch_normalization_18 (Bat  (None, 6, 6, 256)        1024      \n",
            " chNormalization)                                                \n",
            "                                                                 \n",
            " max_pooling2d_9 (MaxPooling  (None, 2, 2, 256)        0         \n",
            " 2D)                                                             \n",
            "                                                                 \n",
            " conv2d_19 (Conv2D)          (None, 2, 2, 384)         885120    \n",
            "                                                                 \n",
            " batch_normalization_19 (Bat  (None, 2, 2, 384)        1536      \n",
            " chNormalization)                                                \n",
            "                                                                 \n",
            " conv2d_20 (Conv2D)          (None, 2, 2, 384)         1327488   \n",
            "                                                                 \n",
            " batch_normalization_20 (Bat  (None, 2, 2, 384)        1536      \n",
            " chNormalization)                                                \n",
            "                                                                 \n",
            " conv2d_21 (Conv2D)          (None, 2, 2, 384)         1327488   \n",
            "                                                                 \n",
            " batch_normalization_21 (Bat  (None, 2, 2, 384)        1536      \n",
            " chNormalization)                                                \n",
            "                                                                 \n",
            " flatten_6 (Flatten)         (None, 1536)              0         \n",
            "                                                                 \n",
            " dense_9 (Dense)             (None, 50)                76850     \n",
            "                                                                 \n",
            " dropout_6 (Dropout)         (None, 50)                0         \n",
            "                                                                 \n",
            " flatten_7 (Flatten)         (None, 50)                0         \n",
            "                                                                 \n",
            " dense_10 (Dense)            (None, 50)                2550      \n",
            "                                                                 \n",
            " dropout_7 (Dropout)         (None, 50)                0         \n",
            "                                                                 \n",
            " dense_11 (Dense)            (None, 10)                510       \n",
            "                                                                 \n",
            "=================================================================\n",
            "Total params: 4,247,974\n",
            "Trainable params: 4,244,966\n",
            "Non-trainable params: 3,008\n",
            "_________________________________________________________________\n",
            "1406/1407 [============================>.] - ETA: 0s - loss: 2.3086 - categorical_accuracy: 0.0976"
          ]
        },
        {
          "output_type": "stream",
          "name": "stderr",
          "text": [
            "WARNING:tensorflow:Can save best model only with accuracy available, skipping.\n"
          ]
        },
        {
          "output_type": "stream",
          "name": "stdout",
          "text": [
            "\b\b\b\b\b\b\b\b\b\b\b\b\b\b\b\b\b\b\b\b\b\b\b\b\b\b\b\b\b\b\b\b\b\b\b\b\b\b\b\b\b\b\b\b\b\b\b\b\b\b\b\b\b\b\b\b\b\b\b\b\b\b\b\b\b\b\b\b\b\b\b\b\b\b\b\b\b\b\b\b\b\b\b\b\b\b\b\b\b\b\b\b\b\b\b\b\b\b\r1407/1407 [==============================] - 32s 10ms/step - loss: 2.3086 - categorical_accuracy: 0.0976 - val_loss: 2.3027 - val_categorical_accuracy: 0.0976\n"
          ]
        }
      ]
    }
  ]
}