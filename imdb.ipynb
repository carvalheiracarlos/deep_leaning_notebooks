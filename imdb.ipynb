{
  "nbformat": 4,
  "nbformat_minor": 0,
  "metadata": {
    "colab": {
      "provenance": [],
      "authorship_tag": "ABX9TyO194EGw0hYsPn2VoDkuXwx",
      "include_colab_link": true
    },
    "kernelspec": {
      "name": "python3",
      "display_name": "Python 3"
    },
    "language_info": {
      "name": "python"
    }
  },
  "cells": [
    {
      "cell_type": "markdown",
      "metadata": {
        "id": "view-in-github",
        "colab_type": "text"
      },
      "source": [
        "<a href=\"https://colab.research.google.com/github/carvalheiracarlos/deep_leaning_notebooks/blob/main/imdb.ipynb\" target=\"_parent\"><img src=\"https://colab.research.google.com/assets/colab-badge.svg\" alt=\"Open In Colab\"/></a>"
      ]
    },
    {
      "cell_type": "code",
      "execution_count": 1,
      "metadata": {
        "id": "t9d1db2aB0ZW"
      },
      "outputs": [],
      "source": [
        "import numpy as np\n",
        "import matplotlib.pyplot as plt\n",
        "import tensorflow as tf"
      ]
    },
    {
      "cell_type": "code",
      "source": [
        "(X_train, y_train), (X_test, y_test) = tf.keras.datasets.imdb.load_data()"
      ],
      "metadata": {
        "id": "4azctbIeCDPf"
      },
      "execution_count": 2,
      "outputs": []
    },
    {
      "cell_type": "code",
      "source": [
        "'''\n",
        "Probably need to merge this X_train and X_test, \n",
        "than partition again in some better proportion(train: 80% | test: 20%).\n",
        "\n",
        "Fill review arrarys with zeros to have same lenght.\n",
        "'''\n",
        "print(f'Train Sets Shapes.....X_train: {X_train.shape}')\n",
        "print(f'Train Sets Shapes.....y_train: {y_train.shape}')\n",
        "print(f'Train Sets Largest Review Size: {max([max(review) for review in X_train])}')\n",
        "print(f'Tests Sets Shapes.....X_test: {X_test.shape}')\n",
        "print(f'Tests Sets Shapes.....y_test: {y_test.shape}')\n",
        "print(f'Train Sets Largest Review Size: {max([max(review) for review in X_test])}')"
      ],
      "metadata": {
        "colab": {
          "base_uri": "https://localhost:8080/"
        },
        "id": "_8bpZO37Sd81",
        "outputId": "194100a9-65e4-4162-8aec-df92d0b68d2c"
      },
      "execution_count": 3,
      "outputs": [
        {
          "output_type": "stream",
          "name": "stdout",
          "text": [
            "Train Sets Shapes.....X_train: (25000,)\n",
            "Train Sets Shapes.....y_train: (25000,)\n",
            "Train Sets Largest Review Size: 88586\n",
            "Tests Sets Shapes.....X_test: (25000,)\n",
            "Tests Sets Shapes.....y_test: (25000,)\n",
            "Train Sets Largest Review Size: 88584\n"
          ]
        }
      ]
    },
    {
      "cell_type": "code",
      "source": [
        "X = np.concatenate((X_train, X_test), axis=0)\n",
        "y = X = np.concatenate((y_train, y_test), axis=0)\n",
        "\n",
        "print(f'All Data Shape.......X: {X.shape}')\n",
        "print(f'All labels Shape.....y: {y.shape}')"
      ],
      "metadata": {
        "colab": {
          "base_uri": "https://localhost:8080/"
        },
        "id": "hPgAC6Rj6qx1",
        "outputId": "27713a66-b599-44c8-acc1-dd075a59e221"
      },
      "execution_count": 4,
      "outputs": [
        {
          "output_type": "stream",
          "name": "stdout",
          "text": [
            "All Data Shape.......X: (50000,)\n",
            "All labels Shape.....y: (50000,)\n"
          ]
        }
      ]
    },
    {
      "cell_type": "code",
      "source": [
        "# Thanks to https://github.com/kashif/tf-keras-tutorial/blob/tf2/3-imdb.ipynb\n",
        "def vectorize_sequences(sequences, dimension=10000):\n",
        "    results = np.zeros((len(sequences), dimension), dtype=np.float32)\n",
        "    for i, sequence in enumerate(sequences):\n",
        "        results[i, sequence] = 1.\n",
        "    return results\n",
        "\n",
        "X = vectorize_sequences(X)"
      ],
      "metadata": {
        "id": "4YAhBD1x7POE"
      },
      "execution_count": 5,
      "outputs": []
    },
    {
      "cell_type": "code",
      "source": [
        "# Thanks to https://github.com/kashif/tf-keras-tutorial/blob/tf2/3-imdb.ipynb\n",
        "y = np.reshape(np.asarray(y, dtype=np.float32), (len(X), 1))"
      ],
      "metadata": {
        "id": "HN8wLLHo-CCS"
      },
      "execution_count": 6,
      "outputs": []
    },
    {
      "cell_type": "code",
      "source": [
        "print(f'Data Shape after Vectorize......: {X.shape}')\n",
        "print(f'Lables Shape after reshape.......: {y_train.shape}')"
      ],
      "metadata": {
        "colab": {
          "base_uri": "https://localhost:8080/"
        },
        "outputId": "88ee73ea-82b8-4d8e-b723-012ad4c03585",
        "id": "3jy99fQ--iXD"
      },
      "execution_count": 7,
      "outputs": [
        {
          "output_type": "stream",
          "name": "stdout",
          "text": [
            "Data Shape after Vectorize......: (50000, 10000)\n",
            "Lables Shape after reshape.......: (25000,)\n"
          ]
        }
      ]
    },
    {
      "cell_type": "code",
      "source": [
        "'''\n",
        "partition_size: size based on Lenght on X_train\n",
        "                to divide validation and train sets on proportion of ~ 20% - 80%\n",
        "'''\n",
        "\n",
        "partition_size = int(len(X) * 0.2)\n",
        "test_reviews, test_labels = X[:partition_size], y[:partition_size]\n",
        "train_reviews, train_labels = X[partition_size:], y[partition_size:]\n",
        "validation_reviews, validation_labels = train_reviews[:partition_size], train_labels[:partition_size]\n",
        "\n",
        "\n",
        "print(f'Train Sets: {train_reviews.shape}, {train_labels.shape}')\n",
        "print(f'Tests Sets: {test_reviews.shape}, {test_labels.shape}')\n",
        "print(f'Validation Sets: {validation_reviews.shape}, {validation_labels.shape}')"
      ],
      "metadata": {
        "colab": {
          "base_uri": "https://localhost:8080/"
        },
        "id": "sSLKAJDHS18W",
        "outputId": "a5867305-8e0f-4ff9-d3c8-85d475db3923"
      },
      "execution_count": 8,
      "outputs": [
        {
          "output_type": "stream",
          "name": "stdout",
          "text": [
            "Train Sets: (40000, 10000), (40000, 1)\n",
            "Tests Sets: (10000, 10000), (10000, 1)\n",
            "Validation Sets: (10000, 10000), (10000, 1)\n"
          ]
        }
      ]
    },
    {
      "cell_type": "code",
      "source": [
        "class DenseNet:\n",
        "  @staticmethod\n",
        "  def build(input_shape, \n",
        "            n_classes, \n",
        "            activation='relu', \n",
        "            weights_path=None):\n",
        "\n",
        "    model = tf.keras.models.Sequential()\n",
        "    \n",
        "    model.add(tf.keras.layers.Dense(32, activation=activation, input_shape=input_shape))\n",
        "    model.add(tf.keras.layers.Dropout(0.3))\n",
        "    model.add(tf.keras.layers.Dense(32, activation=activation))\n",
        "    model.add(tf.keras.layers.Dropout(0.3))\n",
        "\n",
        "    model.add(tf.keras.layers.Dense(n_classes, activation='sigmoid'))\n",
        "\n",
        "    # if a weights path is supplied (inicating that the model was\n",
        "    # pre-trained), then load the weights\n",
        "    if weights_path is not None:\n",
        "      model.load_weights(weights_path)\n",
        "    \n",
        "    return model"
      ],
      "metadata": {
        "id": "MfjP15KQWpJu"
      },
      "execution_count": 9,
      "outputs": []
    },
    {
      "cell_type": "code",
      "source": [
        "n_epochs = 200 \n",
        "ini_learning_rate = 1e-3\n",
        "batch_size=128"
      ],
      "metadata": {
        "id": "kBC_rlcnXrsB"
      },
      "execution_count": 10,
      "outputs": []
    },
    {
      "cell_type": "code",
      "source": [
        "train_model = DenseNet.build(input_shape=(10000, ), \n",
        "                             n_classes=1, \n",
        "                             activation='relu', \n",
        "                             weights_path=None)\n",
        "\n",
        "opt = tf.keras.optimizers.Adam(learning_rate=ini_learning_rate,\n",
        "                               beta_1=0.9, \n",
        "                               beta_2=0.999, \n",
        "                               epsilon=1e-08,\n",
        "                               decay=ini_learning_rate/n_epochs)\n",
        "\n",
        "train_model.compile(loss=tf.keras.losses.BinaryCrossentropy(from_logits=True), \n",
        "                    optimizer=opt, \n",
        "                    metrics=[tf.keras.metrics.BinaryAccuracy()])\n",
        "\n",
        "train_model.summary()\n",
        "\n",
        "tensorboard = tf.keras.callbacks.TensorBoard('./logs/fit/',\n",
        "                                          write_images=True)\n",
        "\n",
        "callbacks_list = [tensorboard]\n",
        "\n",
        "fit_history = train_model.fit(x=train_reviews,\n",
        "                              y=train_labels,\n",
        "                              epochs=n_epochs,\n",
        "                              validation_data=(validation_reviews, validation_labels),\n",
        "                              validation_freq=1,\n",
        "                              batch_size=batch_size,\n",
        "                              callbacks=callbacks_list,\n",
        "                              verbose=1)"
      ],
      "metadata": {
        "colab": {
          "base_uri": "https://localhost:8080/"
        },
        "id": "jmmD9BhHXikH",
        "outputId": "d01c67c0-d942-4218-a4e7-2dc5bcb8bf18"
      },
      "execution_count": 11,
      "outputs": [
        {
          "output_type": "stream",
          "name": "stdout",
          "text": [
            "Model: \"sequential\"\n",
            "_________________________________________________________________\n",
            " Layer (type)                Output Shape              Param #   \n",
            "=================================================================\n",
            " dense (Dense)               (None, 32)                320032    \n",
            "                                                                 \n",
            " dropout (Dropout)           (None, 32)                0         \n",
            "                                                                 \n",
            " dense_1 (Dense)             (None, 32)                1056      \n",
            "                                                                 \n",
            " dropout_1 (Dropout)         (None, 32)                0         \n",
            "                                                                 \n",
            " dense_2 (Dense)             (None, 1)                 33        \n",
            "                                                                 \n",
            "=================================================================\n",
            "Total params: 321,121\n",
            "Trainable params: 321,121\n",
            "Non-trainable params: 0\n",
            "_________________________________________________________________\n",
            "Epoch 1/200\n"
          ]
        },
        {
          "output_type": "stream",
          "name": "stderr",
          "text": [
            "/usr/local/lib/python3.7/dist-packages/tensorflow/python/util/dispatch.py:1082: UserWarning: \"`binary_crossentropy` received `from_logits=True`, but the `output` argument was produced by a sigmoid or softmax activation and thus does not represent logits. Was this intended?\"\n",
            "  return dispatch_target(*args, **kwargs)\n"
          ]
        },
        {
          "output_type": "stream",
          "name": "stdout",
          "text": [
            "313/313 [==============================] - 4s 12ms/step - loss: 0.1716 - binary_accuracy: 0.9960 - val_loss: 0.0029 - val_binary_accuracy: 1.0000\n",
            "Epoch 2/200\n",
            "313/313 [==============================] - 4s 12ms/step - loss: 0.0041 - binary_accuracy: 1.0000 - val_loss: 2.5848e-04 - val_binary_accuracy: 1.0000\n",
            "Epoch 3/200\n",
            "313/313 [==============================] - 3s 11ms/step - loss: 0.0014 - binary_accuracy: 1.0000 - val_loss: 6.0350e-05 - val_binary_accuracy: 1.0000\n",
            "Epoch 4/200\n",
            "313/313 [==============================] - 3s 11ms/step - loss: 8.4054e-04 - binary_accuracy: 1.0000 - val_loss: 2.1095e-05 - val_binary_accuracy: 1.0000\n",
            "Epoch 5/200\n",
            "313/313 [==============================] - 4s 11ms/step - loss: 5.1466e-04 - binary_accuracy: 1.0000 - val_loss: 9.0050e-06 - val_binary_accuracy: 1.0000\n",
            "Epoch 6/200\n",
            "313/313 [==============================] - 4s 14ms/step - loss: 3.3886e-04 - binary_accuracy: 1.0000 - val_loss: 4.1539e-06 - val_binary_accuracy: 1.0000\n",
            "Epoch 7/200\n",
            "313/313 [==============================] - 4s 14ms/step - loss: 2.2924e-04 - binary_accuracy: 1.0000 - val_loss: 2.0621e-06 - val_binary_accuracy: 1.0000\n",
            "Epoch 8/200\n",
            "313/313 [==============================] - 4s 11ms/step - loss: 2.1142e-04 - binary_accuracy: 1.0000 - val_loss: 1.0782e-06 - val_binary_accuracy: 1.0000\n",
            "Epoch 9/200\n",
            "313/313 [==============================] - 3s 11ms/step - loss: 1.3294e-04 - binary_accuracy: 1.0000 - val_loss: 3.4813e-07 - val_binary_accuracy: 1.0000\n",
            "Epoch 10/200\n",
            "313/313 [==============================] - 3s 11ms/step - loss: 8.9204e-05 - binary_accuracy: 1.0000 - val_loss: 9.4434e-08 - val_binary_accuracy: 1.0000\n",
            "Epoch 11/200\n",
            "313/313 [==============================] - 3s 11ms/step - loss: 6.8447e-05 - binary_accuracy: 1.0000 - val_loss: 3.8977e-08 - val_binary_accuracy: 1.0000\n",
            "Epoch 12/200\n",
            "313/313 [==============================] - 4s 12ms/step - loss: 5.6132e-05 - binary_accuracy: 1.0000 - val_loss: 1.6871e-08 - val_binary_accuracy: 1.0000\n",
            "Epoch 13/200\n",
            "313/313 [==============================] - 6s 20ms/step - loss: 6.4025e-05 - binary_accuracy: 1.0000 - val_loss: 9.3215e-09 - val_binary_accuracy: 1.0000\n",
            "Epoch 14/200\n",
            "313/313 [==============================] - 6s 20ms/step - loss: 4.6901e-05 - binary_accuracy: 1.0000 - val_loss: 4.8028e-09 - val_binary_accuracy: 1.0000\n",
            "Epoch 15/200\n",
            "313/313 [==============================] - 3s 11ms/step - loss: 6.7252e-05 - binary_accuracy: 1.0000 - val_loss: 3.0317e-09 - val_binary_accuracy: 1.0000\n",
            "Epoch 16/200\n",
            "313/313 [==============================] - 3s 11ms/step - loss: 3.2838e-05 - binary_accuracy: 1.0000 - val_loss: 1.8073e-09 - val_binary_accuracy: 1.0000\n",
            "Epoch 17/200\n",
            "313/313 [==============================] - 3s 11ms/step - loss: 2.1916e-05 - binary_accuracy: 1.0000 - val_loss: 1.1094e-09 - val_binary_accuracy: 1.0000\n",
            "Epoch 18/200\n",
            "313/313 [==============================] - 3s 11ms/step - loss: 2.3852e-05 - binary_accuracy: 1.0000 - val_loss: 5.3720e-10 - val_binary_accuracy: 1.0000\n",
            "Epoch 19/200\n",
            "313/313 [==============================] - 3s 11ms/step - loss: 1.7691e-05 - binary_accuracy: 1.0000 - val_loss: 2.7898e-10 - val_binary_accuracy: 1.0000\n",
            "Epoch 20/200\n",
            "313/313 [==============================] - 4s 12ms/step - loss: 1.3059e-05 - binary_accuracy: 1.0000 - val_loss: 1.8085e-10 - val_binary_accuracy: 1.0000\n",
            "Epoch 21/200\n",
            "313/313 [==============================] - 3s 11ms/step - loss: 1.1447e-05 - binary_accuracy: 1.0000 - val_loss: 1.1115e-10 - val_binary_accuracy: 1.0000\n",
            "Epoch 22/200\n",
            "313/313 [==============================] - 3s 11ms/step - loss: 3.2104e-05 - binary_accuracy: 1.0000 - val_loss: 6.9750e-11 - val_binary_accuracy: 1.0000\n",
            "Epoch 23/200\n",
            "313/313 [==============================] - 3s 11ms/step - loss: 1.2338e-05 - binary_accuracy: 1.0000 - val_loss: 3.5709e-11 - val_binary_accuracy: 1.0000\n",
            "Epoch 24/200\n",
            "313/313 [==============================] - 3s 11ms/step - loss: 6.5328e-05 - binary_accuracy: 0.9999 - val_loss: 2.8929e-11 - val_binary_accuracy: 1.0000\n",
            "Epoch 25/200\n",
            "313/313 [==============================] - 4s 12ms/step - loss: 1.2068e-05 - binary_accuracy: 1.0000 - val_loss: 1.2879e-11 - val_binary_accuracy: 1.0000\n",
            "Epoch 26/200\n",
            "313/313 [==============================] - 4s 11ms/step - loss: 1.1213e-05 - binary_accuracy: 1.0000 - val_loss: 5.6802e-12 - val_binary_accuracy: 1.0000\n",
            "Epoch 27/200\n",
            "313/313 [==============================] - 4s 11ms/step - loss: 4.4662e-05 - binary_accuracy: 1.0000 - val_loss: 3.4609e-12 - val_binary_accuracy: 1.0000\n",
            "Epoch 28/200\n",
            "313/313 [==============================] - 4s 12ms/step - loss: 8.2247e-06 - binary_accuracy: 1.0000 - val_loss: 1.6211e-12 - val_binary_accuracy: 1.0000\n",
            "Epoch 29/200\n",
            "313/313 [==============================] - 4s 12ms/step - loss: 4.5918e-05 - binary_accuracy: 1.0000 - val_loss: 6.9975e-13 - val_binary_accuracy: 1.0000\n",
            "Epoch 30/200\n",
            "313/313 [==============================] - 3s 11ms/step - loss: 2.5761e-05 - binary_accuracy: 1.0000 - val_loss: 3.2068e-13 - val_binary_accuracy: 1.0000\n",
            "Epoch 31/200\n",
            "313/313 [==============================] - 3s 11ms/step - loss: 1.2547e-05 - binary_accuracy: 1.0000 - val_loss: 1.5542e-13 - val_binary_accuracy: 1.0000\n",
            "Epoch 32/200\n",
            "313/313 [==============================] - 3s 11ms/step - loss: 9.6732e-06 - binary_accuracy: 1.0000 - val_loss: 7.6193e-14 - val_binary_accuracy: 1.0000\n",
            "Epoch 33/200\n",
            "313/313 [==============================] - 3s 11ms/step - loss: 1.9942e-05 - binary_accuracy: 1.0000 - val_loss: 7.1017e-14 - val_binary_accuracy: 1.0000\n",
            "Epoch 34/200\n",
            "313/313 [==============================] - 3s 11ms/step - loss: 2.8700e-06 - binary_accuracy: 1.0000 - val_loss: 3.3344e-14 - val_binary_accuracy: 1.0000\n",
            "Epoch 35/200\n",
            "313/313 [==============================] - 3s 11ms/step - loss: 1.0188e-04 - binary_accuracy: 0.9999 - val_loss: 1.9820e-14 - val_binary_accuracy: 1.0000\n",
            "Epoch 36/200\n",
            "313/313 [==============================] - 3s 11ms/step - loss: 2.2206e-06 - binary_accuracy: 1.0000 - val_loss: 1.1927e-14 - val_binary_accuracy: 1.0000\n",
            "Epoch 37/200\n",
            "313/313 [==============================] - 3s 11ms/step - loss: 2.6336e-06 - binary_accuracy: 1.0000 - val_loss: 5.3152e-15 - val_binary_accuracy: 1.0000\n",
            "Epoch 38/200\n",
            "313/313 [==============================] - 4s 12ms/step - loss: 2.3596e-05 - binary_accuracy: 1.0000 - val_loss: 5.9931e-15 - val_binary_accuracy: 1.0000\n",
            "Epoch 39/200\n",
            "313/313 [==============================] - 4s 11ms/step - loss: 8.2770e-07 - binary_accuracy: 1.0000 - val_loss: 3.5065e-15 - val_binary_accuracy: 1.0000\n",
            "Epoch 40/200\n",
            "313/313 [==============================] - 4s 12ms/step - loss: 7.1612e-05 - binary_accuracy: 1.0000 - val_loss: 1.6596e-15 - val_binary_accuracy: 1.0000\n",
            "Epoch 41/200\n",
            "313/313 [==============================] - 3s 11ms/step - loss: 1.6561e-06 - binary_accuracy: 1.0000 - val_loss: 8.9119e-16 - val_binary_accuracy: 1.0000\n",
            "Epoch 42/200\n",
            "313/313 [==============================] - 4s 14ms/step - loss: 4.6988e-05 - binary_accuracy: 1.0000 - val_loss: 5.3016e-16 - val_binary_accuracy: 1.0000\n",
            "Epoch 43/200\n",
            "313/313 [==============================] - 4s 12ms/step - loss: 4.3211e-05 - binary_accuracy: 1.0000 - val_loss: 2.7268e-16 - val_binary_accuracy: 1.0000\n",
            "Epoch 44/200\n",
            "313/313 [==============================] - 3s 11ms/step - loss: 3.3806e-06 - binary_accuracy: 1.0000 - val_loss: 2.3342e-16 - val_binary_accuracy: 1.0000\n",
            "Epoch 45/200\n",
            "313/313 [==============================] - 4s 12ms/step - loss: 1.1643e-06 - binary_accuracy: 1.0000 - val_loss: 9.5250e-17 - val_binary_accuracy: 1.0000\n",
            "Epoch 46/200\n",
            "313/313 [==============================] - 4s 13ms/step - loss: 3.4884e-05 - binary_accuracy: 1.0000 - val_loss: 1.5688e-16 - val_binary_accuracy: 1.0000\n",
            "Epoch 47/200\n",
            "313/313 [==============================] - 5s 15ms/step - loss: 1.8039e-05 - binary_accuracy: 1.0000 - val_loss: 3.7769e-17 - val_binary_accuracy: 1.0000\n",
            "Epoch 48/200\n",
            "313/313 [==============================] - 3s 11ms/step - loss: 2.5618e-05 - binary_accuracy: 1.0000 - val_loss: 1.2334e-17 - val_binary_accuracy: 1.0000\n",
            "Epoch 49/200\n",
            "313/313 [==============================] - 3s 11ms/step - loss: 4.5286e-05 - binary_accuracy: 1.0000 - val_loss: 6.3213e-18 - val_binary_accuracy: 1.0000\n",
            "Epoch 50/200\n",
            "313/313 [==============================] - 3s 11ms/step - loss: 1.8147e-06 - binary_accuracy: 1.0000 - val_loss: 2.3815e-18 - val_binary_accuracy: 1.0000\n",
            "Epoch 51/200\n",
            "313/313 [==============================] - 3s 11ms/step - loss: 2.6016e-05 - binary_accuracy: 1.0000 - val_loss: 2.9366e-18 - val_binary_accuracy: 1.0000\n",
            "Epoch 52/200\n",
            "313/313 [==============================] - 4s 12ms/step - loss: 3.3376e-05 - binary_accuracy: 1.0000 - val_loss: 2.3519e-18 - val_binary_accuracy: 1.0000\n",
            "Epoch 53/200\n",
            "313/313 [==============================] - 3s 11ms/step - loss: 3.3146e-07 - binary_accuracy: 1.0000 - val_loss: 8.6698e-19 - val_binary_accuracy: 1.0000\n",
            "Epoch 54/200\n",
            "313/313 [==============================] - 3s 11ms/step - loss: 4.3546e-07 - binary_accuracy: 1.0000 - val_loss: 2.6475e-19 - val_binary_accuracy: 1.0000\n",
            "Epoch 55/200\n",
            "313/313 [==============================] - 3s 11ms/step - loss: 1.8858e-05 - binary_accuracy: 1.0000 - val_loss: 4.8029e-20 - val_binary_accuracy: 1.0000\n",
            "Epoch 56/200\n",
            "313/313 [==============================] - 3s 11ms/step - loss: 2.7478e-05 - binary_accuracy: 1.0000 - val_loss: 1.7749e-20 - val_binary_accuracy: 1.0000\n",
            "Epoch 57/200\n",
            "313/313 [==============================] - 3s 11ms/step - loss: 1.3154e-07 - binary_accuracy: 1.0000 - val_loss: 1.1359e-20 - val_binary_accuracy: 1.0000\n",
            "Epoch 58/200\n",
            "313/313 [==============================] - 3s 11ms/step - loss: 1.8868e-05 - binary_accuracy: 1.0000 - val_loss: 6.3493e-21 - val_binary_accuracy: 1.0000\n",
            "Epoch 59/200\n",
            "313/313 [==============================] - 3s 11ms/step - loss: 2.7239e-07 - binary_accuracy: 1.0000 - val_loss: 2.6283e-21 - val_binary_accuracy: 1.0000\n",
            "Epoch 60/200\n",
            "313/313 [==============================] - 3s 11ms/step - loss: 2.7458e-05 - binary_accuracy: 1.0000 - val_loss: 2.0949e-21 - val_binary_accuracy: 1.0000\n",
            "Epoch 61/200\n",
            "313/313 [==============================] - 3s 11ms/step - loss: 1.9858e-05 - binary_accuracy: 1.0000 - val_loss: 1.1917e-21 - val_binary_accuracy: 1.0000\n",
            "Epoch 62/200\n",
            "313/313 [==============================] - 3s 11ms/step - loss: 2.5343e-06 - binary_accuracy: 1.0000 - val_loss: 2.3221e-22 - val_binary_accuracy: 1.0000\n",
            "Epoch 63/200\n",
            "313/313 [==============================] - 3s 11ms/step - loss: 1.7434e-06 - binary_accuracy: 1.0000 - val_loss: 1.3465e-22 - val_binary_accuracy: 1.0000\n",
            "Epoch 64/200\n",
            "313/313 [==============================] - 4s 12ms/step - loss: 2.4035e-05 - binary_accuracy: 1.0000 - val_loss: 6.9953e-23 - val_binary_accuracy: 1.0000\n",
            "Epoch 65/200\n",
            "313/313 [==============================] - 3s 11ms/step - loss: 3.4300e-05 - binary_accuracy: 1.0000 - val_loss: 2.8508e-23 - val_binary_accuracy: 1.0000\n",
            "Epoch 66/200\n",
            "313/313 [==============================] - 3s 11ms/step - loss: 2.7743e-07 - binary_accuracy: 1.0000 - val_loss: 1.4917e-23 - val_binary_accuracy: 1.0000\n",
            "Epoch 67/200\n",
            "313/313 [==============================] - 3s 11ms/step - loss: 9.5867e-06 - binary_accuracy: 1.0000 - val_loss: 1.3905e-23 - val_binary_accuracy: 1.0000\n",
            "Epoch 68/200\n",
            "313/313 [==============================] - 3s 11ms/step - loss: 2.1553e-05 - binary_accuracy: 1.0000 - val_loss: 2.7178e-24 - val_binary_accuracy: 1.0000\n",
            "Epoch 69/200\n",
            "313/313 [==============================] - 4s 12ms/step - loss: 5.1753e-08 - binary_accuracy: 1.0000 - val_loss: 1.2309e-24 - val_binary_accuracy: 1.0000\n",
            "Epoch 70/200\n",
            "313/313 [==============================] - 4s 12ms/step - loss: 8.8109e-08 - binary_accuracy: 1.0000 - val_loss: 5.9897e-25 - val_binary_accuracy: 1.0000\n",
            "Epoch 71/200\n",
            "313/313 [==============================] - 4s 12ms/step - loss: 1.2851e-06 - binary_accuracy: 1.0000 - val_loss: 3.4659e-25 - val_binary_accuracy: 1.0000\n",
            "Epoch 72/200\n",
            "313/313 [==============================] - 4s 12ms/step - loss: 1.0371e-07 - binary_accuracy: 1.0000 - val_loss: 1.3794e-25 - val_binary_accuracy: 1.0000\n",
            "Epoch 73/200\n",
            "313/313 [==============================] - 4s 11ms/step - loss: 6.7213e-08 - binary_accuracy: 1.0000 - val_loss: 8.6377e-26 - val_binary_accuracy: 1.0000\n",
            "Epoch 74/200\n",
            "313/313 [==============================] - 3s 11ms/step - loss: 1.2842e-05 - binary_accuracy: 1.0000 - val_loss: 7.6660e-26 - val_binary_accuracy: 1.0000\n",
            "Epoch 75/200\n",
            "313/313 [==============================] - 3s 11ms/step - loss: 1.5809e-05 - binary_accuracy: 1.0000 - val_loss: 3.5998e-26 - val_binary_accuracy: 1.0000\n",
            "Epoch 76/200\n",
            "313/313 [==============================] - 3s 11ms/step - loss: 1.4781e-05 - binary_accuracy: 1.0000 - val_loss: 5.9850e-27 - val_binary_accuracy: 1.0000\n",
            "Epoch 77/200\n",
            "313/313 [==============================] - 3s 11ms/step - loss: 4.1774e-07 - binary_accuracy: 1.0000 - val_loss: 5.0333e-28 - val_binary_accuracy: 1.0000\n",
            "Epoch 78/200\n",
            "313/313 [==============================] - 4s 12ms/step - loss: 3.7661e-08 - binary_accuracy: 1.0000 - val_loss: 3.6065e-28 - val_binary_accuracy: 1.0000\n",
            "Epoch 79/200\n",
            "313/313 [==============================] - 3s 11ms/step - loss: 4.1897e-08 - binary_accuracy: 1.0000 - val_loss: 2.2864e-28 - val_binary_accuracy: 1.0000\n",
            "Epoch 80/200\n",
            "313/313 [==============================] - 3s 11ms/step - loss: 4.6722e-06 - binary_accuracy: 1.0000 - val_loss: 2.6561e-28 - val_binary_accuracy: 1.0000\n",
            "Epoch 81/200\n",
            "313/313 [==============================] - 3s 11ms/step - loss: 6.1845e-08 - binary_accuracy: 1.0000 - val_loss: 9.7074e-29 - val_binary_accuracy: 1.0000\n",
            "Epoch 82/200\n",
            "313/313 [==============================] - 3s 11ms/step - loss: 5.2803e-08 - binary_accuracy: 1.0000 - val_loss: 5.0225e-29 - val_binary_accuracy: 1.0000\n",
            "Epoch 83/200\n",
            "313/313 [==============================] - 4s 12ms/step - loss: 1.1242e-08 - binary_accuracy: 1.0000 - val_loss: 2.9539e-29 - val_binary_accuracy: 1.0000\n",
            "Epoch 84/200\n",
            "313/313 [==============================] - 3s 11ms/step - loss: 2.3466e-09 - binary_accuracy: 1.0000 - val_loss: 2.5015e-29 - val_binary_accuracy: 1.0000\n",
            "Epoch 85/200\n",
            "313/313 [==============================] - 3s 11ms/step - loss: 4.3454e-06 - binary_accuracy: 1.0000 - val_loss: 7.0963e-30 - val_binary_accuracy: 1.0000\n",
            "Epoch 86/200\n",
            "313/313 [==============================] - 4s 11ms/step - loss: 1.4343e-05 - binary_accuracy: 1.0000 - val_loss: 2.3833e-29 - val_binary_accuracy: 1.0000\n",
            "Epoch 87/200\n",
            "313/313 [==============================] - 4s 14ms/step - loss: 3.9022e-05 - binary_accuracy: 1.0000 - val_loss: 6.4752e-30 - val_binary_accuracy: 1.0000\n",
            "Epoch 88/200\n",
            "313/313 [==============================] - 4s 11ms/step - loss: 5.9274e-08 - binary_accuracy: 1.0000 - val_loss: 2.1679e-30 - val_binary_accuracy: 1.0000\n",
            "Epoch 89/200\n",
            "313/313 [==============================] - 4s 14ms/step - loss: 9.7390e-06 - binary_accuracy: 1.0000 - val_loss: 6.0556e-31 - val_binary_accuracy: 1.0000\n",
            "Epoch 90/200\n",
            "313/313 [==============================] - 3s 11ms/step - loss: 8.8730e-06 - binary_accuracy: 1.0000 - val_loss: 3.5545e-31 - val_binary_accuracy: 1.0000\n",
            "Epoch 91/200\n",
            "313/313 [==============================] - 4s 12ms/step - loss: 6.3122e-06 - binary_accuracy: 1.0000 - val_loss: 1.7307e-31 - val_binary_accuracy: 1.0000\n",
            "Epoch 92/200\n",
            "313/313 [==============================] - 3s 11ms/step - loss: 5.3296e-06 - binary_accuracy: 1.0000 - val_loss: 1.5250e-31 - val_binary_accuracy: 1.0000\n",
            "Epoch 93/200\n",
            "313/313 [==============================] - 3s 11ms/step - loss: 9.4592e-06 - binary_accuracy: 1.0000 - val_loss: 5.0844e-32 - val_binary_accuracy: 1.0000\n",
            "Epoch 94/200\n",
            "313/313 [==============================] - 3s 11ms/step - loss: 5.4730e-06 - binary_accuracy: 1.0000 - val_loss: 2.6310e-32 - val_binary_accuracy: 1.0000\n",
            "Epoch 95/200\n",
            "313/313 [==============================] - 3s 11ms/step - loss: 6.6744e-07 - binary_accuracy: 1.0000 - val_loss: 8.5014e-33 - val_binary_accuracy: 1.0000\n",
            "Epoch 96/200\n",
            "313/313 [==============================] - 3s 11ms/step - loss: 8.8559e-09 - binary_accuracy: 1.0000 - val_loss: 5.1380e-33 - val_binary_accuracy: 1.0000\n",
            "Epoch 97/200\n",
            "313/313 [==============================] - 4s 11ms/step - loss: 5.5139e-06 - binary_accuracy: 1.0000 - val_loss: 4.4766e-33 - val_binary_accuracy: 1.0000\n",
            "Epoch 98/200\n",
            "313/313 [==============================] - 3s 11ms/step - loss: 8.4871e-08 - binary_accuracy: 1.0000 - val_loss: 3.1736e-33 - val_binary_accuracy: 1.0000\n",
            "Epoch 99/200\n",
            "313/313 [==============================] - 3s 11ms/step - loss: 1.3250e-09 - binary_accuracy: 1.0000 - val_loss: 2.4953e-33 - val_binary_accuracy: 1.0000\n",
            "Epoch 100/200\n",
            "313/313 [==============================] - 3s 11ms/step - loss: 5.5335e-08 - binary_accuracy: 1.0000 - val_loss: 7.6921e-34 - val_binary_accuracy: 1.0000\n",
            "Epoch 101/200\n",
            "313/313 [==============================] - 3s 11ms/step - loss: 3.0950e-06 - binary_accuracy: 1.0000 - val_loss: 4.6531e-34 - val_binary_accuracy: 1.0000\n",
            "Epoch 102/200\n",
            "313/313 [==============================] - 4s 12ms/step - loss: 9.3520e-05 - binary_accuracy: 1.0000 - val_loss: 4.6044e-34 - val_binary_accuracy: 1.0000\n",
            "Epoch 103/200\n",
            "313/313 [==============================] - 4s 11ms/step - loss: 7.9402e-08 - binary_accuracy: 1.0000 - val_loss: 2.6778e-34 - val_binary_accuracy: 1.0000\n",
            "Epoch 104/200\n",
            "313/313 [==============================] - 4s 11ms/step - loss: 1.8016e-06 - binary_accuracy: 1.0000 - val_loss: 6.4914e-35 - val_binary_accuracy: 1.0000\n",
            "Epoch 105/200\n",
            "313/313 [==============================] - 3s 11ms/step - loss: 1.8403e-06 - binary_accuracy: 1.0000 - val_loss: 2.0656e-35 - val_binary_accuracy: 1.0000\n",
            "Epoch 106/200\n",
            "313/313 [==============================] - 4s 11ms/step - loss: 5.6261e-07 - binary_accuracy: 1.0000 - val_loss: 2.0407e-35 - val_binary_accuracy: 1.0000\n",
            "Epoch 107/200\n",
            "313/313 [==============================] - 3s 11ms/step - loss: 6.6441e-05 - binary_accuracy: 1.0000 - val_loss: 3.2403e-36 - val_binary_accuracy: 1.0000\n",
            "Epoch 108/200\n",
            "313/313 [==============================] - 4s 11ms/step - loss: 6.3701e-09 - binary_accuracy: 1.0000 - val_loss: 2.1864e-36 - val_binary_accuracy: 1.0000\n",
            "Epoch 109/200\n",
            "313/313 [==============================] - 4s 12ms/step - loss: 3.8232e-09 - binary_accuracy: 1.0000 - val_loss: 1.7600e-36 - val_binary_accuracy: 1.0000\n",
            "Epoch 110/200\n",
            "313/313 [==============================] - 3s 11ms/step - loss: 1.0294e-07 - binary_accuracy: 1.0000 - val_loss: 8.7649e-37 - val_binary_accuracy: 1.0000\n",
            "Epoch 111/200\n",
            "313/313 [==============================] - 4s 13ms/step - loss: 3.8446e-06 - binary_accuracy: 1.0000 - val_loss: 1.1409e-36 - val_binary_accuracy: 1.0000\n",
            "Epoch 112/200\n",
            "313/313 [==============================] - 4s 11ms/step - loss: 8.0057e-10 - binary_accuracy: 1.0000 - val_loss: 9.2285e-37 - val_binary_accuracy: 1.0000\n",
            "Epoch 113/200\n",
            "313/313 [==============================] - 4s 11ms/step - loss: 5.9889e-10 - binary_accuracy: 1.0000 - val_loss: 5.6126e-37 - val_binary_accuracy: 1.0000\n",
            "Epoch 114/200\n",
            "313/313 [==============================] - 4s 13ms/step - loss: 2.4179e-06 - binary_accuracy: 1.0000 - val_loss: 1.1832e-36 - val_binary_accuracy: 1.0000\n",
            "Epoch 115/200\n",
            "313/313 [==============================] - 4s 12ms/step - loss: 4.0834e-08 - binary_accuracy: 1.0000 - val_loss: 5.0411e-37 - val_binary_accuracy: 1.0000\n",
            "Epoch 116/200\n",
            "313/313 [==============================] - 4s 12ms/step - loss: 7.0142e-07 - binary_accuracy: 1.0000 - val_loss: 8.1333e-38 - val_binary_accuracy: 1.0000\n",
            "Epoch 117/200\n",
            "313/313 [==============================] - 4s 11ms/step - loss: 4.0316e-06 - binary_accuracy: 1.0000 - val_loss: 9.6306e-38 - val_binary_accuracy: 1.0000\n",
            "Epoch 118/200\n",
            "313/313 [==============================] - 3s 11ms/step - loss: 3.7821e-06 - binary_accuracy: 1.0000 - val_loss: 1.7052e-37 - val_binary_accuracy: 1.0000\n",
            "Epoch 119/200\n",
            "313/313 [==============================] - 3s 11ms/step - loss: 7.6069e-07 - binary_accuracy: 1.0000 - val_loss: 1.4852e-37 - val_binary_accuracy: 1.0000\n",
            "Epoch 120/200\n",
            "313/313 [==============================] - 4s 11ms/step - loss: 4.0489e-08 - binary_accuracy: 1.0000 - val_loss: 2.5103e-38 - val_binary_accuracy: 1.0000\n",
            "Epoch 121/200\n",
            "313/313 [==============================] - 3s 11ms/step - loss: 1.9782e-07 - binary_accuracy: 1.0000 - val_loss: 0.0000e+00 - val_binary_accuracy: 1.0000\n",
            "Epoch 122/200\n",
            "313/313 [==============================] - 4s 11ms/step - loss: 1.0663e-08 - binary_accuracy: 1.0000 - val_loss: 0.0000e+00 - val_binary_accuracy: 1.0000\n",
            "Epoch 123/200\n",
            "313/313 [==============================] - 3s 11ms/step - loss: 7.2397e-10 - binary_accuracy: 1.0000 - val_loss: 0.0000e+00 - val_binary_accuracy: 1.0000\n",
            "Epoch 124/200\n",
            "313/313 [==============================] - 4s 11ms/step - loss: 3.6639e-08 - binary_accuracy: 1.0000 - val_loss: 0.0000e+00 - val_binary_accuracy: 1.0000\n",
            "Epoch 125/200\n",
            "313/313 [==============================] - 4s 12ms/step - loss: 3.6138e-06 - binary_accuracy: 1.0000 - val_loss: 0.0000e+00 - val_binary_accuracy: 1.0000\n",
            "Epoch 126/200\n",
            "313/313 [==============================] - 3s 11ms/step - loss: 7.0344e-07 - binary_accuracy: 1.0000 - val_loss: 0.0000e+00 - val_binary_accuracy: 1.0000\n",
            "Epoch 127/200\n",
            "313/313 [==============================] - 5s 15ms/step - loss: 5.7095e-10 - binary_accuracy: 1.0000 - val_loss: 0.0000e+00 - val_binary_accuracy: 1.0000\n",
            "Epoch 128/200\n",
            "313/313 [==============================] - 4s 11ms/step - loss: 7.7720e-05 - binary_accuracy: 1.0000 - val_loss: 0.0000e+00 - val_binary_accuracy: 1.0000\n",
            "Epoch 129/200\n",
            "313/313 [==============================] - 5s 16ms/step - loss: 1.0571e-10 - binary_accuracy: 1.0000 - val_loss: 0.0000e+00 - val_binary_accuracy: 1.0000\n",
            "Epoch 130/200\n",
            "313/313 [==============================] - 4s 11ms/step - loss: 7.5421e-10 - binary_accuracy: 1.0000 - val_loss: 0.0000e+00 - val_binary_accuracy: 1.0000\n",
            "Epoch 131/200\n",
            "313/313 [==============================] - 3s 11ms/step - loss: 7.3537e-10 - binary_accuracy: 1.0000 - val_loss: 0.0000e+00 - val_binary_accuracy: 1.0000\n",
            "Epoch 132/200\n",
            "313/313 [==============================] - 4s 12ms/step - loss: 3.2140e-07 - binary_accuracy: 1.0000 - val_loss: 0.0000e+00 - val_binary_accuracy: 1.0000\n",
            "Epoch 133/200\n",
            "313/313 [==============================] - 3s 11ms/step - loss: 1.5087e-06 - binary_accuracy: 1.0000 - val_loss: 0.0000e+00 - val_binary_accuracy: 1.0000\n",
            "Epoch 134/200\n",
            "313/313 [==============================] - 3s 11ms/step - loss: 3.0537e-10 - binary_accuracy: 1.0000 - val_loss: 0.0000e+00 - val_binary_accuracy: 1.0000\n",
            "Epoch 135/200\n",
            "313/313 [==============================] - 3s 11ms/step - loss: 2.1440e-10 - binary_accuracy: 1.0000 - val_loss: 0.0000e+00 - val_binary_accuracy: 1.0000\n",
            "Epoch 136/200\n",
            "313/313 [==============================] - 3s 11ms/step - loss: 3.1333e-10 - binary_accuracy: 1.0000 - val_loss: 0.0000e+00 - val_binary_accuracy: 1.0000\n",
            "Epoch 137/200\n",
            "313/313 [==============================] - 3s 11ms/step - loss: 7.1425e-11 - binary_accuracy: 1.0000 - val_loss: 0.0000e+00 - val_binary_accuracy: 1.0000\n",
            "Epoch 138/200\n",
            "313/313 [==============================] - 4s 11ms/step - loss: 1.8271e-09 - binary_accuracy: 1.0000 - val_loss: 0.0000e+00 - val_binary_accuracy: 1.0000\n",
            "Epoch 139/200\n",
            "313/313 [==============================] - 4s 11ms/step - loss: 9.5026e-10 - binary_accuracy: 1.0000 - val_loss: 0.0000e+00 - val_binary_accuracy: 1.0000\n",
            "Epoch 140/200\n",
            "313/313 [==============================] - 3s 11ms/step - loss: 1.4432e-10 - binary_accuracy: 1.0000 - val_loss: 0.0000e+00 - val_binary_accuracy: 1.0000\n",
            "Epoch 141/200\n",
            "313/313 [==============================] - 3s 11ms/step - loss: 1.4849e-07 - binary_accuracy: 1.0000 - val_loss: 0.0000e+00 - val_binary_accuracy: 1.0000\n",
            "Epoch 142/200\n",
            "313/313 [==============================] - 3s 11ms/step - loss: 4.8443e-08 - binary_accuracy: 1.0000 - val_loss: 0.0000e+00 - val_binary_accuracy: 1.0000\n",
            "Epoch 143/200\n",
            "313/313 [==============================] - 3s 11ms/step - loss: 3.5488e-06 - binary_accuracy: 1.0000 - val_loss: 0.0000e+00 - val_binary_accuracy: 1.0000\n",
            "Epoch 144/200\n",
            "313/313 [==============================] - 3s 11ms/step - loss: 6.3323e-07 - binary_accuracy: 1.0000 - val_loss: 0.0000e+00 - val_binary_accuracy: 1.0000\n",
            "Epoch 145/200\n",
            "313/313 [==============================] - 3s 11ms/step - loss: 9.6193e-10 - binary_accuracy: 1.0000 - val_loss: 0.0000e+00 - val_binary_accuracy: 1.0000\n",
            "Epoch 146/200\n",
            "313/313 [==============================] - 4s 12ms/step - loss: 3.8999e-10 - binary_accuracy: 1.0000 - val_loss: 0.0000e+00 - val_binary_accuracy: 1.0000\n",
            "Epoch 147/200\n",
            "313/313 [==============================] - 3s 11ms/step - loss: 1.6336e-06 - binary_accuracy: 1.0000 - val_loss: 0.0000e+00 - val_binary_accuracy: 1.0000\n",
            "Epoch 148/200\n",
            "313/313 [==============================] - 3s 11ms/step - loss: 4.6929e-07 - binary_accuracy: 1.0000 - val_loss: 0.0000e+00 - val_binary_accuracy: 1.0000\n",
            "Epoch 149/200\n",
            "313/313 [==============================] - 3s 11ms/step - loss: 1.0841e-09 - binary_accuracy: 1.0000 - val_loss: 0.0000e+00 - val_binary_accuracy: 1.0000\n",
            "Epoch 150/200\n",
            "313/313 [==============================] - 4s 11ms/step - loss: 5.5907e-10 - binary_accuracy: 1.0000 - val_loss: 0.0000e+00 - val_binary_accuracy: 1.0000\n",
            "Epoch 151/200\n",
            "313/313 [==============================] - 4s 11ms/step - loss: 1.2602e-08 - binary_accuracy: 1.0000 - val_loss: 0.0000e+00 - val_binary_accuracy: 1.0000\n",
            "Epoch 152/200\n",
            "313/313 [==============================] - 3s 11ms/step - loss: 2.8436e-06 - binary_accuracy: 1.0000 - val_loss: 0.0000e+00 - val_binary_accuracy: 1.0000\n",
            "Epoch 153/200\n",
            "313/313 [==============================] - 3s 11ms/step - loss: 6.2345e-08 - binary_accuracy: 1.0000 - val_loss: 0.0000e+00 - val_binary_accuracy: 1.0000\n",
            "Epoch 154/200\n",
            "313/313 [==============================] - 4s 11ms/step - loss: 9.0830e-10 - binary_accuracy: 1.0000 - val_loss: 0.0000e+00 - val_binary_accuracy: 1.0000\n",
            "Epoch 155/200\n",
            "313/313 [==============================] - 4s 11ms/step - loss: 8.8252e-10 - binary_accuracy: 1.0000 - val_loss: 0.0000e+00 - val_binary_accuracy: 1.0000\n",
            "Epoch 156/200\n",
            "313/313 [==============================] - 4s 12ms/step - loss: 3.3857e-10 - binary_accuracy: 1.0000 - val_loss: 0.0000e+00 - val_binary_accuracy: 1.0000\n",
            "Epoch 157/200\n",
            "313/313 [==============================] - 4s 11ms/step - loss: 1.3171e-06 - binary_accuracy: 1.0000 - val_loss: 0.0000e+00 - val_binary_accuracy: 1.0000\n",
            "Epoch 158/200\n",
            "313/313 [==============================] - 3s 11ms/step - loss: 1.1885e-08 - binary_accuracy: 1.0000 - val_loss: 0.0000e+00 - val_binary_accuracy: 1.0000\n",
            "Epoch 159/200\n",
            "313/313 [==============================] - 4s 11ms/step - loss: 1.8202e-11 - binary_accuracy: 1.0000 - val_loss: 0.0000e+00 - val_binary_accuracy: 1.0000\n",
            "Epoch 160/200\n",
            "313/313 [==============================] - 4s 12ms/step - loss: 5.9734e-05 - binary_accuracy: 1.0000 - val_loss: 0.0000e+00 - val_binary_accuracy: 1.0000\n",
            "Epoch 161/200\n",
            "313/313 [==============================] - 4s 11ms/step - loss: 9.1159e-08 - binary_accuracy: 1.0000 - val_loss: 0.0000e+00 - val_binary_accuracy: 1.0000\n",
            "Epoch 162/200\n",
            "313/313 [==============================] - 4s 11ms/step - loss: 1.1166e-10 - binary_accuracy: 1.0000 - val_loss: 0.0000e+00 - val_binary_accuracy: 1.0000\n",
            "Epoch 163/200\n",
            "313/313 [==============================] - 4s 12ms/step - loss: 5.4664e-07 - binary_accuracy: 1.0000 - val_loss: 0.0000e+00 - val_binary_accuracy: 1.0000\n",
            "Epoch 164/200\n",
            "313/313 [==============================] - 4s 11ms/step - loss: 4.1356e-10 - binary_accuracy: 1.0000 - val_loss: 0.0000e+00 - val_binary_accuracy: 1.0000\n",
            "Epoch 165/200\n",
            "313/313 [==============================] - 4s 11ms/step - loss: 5.1553e-11 - binary_accuracy: 1.0000 - val_loss: 0.0000e+00 - val_binary_accuracy: 1.0000\n",
            "Epoch 166/200\n",
            "313/313 [==============================] - 4s 12ms/step - loss: 3.6843e-09 - binary_accuracy: 1.0000 - val_loss: 0.0000e+00 - val_binary_accuracy: 1.0000\n",
            "Epoch 167/200\n",
            "313/313 [==============================] - 5s 17ms/step - loss: 3.6548e-11 - binary_accuracy: 1.0000 - val_loss: 0.0000e+00 - val_binary_accuracy: 1.0000\n",
            "Epoch 168/200\n",
            "313/313 [==============================] - 4s 13ms/step - loss: 5.3096e-08 - binary_accuracy: 1.0000 - val_loss: 0.0000e+00 - val_binary_accuracy: 1.0000\n",
            "Epoch 169/200\n",
            "313/313 [==============================] - 5s 15ms/step - loss: 3.9907e-09 - binary_accuracy: 1.0000 - val_loss: 0.0000e+00 - val_binary_accuracy: 1.0000\n",
            "Epoch 170/200\n",
            "313/313 [==============================] - 4s 11ms/step - loss: 1.2617e-11 - binary_accuracy: 1.0000 - val_loss: 0.0000e+00 - val_binary_accuracy: 1.0000\n",
            "Epoch 171/200\n",
            "313/313 [==============================] - 4s 13ms/step - loss: 1.2111e-04 - binary_accuracy: 1.0000 - val_loss: 0.0000e+00 - val_binary_accuracy: 1.0000\n",
            "Epoch 172/200\n",
            "313/313 [==============================] - 4s 12ms/step - loss: 7.4566e-07 - binary_accuracy: 1.0000 - val_loss: 0.0000e+00 - val_binary_accuracy: 1.0000\n",
            "Epoch 173/200\n",
            "313/313 [==============================] - 4s 11ms/step - loss: 1.0354e-08 - binary_accuracy: 1.0000 - val_loss: 0.0000e+00 - val_binary_accuracy: 1.0000\n",
            "Epoch 174/200\n",
            "313/313 [==============================] - 4s 12ms/step - loss: 1.7668e-06 - binary_accuracy: 1.0000 - val_loss: 0.0000e+00 - val_binary_accuracy: 1.0000\n",
            "Epoch 175/200\n",
            "313/313 [==============================] - 4s 12ms/step - loss: 1.3516e-09 - binary_accuracy: 1.0000 - val_loss: 0.0000e+00 - val_binary_accuracy: 1.0000\n",
            "Epoch 176/200\n",
            "313/313 [==============================] - 4s 13ms/step - loss: 1.4534e-07 - binary_accuracy: 1.0000 - val_loss: 0.0000e+00 - val_binary_accuracy: 1.0000\n",
            "Epoch 177/200\n",
            "313/313 [==============================] - 4s 12ms/step - loss: 1.3908e-11 - binary_accuracy: 1.0000 - val_loss: 0.0000e+00 - val_binary_accuracy: 1.0000\n",
            "Epoch 178/200\n",
            "313/313 [==============================] - 4s 12ms/step - loss: 7.9202e-08 - binary_accuracy: 1.0000 - val_loss: 0.0000e+00 - val_binary_accuracy: 1.0000\n",
            "Epoch 179/200\n",
            "313/313 [==============================] - 4s 12ms/step - loss: 1.3259e-09 - binary_accuracy: 1.0000 - val_loss: 0.0000e+00 - val_binary_accuracy: 1.0000\n",
            "Epoch 180/200\n",
            "313/313 [==============================] - 4s 13ms/step - loss: 4.8276e-12 - binary_accuracy: 1.0000 - val_loss: 0.0000e+00 - val_binary_accuracy: 1.0000\n",
            "Epoch 181/200\n",
            "313/313 [==============================] - 4s 12ms/step - loss: 1.5299e-08 - binary_accuracy: 1.0000 - val_loss: 0.0000e+00 - val_binary_accuracy: 1.0000\n",
            "Epoch 182/200\n",
            "313/313 [==============================] - 4s 12ms/step - loss: 9.3507e-05 - binary_accuracy: 1.0000 - val_loss: 0.0000e+00 - val_binary_accuracy: 1.0000\n",
            "Epoch 183/200\n",
            "313/313 [==============================] - 4s 13ms/step - loss: 1.6377e-06 - binary_accuracy: 1.0000 - val_loss: 0.0000e+00 - val_binary_accuracy: 1.0000\n",
            "Epoch 184/200\n",
            "313/313 [==============================] - 4s 12ms/step - loss: 3.8549e-12 - binary_accuracy: 1.0000 - val_loss: 0.0000e+00 - val_binary_accuracy: 1.0000\n",
            "Epoch 185/200\n",
            "313/313 [==============================] - 4s 13ms/step - loss: 1.8780e-04 - binary_accuracy: 0.9999 - val_loss: 0.0000e+00 - val_binary_accuracy: 1.0000\n",
            "Epoch 186/200\n",
            "313/313 [==============================] - 4s 13ms/step - loss: 1.9803e-12 - binary_accuracy: 1.0000 - val_loss: 0.0000e+00 - val_binary_accuracy: 1.0000\n",
            "Epoch 187/200\n",
            "313/313 [==============================] - 4s 11ms/step - loss: 1.8122e-10 - binary_accuracy: 1.0000 - val_loss: 0.0000e+00 - val_binary_accuracy: 1.0000\n",
            "Epoch 188/200\n",
            "313/313 [==============================] - 4s 12ms/step - loss: 9.8316e-05 - binary_accuracy: 1.0000 - val_loss: 0.0000e+00 - val_binary_accuracy: 1.0000\n",
            "Epoch 189/200\n",
            "313/313 [==============================] - 4s 13ms/step - loss: 8.7806e-11 - binary_accuracy: 1.0000 - val_loss: 0.0000e+00 - val_binary_accuracy: 1.0000\n",
            "Epoch 190/200\n",
            "313/313 [==============================] - 4s 11ms/step - loss: 3.3346e-11 - binary_accuracy: 1.0000 - val_loss: 0.0000e+00 - val_binary_accuracy: 1.0000\n",
            "Epoch 191/200\n",
            "313/313 [==============================] - 4s 12ms/step - loss: 3.4047e-06 - binary_accuracy: 1.0000 - val_loss: 0.0000e+00 - val_binary_accuracy: 1.0000\n",
            "Epoch 192/200\n",
            "313/313 [==============================] - 4s 12ms/step - loss: 6.6460e-05 - binary_accuracy: 1.0000 - val_loss: 0.0000e+00 - val_binary_accuracy: 1.0000\n",
            "Epoch 193/200\n",
            "313/313 [==============================] - 4s 12ms/step - loss: 1.1543e-11 - binary_accuracy: 1.0000 - val_loss: 0.0000e+00 - val_binary_accuracy: 1.0000\n",
            "Epoch 194/200\n",
            "313/313 [==============================] - 4s 12ms/step - loss: 1.4589e-11 - binary_accuracy: 1.0000 - val_loss: 0.0000e+00 - val_binary_accuracy: 1.0000\n",
            "Epoch 195/200\n",
            "313/313 [==============================] - 4s 13ms/step - loss: 4.3107e-11 - binary_accuracy: 1.0000 - val_loss: 0.0000e+00 - val_binary_accuracy: 1.0000\n",
            "Epoch 196/200\n",
            "313/313 [==============================] - 4s 13ms/step - loss: 1.4088e-10 - binary_accuracy: 1.0000 - val_loss: 0.0000e+00 - val_binary_accuracy: 1.0000\n",
            "Epoch 197/200\n",
            "313/313 [==============================] - 4s 12ms/step - loss: 7.0033e-06 - binary_accuracy: 1.0000 - val_loss: 0.0000e+00 - val_binary_accuracy: 1.0000\n",
            "Epoch 198/200\n",
            "313/313 [==============================] - 4s 12ms/step - loss: 5.9510e-11 - binary_accuracy: 1.0000 - val_loss: 0.0000e+00 - val_binary_accuracy: 1.0000\n",
            "Epoch 199/200\n",
            "313/313 [==============================] - 4s 12ms/step - loss: 2.1162e-11 - binary_accuracy: 1.0000 - val_loss: 0.0000e+00 - val_binary_accuracy: 1.0000\n",
            "Epoch 200/200\n",
            "313/313 [==============================] - 4s 12ms/step - loss: 4.6399e-09 - binary_accuracy: 1.0000 - val_loss: 0.0000e+00 - val_binary_accuracy: 1.0000\n"
          ]
        }
      ]
    },
    {
      "cell_type": "code",
      "source": [
        "fig, ax = plt.subplots(figsize=(10, 8))\n",
        "ax = plt.plot(fit_history.history['binary_accuracy'], label='Train')\n",
        "ax = plt.plot(fit_history.history['val_binary_accuracy'], label='Validation')\n",
        "ax = plt.xlabel('Epochs')\n",
        "ax = plt.ylabel('Accuracy')\n",
        "ax = plt.legend()"
      ],
      "metadata": {
        "colab": {
          "base_uri": "https://localhost:8080/",
          "height": 497
        },
        "id": "p5Pd6Kz-FVlq",
        "outputId": "371add88-3327-4ef8-e237-493926348cf1"
      },
      "execution_count": 12,
      "outputs": [
        {
          "output_type": "display_data",
          "data": {
            "text/plain": [
              "<Figure size 720x576 with 1 Axes>"
            ],
            "image/png": "[encoded data removed]"
          },
          "metadata": {
            "needs_background": "light"
          }
        }
      ]
    },
    {
      "cell_type": "code",
      "source": [
        "fig, ax = plt.subplots(figsize=(10, 8))\n",
        "ax = plt.plot(fit_history.history['loss'], label='Train')\n",
        "ax = plt.plot(fit_history.history['val_loss'], label='Validation')\n",
        "ax = plt.xlabel('Epochs')\n",
        "ax = plt.ylabel('Loss')\n",
        "ax = plt.title('Loss')\n",
        "ax = plt.legend()"
      ],
      "metadata": {
        "colab": {
          "base_uri": "https://localhost:8080/",
          "height": 513
        },
        "id": "HlXqMOt9FiXF",
        "outputId": "d3b9f0ec-5eb0-4532-a5c1-141eff2ad0b8"
      },
      "execution_count": 13,
      "outputs": [
        {
          "output_type": "display_data",
          "data": {
            "text/plain": [
              "<Figure size 720x576 with 1 Axes>"
            ],
            "image/png": "[encoded data removed]"
          },
          "metadata": {
            "needs_background": "light"
          }
        }
      ]
    }
  ]
}