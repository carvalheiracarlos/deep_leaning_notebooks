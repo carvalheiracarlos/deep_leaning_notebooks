{
  "nbformat": 4,
  "nbformat_minor": 0,
  "metadata": {
    "colab": {
      "provenance": [],
      "authorship_tag": "ABX9TyOoRgM3IBByVDdli8KZDjf+",
      "include_colab_link": true
    },
    "kernelspec": {
      "name": "python3",
      "display_name": "Python 3"
    },
    "language_info": {
      "name": "python"
    }
  },
  "cells": [
    {
      "cell_type": "markdown",
      "metadata": {
        "id": "view-in-github",
        "colab_type": "text"
      },
      "source": [
        "<a href=\"https://colab.research.google.com/github/carvalheiracarlos/deep_leaning_notebooks/blob/main/imdb.ipynb\" target=\"_parent\"><img src=\"https://colab.research.google.com/assets/colab-badge.svg\" alt=\"Open In Colab\"/></a>"
      ]
    },
    {
      "cell_type": "code",
      "execution_count": 1,
      "metadata": {
        "id": "t9d1db2aB0ZW"
      },
      "outputs": [],
      "source": [
        "import numpy as np\n",
        "import matplotlib.pyplot as plt\n",
        "import tensorflow as tf"
      ]
    },
    {
      "cell_type": "code",
      "source": [
        "(X_train, y_train), (X_test, y_test) = tf.keras.datasets.imdb.load_data()"
      ],
      "metadata": {
        "id": "4azctbIeCDPf"
      },
      "execution_count": 2,
      "outputs": []
    },
    {
      "cell_type": "code",
      "source": [
        "'''\n",
        "Probably need to merge this X_train and X_test, \n",
        "than partition again in some better proportion(train: 80% | test: 20%).\n",
        "\n",
        "Fill review arrarys with zeros to have same lenght.\n",
        "'''\n",
        "print(f'Train Sets Shapes.....X_train: {X_train.shape}')\n",
        "print(f'Train Sets Shapes.....y_train: {y_train.shape}')\n",
        "print(f'Train Sets Largest Review Size: {max([max(review) for review in X_train])}')\n",
        "print(f'Tests Sets Shapes.....X_test: {X_test.shape}')\n",
        "print(f'Tests Sets Shapes.....y_test: {y_test.shape}')\n",
        "print(f'Train Sets Largest Review Size: {max([max(review) for review in X_test])}')"
      ],
      "metadata": {
        "colab": {
          "base_uri": "https://localhost:8080/"
        },
        "id": "_8bpZO37Sd81",
        "outputId": "f263bd53-0a20-437b-dbd4-35671b3cf693"
      },
      "execution_count": 3,
      "outputs": [
        {
          "output_type": "stream",
          "name": "stdout",
          "text": [
            "Train Sets Shapes.....X_train: (25000,)\n",
            "Train Sets Shapes.....y_train: (25000,)\n",
            "Train Sets Largest Review Size: 88586\n",
            "Tests Sets Shapes.....X_test: (25000,)\n",
            "Tests Sets Shapes.....y_test: (25000,)\n",
            "Train Sets Largest Review Size: 88584\n"
          ]
        }
      ]
    },
    {
      "cell_type": "code",
      "source": [
        "X = np.concatenate((X_train, X_test), axis=0)\n",
        "y = X = np.concatenate((y_train, y_test), axis=0)\n",
        "\n",
        "print(f'All Data Shape.......X: {X.shape}')\n",
        "print(f'All labels Shape.....y: {y.shape}')"
      ],
      "metadata": {
        "colab": {
          "base_uri": "https://localhost:8080/"
        },
        "id": "hPgAC6Rj6qx1",
        "outputId": "2fff17a7-48b2-42b0-9641-e659c79d85b6"
      },
      "execution_count": 4,
      "outputs": [
        {
          "output_type": "stream",
          "name": "stdout",
          "text": [
            "All Data Shape.......X: (50000,)\n",
            "All labels Shape.....y: (50000,)\n"
          ]
        }
      ]
    },
    {
      "cell_type": "code",
      "source": [
        "# Thanks to https://github.com/kashif/tf-keras-tutorial/blob/tf2/3-imdb.ipynb\n",
        "def vectorize_sequences(sequences, dimension=10000):\n",
        "    results = np.zeros((len(sequences), dimension), dtype=np.float32)\n",
        "    for i, sequence in enumerate(sequences):\n",
        "        results[i, sequence] = 1.\n",
        "    return results\n",
        "\n",
        "X = vectorize_sequences(X)"
      ],
      "metadata": {
        "id": "4YAhBD1x7POE"
      },
      "execution_count": 5,
      "outputs": []
    },
    {
      "cell_type": "code",
      "source": [
        "# Thanks to https://github.com/kashif/tf-keras-tutorial/blob/tf2/3-imdb.ipynb\n",
        "y = np.reshape(np.asarray(y, dtype=np.float32), (len(y), 1))"
      ],
      "metadata": {
        "id": "HN8wLLHo-CCS"
      },
      "execution_count": 7,
      "outputs": []
    },
    {
      "cell_type": "code",
      "source": [
        "print(f'Data Shape after Vectorize......: {X.shape}')\n",
        "print(f'Lables Shape after reshape.......: {y_train.shape}')"
      ],
      "metadata": {
        "colab": {
          "base_uri": "https://localhost:8080/"
        },
        "outputId": "e150017e-be23-4d2c-b2b1-e8963d05480c",
        "id": "3jy99fQ--iXD"
      },
      "execution_count": 10,
      "outputs": [
        {
          "output_type": "stream",
          "name": "stdout",
          "text": [
            "Data Shape after Vectorize......: (50000, 10000)\n",
            "Lables Shape after reshape.......: (25000,)\n"
          ]
        }
      ]
    },
    {
      "cell_type": "code",
      "source": [
        "'''\n",
        "partition_size: size based on Lenght on X_train\n",
        "                to divide validation and train sets on proportion of ~ 20% - 80%\n",
        "'''\n",
        "\n",
        "partition_size = int(len(X_train) * 0.2)\n",
        "test_reviews, test_labels = X[:partition_size], y[:partition_size]\n",
        "train_reviews, train_labels = X[partition_size:], y[partition_size:]\n",
        "validation_reviews, validation_labels = train_reviews[:partition_size], train_labels[:partition_size]\n",
        "\n",
        "\n",
        "print(f'Train Sets: {train_reviews.shape}, {train_labels.shape}')\n",
        "print(f'Tests Sets: {test_reviews.shape}, {test_labels.shape}')\n",
        "print(f'Validation Sets: {validation_reviews.shape}, {validation_labels.shape}')"
      ],
      "metadata": {
        "colab": {
          "base_uri": "https://localhost:8080/"
        },
        "id": "sSLKAJDHS18W",
        "outputId": "e6cd4392-5451-4934-df2c-47ba3f3cd474"
      },
      "execution_count": 11,
      "outputs": [
        {
          "output_type": "stream",
          "name": "stdout",
          "text": [
            "Train Sets: (45000, 10000), (45000, 1)\n",
            "Tests Sets: (5000, 10000), (5000, 1)\n",
            "Validation Sets: (5000, 10000), (5000, 1)\n"
          ]
        }
      ]
    },
    {
      "cell_type": "code",
      "source": [
        "class DenseNet:\n",
        "  @staticmethod\n",
        "  def build(input_shape, \n",
        "            n_classes, \n",
        "            activation='relu', \n",
        "            weights_path=None):\n",
        "\n",
        "    model = tf.keras.models.Sequential()\n",
        "    \n",
        "    model.add(tf.keras.layers.Dense(64, activation=activation, input_shape=input_shape))\n",
        "    model.add(tf.keras.layers.Dropout(0.2))\n",
        "\n",
        "    model.add(tf.keras.layers.Dense(n_classes, activation='softmax'))\n",
        "\n",
        "    # if a weights path is supplied (inicating that the model was\n",
        "    # pre-trained), then load the weights\n",
        "    if weights_path is not None:\n",
        "      model.load_weights(weights_path)\n",
        "    \n",
        "    return model"
      ],
      "metadata": {
        "id": "MfjP15KQWpJu"
      },
      "execution_count": 13,
      "outputs": []
    },
    {
      "cell_type": "code",
      "source": [
        "n_epochs = 200\n",
        "ini_learning_rate = 1e-3\n",
        "batch_size=128"
      ],
      "metadata": {
        "id": "kBC_rlcnXrsB"
      },
      "execution_count": 12,
      "outputs": []
    },
    {
      "cell_type": "code",
      "source": [
        "train_model = DenseNet.build(input_shape=(10000, ), \n",
        "                             n_classes=1, \n",
        "                             activation='relu', \n",
        "                             weights_path=None)\n",
        "\n",
        "opt = tf.keras.optimizers.Adam(learning_rate=ini_learning_rate,\n",
        "                            beta_1=0.9, \n",
        "                            beta_2=0.999, \n",
        "                            epsilon=1e-08,\n",
        "                            decay=ini_learning_rate/n_epochs)\n",
        "\n",
        "train_model.compile(loss='binary_crossentropy', \n",
        "                    optimizer=opt, \n",
        "                    metrics=[tf.keras.metrics.binary_accuracy])\n",
        "train_model.summary()\n",
        "tensorboard = tf.keras.callbacks.TensorBoard('./logs/fit/',\n",
        "                                          write_images=True)\n",
        "\n",
        "callbacks_list = [tensorboard]\n",
        "\n",
        "fit_history = train_model.fit(x=train_reviews,\n",
        "                              y=train_labels,\n",
        "                              epochs=n_epochs,\n",
        "                              validation_data=(validation_reviews, validation_labels),\n",
        "                              validation_freq=1,\n",
        "                              batch_size=batch_size,\n",
        "                              callbacks=callbacks_list,\n",
        "                              verbose=1)"
      ],
      "metadata": {
        "colab": {
          "base_uri": "https://localhost:8080/"
        },
        "id": "jmmD9BhHXikH",
        "outputId": "9223eb4f-cc0a-475b-dbc7-c2dd5b562180"
      },
      "execution_count": 18,
      "outputs": [
        {
          "output_type": "stream",
          "name": "stdout",
          "text": [
            "Model: \"sequential_4\"\n",
            "_________________________________________________________________\n",
            " Layer (type)                Output Shape              Param #   \n",
            "=================================================================\n",
            " dense_8 (Dense)             (None, 64)                640064    \n",
            "                                                                 \n",
            " dropout_4 (Dropout)         (None, 64)                0         \n",
            "                                                                 \n",
            " dense_9 (Dense)             (None, 1)                 65        \n",
            "                                                                 \n",
            "=================================================================\n",
            "Total params: 640,129\n",
            "Trainable params: 640,129\n",
            "Non-trainable params: 0\n",
            "_________________________________________________________________\n",
            "Epoch 1/200\n",
            "352/352 [==============================] - 6s 16ms/step - loss: 0.2424 - binary_accuracy: 0.4990 - val_loss: 0.0304 - val_binary_accuracy: 0.5014\n",
            "Epoch 2/200\n",
            "352/352 [==============================] - 5s 15ms/step - loss: 0.0157 - binary_accuracy: 0.4990 - val_loss: 0.0061 - val_binary_accuracy: 0.5014\n",
            "Epoch 3/200\n",
            "352/352 [==============================] - 5s 14ms/step - loss: 0.0049 - binary_accuracy: 0.4990 - val_loss: 0.0024 - val_binary_accuracy: 0.5014\n",
            "Epoch 4/200\n",
            "352/352 [==============================] - 5s 14ms/step - loss: 0.0024 - binary_accuracy: 0.4990 - val_loss: 0.0012 - val_binary_accuracy: 0.5014\n",
            "Epoch 5/200\n",
            "352/352 [==============================] - 5s 14ms/step - loss: 0.0014 - binary_accuracy: 0.4990 - val_loss: 7.1307e-04 - val_binary_accuracy: 0.5014\n",
            "Epoch 6/200\n",
            "352/352 [==============================] - 5s 15ms/step - loss: 9.0591e-04 - binary_accuracy: 0.4990 - val_loss: 4.5155e-04 - val_binary_accuracy: 0.5014\n",
            "Epoch 7/200\n",
            "352/352 [==============================] - 5s 14ms/step - loss: 6.2211e-04 - binary_accuracy: 0.4990 - val_loss: 3.0240e-04 - val_binary_accuracy: 0.5014\n",
            "Epoch 8/200\n",
            "352/352 [==============================] - 5s 14ms/step - loss: 4.5062e-04 - binary_accuracy: 0.4990 - val_loss: 2.0996e-04 - val_binary_accuracy: 0.5014\n",
            "Epoch 9/200\n",
            "352/352 [==============================] - 5s 14ms/step - loss: 3.3567e-04 - binary_accuracy: 0.4990 - val_loss: 1.4982e-04 - val_binary_accuracy: 0.5014\n",
            "Epoch 10/200\n",
            "352/352 [==============================] - 5s 14ms/step - loss: 2.5218e-04 - binary_accuracy: 0.4990 - val_loss: 1.0958e-04 - val_binary_accuracy: 0.5014\n",
            "Epoch 11/200\n",
            "352/352 [==============================] - 5s 14ms/step - loss: 2.0150e-04 - binary_accuracy: 0.4990 - val_loss: 8.0811e-05 - val_binary_accuracy: 0.5014\n",
            "Epoch 12/200\n",
            "352/352 [==============================] - 5s 14ms/step - loss: 1.5576e-04 - binary_accuracy: 0.4990 - val_loss: 6.0450e-05 - val_binary_accuracy: 0.5014\n",
            "Epoch 13/200\n",
            "352/352 [==============================] - 5s 14ms/step - loss: 1.1969e-04 - binary_accuracy: 0.4990 - val_loss: 4.5952e-05 - val_binary_accuracy: 0.5014\n",
            "Epoch 14/200\n",
            "352/352 [==============================] - 5s 14ms/step - loss: 9.6728e-05 - binary_accuracy: 0.4990 - val_loss: 3.5123e-05 - val_binary_accuracy: 0.5014\n",
            "Epoch 15/200\n",
            "352/352 [==============================] - 5s 14ms/step - loss: 7.9620e-05 - binary_accuracy: 0.4990 - val_loss: 2.6905e-05 - val_binary_accuracy: 0.5014\n",
            "Epoch 16/200\n",
            "352/352 [==============================] - 5s 14ms/step - loss: 6.4167e-05 - binary_accuracy: 0.4990 - val_loss: 2.0758e-05 - val_binary_accuracy: 0.5014\n",
            "Epoch 17/200\n",
            "352/352 [==============================] - 5s 14ms/step - loss: 5.2842e-05 - binary_accuracy: 0.4990 - val_loss: 1.6018e-05 - val_binary_accuracy: 0.5014\n",
            "Epoch 18/200\n",
            "352/352 [==============================] - 5s 15ms/step - loss: 4.2637e-05 - binary_accuracy: 0.4990 - val_loss: 1.2413e-05 - val_binary_accuracy: 0.5014\n",
            "Epoch 19/200\n",
            "352/352 [==============================] - 5s 14ms/step - loss: 3.4275e-05 - binary_accuracy: 0.4990 - val_loss: 9.6832e-06 - val_binary_accuracy: 0.5014\n",
            "Epoch 20/200\n",
            "352/352 [==============================] - 5s 14ms/step - loss: 2.7932e-05 - binary_accuracy: 0.4990 - val_loss: 7.5651e-06 - val_binary_accuracy: 0.5014\n",
            "Epoch 21/200\n",
            "352/352 [==============================] - 5s 14ms/step - loss: 2.3562e-05 - binary_accuracy: 0.4990 - val_loss: 5.9074e-06 - val_binary_accuracy: 0.5014\n",
            "Epoch 22/200\n",
            "352/352 [==============================] - 5s 14ms/step - loss: 1.9911e-05 - binary_accuracy: 0.4990 - val_loss: 4.5953e-06 - val_binary_accuracy: 0.5014\n",
            "Epoch 23/200\n",
            "352/352 [==============================] - 5s 14ms/step - loss: 1.5987e-05 - binary_accuracy: 0.4990 - val_loss: 3.5912e-06 - val_binary_accuracy: 0.5014\n",
            "Epoch 24/200\n",
            "352/352 [==============================] - 5s 14ms/step - loss: 1.3388e-05 - binary_accuracy: 0.4990 - val_loss: 2.8070e-06 - val_binary_accuracy: 0.5014\n",
            "Epoch 25/200\n",
            "352/352 [==============================] - 5s 15ms/step - loss: 1.2077e-05 - binary_accuracy: 0.4990 - val_loss: 2.1772e-06 - val_binary_accuracy: 0.5014\n",
            "Epoch 26/200\n",
            "352/352 [==============================] - 5s 15ms/step - loss: 9.4735e-06 - binary_accuracy: 0.4990 - val_loss: 1.6937e-06 - val_binary_accuracy: 0.5014\n",
            "Epoch 27/200\n",
            "352/352 [==============================] - 5s 14ms/step - loss: 7.4323e-06 - binary_accuracy: 0.4990 - val_loss: 1.3294e-06 - val_binary_accuracy: 0.5014\n",
            "Epoch 28/200\n",
            "352/352 [==============================] - 5s 14ms/step - loss: 6.4846e-06 - binary_accuracy: 0.4990 - val_loss: 1.0350e-06 - val_binary_accuracy: 0.5014\n",
            "Epoch 29/200\n",
            "352/352 [==============================] - 5s 14ms/step - loss: 5.1360e-06 - binary_accuracy: 0.4990 - val_loss: 8.1199e-07 - val_binary_accuracy: 0.5014\n",
            "Epoch 30/200\n",
            "352/352 [==============================] - 5s 14ms/step - loss: 4.8612e-06 - binary_accuracy: 0.4990 - val_loss: 6.2706e-07 - val_binary_accuracy: 0.5014\n",
            "Epoch 31/200\n",
            "352/352 [==============================] - 6s 17ms/step - loss: 3.6774e-06 - binary_accuracy: 0.4990 - val_loss: 4.8828e-07 - val_binary_accuracy: 0.5014\n",
            "Epoch 32/200\n",
            "352/352 [==============================] - 5s 14ms/step - loss: 3.0068e-06 - binary_accuracy: 0.4990 - val_loss: 3.8024e-07 - val_binary_accuracy: 0.5014\n",
            "Epoch 33/200\n",
            "352/352 [==============================] - 5s 14ms/step - loss: 2.5240e-06 - binary_accuracy: 0.4990 - val_loss: 2.9756e-07 - val_binary_accuracy: 0.5014\n",
            "Epoch 34/200\n",
            "352/352 [==============================] - 5s 15ms/step - loss: 2.0847e-06 - binary_accuracy: 0.4990 - val_loss: 2.3182e-07 - val_binary_accuracy: 0.5014\n",
            "Epoch 35/200\n",
            "352/352 [==============================] - 6s 16ms/step - loss: 2.0362e-06 - binary_accuracy: 0.4990 - val_loss: 1.7685e-07 - val_binary_accuracy: 0.5014\n",
            "Epoch 36/200\n",
            "352/352 [==============================] - 5s 14ms/step - loss: 1.5777e-06 - binary_accuracy: 0.4990 - val_loss: 1.3701e-07 - val_binary_accuracy: 0.5014\n",
            "Epoch 37/200\n",
            "352/352 [==============================] - 5s 14ms/step - loss: 1.3266e-06 - binary_accuracy: 0.4990 - val_loss: 1.0545e-07 - val_binary_accuracy: 0.5014\n",
            "Epoch 38/200\n",
            "352/352 [==============================] - 5s 15ms/step - loss: 9.9409e-07 - binary_accuracy: 0.4990 - val_loss: 8.2257e-08 - val_binary_accuracy: 0.5014\n",
            "Epoch 39/200\n",
            "352/352 [==============================] - 5s 14ms/step - loss: 8.8092e-07 - binary_accuracy: 0.4990 - val_loss: 6.4318e-08 - val_binary_accuracy: 0.5014\n",
            "Epoch 40/200\n",
            "352/352 [==============================] - 5s 14ms/step - loss: 7.7024e-07 - binary_accuracy: 0.4990 - val_loss: 4.9004e-08 - val_binary_accuracy: 0.5014\n",
            "Epoch 41/200\n",
            "352/352 [==============================] - 5s 14ms/step - loss: 1.1706e-06 - binary_accuracy: 0.4990 - val_loss: 3.6438e-08 - val_binary_accuracy: 0.5014\n",
            "Epoch 42/200\n",
            "352/352 [==============================] - 5s 14ms/step - loss: 4.8888e-07 - binary_accuracy: 0.4990 - val_loss: 2.7790e-08 - val_binary_accuracy: 0.5014\n",
            "Epoch 43/200\n",
            "352/352 [==============================] - 5s 14ms/step - loss: 3.9177e-07 - binary_accuracy: 0.4990 - val_loss: 2.1706e-08 - val_binary_accuracy: 0.5014\n",
            "Epoch 44/200\n",
            "352/352 [==============================] - 5s 14ms/step - loss: 3.5923e-07 - binary_accuracy: 0.4990 - val_loss: 1.6846e-08 - val_binary_accuracy: 0.5014\n",
            "Epoch 45/200\n",
            "352/352 [==============================] - 5s 14ms/step - loss: 3.2817e-07 - binary_accuracy: 0.4990 - val_loss: 1.2926e-08 - val_binary_accuracy: 0.5014\n",
            "Epoch 46/200\n",
            "352/352 [==============================] - 5s 15ms/step - loss: 2.4595e-07 - binary_accuracy: 0.4990 - val_loss: 1.0055e-08 - val_binary_accuracy: 0.5014\n",
            "Epoch 47/200\n",
            "352/352 [==============================] - 5s 14ms/step - loss: 2.1103e-07 - binary_accuracy: 0.4990 - val_loss: 7.7937e-09 - val_binary_accuracy: 0.5014\n",
            "Epoch 48/200\n",
            "352/352 [==============================] - 5s 15ms/step - loss: 1.6144e-07 - binary_accuracy: 0.4990 - val_loss: 6.0763e-09 - val_binary_accuracy: 0.5014\n",
            "Epoch 49/200\n",
            "352/352 [==============================] - 5s 14ms/step - loss: 1.3553e-07 - binary_accuracy: 0.4990 - val_loss: 4.7187e-09 - val_binary_accuracy: 0.5014\n",
            "Epoch 50/200\n",
            "352/352 [==============================] - 5s 15ms/step - loss: 1.3132e-07 - binary_accuracy: 0.4990 - val_loss: 3.5888e-09 - val_binary_accuracy: 0.5014\n",
            "Epoch 51/200\n",
            "352/352 [==============================] - 5s 15ms/step - loss: 1.1427e-07 - binary_accuracy: 0.4990 - val_loss: 2.7641e-09 - val_binary_accuracy: 0.5014\n",
            "Epoch 52/200\n",
            "352/352 [==============================] - 5s 15ms/step - loss: 9.3227e-08 - binary_accuracy: 0.4990 - val_loss: 2.0847e-09 - val_binary_accuracy: 0.5014\n",
            "Epoch 53/200\n",
            "352/352 [==============================] - 5s 15ms/step - loss: 6.9987e-08 - binary_accuracy: 0.4990 - val_loss: 1.6167e-09 - val_binary_accuracy: 0.5014\n",
            "Epoch 54/200\n",
            "352/352 [==============================] - 5s 15ms/step - loss: 6.7052e-08 - binary_accuracy: 0.4990 - val_loss: 1.2146e-09 - val_binary_accuracy: 0.5014\n",
            "Epoch 55/200\n",
            "352/352 [==============================] - 5s 15ms/step - loss: 8.5880e-08 - binary_accuracy: 0.4990 - val_loss: 9.5522e-10 - val_binary_accuracy: 0.5014\n",
            "Epoch 56/200\n",
            "352/352 [==============================] - 5s 14ms/step - loss: 6.1738e-08 - binary_accuracy: 0.4990 - val_loss: 7.1834e-10 - val_binary_accuracy: 0.5014\n",
            "Epoch 57/200\n",
            "352/352 [==============================] - 5s 14ms/step - loss: 7.3052e-08 - binary_accuracy: 0.4990 - val_loss: 4.8865e-10 - val_binary_accuracy: 0.5014\n",
            "Epoch 58/200\n",
            "352/352 [==============================] - 5s 14ms/step - loss: 2.7851e-08 - binary_accuracy: 0.4990 - val_loss: 3.6674e-10 - val_binary_accuracy: 0.5014\n",
            "Epoch 59/200\n",
            "352/352 [==============================] - 5s 15ms/step - loss: 1.2581e-07 - binary_accuracy: 0.4990 - val_loss: 3.1966e-10 - val_binary_accuracy: 0.5014\n",
            "Epoch 60/200\n",
            "352/352 [==============================] - 5s 14ms/step - loss: 2.1502e-08 - binary_accuracy: 0.4990 - val_loss: 2.3066e-10 - val_binary_accuracy: 0.5014\n",
            "Epoch 61/200\n",
            "352/352 [==============================] - 5s 15ms/step - loss: 1.9903e-08 - binary_accuracy: 0.4990 - val_loss: 1.7375e-10 - val_binary_accuracy: 0.5014\n",
            "Epoch 62/200\n",
            "352/352 [==============================] - 5s 15ms/step - loss: 1.4587e-08 - binary_accuracy: 0.4990 - val_loss: 1.3177e-10 - val_binary_accuracy: 0.5014\n",
            "Epoch 63/200\n",
            "352/352 [==============================] - 5s 14ms/step - loss: 1.4037e-08 - binary_accuracy: 0.4990 - val_loss: 1.0262e-10 - val_binary_accuracy: 0.5014\n",
            "Epoch 64/200\n",
            "352/352 [==============================] - 5s 15ms/step - loss: 1.3298e-08 - binary_accuracy: 0.4990 - val_loss: 7.5400e-11 - val_binary_accuracy: 0.5014\n",
            "Epoch 65/200\n",
            "352/352 [==============================] - 6s 17ms/step - loss: 8.0660e-09 - binary_accuracy: 0.4990 - val_loss: 6.0554e-11 - val_binary_accuracy: 0.5014\n",
            "Epoch 66/200\n",
            "352/352 [==============================] - 5s 15ms/step - loss: 9.4153e-09 - binary_accuracy: 0.4990 - val_loss: 4.4794e-11 - val_binary_accuracy: 0.5014\n",
            "Epoch 67/200\n",
            "352/352 [==============================] - 5s 14ms/step - loss: 8.4824e-09 - binary_accuracy: 0.4990 - val_loss: 3.4582e-11 - val_binary_accuracy: 0.5014\n",
            "Epoch 68/200\n",
            "352/352 [==============================] - 6s 18ms/step - loss: 6.4376e-09 - binary_accuracy: 0.4990 - val_loss: 2.6834e-11 - val_binary_accuracy: 0.5014\n",
            "Epoch 69/200\n",
            "352/352 [==============================] - 5s 14ms/step - loss: 6.9628e-09 - binary_accuracy: 0.4990 - val_loss: 1.9766e-11 - val_binary_accuracy: 0.5014\n",
            "Epoch 70/200\n",
            "352/352 [==============================] - 5s 14ms/step - loss: 1.3213e-08 - binary_accuracy: 0.4990 - val_loss: 1.1077e-11 - val_binary_accuracy: 0.5014\n",
            "Epoch 71/200\n",
            "352/352 [==============================] - 5s 14ms/step - loss: 5.5487e-09 - binary_accuracy: 0.4990 - val_loss: 8.6016e-12 - val_binary_accuracy: 0.5014\n",
            "Epoch 72/200\n",
            "352/352 [==============================] - 5s 15ms/step - loss: 3.2356e-09 - binary_accuracy: 0.4990 - val_loss: 6.8359e-12 - val_binary_accuracy: 0.5014\n",
            "Epoch 73/200\n",
            "352/352 [==============================] - 5s 14ms/step - loss: 3.0750e-09 - binary_accuracy: 0.4990 - val_loss: 5.7022e-12 - val_binary_accuracy: 0.5014\n",
            "Epoch 74/200\n",
            "352/352 [==============================] - 5s 15ms/step - loss: 1.3814e-08 - binary_accuracy: 0.4990 - val_loss: 3.1772e-12 - val_binary_accuracy: 0.5014\n",
            "Epoch 75/200\n",
            "352/352 [==============================] - 5s 15ms/step - loss: 3.1787e-09 - binary_accuracy: 0.4990 - val_loss: 2.2050e-12 - val_binary_accuracy: 0.5014\n",
            "Epoch 76/200\n",
            "352/352 [==============================] - 5s 15ms/step - loss: 2.6010e-09 - binary_accuracy: 0.4990 - val_loss: 1.7331e-12 - val_binary_accuracy: 0.5014\n",
            "Epoch 77/200\n",
            "352/352 [==============================] - 5s 14ms/step - loss: 1.1255e-09 - binary_accuracy: 0.4990 - val_loss: 1.4996e-12 - val_binary_accuracy: 0.5014\n",
            "Epoch 78/200\n",
            "352/352 [==============================] - 5s 15ms/step - loss: 2.5015e-08 - binary_accuracy: 0.4990 - val_loss: 1.4238e-12 - val_binary_accuracy: 0.5014\n",
            "Epoch 79/200\n",
            "352/352 [==============================] - 5s 15ms/step - loss: 2.4541e-08 - binary_accuracy: 0.4990 - val_loss: 1.3066e-12 - val_binary_accuracy: 0.5014\n",
            "Epoch 80/200\n",
            "352/352 [==============================] - 5s 15ms/step - loss: 1.9803e-09 - binary_accuracy: 0.4990 - val_loss: 9.8414e-13 - val_binary_accuracy: 0.5014\n",
            "Epoch 81/200\n",
            "352/352 [==============================] - 5s 14ms/step - loss: 8.8709e-10 - binary_accuracy: 0.4990 - val_loss: 8.2068e-13 - val_binary_accuracy: 0.5014\n",
            "Epoch 82/200\n",
            "352/352 [==============================] - 5s 15ms/step - loss: 2.4300e-09 - binary_accuracy: 0.4990 - val_loss: 7.3577e-13 - val_binary_accuracy: 0.5014\n",
            "Epoch 83/200\n",
            "352/352 [==============================] - 5s 14ms/step - loss: 2.2102e-09 - binary_accuracy: 0.4990 - val_loss: 4.7634e-13 - val_binary_accuracy: 0.5014\n",
            "Epoch 84/200\n",
            "352/352 [==============================] - 5s 14ms/step - loss: 1.9667e-09 - binary_accuracy: 0.4990 - val_loss: 4.6599e-13 - val_binary_accuracy: 0.5014\n",
            "Epoch 85/200\n",
            "352/352 [==============================] - 5s 14ms/step - loss: 8.1786e-10 - binary_accuracy: 0.4990 - val_loss: 4.1508e-13 - val_binary_accuracy: 0.5014\n",
            "Epoch 86/200\n",
            "352/352 [==============================] - 5s 15ms/step - loss: 6.8462e-10 - binary_accuracy: 0.4990 - val_loss: 3.7027e-13 - val_binary_accuracy: 0.5014\n",
            "Epoch 87/200\n",
            "352/352 [==============================] - 5s 14ms/step - loss: 4.4332e-10 - binary_accuracy: 0.4990 - val_loss: 3.2906e-13 - val_binary_accuracy: 0.5014\n",
            "Epoch 88/200\n",
            "352/352 [==============================] - 5s 14ms/step - loss: 3.3669e-09 - binary_accuracy: 0.4990 - val_loss: 2.2824e-13 - val_binary_accuracy: 0.5014\n",
            "Epoch 89/200\n",
            "352/352 [==============================] - 5s 14ms/step - loss: 4.5538e-10 - binary_accuracy: 0.4990 - val_loss: 2.0429e-13 - val_binary_accuracy: 0.5014\n",
            "Epoch 90/200\n",
            "352/352 [==============================] - 5s 14ms/step - loss: 4.8991e-10 - binary_accuracy: 0.4990 - val_loss: 1.8004e-13 - val_binary_accuracy: 0.5014\n",
            "Epoch 91/200\n",
            "352/352 [==============================] - 5s 15ms/step - loss: 3.6871e-10 - binary_accuracy: 0.4990 - val_loss: 1.6460e-13 - val_binary_accuracy: 0.5014\n",
            "Epoch 92/200\n",
            "352/352 [==============================] - 5s 15ms/step - loss: 4.3752e-10 - binary_accuracy: 0.4990 - val_loss: 1.4317e-13 - val_binary_accuracy: 0.5014\n",
            "Epoch 93/200\n",
            "352/352 [==============================] - 5s 15ms/step - loss: 2.9691e-10 - binary_accuracy: 0.4990 - val_loss: 1.3274e-13 - val_binary_accuracy: 0.5014\n",
            "Epoch 94/200\n",
            "352/352 [==============================] - 5s 15ms/step - loss: 5.2312e-10 - binary_accuracy: 0.4990 - val_loss: 1.1721e-13 - val_binary_accuracy: 0.5014\n",
            "Epoch 95/200\n",
            "352/352 [==============================] - 5s 15ms/step - loss: 2.4256e-10 - binary_accuracy: 0.4990 - val_loss: 1.0911e-13 - val_binary_accuracy: 0.5014\n",
            "Epoch 96/200\n",
            "352/352 [==============================] - 5s 15ms/step - loss: 3.4292e-09 - binary_accuracy: 0.4990 - val_loss: 9.9037e-14 - val_binary_accuracy: 0.5014\n",
            "Epoch 97/200\n",
            "352/352 [==============================] - 5s 14ms/step - loss: 4.2076e-10 - binary_accuracy: 0.4990 - val_loss: 9.6014e-14 - val_binary_accuracy: 0.5014\n",
            "Epoch 98/200\n",
            "352/352 [==============================] - 6s 18ms/step - loss: 3.4605e-10 - binary_accuracy: 0.4990 - val_loss: 8.0376e-14 - val_binary_accuracy: 0.5014\n",
            "Epoch 99/200\n",
            "352/352 [==============================] - 5s 15ms/step - loss: 2.0405e-10 - binary_accuracy: 0.4990 - val_loss: 7.4306e-14 - val_binary_accuracy: 0.5014\n",
            "Epoch 100/200\n",
            "352/352 [==============================] - 6s 16ms/step - loss: 2.9493e-10 - binary_accuracy: 0.4990 - val_loss: 6.6271e-14 - val_binary_accuracy: 0.5014\n",
            "Epoch 101/200\n",
            "352/352 [==============================] - 6s 16ms/step - loss: 3.3131e-10 - binary_accuracy: 0.4990 - val_loss: 5.9203e-14 - val_binary_accuracy: 0.5014\n",
            "Epoch 102/200\n",
            "352/352 [==============================] - 5s 15ms/step - loss: 3.3031e-10 - binary_accuracy: 0.4990 - val_loss: 5.0091e-14 - val_binary_accuracy: 0.5014\n",
            "Epoch 103/200\n",
            "352/352 [==============================] - 5s 15ms/step - loss: 2.6043e-10 - binary_accuracy: 0.4990 - val_loss: 4.7328e-14 - val_binary_accuracy: 0.5014\n",
            "Epoch 104/200\n",
            "352/352 [==============================] - 5s 14ms/step - loss: 1.5964e-10 - binary_accuracy: 0.4990 - val_loss: 4.6152e-14 - val_binary_accuracy: 0.5014\n",
            "Epoch 105/200\n",
            "352/352 [==============================] - 5s 14ms/step - loss: 2.4958e-10 - binary_accuracy: 0.4990 - val_loss: 4.2507e-14 - val_binary_accuracy: 0.5014\n",
            "Epoch 106/200\n",
            "352/352 [==============================] - 5s 14ms/step - loss: 1.6371e-10 - binary_accuracy: 0.4990 - val_loss: 3.9661e-14 - val_binary_accuracy: 0.5014\n",
            "Epoch 107/200\n",
            "352/352 [==============================] - 5s 14ms/step - loss: 1.5472e-10 - binary_accuracy: 0.4990 - val_loss: 3.5504e-14 - val_binary_accuracy: 0.5014\n",
            "Epoch 108/200\n",
            "352/352 [==============================] - 5s 15ms/step - loss: 1.1761e-10 - binary_accuracy: 0.4990 - val_loss: 3.4688e-14 - val_binary_accuracy: 0.5014\n",
            "Epoch 109/200\n",
            "352/352 [==============================] - 5s 15ms/step - loss: 2.2988e-10 - binary_accuracy: 0.4990 - val_loss: 3.2205e-14 - val_binary_accuracy: 0.5014\n",
            "Epoch 110/200\n",
            "352/352 [==============================] - 5s 14ms/step - loss: 7.7863e-10 - binary_accuracy: 0.4990 - val_loss: 3.4034e-14 - val_binary_accuracy: 0.5014\n",
            "Epoch 111/200\n",
            "352/352 [==============================] - 5s 15ms/step - loss: 1.2839e-10 - binary_accuracy: 0.4990 - val_loss: 3.0552e-14 - val_binary_accuracy: 0.5014\n",
            "Epoch 112/200\n",
            "352/352 [==============================] - 5s 15ms/step - loss: 1.5891e-10 - binary_accuracy: 0.4990 - val_loss: 2.9533e-14 - val_binary_accuracy: 0.5014\n",
            "Epoch 113/200\n",
            "352/352 [==============================] - 5s 14ms/step - loss: 6.2476e-10 - binary_accuracy: 0.4990 - val_loss: 2.8365e-14 - val_binary_accuracy: 0.5014\n",
            "Epoch 114/200\n",
            "352/352 [==============================] - 5s 15ms/step - loss: 5.1868e-10 - binary_accuracy: 0.4990 - val_loss: 2.7926e-14 - val_binary_accuracy: 0.5014\n",
            "Epoch 115/200\n",
            "352/352 [==============================] - 5s 15ms/step - loss: 1.6767e-10 - binary_accuracy: 0.4990 - val_loss: 2.3378e-14 - val_binary_accuracy: 0.5014\n",
            "Epoch 116/200\n",
            "352/352 [==============================] - 5s 15ms/step - loss: 4.0005e-10 - binary_accuracy: 0.4990 - val_loss: 1.7890e-14 - val_binary_accuracy: 0.5014\n",
            "Epoch 117/200\n",
            "352/352 [==============================] - 5s 15ms/step - loss: 2.5642e-10 - binary_accuracy: 0.4990 - val_loss: 1.5336e-14 - val_binary_accuracy: 0.5014\n",
            "Epoch 118/200\n",
            "352/352 [==============================] - 5s 14ms/step - loss: 1.0365e-10 - binary_accuracy: 0.4990 - val_loss: 1.4302e-14 - val_binary_accuracy: 0.5014\n",
            "Epoch 119/200\n",
            "352/352 [==============================] - 5s 15ms/step - loss: 2.1791e-10 - binary_accuracy: 0.4990 - val_loss: 1.4266e-14 - val_binary_accuracy: 0.5014\n",
            "Epoch 120/200\n",
            "352/352 [==============================] - 5s 14ms/step - loss: 2.3248e-10 - binary_accuracy: 0.4990 - val_loss: 1.2372e-14 - val_binary_accuracy: 0.5014\n",
            "Epoch 121/200\n",
            "352/352 [==============================] - 5s 14ms/step - loss: 1.4519e-10 - binary_accuracy: 0.4990 - val_loss: 1.2387e-14 - val_binary_accuracy: 0.5014\n",
            "Epoch 122/200\n",
            "352/352 [==============================] - 5s 14ms/step - loss: 7.5289e-10 - binary_accuracy: 0.4990 - val_loss: 1.1418e-14 - val_binary_accuracy: 0.5014\n",
            "Epoch 123/200\n",
            "352/352 [==============================] - 5s 15ms/step - loss: 4.0817e-11 - binary_accuracy: 0.4990 - val_loss: 1.1053e-14 - val_binary_accuracy: 0.5014\n",
            "Epoch 124/200\n",
            "352/352 [==============================] - 5s 15ms/step - loss: 1.0380e-10 - binary_accuracy: 0.4990 - val_loss: 1.0504e-14 - val_binary_accuracy: 0.5014\n",
            "Epoch 125/200\n",
            "352/352 [==============================] - 5s 15ms/step - loss: 1.9437e-10 - binary_accuracy: 0.4990 - val_loss: 8.8282e-15 - val_binary_accuracy: 0.5014\n",
            "Epoch 126/200\n",
            "352/352 [==============================] - 5s 14ms/step - loss: 9.3253e-11 - binary_accuracy: 0.4990 - val_loss: 8.5339e-15 - val_binary_accuracy: 0.5014\n",
            "Epoch 127/200\n",
            "352/352 [==============================] - 5s 14ms/step - loss: 2.2638e-10 - binary_accuracy: 0.4990 - val_loss: 8.0328e-15 - val_binary_accuracy: 0.5014\n",
            "Epoch 128/200\n",
            "352/352 [==============================] - 5s 15ms/step - loss: 6.5485e-11 - binary_accuracy: 0.4990 - val_loss: 7.7943e-15 - val_binary_accuracy: 0.5014\n",
            "Epoch 129/200\n",
            "352/352 [==============================] - 5s 14ms/step - loss: 1.1878e-10 - binary_accuracy: 0.4990 - val_loss: 7.4809e-15 - val_binary_accuracy: 0.5014\n",
            "Epoch 130/200\n",
            "352/352 [==============================] - 5s 15ms/step - loss: 2.7958e-10 - binary_accuracy: 0.4990 - val_loss: 6.9025e-15 - val_binary_accuracy: 0.5014\n",
            "Epoch 131/200\n",
            "352/352 [==============================] - 6s 16ms/step - loss: 2.5465e-10 - binary_accuracy: 0.4990 - val_loss: 5.6972e-15 - val_binary_accuracy: 0.5014\n",
            "Epoch 132/200\n",
            "352/352 [==============================] - 6s 16ms/step - loss: 5.4659e-11 - binary_accuracy: 0.4990 - val_loss: 5.5960e-15 - val_binary_accuracy: 0.5014\n",
            "Epoch 133/200\n",
            "352/352 [==============================] - 5s 15ms/step - loss: 7.3201e-11 - binary_accuracy: 0.4990 - val_loss: 5.5262e-15 - val_binary_accuracy: 0.5014\n",
            "Epoch 134/200\n",
            "352/352 [==============================] - 6s 18ms/step - loss: 2.3629e-11 - binary_accuracy: 0.4990 - val_loss: 5.5013e-15 - val_binary_accuracy: 0.5014\n",
            "Epoch 135/200\n",
            "352/352 [==============================] - 5s 15ms/step - loss: 4.0198e-11 - binary_accuracy: 0.4990 - val_loss: 5.4111e-15 - val_binary_accuracy: 0.5014\n",
            "Epoch 136/200\n",
            "352/352 [==============================] - 5s 14ms/step - loss: 1.1132e-10 - binary_accuracy: 0.4990 - val_loss: 5.3727e-15 - val_binary_accuracy: 0.5014\n",
            "Epoch 137/200\n",
            "352/352 [==============================] - 5s 15ms/step - loss: 5.5063e-11 - binary_accuracy: 0.4990 - val_loss: 5.3603e-15 - val_binary_accuracy: 0.5014\n",
            "Epoch 138/200\n",
            "352/352 [==============================] - 5s 15ms/step - loss: 2.1965e-10 - binary_accuracy: 0.4990 - val_loss: 5.5361e-15 - val_binary_accuracy: 0.5014\n",
            "Epoch 139/200\n",
            "352/352 [==============================] - 5s 15ms/step - loss: 3.5437e-11 - binary_accuracy: 0.4990 - val_loss: 5.3727e-15 - val_binary_accuracy: 0.5014\n",
            "Epoch 140/200\n",
            "352/352 [==============================] - 5s 14ms/step - loss: 4.2795e-11 - binary_accuracy: 0.4990 - val_loss: 5.2504e-15 - val_binary_accuracy: 0.5014\n",
            "Epoch 141/200\n",
            "352/352 [==============================] - 5s 15ms/step - loss: 1.6210e-10 - binary_accuracy: 0.4990 - val_loss: 4.5446e-15 - val_binary_accuracy: 0.5014\n",
            "Epoch 142/200\n",
            "352/352 [==============================] - 5s 14ms/step - loss: 4.5705e-11 - binary_accuracy: 0.4990 - val_loss: 4.4311e-15 - val_binary_accuracy: 0.5014\n",
            "Epoch 143/200\n",
            "352/352 [==============================] - 5s 15ms/step - loss: 5.2255e-09 - binary_accuracy: 0.4990 - val_loss: 5.5058e-15 - val_binary_accuracy: 0.5014\n",
            "Epoch 144/200\n",
            "352/352 [==============================] - 5s 14ms/step - loss: 4.7124e-11 - binary_accuracy: 0.4990 - val_loss: 5.4436e-15 - val_binary_accuracy: 0.5014\n",
            "Epoch 145/200\n",
            "352/352 [==============================] - 5s 15ms/step - loss: 7.0368e-10 - binary_accuracy: 0.4990 - val_loss: 3.6579e-15 - val_binary_accuracy: 0.5014\n",
            "Epoch 146/200\n",
            "352/352 [==============================] - 5s 15ms/step - loss: 3.6508e-11 - binary_accuracy: 0.4990 - val_loss: 3.3226e-15 - val_binary_accuracy: 0.5014\n",
            "Epoch 147/200\n",
            "352/352 [==============================] - 5s 15ms/step - loss: 1.6606e-10 - binary_accuracy: 0.4990 - val_loss: 3.3930e-15 - val_binary_accuracy: 0.5014\n",
            "Epoch 148/200\n",
            "352/352 [==============================] - 5s 15ms/step - loss: 2.2688e-10 - binary_accuracy: 0.4990 - val_loss: 2.8522e-15 - val_binary_accuracy: 0.5014\n",
            "Epoch 149/200\n",
            "352/352 [==============================] - 5s 15ms/step - loss: 2.2916e-11 - binary_accuracy: 0.4990 - val_loss: 2.8358e-15 - val_binary_accuracy: 0.5014\n",
            "Epoch 150/200\n",
            "352/352 [==============================] - 5s 15ms/step - loss: 3.1183e-11 - binary_accuracy: 0.4990 - val_loss: 2.7863e-15 - val_binary_accuracy: 0.5014\n",
            "Epoch 151/200\n",
            "352/352 [==============================] - 5s 14ms/step - loss: 3.8866e-11 - binary_accuracy: 0.4990 - val_loss: 2.7674e-15 - val_binary_accuracy: 0.5014\n",
            "Epoch 152/200\n",
            "352/352 [==============================] - 5s 15ms/step - loss: 2.0236e-10 - binary_accuracy: 0.4990 - val_loss: 2.8069e-15 - val_binary_accuracy: 0.5014\n",
            "Epoch 153/200\n",
            "352/352 [==============================] - 5s 14ms/step - loss: 4.2767e-11 - binary_accuracy: 0.4990 - val_loss: 2.7547e-15 - val_binary_accuracy: 0.5014\n",
            "Epoch 154/200\n",
            "352/352 [==============================] - 5s 15ms/step - loss: 5.9830e-11 - binary_accuracy: 0.4990 - val_loss: 2.6627e-15 - val_binary_accuracy: 0.5014\n",
            "Epoch 155/200\n",
            "352/352 [==============================] - 5s 15ms/step - loss: 2.5474e-11 - binary_accuracy: 0.4990 - val_loss: 2.5955e-15 - val_binary_accuracy: 0.5014\n",
            "Epoch 156/200\n",
            "352/352 [==============================] - 5s 15ms/step - loss: 3.8324e-11 - binary_accuracy: 0.4990 - val_loss: 2.5545e-15 - val_binary_accuracy: 0.5014\n",
            "Epoch 157/200\n",
            "352/352 [==============================] - 5s 15ms/step - loss: 3.1868e-11 - binary_accuracy: 0.4990 - val_loss: 2.5496e-15 - val_binary_accuracy: 0.5014\n",
            "Epoch 158/200\n",
            "352/352 [==============================] - 5s 15ms/step - loss: 1.6821e-10 - binary_accuracy: 0.4990 - val_loss: 2.4928e-15 - val_binary_accuracy: 0.5014\n",
            "Epoch 159/200\n",
            "352/352 [==============================] - 5s 15ms/step - loss: 3.0879e-11 - binary_accuracy: 0.4990 - val_loss: 2.4576e-15 - val_binary_accuracy: 0.5014\n",
            "Epoch 160/200\n",
            "352/352 [==============================] - 5s 15ms/step - loss: 2.4412e-11 - binary_accuracy: 0.4990 - val_loss: 2.4575e-15 - val_binary_accuracy: 0.5014\n",
            "Epoch 161/200\n",
            "352/352 [==============================] - 5s 15ms/step - loss: 3.5328e-11 - binary_accuracy: 0.4990 - val_loss: 2.4576e-15 - val_binary_accuracy: 0.5014\n",
            "Epoch 162/200\n",
            "352/352 [==============================] - 5s 15ms/step - loss: 4.4520e-08 - binary_accuracy: 0.4990 - val_loss: 2.5320e-15 - val_binary_accuracy: 0.5014\n",
            "Epoch 163/200\n",
            "352/352 [==============================] - 5s 14ms/step - loss: 2.4904e-11 - binary_accuracy: 0.4990 - val_loss: 2.5774e-15 - val_binary_accuracy: 0.5014\n",
            "Epoch 164/200\n",
            "352/352 [==============================] - 6s 16ms/step - loss: 1.7806e-10 - binary_accuracy: 0.4990 - val_loss: 2.2886e-15 - val_binary_accuracy: 0.5014\n",
            "Epoch 165/200\n",
            "352/352 [==============================] - 6s 17ms/step - loss: 2.3045e-11 - binary_accuracy: 0.4990 - val_loss: 2.2659e-15 - val_binary_accuracy: 0.5014\n",
            "Epoch 166/200\n",
            "352/352 [==============================] - 5s 15ms/step - loss: 9.2436e-10 - binary_accuracy: 0.4990 - val_loss: 2.5061e-15 - val_binary_accuracy: 0.5014\n",
            "Epoch 167/200\n",
            "352/352 [==============================] - 6s 18ms/step - loss: 1.4203e-11 - binary_accuracy: 0.4990 - val_loss: 2.4970e-15 - val_binary_accuracy: 0.5014\n",
            "Epoch 168/200\n",
            "352/352 [==============================] - 5s 14ms/step - loss: 5.7279e-11 - binary_accuracy: 0.4990 - val_loss: 2.4473e-15 - val_binary_accuracy: 0.5014\n",
            "Epoch 169/200\n",
            "352/352 [==============================] - 5s 15ms/step - loss: 3.1173e-10 - binary_accuracy: 0.4990 - val_loss: 2.1268e-15 - val_binary_accuracy: 0.5014\n",
            "Epoch 170/200\n",
            "352/352 [==============================] - 5s 14ms/step - loss: 1.9957e-10 - binary_accuracy: 0.4990 - val_loss: 2.1047e-15 - val_binary_accuracy: 0.5014\n",
            "Epoch 171/200\n",
            "352/352 [==============================] - 5s 15ms/step - loss: 2.7849e-11 - binary_accuracy: 0.4990 - val_loss: 2.0829e-15 - val_binary_accuracy: 0.5014\n",
            "Epoch 172/200\n",
            "352/352 [==============================] - 5s 15ms/step - loss: 2.0154e-11 - binary_accuracy: 0.4990 - val_loss: 2.0530e-15 - val_binary_accuracy: 0.5014\n",
            "Epoch 173/200\n",
            "352/352 [==============================] - 5s 15ms/step - loss: 3.4656e-11 - binary_accuracy: 0.4990 - val_loss: 1.9849e-15 - val_binary_accuracy: 0.5014\n",
            "Epoch 174/200\n",
            "352/352 [==============================] - 5s 15ms/step - loss: 2.2265e-11 - binary_accuracy: 0.4990 - val_loss: 1.9720e-15 - val_binary_accuracy: 0.5014\n",
            "Epoch 175/200\n",
            "352/352 [==============================] - 5s 15ms/step - loss: 1.1516e-10 - binary_accuracy: 0.4990 - val_loss: 1.9564e-15 - val_binary_accuracy: 0.5014\n",
            "Epoch 176/200\n",
            "352/352 [==============================] - 5s 15ms/step - loss: 1.5274e-11 - binary_accuracy: 0.4990 - val_loss: 1.9318e-15 - val_binary_accuracy: 0.5014\n",
            "Epoch 177/200\n",
            "352/352 [==============================] - 5s 15ms/step - loss: 1.8861e-11 - binary_accuracy: 0.4990 - val_loss: 1.8999e-15 - val_binary_accuracy: 0.5014\n",
            "Epoch 178/200\n",
            "352/352 [==============================] - 5s 15ms/step - loss: 2.7328e-10 - binary_accuracy: 0.4990 - val_loss: 1.5488e-15 - val_binary_accuracy: 0.5014\n",
            "Epoch 179/200\n",
            "352/352 [==============================] - 5s 15ms/step - loss: 2.5182e-11 - binary_accuracy: 0.4990 - val_loss: 1.5228e-15 - val_binary_accuracy: 0.5014\n",
            "Epoch 180/200\n",
            "352/352 [==============================] - 5s 15ms/step - loss: 2.2703e-11 - binary_accuracy: 0.4990 - val_loss: 1.5170e-15 - val_binary_accuracy: 0.5014\n",
            "Epoch 181/200\n",
            "352/352 [==============================] - 5s 15ms/step - loss: 7.5063e-11 - binary_accuracy: 0.4990 - val_loss: 1.4385e-15 - val_binary_accuracy: 0.5014\n",
            "Epoch 182/200\n",
            "352/352 [==============================] - 5s 15ms/step - loss: 3.1439e-11 - binary_accuracy: 0.4990 - val_loss: 1.3928e-15 - val_binary_accuracy: 0.5014\n",
            "Epoch 183/200\n",
            "352/352 [==============================] - 5s 15ms/step - loss: 2.4461e-11 - binary_accuracy: 0.4990 - val_loss: 1.3799e-15 - val_binary_accuracy: 0.5014\n",
            "Epoch 184/200\n",
            "352/352 [==============================] - 5s 15ms/step - loss: 5.7367e-11 - binary_accuracy: 0.4990 - val_loss: 1.3217e-15 - val_binary_accuracy: 0.5014\n",
            "Epoch 185/200\n",
            "352/352 [==============================] - 5s 15ms/step - loss: 1.4100e-11 - binary_accuracy: 0.4990 - val_loss: 1.3135e-15 - val_binary_accuracy: 0.5014\n",
            "Epoch 186/200\n",
            "352/352 [==============================] - 5s 15ms/step - loss: 9.4946e-11 - binary_accuracy: 0.4990 - val_loss: 1.2218e-15 - val_binary_accuracy: 0.5014\n",
            "Epoch 187/200\n",
            "352/352 [==============================] - 5s 15ms/step - loss: 2.3592e-11 - binary_accuracy: 0.4990 - val_loss: 1.2040e-15 - val_binary_accuracy: 0.5014\n",
            "Epoch 188/200\n",
            "352/352 [==============================] - 5s 15ms/step - loss: 1.1591e-11 - binary_accuracy: 0.4990 - val_loss: 1.1964e-15 - val_binary_accuracy: 0.5014\n",
            "Epoch 189/200\n",
            "352/352 [==============================] - 5s 15ms/step - loss: 1.9370e-11 - binary_accuracy: 0.4990 - val_loss: 1.1887e-15 - val_binary_accuracy: 0.5014\n",
            "Epoch 190/200\n",
            "352/352 [==============================] - 5s 14ms/step - loss: 6.9827e-11 - binary_accuracy: 0.4990 - val_loss: 1.1941e-15 - val_binary_accuracy: 0.5014\n",
            "Epoch 191/200\n",
            "352/352 [==============================] - 5s 15ms/step - loss: 1.1500e-10 - binary_accuracy: 0.4990 - val_loss: 1.0755e-15 - val_binary_accuracy: 0.5014\n",
            "Epoch 192/200\n",
            "352/352 [==============================] - 5s 15ms/step - loss: 3.1464e-11 - binary_accuracy: 0.4990 - val_loss: 1.0454e-15 - val_binary_accuracy: 0.5014\n",
            "Epoch 193/200\n",
            "352/352 [==============================] - 5s 15ms/step - loss: 8.4025e-11 - binary_accuracy: 0.4990 - val_loss: 1.0445e-15 - val_binary_accuracy: 0.5014\n",
            "Epoch 194/200\n",
            "352/352 [==============================] - 5s 15ms/step - loss: 3.6060e-11 - binary_accuracy: 0.4990 - val_loss: 1.0234e-15 - val_binary_accuracy: 0.5014\n",
            "Epoch 195/200\n",
            "352/352 [==============================] - 5s 15ms/step - loss: 1.0930e-10 - binary_accuracy: 0.4990 - val_loss: 1.0224e-15 - val_binary_accuracy: 0.5014\n",
            "Epoch 196/200\n",
            "352/352 [==============================] - 5s 15ms/step - loss: 8.1551e-11 - binary_accuracy: 0.4990 - val_loss: 9.5286e-16 - val_binary_accuracy: 0.5014\n",
            "Epoch 197/200\n",
            "352/352 [==============================] - 6s 18ms/step - loss: 4.8307e-11 - binary_accuracy: 0.4990 - val_loss: 9.1857e-16 - val_binary_accuracy: 0.5014\n",
            "Epoch 198/200\n",
            "352/352 [==============================] - 5s 15ms/step - loss: 1.6561e-11 - binary_accuracy: 0.4990 - val_loss: 9.1417e-16 - val_binary_accuracy: 0.5014\n",
            "Epoch 199/200\n",
            "352/352 [==============================] - 6s 18ms/step - loss: 1.4472e-11 - binary_accuracy: 0.4990 - val_loss: 9.0737e-16 - val_binary_accuracy: 0.5014\n",
            "Epoch 200/200\n",
            "352/352 [==============================] - 5s 15ms/step - loss: 1.7687e-11 - binary_accuracy: 0.4990 - val_loss: 9.0328e-16 - val_binary_accuracy: 0.5014\n"
          ]
        }
      ]
    },
    {
      "cell_type": "code",
      "source": [
        "fig, ax = plt.subplots(figsize=(10, 8))\n",
        "ax = plt.plot(fit_history.history['binary_accuracy'], label='Train')\n",
        "ax = plt.plot(fit_history.history['val_binary_accuracy'], label='Validation')\n",
        "ax = plt.xlabel('Epochs')\n",
        "ax = plt.ylabel('Accuracy')\n",
        "ax = plt.legend()"
      ],
      "metadata": {
        "colab": {
          "base_uri": "https://localhost:8080/",
          "height": 497
        },
        "id": "p5Pd6Kz-FVlq",
        "outputId": "5cf3255a-0cf4-4797-9019-571e993dce1e"
      },
      "execution_count": 20,
      "outputs": [
        {
          "output_type": "display_data",
          "data": {
            "text/plain": [
              "<Figure size 720x576 with 1 Axes>"
            ],
            "image/png": "[encoded data removed]"
          },
          "metadata": {
            "needs_background": "light"
          }
        }
      ]
    },
    {
      "cell_type": "code",
      "source": [
        "fig, ax = plt.subplots(figsize=(10, 8))\n",
        "ax = plt.plot(fit_history.history['loss'], label='Train')\n",
        "ax = plt.plot(fit_history.history['val_loss'], label='Validation')\n",
        "ax = plt.xlabel('Epochs')\n",
        "ax = plt.ylabel('Loss')\n",
        "ax = plt.title('Loss')\n",
        "ax = plt.legend()"
      ],
      "metadata": {
        "colab": {
          "base_uri": "https://localhost:8080/",
          "height": 513
        },
        "id": "HlXqMOt9FiXF",
        "outputId": "1f274108-ff8c-4c2c-c08b-ea4c6b67e621"
      },
      "execution_count": 21,
      "outputs": [
        {
          "output_type": "display_data",
          "data": {
            "text/plain": [
              "<Figure size 720x576 with 1 Axes>"
            ],
            "image/png": "[encoded data removed]"
          },
          "metadata": {
            "needs_background": "light"
          }
        }
      ]
    }
  ]
}