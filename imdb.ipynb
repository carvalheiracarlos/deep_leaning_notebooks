{
  "nbformat": 4,
  "nbformat_minor": 0,
  "metadata": {
    "colab": {
      "provenance": [],
      "authorship_tag": "ABX9TyPpT+ie3+Yk7ao4No6Aqywe",
      "include_colab_link": true
    },
    "kernelspec": {
      "name": "python3",
      "display_name": "Python 3"
    },
    "language_info": {
      "name": "python"
    }
  },
  "cells": [
    {
      "cell_type": "markdown",
      "metadata": {
        "id": "view-in-github",
        "colab_type": "text"
      },
      "source": [
        "<a href=\"https://colab.research.google.com/github/carvalheiracarlos/deep_leaning_notebooks/blob/main/imdb.ipynb\" target=\"_parent\"><img src=\"https://colab.research.google.com/assets/colab-badge.svg\" alt=\"Open In Colab\"/></a>"
      ]
    },
    {
      "cell_type": "code",
      "execution_count": 1,
      "metadata": {
        "id": "t9d1db2aB0ZW"
      },
      "outputs": [],
      "source": [
        "import numpy as np\n",
        "import matplotlib.pyplot as plt\n",
        "import tensorflow as tf"
      ]
    },
    {
      "cell_type": "code",
      "source": [
        "(X_train, y_train), (X_test, y_test) = tf.keras.datasets.imdb.load_data()"
      ],
      "metadata": {
        "id": "4azctbIeCDPf"
      },
      "execution_count": 3,
      "outputs": []
    },
    {
      "cell_type": "code",
      "source": [
        "print(f'Train Sets Shapes.....X_train: {X_train.shape}')\n",
        "print(f'Train Sets Shapes.....y_train: {y_train.shape}')\n",
        "print(f'Tests Sets Shapes.....X_test: {X_test.shape}')\n",
        "print(f'Tests Sets Shapes.....y_test: {y_test.shape}')\n",
        "\n",
        "# Probably need to merge this X_train and X_test, \n",
        "# than partition again in some better proportion(train: 80% | test: 20%) "
      ],
      "metadata": {
        "colab": {
          "base_uri": "https://localhost:8080/"
        },
        "id": "_8bpZO37Sd81",
        "outputId": "bbfd9ef3-8aa8-4652-dc6c-92886f2437ab"
      },
      "execution_count": 6,
      "outputs": [
        {
          "output_type": "stream",
          "name": "stdout",
          "text": [
            "Train Sets Shapes.....X_train: (25000,)\n",
            "Train Sets Shapes.....y_train: (25000,)\n",
            "Tests Sets Shapes.....X_test: (25000,)\n",
            "Tests Sets Shapes.....y_test: (25000,)\n"
          ]
        }
      ]
    },
    {
      "cell_type": "code",
      "source": [
        "'''\n",
        "partition_size: size based on Lenght on X_train\n",
        "                to divide validation and train sets on proportion of 20% - 80%\n",
        "'''\n",
        "\n",
        "partition_size = int(len(X_train) * 0.2)\n",
        "validation_reviews, validation_labels = X_train[:partition_size], y_train[:partition_size]\n",
        "train_reviews, train_labels = X_train[partition_size:], y_train[partition_size:]\n",
        "\n",
        "print(f'Validation Sets: {validation_reviews.shape}, {validation_labels.shape}')\n",
        "print(f'Train Sets: {train_reviews.shape}, {train_labels.shape}')"
      ],
      "metadata": {
        "colab": {
          "base_uri": "https://localhost:8080/"
        },
        "id": "sSLKAJDHS18W",
        "outputId": "8987273a-463d-40d4-f19b-54a335156660"
      },
      "execution_count": 15,
      "outputs": [
        {
          "output_type": "stream",
          "name": "stdout",
          "text": [
            "Validation Sets: (5000,), (5000,)\n",
            "Train Sets: (20000,), (20000,)\n"
          ]
        }
      ]
    }
  ]
}