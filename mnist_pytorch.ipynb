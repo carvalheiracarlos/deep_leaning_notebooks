{
  "nbformat": 4,
  "nbformat_minor": 0,
  "metadata": {
    "colab": {
      "provenance": [],
      "authorship_tag": "ABX9TyPLRGRQbuTgaOjMnw7kq5CU",
      "include_colab_link": true
    },
    "kernelspec": {
      "name": "python3",
      "display_name": "Python 3"
    },
    "language_info": {
      "name": "python"
    }
  },
  "cells": [
    {
      "cell_type": "markdown",
      "metadata": {
        "id": "view-in-github",
        "colab_type": "text"
      },
      "source": [
        "<a href=\"https://colab.research.google.com/github/carvalheiracarlos/deep_leaning_notebooks/blob/main/mnist_pytorch.ipynb\" target=\"_parent\"><img src=\"https://colab.research.google.com/assets/colab-badge.svg\" alt=\"Open In Colab\"/></a>"
      ]
    },
    {
      "cell_type": "code",
      "execution_count": 1,
      "metadata": {
        "id": "bJOnQOFbZ3OB"
      },
      "outputs": [],
      "source": [
        "import torch"
      ]
    },
    {
      "cell_type": "code",
      "source": [
        "# Device configuration\n",
        "device = torch.device('cuda' if torch.cuda.is_available() else 'cpu')\n",
        "device"
      ],
      "metadata": {
        "colab": {
          "base_uri": "https://localhost:8080/"
        },
        "id": "TqtZmR5uZ44P",
        "outputId": "b42ff53a-d749-4ea0-ca7c-a2d34c97b371"
      },
      "execution_count": 2,
      "outputs": [
        {
          "output_type": "execute_result",
          "data": {
            "text/plain": [
              "device(type='cpu')"
            ]
          },
          "metadata": {},
          "execution_count": 2
        }
      ]
    },
    {
      "cell_type": "code",
      "source": [
        "from torchvision import datasets\n",
        "from torchvision.transforms import ToTensor\n",
        "train_data = datasets.MNIST(\n",
        "    root = 'data',\n",
        "    train = True,                         \n",
        "    transform = ToTensor(), \n",
        "    download = True,            \n",
        ")\n",
        "test_data = datasets.MNIST(\n",
        "    root = 'data', \n",
        "    train = False, \n",
        "    transform = ToTensor()\n",
        ")"
      ],
      "metadata": {
        "id": "CXKNV6lXZ_Lg"
      },
      "execution_count": 3,
      "outputs": []
    },
    {
      "cell_type": "code",
      "source": [
        "print(train_data)\n",
        "print(test_data)"
      ],
      "metadata": {
        "colab": {
          "base_uri": "https://localhost:8080/"
        },
        "id": "q6tvivEiZ_uZ",
        "outputId": "c9ab5d6c-5a44-4a5b-8afb-b5cf5f79b831"
      },
      "execution_count": 4,
      "outputs": [
        {
          "output_type": "stream",
          "name": "stdout",
          "text": [
            "Dataset MNIST\n",
            "    Number of datapoints: 60000\n",
            "    Root location: data\n",
            "    Split: Train\n",
            "    StandardTransform\n",
            "Transform: ToTensor()\n",
            "Dataset MNIST\n",
            "    Number of datapoints: 10000\n",
            "    Root location: data\n",
            "    Split: Test\n",
            "    StandardTransform\n",
            "Transform: ToTensor()\n"
          ]
        }
      ]
    },
    {
      "cell_type": "code",
      "source": [
        "print(train_data.data.size())\n",
        "print(train_data.targets.size())"
      ],
      "metadata": {
        "colab": {
          "base_uri": "https://localhost:8080/"
        },
        "id": "zgIUE2MuaDqL",
        "outputId": "7497d75c-92db-4266-a62c-a7fb0380da7a"
      },
      "execution_count": 5,
      "outputs": [
        {
          "output_type": "stream",
          "name": "stdout",
          "text": [
            "torch.Size([60000, 28, 28])\n",
            "torch.Size([60000])\n"
          ]
        }
      ]
    },
    {
      "cell_type": "code",
      "source": [
        "import matplotlib.pyplot as plt\n",
        "plt.imshow(train_data.data[0], cmap='gray')\n",
        "plt.title('%i' % train_data.targets[0])\n",
        "plt.show()"
      ],
      "metadata": {
        "id": "-NeUoJXjaHVk",
        "outputId": "de55c8a0-ecda-4fa3-cf7e-2467e9e733ea",
        "colab": {
          "base_uri": "https://localhost:8080/",
          "height": 281
        }
      },
      "execution_count": 6,
      "outputs": [
        {
          "output_type": "display_data",
          "data": {
            "text/plain": [
              "<Figure size 432x288 with 1 Axes>"
            ],
            "image/png": "[encoded data removed]"
          },
          "metadata": {
            "needs_background": "light"
          }
        }
      ]
    },
    {
      "cell_type": "code",
      "source": [
        "from torch.utils.data import DataLoader\n",
        "loaders = {\n",
        "    'train' : torch.utils.data.DataLoader(train_data, \n",
        "                                          batch_size=100, \n",
        "                                          shuffle=True, \n",
        "                                          num_workers=1),\n",
        "    \n",
        "    'test'  : torch.utils.data.DataLoader(test_data, \n",
        "                                          batch_size=100, \n",
        "                                          shuffle=True, \n",
        "                                          num_workers=1),\n",
        "}\n",
        "loaders"
      ],
      "metadata": {
        "id": "JVKNlyJyaJtb",
        "outputId": "4e24189b-4d38-4483-bdf5-d63444720d95",
        "colab": {
          "base_uri": "https://localhost:8080/"
        }
      },
      "execution_count": 7,
      "outputs": [
        {
          "output_type": "execute_result",
          "data": {
            "text/plain": [
              "{'train': <torch.utils.data.dataloader.DataLoader at 0x7efc42065410>,\n",
              " 'test': <torch.utils.data.dataloader.DataLoader at 0x7efc4205c250>}"
            ]
          },
          "metadata": {},
          "execution_count": 7
        }
      ]
    },
    {
      "cell_type": "code",
      "source": [
        "'''\n",
        "feed_foward_model = keras.Sequential(\n",
        "    [\n",
        "        keras.Input(shape=input_shape),\n",
        "        keras.layers.Dense(16, activation=\"sigmoid\"),\n",
        "        keras.layers.Dense(8, activation=\"sigmoid\"),\n",
        "        keras.layers.Flatten(),\n",
        "        keras.layers.Dropout(0.5),\n",
        "        keras.layers.Dense(num_classes, activation=\"softmax\"),\n",
        "    ]\n",
        ")\n",
        "'''"
      ],
      "metadata": {
        "id": "6-mxN8XWaNR9",
        "colab": {
          "base_uri": "https://localhost:8080/",
          "height": 70
        },
        "outputId": "27e77303-ed3e-46fa-f871-bd3718ecf1e6"
      },
      "execution_count": 8,
      "outputs": [
        {
          "output_type": "execute_result",
          "data": {
            "text/plain": [
              "'\\nfeed_foward_model = keras.Sequential(\\n    [\\n        keras.Input(shape=input_shape),\\n        keras.layers.Dense(16, activation=\"sigmoid\"),\\n        keras.layers.Dense(8, activation=\"sigmoid\"),\\n        keras.layers.Flatten(),\\n        keras.layers.Dropout(0.5),\\n        keras.layers.Dense(num_classes, activation=\"softmax\"),\\n    ]\\n)\\n'"
            ],
            "application/vnd.google.colaboratory.intrinsic+json": {
              "type": "string"
            }
          },
          "metadata": {},
          "execution_count": 8
        }
      ]
    },
    {
      "cell_type": "code",
      "source": [
        "import torch.nn as nn\n",
        "class MiniLightAlexNet(nn.Module):\n",
        "    def __init__(self):\n",
        "        super(MiniLightAlexNet, self).__init__()\n",
        "        self.conv1 = nn.Sequential(         \n",
        "            nn.Conv2d(1, 16, 10, 2, 0),     \n",
        "            nn.ReLU(),                      \n",
        "            nn.Dropout(0.5)                \n",
        "        )\n",
        "\n",
        "        self.conv2 = nn.Sequential(         \n",
        "            nn.Conv2d(16, 8, 10, 2, 0),     \n",
        "            nn.ReLU(),                      \n",
        "            nn.Dropout(0.5)                \n",
        "        )\n",
        "\n",
        "\n",
        "        # fully connected layer, output 10 classes\n",
        "        self.out = nn.Linear(8, 10)\n",
        "    def forward(self, x):\n",
        "        x = self.conv1(x)\n",
        "        x = self.conv2(x)\n",
        "        # flatten the output of conv2 to (batch_size, 32 * 7 * 7)\n",
        "        x = x.view(x.size(0), -1)       \n",
        "        output = self.out(x)\n",
        "        return output, x    # return x for visualization"
      ],
      "metadata": {
        "id": "vDncqMK2BQKi"
      },
      "execution_count": 9,
      "outputs": []
    },
    {
      "cell_type": "code",
      "source": [
        "cnn = MiniLightAlexNet()\n",
        "print(cnn)"
      ],
      "metadata": {
        "colab": {
          "base_uri": "https://localhost:8080/"
        },
        "id": "xJBvpDmqqFho",
        "outputId": "5bae386a-8d5b-4431-fde5-0164773818dd"
      },
      "execution_count": 10,
      "outputs": [
        {
          "output_type": "stream",
          "name": "stdout",
          "text": [
            "MiniLightAlexNet(\n",
            "  (conv1): Sequential(\n",
            "    (0): Conv2d(1, 16, kernel_size=(10, 10), stride=(2, 2))\n",
            "    (1): ReLU()\n",
            "    (2): Dropout(p=0.5, inplace=False)\n",
            "  )\n",
            "  (conv2): Sequential(\n",
            "    (0): Conv2d(16, 8, kernel_size=(10, 10), stride=(2, 2))\n",
            "    (1): ReLU()\n",
            "    (2): Dropout(p=0.5, inplace=False)\n",
            "  )\n",
            "  (out): Linear(in_features=8, out_features=10, bias=True)\n",
            ")\n"
          ]
        }
      ]
    },
    {
      "cell_type": "code",
      "source": [
        "loss_func = nn.CrossEntropyLoss()   \n",
        "loss_func"
      ],
      "metadata": {
        "colab": {
          "base_uri": "https://localhost:8080/"
        },
        "id": "gh6ixHL4ldb5",
        "outputId": "e1ce3f9b-883c-42ab-e848-8852661bb3ee"
      },
      "execution_count": 11,
      "outputs": [
        {
          "output_type": "execute_result",
          "data": {
            "text/plain": [
              "CrossEntropyLoss()"
            ]
          },
          "metadata": {},
          "execution_count": 11
        }
      ]
    },
    {
      "cell_type": "code",
      "source": [
        "from torch import optim\n",
        "optimizer = optim.Adam(cnn.parameters(), lr = 0.01)   \n",
        "optimizer"
      ],
      "metadata": {
        "colab": {
          "base_uri": "https://localhost:8080/"
        },
        "id": "4IssF07Clfwf",
        "outputId": "5b67ef85-07dc-4f75-b416-615e249fa2fa"
      },
      "execution_count": 12,
      "outputs": [
        {
          "output_type": "execute_result",
          "data": {
            "text/plain": [
              "Adam (\n",
              "Parameter Group 0\n",
              "    amsgrad: False\n",
              "    betas: (0.9, 0.999)\n",
              "    capturable: False\n",
              "    eps: 1e-08\n",
              "    foreach: None\n",
              "    lr: 0.01\n",
              "    maximize: False\n",
              "    weight_decay: 0\n",
              ")"
            ]
          },
          "metadata": {},
          "execution_count": 12
        }
      ]
    },
    {
      "cell_type": "code",
      "source": [
        "from torch.autograd import Variable\n",
        "num_epochs = 10\n",
        "def train(num_epochs, cnn, loaders):\n",
        "    \n",
        "    cnn.train()\n",
        "        \n",
        "    # Train the model\n",
        "    total_step = len(loaders['train'])\n",
        "        \n",
        "    for epoch in range(num_epochs):\n",
        "        for i, (images, labels) in enumerate(loaders['train']):\n",
        "            \n",
        "            # gives batch data, normalize x when iterate train_loader\n",
        "            b_x = Variable(images)   # batch x\n",
        "            b_y = Variable(labels)   # batch y\n",
        "            output = cnn(b_x)[0]               \n",
        "            loss = loss_func(output, b_y)\n",
        "            # clear gradients for this training step   \n",
        "            optimizer.zero_grad()           \n",
        "            # backpropagation, compute gradients \n",
        "            loss.backward()    \n",
        "            # apply gradients             \n",
        "            optimizer.step()                \n",
        "            if (i+1) % 100 == 0:\n",
        "              print ('Epoch [{}/{}], Step [{}/{}], Loss: {:.4f}'.format(epoch + 1, num_epochs, i + 1, total_step, loss.item()))\n",
        "              pass\n",
        "            pass\n",
        "        pass\n",
        "\n",
        "train(num_epochs, cnn, loaders)"
      ],
      "metadata": {
        "colab": {
          "base_uri": "https://localhost:8080/"
        },
        "id": "Jdl6jdGklgM1",
        "outputId": "5f766722-c022-4b24-ea32-abab8fa18a91"
      },
      "execution_count": 13,
      "outputs": [
        {
          "output_type": "stream",
          "name": "stdout",
          "text": [
            "Epoch [1/10], Step [100/600], Loss: 1.4387\n",
            "Epoch [1/10], Step [200/600], Loss: 1.5900\n",
            "Epoch [1/10], Step [300/600], Loss: 1.2928\n",
            "Epoch [1/10], Step [400/600], Loss: 1.2578\n",
            "Epoch [1/10], Step [500/600], Loss: 1.4513\n",
            "Epoch [1/10], Step [600/600], Loss: 1.5127\n",
            "Epoch [2/10], Step [100/600], Loss: 1.2371\n",
            "Epoch [2/10], Step [200/600], Loss: 1.4798\n",
            "Epoch [2/10], Step [300/600], Loss: 1.3545\n",
            "Epoch [2/10], Step [400/600], Loss: 1.3464\n",
            "Epoch [2/10], Step [500/600], Loss: 1.2341\n",
            "Epoch [2/10], Step [600/600], Loss: 1.1834\n",
            "Epoch [3/10], Step [100/600], Loss: 1.2546\n",
            "Epoch [3/10], Step [200/600], Loss: 1.2964\n",
            "Epoch [3/10], Step [300/600], Loss: 1.2417\n",
            "Epoch [3/10], Step [400/600], Loss: 1.3374\n",
            "Epoch [3/10], Step [500/600], Loss: 1.1104\n",
            "Epoch [3/10], Step [600/600], Loss: 1.0616\n",
            "Epoch [4/10], Step [100/600], Loss: 1.3788\n",
            "Epoch [4/10], Step [200/600], Loss: 1.1702\n",
            "Epoch [4/10], Step [300/600], Loss: 1.3758\n",
            "Epoch [4/10], Step [400/600], Loss: 1.2487\n",
            "Epoch [4/10], Step [500/600], Loss: 1.1347\n",
            "Epoch [4/10], Step [600/600], Loss: 0.9801\n",
            "Epoch [5/10], Step [100/600], Loss: 1.2186\n",
            "Epoch [5/10], Step [200/600], Loss: 1.2740\n",
            "Epoch [5/10], Step [300/600], Loss: 1.0843\n",
            "Epoch [5/10], Step [400/600], Loss: 1.2676\n",
            "Epoch [5/10], Step [500/600], Loss: 1.0900\n",
            "Epoch [5/10], Step [600/600], Loss: 1.0322\n",
            "Epoch [6/10], Step [100/600], Loss: 1.0655\n",
            "Epoch [6/10], Step [200/600], Loss: 1.1647\n",
            "Epoch [6/10], Step [300/600], Loss: 1.2396\n",
            "Epoch [6/10], Step [400/600], Loss: 1.0447\n",
            "Epoch [6/10], Step [500/600], Loss: 1.0875\n",
            "Epoch [6/10], Step [600/600], Loss: 1.1540\n",
            "Epoch [7/10], Step [100/600], Loss: 1.1291\n",
            "Epoch [7/10], Step [200/600], Loss: 1.2282\n",
            "Epoch [7/10], Step [300/600], Loss: 1.2489\n",
            "Epoch [7/10], Step [400/600], Loss: 1.1174\n",
            "Epoch [7/10], Step [500/600], Loss: 1.1808\n",
            "Epoch [7/10], Step [600/600], Loss: 1.3691\n",
            "Epoch [8/10], Step [100/600], Loss: 1.1373\n",
            "Epoch [8/10], Step [200/600], Loss: 1.1080\n",
            "Epoch [8/10], Step [300/600], Loss: 1.2158\n",
            "Epoch [8/10], Step [400/600], Loss: 0.9942\n",
            "Epoch [8/10], Step [500/600], Loss: 1.2399\n",
            "Epoch [8/10], Step [600/600], Loss: 1.3018\n",
            "Epoch [9/10], Step [100/600], Loss: 1.1030\n",
            "Epoch [9/10], Step [200/600], Loss: 1.2303\n",
            "Epoch [9/10], Step [300/600], Loss: 1.0376\n",
            "Epoch [9/10], Step [400/600], Loss: 1.0317\n",
            "Epoch [9/10], Step [500/600], Loss: 1.1295\n",
            "Epoch [9/10], Step [600/600], Loss: 1.3791\n",
            "Epoch [10/10], Step [100/600], Loss: 1.0287\n",
            "Epoch [10/10], Step [200/600], Loss: 1.1124\n",
            "Epoch [10/10], Step [300/600], Loss: 1.1482\n",
            "Epoch [10/10], Step [400/600], Loss: 1.0743\n",
            "Epoch [10/10], Step [500/600], Loss: 1.2186\n",
            "Epoch [10/10], Step [600/600], Loss: 1.1145\n"
          ]
        }
      ]
    },
    {
      "cell_type": "code",
      "source": [
        "def test():\n",
        "    # Test the model\n",
        "    cnn.eval()\n",
        "    with torch.no_grad():\n",
        "        correct = 0\n",
        "        total = 0\n",
        "        for images, labels in loaders['test']:\n",
        "            test_output, last_layer = cnn(images)\n",
        "            pred_y = torch.max(test_output, 1)[1].data.squeeze()\n",
        "            accuracy = (pred_y == labels).sum().item() / float(labels.size(0))\n",
        "            pass\n",
        "        print('Test Accuracy of the model on the 10000 test images: %.2f' % accuracy)\n",
        "    pass\n",
        "test()"
      ],
      "metadata": {
        "id": "vYJZzyryvT-t",
        "colab": {
          "base_uri": "https://localhost:8080/"
        },
        "outputId": "2365135c-f6a2-4c43-f7ab-c94995e3aed1"
      },
      "execution_count": 18,
      "outputs": [
        {
          "output_type": "stream",
          "name": "stdout",
          "text": [
            "Test Accuracy of the model on the 10000 test images: 0.99\n"
          ]
        }
      ]
    },
    {
      "cell_type": "code",
      "source": [
        "sample = next(iter(loaders['test']))\n",
        "imgs, lbls = sample"
      ],
      "metadata": {
        "id": "mf1wOXEOvctb"
      },
      "execution_count": 19,
      "outputs": []
    },
    {
      "cell_type": "code",
      "source": [
        "actual_number = lbls[:10].numpy()\n",
        "actual_number"
      ],
      "metadata": {
        "id": "SgnFGTVpvdIz",
        "colab": {
          "base_uri": "https://localhost:8080/"
        },
        "outputId": "0a3110f9-853b-4b42-b317-9fb06080d7cf"
      },
      "execution_count": 20,
      "outputs": [
        {
          "output_type": "execute_result",
          "data": {
            "text/plain": [
              "array([9, 0, 1, 5, 2, 4, 2, 7, 7, 3])"
            ]
          },
          "metadata": {},
          "execution_count": 20
        }
      ]
    },
    {
      "cell_type": "code",
      "source": [
        "test_output, last_layer = cnn(imgs[:10])\n",
        "pred_y = torch.max(test_output, 1)[1].data.numpy().squeeze()\n",
        "print(f'Prediction number: {pred_y}')\n",
        "print(f'Actual number: {actual_number}')"
      ],
      "metadata": {
        "id": "uThjnfHeve2O",
        "colab": {
          "base_uri": "https://localhost:8080/"
        },
        "outputId": "af5b29b2-16f9-47cd-c9f9-61e063a703a1"
      },
      "execution_count": 21,
      "outputs": [
        {
          "output_type": "stream",
          "name": "stdout",
          "text": [
            "Prediction number: [9 0 1 5 2 4 2 7 7 3]\n",
            "Actual number: [9 0 1 5 2 4 2 7 7 3]\n"
          ]
        }
      ]
    }
  ]
}