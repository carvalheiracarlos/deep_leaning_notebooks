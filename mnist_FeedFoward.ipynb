{
  "nbformat": 4,
  "nbformat_minor": 0,
  "metadata": {
    "colab": {
      "provenance": [],
      "toc_visible": true,
      "authorship_tag": "ABX9TyNP68ShSdtvpdEngBt6g6C7",
      "include_colab_link": true
    },
    "kernelspec": {
      "name": "python3",
      "display_name": "Python 3"
    },
    "language_info": {
      "name": "python"
    }
  },
  "cells": [
    {
      "cell_type": "markdown",
      "metadata": {
        "id": "view-in-github",
        "colab_type": "text"
      },
      "source": [
        "<a href=\"https://colab.research.google.com/github/carvalheiracarlos/deep_leaning_notebooks/blob/main/mnist_FeedFoward.ipynb\" target=\"_parent\"><img src=\"https://colab.research.google.com/assets/colab-badge.svg\" alt=\"Open In Colab\"/></a>"
      ]
    },
    {
      "cell_type": "markdown",
      "source": [
        "##### Descrição da Tarefa\n",
        "\n"
      ],
      "metadata": {
        "id": "GPe_HSOkwpFH"
      }
    },
    {
      "cell_type": "markdown",
      "source": [
        "Partindo do notebook utlilizado na aula passada, que pode ser encontrado no link abaixo (para quem não veio):\n",
        "\n",
        "https://github.com/rdsmaia/dim0494/blob/main/notebooks/hands_on_keras.ipynb\n",
        "\n",
        "Faça:\n",
        "\n",
        "1) projete uma rede neural com somente camadas do tipo feed-forward (dense) para resolver o problema.\n",
        "\n",
        "2) compare a acurácia da rede feed-forward com a rede CNN. Como a rede feed-forward compara-se com a CNN em termos de número de parâmetros e tempo de treinamento?\n",
        "\n",
        "3) Utilize callbacks para salvar a história do treinamento e plotar gráficos da evolução do erro para as duas redes. Plote os erros de treinamento e validação a cada época: curvas de aprendizado.\n",
        "\n",
        "opcional 4) Seria possível utilizar uma rede com camadas recorrentes para reconhecer dígitos escritos?\n",
        "\n",
        "Opções para envio da tarefa:\n",
        "\n",
        "notebook;\n",
        "\n",
        "link;\n",
        "\n",
        "pdf;\n",
        "\n",
        "mostrar em sala."
      ],
      "metadata": {
        "id": "2We3hFnZw369"
      }
    },
    {
      "cell_type": "markdown",
      "source": [
        "# Import\n"
      ],
      "metadata": {
        "id": "QGRleRGaZxxo"
      }
    },
    {
      "cell_type": "code",
      "source": [
        "from tensorflow import keras\n",
        "import tensorflow as tf\n",
        "import matplotlib.pyplot as plt\n",
        "import seaborn\n",
        "import numpy as np"
      ],
      "metadata": {
        "id": "-2Nup_z9Z1hX"
      },
      "execution_count": 21,
      "outputs": []
    },
    {
      "cell_type": "code",
      "source": [
        "#Clean Up Cell\n",
        "#rm -rf ./logs/ *.h5\n",
        "#%load_ext tensorboard\n",
        "#%tensorboard --logdir logs/cnn/train"
      ],
      "metadata": {
        "id": "CtVl_E7ErKs3"
      },
      "execution_count": 2,
      "outputs": []
    },
    {
      "cell_type": "markdown",
      "source": [
        "# Data Handling\n"
      ],
      "metadata": {
        "id": "wpJRtT7OaEWa"
      }
    },
    {
      "cell_type": "code",
      "source": [
        "(X_train, y_train), (X_test, y_test) = keras.datasets.mnist.load_data()"
      ],
      "metadata": {
        "id": "kTDV8MstaJqZ",
        "outputId": "9282e331-cce4-4989-bdc8-5d0c442158b6",
        "colab": {
          "base_uri": "https://localhost:8080/"
        }
      },
      "execution_count": 3,
      "outputs": [
        {
          "output_type": "stream",
          "name": "stdout",
          "text": [
            "Downloading data from https://storage.googleapis.com/tensorflow/tf-keras-datasets/mnist.npz\n",
            "11493376/11490434 [==============================] - 0s 0us/step\n",
            "11501568/11490434 [==============================] - 0s 0us/step\n"
          ]
        }
      ]
    },
    {
      "cell_type": "code",
      "source": [
        "def class_arrays(index):\n",
        "  return X_train[y_train==index], y_train[y_train==index]\n",
        "\n",
        "separeted_classes_dictionary = {0: [], 1: [], \n",
        "                                2: [], 3: [],\n",
        "                                4: [], 5: [],\n",
        "                                6: [], 7: [],\n",
        "                                8: [], 9: []}\n",
        "\n",
        "for it in range(10):\n",
        "  separeted_classes_dictionary[it] = class_arrays(it)"
      ],
      "metadata": {
        "id": "uoiffLXnaOwS"
      },
      "execution_count": 4,
      "outputs": []
    },
    {
      "cell_type": "code",
      "source": [
        "fig = plt.figure(figsize=(10, 6))\n",
        "for it in range(10):\n",
        "  plt.subplot(2, 5, it+1)\n",
        "  plt.axis('off')\n",
        "  plt.title(it)\n",
        "  plt.imshow(separeted_classes_dictionary[it][0].mean(axis=0).squeeze())"
      ],
      "metadata": {
        "colab": {
          "base_uri": "https://localhost:8080/",
          "height": 0
        },
        "id": "TqGibVGjciUV",
        "outputId": "b80f54af-87f7-4cc3-d398-141301daeeda"
      },
      "execution_count": 5,
      "outputs": [
        {
          "output_type": "display_data",
          "data": {
            "text/plain": [
              "<Figure size 720x432 with 10 Axes>"
            ],
            "image/png": "[encoded data removed]"
          },
          "metadata": {
            "needs_background": "light"
          }
        }
      ]
    },
    {
      "cell_type": "code",
      "source": [
        "num_classes = 10\n",
        "input_shape = (28, 28, 1)"
      ],
      "metadata": {
        "id": "_yhxpBilhgKF"
      },
      "execution_count": 6,
      "outputs": []
    },
    {
      "cell_type": "code",
      "source": [
        "# Scale images to the [0, 1] range\n",
        "X_train = X_train.astype(\"float32\") / 255\n",
        "X_test = X_test.astype(\"float32\") / 255\n",
        "\n",
        "# Make sure images have shape (28, 28, 1)\n",
        "X_train = np.expand_dims(X_train, -1)\n",
        "X_test = np.expand_dims(X_test, -1)\n",
        "print(\"X_train shape:\", X_train.shape)\n",
        "print(X_train.shape[0], \"train samples\")\n",
        "print(X_test.shape[0], \"test samples\")"
      ],
      "metadata": {
        "colab": {
          "base_uri": "https://localhost:8080/"
        },
        "id": "e-gHdb7Ld4gg",
        "outputId": "528a28a3-4da3-46da-f483-b51fb33d8f7c"
      },
      "execution_count": 7,
      "outputs": [
        {
          "output_type": "stream",
          "name": "stdout",
          "text": [
            "X_train shape: (60000, 28, 28, 1)\n",
            "60000 train samples\n",
            "10000 test samples\n"
          ]
        }
      ]
    },
    {
      "cell_type": "code",
      "source": [
        "# convert class vectors to binary class matrices\n",
        "y_train = keras.utils.to_categorical(y_train, num_classes)\n",
        "y_test = keras.utils.to_categorical(y_test, num_classes)\n",
        "print(\"y_train shape:\", y_train.shape)"
      ],
      "metadata": {
        "colab": {
          "base_uri": "https://localhost:8080/"
        },
        "id": "yNyclrZmd7xS",
        "outputId": "2b137b14-4c41-424e-d326-cd1843131812"
      },
      "execution_count": 8,
      "outputs": [
        {
          "output_type": "stream",
          "name": "stdout",
          "text": [
            "y_train shape: (60000, 10)\n"
          ]
        }
      ]
    },
    {
      "cell_type": "markdown",
      "source": [
        "# drsmaia CNN"
      ],
      "metadata": {
        "id": "KANUCLc7huMh"
      }
    },
    {
      "cell_type": "code",
      "source": [
        "model = keras.Sequential(\n",
        "    [\n",
        "        keras.Input(shape=input_shape),\n",
        "        keras.layers.Conv2D(32, kernel_size=(3, 3), activation=\"relu\"),\n",
        "        keras.layers.MaxPooling2D(pool_size=(2, 2)),\n",
        "        keras.layers.Conv2D(64, kernel_size=(3, 3), activation=\"relu\"),\n",
        "        keras.layers.MaxPooling2D(pool_size=(2, 2)),\n",
        "        keras.layers.Flatten(),\n",
        "        keras.layers.Dropout(0.5),\n",
        "        keras.layers.Dense(num_classes, activation=\"softmax\"),\n",
        "    ]\n",
        ")\n",
        "\n",
        "model.summary()"
      ],
      "metadata": {
        "colab": {
          "base_uri": "https://localhost:8080/"
        },
        "id": "4RRyICfueDcc",
        "outputId": "5201b9e8-b05c-450b-feab-248fe2312aa4"
      },
      "execution_count": 9,
      "outputs": [
        {
          "output_type": "stream",
          "name": "stdout",
          "text": [
            "Model: \"sequential\"\n",
            "_________________________________________________________________\n",
            " Layer (type)                Output Shape              Param #   \n",
            "=================================================================\n",
            " conv2d (Conv2D)             (None, 26, 26, 32)        320       \n",
            "                                                                 \n",
            " max_pooling2d (MaxPooling2D  (None, 13, 13, 32)       0         \n",
            " )                                                               \n",
            "                                                                 \n",
            " conv2d_1 (Conv2D)           (None, 11, 11, 64)        18496     \n",
            "                                                                 \n",
            " max_pooling2d_1 (MaxPooling  (None, 5, 5, 64)         0         \n",
            " 2D)                                                             \n",
            "                                                                 \n",
            " flatten (Flatten)           (None, 1600)              0         \n",
            "                                                                 \n",
            " dropout (Dropout)           (None, 1600)              0         \n",
            "                                                                 \n",
            " dense (Dense)               (None, 10)                16010     \n",
            "                                                                 \n",
            "=================================================================\n",
            "Total params: 34,826\n",
            "Trainable params: 34,826\n",
            "Non-trainable params: 0\n",
            "_________________________________________________________________\n"
          ]
        }
      ]
    },
    {
      "cell_type": "code",
      "source": [
        "callbacks = [\n",
        "    tf.keras.callbacks.ModelCheckpoint(filepath='./cnn/model.{epoch:02d}-{val_loss:.2f}.h5'),\n",
        "    tf.keras.callbacks.TensorBoard(log_dir='./logs/cnn/'),\n",
        "]"
      ],
      "metadata": {
        "id": "KuEHvoIFjg25"
      },
      "execution_count": 10,
      "outputs": []
    },
    {
      "cell_type": "code",
      "source": [
        "# Hyperparameters\n",
        "batch_size = 128\n",
        "epochs = 15\n",
        "model.compile(loss=\"categorical_crossentropy\", optimizer=\"adam\", metrics=[\"accuracy\"])\n",
        "\n",
        "# model training\n",
        "cnn_fit = model.fit(X_train, y_train, batch_size=batch_size, epochs=epochs, validation_split=0.1, verbose=1, callbacks=callbacks)"
      ],
      "metadata": {
        "id": "eIl8z0iQeVtT",
        "outputId": "3e98344c-d5c2-49cf-e4b0-bebb9b22c98c",
        "colab": {
          "base_uri": "https://localhost:8080/"
        }
      },
      "execution_count": 11,
      "outputs": [
        {
          "output_type": "stream",
          "name": "stdout",
          "text": [
            "Epoch 1/15\n",
            "422/422 [==============================] - 43s 99ms/step - loss: 0.3691 - accuracy: 0.8886 - val_loss: 0.0789 - val_accuracy: 0.9793\n",
            "Epoch 2/15\n",
            "422/422 [==============================] - 43s 101ms/step - loss: 0.1080 - accuracy: 0.9674 - val_loss: 0.0553 - val_accuracy: 0.9845\n",
            "Epoch 3/15\n",
            "422/422 [==============================] - 41s 98ms/step - loss: 0.0837 - accuracy: 0.9743 - val_loss: 0.0464 - val_accuracy: 0.9872\n",
            "Epoch 4/15\n",
            "422/422 [==============================] - 41s 98ms/step - loss: 0.0698 - accuracy: 0.9790 - val_loss: 0.0395 - val_accuracy: 0.9887\n",
            "Epoch 5/15\n",
            "422/422 [==============================] - 43s 101ms/step - loss: 0.0600 - accuracy: 0.9809 - val_loss: 0.0397 - val_accuracy: 0.9910\n",
            "Epoch 6/15\n",
            "422/422 [==============================] - 41s 98ms/step - loss: 0.0547 - accuracy: 0.9829 - val_loss: 0.0344 - val_accuracy: 0.9915\n",
            "Epoch 7/15\n",
            "422/422 [==============================] - 41s 98ms/step - loss: 0.0507 - accuracy: 0.9838 - val_loss: 0.0346 - val_accuracy: 0.9905\n",
            "Epoch 8/15\n",
            "422/422 [==============================] - 42s 101ms/step - loss: 0.0472 - accuracy: 0.9849 - val_loss: 0.0304 - val_accuracy: 0.9912\n",
            "Epoch 9/15\n",
            "422/422 [==============================] - 41s 98ms/step - loss: 0.0437 - accuracy: 0.9859 - val_loss: 0.0326 - val_accuracy: 0.9907\n",
            "Epoch 10/15\n",
            "422/422 [==============================] - 42s 100ms/step - loss: 0.0428 - accuracy: 0.9864 - val_loss: 0.0331 - val_accuracy: 0.9910\n",
            "Epoch 11/15\n",
            "422/422 [==============================] - 41s 98ms/step - loss: 0.0382 - accuracy: 0.9877 - val_loss: 0.0300 - val_accuracy: 0.9918\n",
            "Epoch 12/15\n",
            "422/422 [==============================] - 41s 97ms/step - loss: 0.0381 - accuracy: 0.9881 - val_loss: 0.0296 - val_accuracy: 0.9923\n",
            "Epoch 13/15\n",
            "422/422 [==============================] - 42s 100ms/step - loss: 0.0361 - accuracy: 0.9886 - val_loss: 0.0299 - val_accuracy: 0.9917\n",
            "Epoch 14/15\n",
            "422/422 [==============================] - 41s 97ms/step - loss: 0.0324 - accuracy: 0.9896 - val_loss: 0.0281 - val_accuracy: 0.9928\n",
            "Epoch 15/15\n",
            "422/422 [==============================] - 41s 97ms/step - loss: 0.0317 - accuracy: 0.9896 - val_loss: 0.0277 - val_accuracy: 0.9927\n"
          ]
        }
      ]
    },
    {
      "cell_type": "markdown",
      "source": [
        "# FeedFoward\n"
      ],
      "metadata": {
        "id": "Ebjd0GEMhmm0"
      }
    },
    {
      "cell_type": "code",
      "source": [
        "feed_foward_model = keras.Sequential(\n",
        "    [\n",
        "        keras.Input(shape=input_shape),\n",
        "        keras.layers.Dense(16, activation=\"sigmoid\"),\n",
        "        keras.layers.Dense(8, activation=\"sigmoid\"),\n",
        "        keras.layers.Flatten(),\n",
        "        keras.layers.Dropout(0.5),\n",
        "        keras.layers.Dense(num_classes, activation=\"softmax\"),\n",
        "    ]\n",
        ")\n",
        "\n",
        "feed_foward_model.summary()"
      ],
      "metadata": {
        "id": "vlBwDOH1h12u",
        "outputId": "f780d177-0eff-4f9f-a7ca-870d78da5062",
        "colab": {
          "base_uri": "https://localhost:8080/"
        }
      },
      "execution_count": 13,
      "outputs": [
        {
          "output_type": "stream",
          "name": "stdout",
          "text": [
            "Model: \"sequential_1\"\n",
            "_________________________________________________________________\n",
            " Layer (type)                Output Shape              Param #   \n",
            "=================================================================\n",
            " dense_1 (Dense)             (None, 28, 28, 16)        32        \n",
            "                                                                 \n",
            " dense_2 (Dense)             (None, 28, 28, 8)         136       \n",
            "                                                                 \n",
            " flatten_1 (Flatten)         (None, 6272)              0         \n",
            "                                                                 \n",
            " dropout_1 (Dropout)         (None, 6272)              0         \n",
            "                                                                 \n",
            " dense_3 (Dense)             (None, 10)                62730     \n",
            "                                                                 \n",
            "=================================================================\n",
            "Total params: 62,898\n",
            "Trainable params: 62,898\n",
            "Non-trainable params: 0\n",
            "_________________________________________________________________\n"
          ]
        }
      ]
    },
    {
      "cell_type": "code",
      "source": [
        "callbacks = [\n",
        "    tf.keras.callbacks.ModelCheckpoint(filepath='./feed_foward/model.{epoch:02d}-{val_loss:.2f}.h5'),\n",
        "    tf.keras.callbacks.TensorBoard(log_dir='./logs/feed_foward/'),\n",
        "]"
      ],
      "metadata": {
        "id": "10zv-2fOjBuy"
      },
      "execution_count": 14,
      "outputs": []
    },
    {
      "cell_type": "code",
      "source": [
        "# Hyperparameters\n",
        "batch_size = 128\n",
        "epochs = 15\n",
        "feed_foward_model.compile(loss=\"categorical_crossentropy\", optimizer=\"adam\", metrics=[\"accuracy\"])\n",
        "\n",
        "# model training\n",
        "feed_foward_fit = feed_foward_model.fit(X_train, y_train, batch_size=batch_size, epochs=epochs, validation_split=0.1, verbose=1, callbacks=callbacks)"
      ],
      "metadata": {
        "id": "LMBQHc3pjMxq",
        "outputId": "9e3dcd29-c70a-4c0e-9543-059bc2d8dd46",
        "colab": {
          "base_uri": "https://localhost:8080/"
        }
      },
      "execution_count": 15,
      "outputs": [
        {
          "output_type": "stream",
          "name": "stdout",
          "text": [
            "Epoch 1/15\n",
            "422/422 [==============================] - 15s 34ms/step - loss: 1.9301 - accuracy: 0.3501 - val_loss: 0.6618 - val_accuracy: 0.8717\n",
            "Epoch 2/15\n",
            "422/422 [==============================] - 15s 36ms/step - loss: 0.5678 - accuracy: 0.8315 - val_loss: 0.3181 - val_accuracy: 0.9122\n",
            "Epoch 3/15\n",
            "422/422 [==============================] - 14s 33ms/step - loss: 0.4203 - accuracy: 0.8763 - val_loss: 0.2767 - val_accuracy: 0.9215\n",
            "Epoch 4/15\n",
            "422/422 [==============================] - 14s 33ms/step - loss: 0.3858 - accuracy: 0.8872 - val_loss: 0.2650 - val_accuracy: 0.9237\n",
            "Epoch 5/15\n",
            "422/422 [==============================] - 14s 33ms/step - loss: 0.3635 - accuracy: 0.8950 - val_loss: 0.2510 - val_accuracy: 0.9272\n",
            "Epoch 6/15\n",
            "422/422 [==============================] - 14s 34ms/step - loss: 0.3538 - accuracy: 0.8968 - val_loss: 0.2439 - val_accuracy: 0.9322\n",
            "Epoch 7/15\n",
            "422/422 [==============================] - 14s 33ms/step - loss: 0.3457 - accuracy: 0.9019 - val_loss: 0.2499 - val_accuracy: 0.9307\n",
            "Epoch 8/15\n",
            "422/422 [==============================] - 14s 33ms/step - loss: 0.3374 - accuracy: 0.9039 - val_loss: 0.2438 - val_accuracy: 0.9318\n",
            "Epoch 9/15\n",
            "422/422 [==============================] - 14s 33ms/step - loss: 0.3322 - accuracy: 0.9054 - val_loss: 0.2438 - val_accuracy: 0.9318\n",
            "Epoch 10/15\n",
            "422/422 [==============================] - 14s 34ms/step - loss: 0.3331 - accuracy: 0.9050 - val_loss: 0.2366 - val_accuracy: 0.9333\n",
            "Epoch 11/15\n",
            "422/422 [==============================] - 15s 36ms/step - loss: 0.3286 - accuracy: 0.9073 - val_loss: 0.2380 - val_accuracy: 0.9347\n",
            "Epoch 12/15\n",
            "422/422 [==============================] - 14s 33ms/step - loss: 0.3291 - accuracy: 0.9054 - val_loss: 0.2356 - val_accuracy: 0.9348\n",
            "Epoch 13/15\n",
            "422/422 [==============================] - 14s 34ms/step - loss: 0.3248 - accuracy: 0.9078 - val_loss: 0.2327 - val_accuracy: 0.9365\n",
            "Epoch 14/15\n",
            "422/422 [==============================] - 14s 34ms/step - loss: 0.3230 - accuracy: 0.9078 - val_loss: 0.2344 - val_accuracy: 0.9358\n",
            "Epoch 15/15\n",
            "422/422 [==============================] - 14s 33ms/step - loss: 0.3215 - accuracy: 0.9085 - val_loss: 0.2366 - val_accuracy: 0.9352\n"
          ]
        }
      ]
    },
    {
      "cell_type": "markdown",
      "source": [
        "# Plots\n"
      ],
      "metadata": {
        "id": "eH_2h45Azdri"
      }
    },
    {
      "cell_type": "code",
      "source": [
        "fig, ax = plt.subplots(figsize=(10, 8))\n",
        "ax = plt.plot(feed_foward_fit.history['accuracy'], label='Feed Foward')\n",
        "ax = plt.plot(cnn_fit.history['accuracy'], label='Convolutional Neural NetWork')\n",
        "ax = plt.xlabel('Epochs')\n",
        "ax = plt.ylabel('Accuracy')\n",
        "ax = plt.title('Training Accuracy')\n",
        "ax = plt.legend()"
      ],
      "metadata": {
        "colab": {
          "base_uri": "https://localhost:8080/",
          "height": 513
        },
        "id": "SKLCzghTzgED",
        "outputId": "9bd93da6-31b7-4c4b-e674-05c2479eefc0"
      },
      "execution_count": 39,
      "outputs": [
        {
          "output_type": "display_data",
          "data": {
            "text/plain": [
              "<Figure size 720x576 with 1 Axes>"
            ],
            "image/png": "[encoded data removed]"
          },
          "metadata": {
            "needs_background": "light"
          }
        }
      ]
    },
    {
      "cell_type": "code",
      "source": [
        "fig, ax = plt.subplots(figsize=(10, 8))\n",
        "ax = plt.plot(feed_foward_fit.history['loss'], label='Feed Foward')\n",
        "ax = plt.plot(cnn_fit.history['loss'], label='Convolutional Neural NetWork')\n",
        "ax = plt.xlabel('Epochs')\n",
        "ax = plt.ylabel('Loss')\n",
        "ax = plt.title('Training Loss')\n",
        "ax = plt.legend()\n"
      ],
      "metadata": {
        "colab": {
          "base_uri": "https://localhost:8080/",
          "height": 513
        },
        "id": "_hyQj0wNz2Wx",
        "outputId": "5b167d7e-3616-4d69-d2f9-bbd7b9313959"
      },
      "execution_count": 40,
      "outputs": [
        {
          "output_type": "display_data",
          "data": {
            "text/plain": [
              "<Figure size 720x576 with 1 Axes>"
            ],
            "image/png": "[encoded data removed]"
          },
          "metadata": {
            "needs_background": "light"
          }
        }
      ]
    }
  ]
}