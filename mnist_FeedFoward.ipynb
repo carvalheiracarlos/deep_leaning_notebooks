{
  "nbformat": 4,
  "nbformat_minor": 0,
  "metadata": {
    "colab": {
      "provenance": [],
      "toc_visible": true,
      "authorship_tag": "ABX9TyMvI7EbnVoFtaI0+jAbln3+",
      "include_colab_link": true
    },
    "kernelspec": {
      "name": "python3",
      "display_name": "Python 3"
    },
    "language_info": {
      "name": "python"
    }
  },
  "cells": [
    {
      "cell_type": "markdown",
      "metadata": {
        "id": "view-in-github",
        "colab_type": "text"
      },
      "source": [
        "<a href=\"https://colab.research.google.com/github/carvalheiracarlos/deep_leaning_notebooks/blob/main/mnist_FeedFoward.ipynb\" target=\"_parent\"><img src=\"https://colab.research.google.com/assets/colab-badge.svg\" alt=\"Open In Colab\"/></a>"
      ]
    },
    {
      "cell_type": "markdown",
      "source": [
        "##### Descrição da Tarefa\n",
        "\n"
      ],
      "metadata": {
        "id": "GPe_HSOkwpFH"
      }
    },
    {
      "cell_type": "markdown",
      "source": [
        "Partindo do notebook utlilizado na aula passada, que pode ser encontrado no link abaixo (para quem não veio):\n",
        "\n",
        "https://github.com/rdsmaia/dim0494/blob/main/notebooks/hands_on_keras.ipynb\n",
        "\n",
        "Faça:\n",
        "\n",
        "1) projete uma rede neural com somente camadas do tipo feed-forward (dense) para resolver o problema.\n",
        "\n",
        "2) compare a acurácia da rede feed-forward com a rede CNN. Como a rede feed-forward compara-se com a CNN em termos de número de parâmetros e tempo de treinamento?\n",
        "\n",
        "3) Utilize callbacks para salvar a história do treinamento e plotar gráficos da evolução do erro para as duas redes. Plote os erros de treinamento e validação a cada época: curvas de aprendizado.\n",
        "\n",
        "opcional 4) Seria possível utilizar uma rede com camadas recorrentes para reconhecer dígitos escritos?\n",
        "\n",
        "Opções para envio da tarefa:\n",
        "\n",
        "notebook;\n",
        "\n",
        "link;\n",
        "\n",
        "pdf;\n",
        "\n",
        "mostrar em sala."
      ],
      "metadata": {
        "id": "2We3hFnZw369"
      }
    },
    {
      "cell_type": "markdown",
      "source": [
        "# Import\n"
      ],
      "metadata": {
        "id": "QGRleRGaZxxo"
      }
    },
    {
      "cell_type": "code",
      "source": [
        "from tensorflow import keras\n",
        "import tensorflow as tf\n",
        "import matplotlib.pyplot as plt\n",
        "import numpy as np"
      ],
      "metadata": {
        "id": "-2Nup_z9Z1hX"
      },
      "execution_count": 28,
      "outputs": []
    },
    {
      "cell_type": "code",
      "source": [
        "#Clean Up Cell\n",
        "#rm -rf ./logs/ *.h5\n",
        "#%load_ext tensorboard\n",
        "#%tensorboard --logdir logs/cnn/train"
      ],
      "metadata": {
        "id": "CtVl_E7ErKs3"
      },
      "execution_count": 29,
      "outputs": []
    },
    {
      "cell_type": "markdown",
      "source": [
        "# Data Handling\n"
      ],
      "metadata": {
        "id": "wpJRtT7OaEWa"
      }
    },
    {
      "cell_type": "code",
      "source": [
        "(X_train, y_train), (X_test, y_test) = keras.datasets.mnist.load_data()"
      ],
      "metadata": {
        "id": "kTDV8MstaJqZ"
      },
      "execution_count": 30,
      "outputs": []
    },
    {
      "cell_type": "code",
      "source": [
        "def class_arrays(index):\n",
        "  return X_train[y_train==index], y_train[y_train==index]\n",
        "\n",
        "separeted_classes_dictionary = {0: [], 1: [], \n",
        "                                2: [], 3: [],\n",
        "                                4: [], 5: [],\n",
        "                                6: [], 7: [],\n",
        "                                8: [], 9: []}\n",
        "\n",
        "for it in range(10):\n",
        "  separeted_classes_dictionary[it] = class_arrays(it)"
      ],
      "metadata": {
        "id": "uoiffLXnaOwS"
      },
      "execution_count": 31,
      "outputs": []
    },
    {
      "cell_type": "code",
      "source": [
        "fig = plt.figure(figsize=(10, 6))\n",
        "for it in range(10):\n",
        "  plt.subplot(2, 5, it+1)\n",
        "  plt.axis('off')\n",
        "  plt.title(it)\n",
        "  plt.imshow(separeted_classes_dictionary[it][0].mean(axis=0).squeeze())"
      ],
      "metadata": {
        "colab": {
          "base_uri": "https://localhost:8080/",
          "height": 321
        },
        "id": "TqGibVGjciUV",
        "outputId": "b69058b9-115e-4231-80c6-b4f62fed2fc3"
      },
      "execution_count": 32,
      "outputs": [
        {
          "output_type": "display_data",
          "data": {
            "text/plain": [
              "<Figure size 720x432 with 10 Axes>"
            ],
            "image/png": "[encoded data removed]"
          },
          "metadata": {
            "needs_background": "light"
          }
        }
      ]
    },
    {
      "cell_type": "code",
      "source": [
        "num_classes = 10\n",
        "input_shape = (28, 28, 1)"
      ],
      "metadata": {
        "id": "_yhxpBilhgKF"
      },
      "execution_count": 33,
      "outputs": []
    },
    {
      "cell_type": "code",
      "source": [
        "# Scale images to the [0, 1] range\n",
        "X_train = X_train.astype(\"float32\") / 255\n",
        "X_test = X_test.astype(\"float32\") / 255\n",
        "\n",
        "# Make sure images have shape (28, 28, 1)\n",
        "X_train = np.expand_dims(X_train, -1)\n",
        "X_test = np.expand_dims(X_test, -1)\n",
        "print(\"X_train shape:\", X_train.shape)\n",
        "print(X_train.shape[0], \"train samples\")\n",
        "print(X_test.shape[0], \"test samples\")"
      ],
      "metadata": {
        "colab": {
          "base_uri": "https://localhost:8080/"
        },
        "id": "e-gHdb7Ld4gg",
        "outputId": "7389fc25-fc17-4087-876a-dbff1b92d58b"
      },
      "execution_count": 34,
      "outputs": [
        {
          "output_type": "stream",
          "name": "stdout",
          "text": [
            "X_train shape: (60000, 28, 28, 1)\n",
            "60000 train samples\n",
            "10000 test samples\n"
          ]
        }
      ]
    },
    {
      "cell_type": "code",
      "source": [
        "# convert class vectors to binary class matrices\n",
        "y_train = keras.utils.to_categorical(y_train, num_classes)\n",
        "y_test = keras.utils.to_categorical(y_test, num_classes)\n",
        "print(\"y_train shape:\", y_train.shape)"
      ],
      "metadata": {
        "colab": {
          "base_uri": "https://localhost:8080/"
        },
        "id": "yNyclrZmd7xS",
        "outputId": "1cd3701d-0f18-4127-d151-53642dda2a21"
      },
      "execution_count": 35,
      "outputs": [
        {
          "output_type": "stream",
          "name": "stdout",
          "text": [
            "y_train shape: (60000, 10)\n"
          ]
        }
      ]
    },
    {
      "cell_type": "markdown",
      "source": [
        "# drsmaia CNN"
      ],
      "metadata": {
        "id": "KANUCLc7huMh"
      }
    },
    {
      "cell_type": "code",
      "source": [
        "model = keras.Sequential(\n",
        "    [\n",
        "        keras.Input(shape=input_shape),\n",
        "        keras.layers.Conv2D(32, kernel_size=(3, 3), activation=\"relu\"),\n",
        "        keras.layers.MaxPooling2D(pool_size=(2, 2)),\n",
        "        keras.layers.Conv2D(64, kernel_size=(3, 3), activation=\"relu\"),\n",
        "        keras.layers.MaxPooling2D(pool_size=(2, 2)),\n",
        "        keras.layers.Flatten(),\n",
        "        keras.layers.Dropout(0.5),\n",
        "        keras.layers.Dense(num_classes, activation=\"softmax\"),\n",
        "    ]\n",
        ")\n",
        "\n",
        "model.summary()"
      ],
      "metadata": {
        "colab": {
          "base_uri": "https://localhost:8080/"
        },
        "id": "4RRyICfueDcc",
        "outputId": "fdbefc47-a871-4037-b451-e87c9bba622a"
      },
      "execution_count": 36,
      "outputs": [
        {
          "output_type": "stream",
          "name": "stdout",
          "text": [
            "Model: \"sequential_6\"\n",
            "_________________________________________________________________\n",
            " Layer (type)                Output Shape              Param #   \n",
            "=================================================================\n",
            " conv2d_2 (Conv2D)           (None, 26, 26, 32)        320       \n",
            "                                                                 \n",
            " max_pooling2d_2 (MaxPooling  (None, 13, 13, 32)       0         \n",
            " 2D)                                                             \n",
            "                                                                 \n",
            " conv2d_3 (Conv2D)           (None, 11, 11, 64)        18496     \n",
            "                                                                 \n",
            " max_pooling2d_3 (MaxPooling  (None, 5, 5, 64)         0         \n",
            " 2D)                                                             \n",
            "                                                                 \n",
            " flatten_6 (Flatten)         (None, 1600)              0         \n",
            "                                                                 \n",
            " dropout_6 (Dropout)         (None, 1600)              0         \n",
            "                                                                 \n",
            " dense_16 (Dense)            (None, 10)                16010     \n",
            "                                                                 \n",
            "=================================================================\n",
            "Total params: 34,826\n",
            "Trainable params: 34,826\n",
            "Non-trainable params: 0\n",
            "_________________________________________________________________\n"
          ]
        }
      ]
    },
    {
      "cell_type": "code",
      "source": [
        "callbacks = [\n",
        "    tf.keras.callbacks.ModelCheckpoint(filepath='./cnn/model.{epoch:02d}-{val_loss:.2f}.h5'),\n",
        "    tf.keras.callbacks.TensorBoard(log_dir='./logs/cnn/'),\n",
        "]"
      ],
      "metadata": {
        "id": "KuEHvoIFjg25"
      },
      "execution_count": 37,
      "outputs": []
    },
    {
      "cell_type": "code",
      "source": [
        "# Hyperparameters\n",
        "batch_size = 128\n",
        "epochs = 15\n",
        "model.compile(loss=\"categorical_crossentropy\", optimizer=\"adam\", metrics=[\"accuracy\"])\n",
        "\n",
        "# model training\n",
        "cnn_fit = model.fit(X_train, y_train, batch_size=batch_size, epochs=epochs, validation_split=0.1, verbose=1, callbacks=callbacks)"
      ],
      "metadata": {
        "id": "eIl8z0iQeVtT",
        "outputId": "3c49575e-a24d-47c0-aaa2-0ad7a560e9cc",
        "colab": {
          "base_uri": "https://localhost:8080/"
        }
      },
      "execution_count": 38,
      "outputs": [
        {
          "output_type": "stream",
          "name": "stdout",
          "text": [
            "Epoch 1/15\n",
            "422/422 [==============================] - 26s 62ms/step - loss: 0.3724 - accuracy: 0.8854 - val_loss: 0.0816 - val_accuracy: 0.9787\n",
            "Epoch 2/15\n",
            "422/422 [==============================] - 27s 63ms/step - loss: 0.1072 - accuracy: 0.9674 - val_loss: 0.0543 - val_accuracy: 0.9848\n",
            "Epoch 3/15\n",
            "422/422 [==============================] - 26s 61ms/step - loss: 0.0794 - accuracy: 0.9756 - val_loss: 0.0472 - val_accuracy: 0.9870\n",
            "Epoch 4/15\n",
            "422/422 [==============================] - 26s 61ms/step - loss: 0.0698 - accuracy: 0.9786 - val_loss: 0.0416 - val_accuracy: 0.9892\n",
            "Epoch 5/15\n",
            "422/422 [==============================] - 26s 61ms/step - loss: 0.0593 - accuracy: 0.9815 - val_loss: 0.0364 - val_accuracy: 0.9897\n",
            "Epoch 6/15\n",
            "422/422 [==============================] - 26s 61ms/step - loss: 0.0557 - accuracy: 0.9832 - val_loss: 0.0338 - val_accuracy: 0.9905\n",
            "Epoch 7/15\n",
            "422/422 [==============================] - 26s 61ms/step - loss: 0.0498 - accuracy: 0.9844 - val_loss: 0.0336 - val_accuracy: 0.9917\n",
            "Epoch 8/15\n",
            "422/422 [==============================] - 25s 60ms/step - loss: 0.0468 - accuracy: 0.9847 - val_loss: 0.0328 - val_accuracy: 0.9917\n",
            "Epoch 9/15\n",
            "422/422 [==============================] - 25s 60ms/step - loss: 0.0422 - accuracy: 0.9868 - val_loss: 0.0331 - val_accuracy: 0.9903\n",
            "Epoch 10/15\n",
            "422/422 [==============================] - 25s 60ms/step - loss: 0.0414 - accuracy: 0.9867 - val_loss: 0.0317 - val_accuracy: 0.9912\n",
            "Epoch 11/15\n",
            "422/422 [==============================] - 25s 60ms/step - loss: 0.0388 - accuracy: 0.9878 - val_loss: 0.0317 - val_accuracy: 0.9910\n",
            "Epoch 12/15\n",
            "422/422 [==============================] - 25s 60ms/step - loss: 0.0360 - accuracy: 0.9883 - val_loss: 0.0320 - val_accuracy: 0.9915\n",
            "Epoch 13/15\n",
            "422/422 [==============================] - 25s 60ms/step - loss: 0.0328 - accuracy: 0.9898 - val_loss: 0.0329 - val_accuracy: 0.9918\n",
            "Epoch 14/15\n",
            "422/422 [==============================] - 25s 60ms/step - loss: 0.0331 - accuracy: 0.9896 - val_loss: 0.0314 - val_accuracy: 0.9922\n",
            "Epoch 15/15\n",
            "422/422 [==============================] - 25s 60ms/step - loss: 0.0316 - accuracy: 0.9900 - val_loss: 0.0322 - val_accuracy: 0.9910\n"
          ]
        }
      ]
    },
    {
      "cell_type": "code",
      "source": [
        "cnn_results = model.evaluate(X_test, y_test, batch_size=128)"
      ],
      "metadata": {
        "id": "Q61blynW1-Kl",
        "outputId": "40ae6e86-cd37-4aa2-bcb3-6f24e6575782",
        "colab": {
          "base_uri": "https://localhost:8080/"
        }
      },
      "execution_count": 49,
      "outputs": [
        {
          "output_type": "stream",
          "name": "stdout",
          "text": [
            "79/79 [==============================] - 1s 17ms/step - loss: 0.0280 - accuracy: 0.9911\n"
          ]
        }
      ]
    },
    {
      "cell_type": "markdown",
      "source": [
        "# FeedFoward\n"
      ],
      "metadata": {
        "id": "Ebjd0GEMhmm0"
      }
    },
    {
      "cell_type": "code",
      "source": [
        "feed_foward_model = keras.Sequential(\n",
        "    [\n",
        "        keras.Input(shape=input_shape),\n",
        "        keras.layers.Dense(16, activation=\"sigmoid\"),\n",
        "        keras.layers.Dense(8, activation=\"sigmoid\"),\n",
        "        keras.layers.Flatten(),\n",
        "        keras.layers.Dropout(0.5),\n",
        "        keras.layers.Dense(num_classes, activation=\"softmax\"),\n",
        "    ]\n",
        ")\n",
        "\n",
        "feed_foward_model.summary()"
      ],
      "metadata": {
        "id": "vlBwDOH1h12u",
        "outputId": "a1222609-a0af-4f7d-b5f4-29b7092fed40",
        "colab": {
          "base_uri": "https://localhost:8080/"
        }
      },
      "execution_count": 39,
      "outputs": [
        {
          "output_type": "stream",
          "name": "stdout",
          "text": [
            "Model: \"sequential_7\"\n",
            "_________________________________________________________________\n",
            " Layer (type)                Output Shape              Param #   \n",
            "=================================================================\n",
            " dense_17 (Dense)            (None, 28, 28, 16)        32        \n",
            "                                                                 \n",
            " dense_18 (Dense)            (None, 28, 28, 8)         136       \n",
            "                                                                 \n",
            " flatten_7 (Flatten)         (None, 6272)              0         \n",
            "                                                                 \n",
            " dropout_7 (Dropout)         (None, 6272)              0         \n",
            "                                                                 \n",
            " dense_19 (Dense)            (None, 10)                62730     \n",
            "                                                                 \n",
            "=================================================================\n",
            "Total params: 62,898\n",
            "Trainable params: 62,898\n",
            "Non-trainable params: 0\n",
            "_________________________________________________________________\n"
          ]
        }
      ]
    },
    {
      "cell_type": "code",
      "source": [
        "callbacks = [\n",
        "    tf.keras.callbacks.ModelCheckpoint(filepath='./feed_foward/model.{epoch:02d}-{val_loss:.2f}.h5'),\n",
        "    tf.keras.callbacks.TensorBoard(log_dir='./logs/feed_foward/'),\n",
        "]"
      ],
      "metadata": {
        "id": "10zv-2fOjBuy"
      },
      "execution_count": 40,
      "outputs": []
    },
    {
      "cell_type": "code",
      "source": [
        "# Hyperparameters\n",
        "batch_size = 128\n",
        "epochs = 15\n",
        "feed_foward_model.compile(loss=\"categorical_crossentropy\", optimizer=\"adam\", metrics=[\"accuracy\"])\n",
        "\n",
        "# model training\n",
        "feed_foward_fit = feed_foward_model.fit(X_train, y_train, batch_size=batch_size, epochs=epochs, validation_split=0.1, verbose=1, callbacks=callbacks)"
      ],
      "metadata": {
        "id": "LMBQHc3pjMxq",
        "outputId": "de559ebf-3cc6-4fab-e8b5-39cc7675340a",
        "colab": {
          "base_uri": "https://localhost:8080/"
        }
      },
      "execution_count": 41,
      "outputs": [
        {
          "output_type": "stream",
          "name": "stdout",
          "text": [
            "Epoch 1/15\n",
            "422/422 [==============================] - 8s 17ms/step - loss: 2.2357 - accuracy: 0.2178 - val_loss: 1.2574 - val_accuracy: 0.6960\n",
            "Epoch 2/15\n",
            "422/422 [==============================] - 7s 17ms/step - loss: 0.7153 - accuracy: 0.7814 - val_loss: 0.3757 - val_accuracy: 0.8895\n",
            "Epoch 3/15\n",
            "422/422 [==============================] - 7s 17ms/step - loss: 0.4645 - accuracy: 0.8590 - val_loss: 0.3118 - val_accuracy: 0.9103\n",
            "Epoch 4/15\n",
            "422/422 [==============================] - 7s 17ms/step - loss: 0.4088 - accuracy: 0.8776 - val_loss: 0.2811 - val_accuracy: 0.9187\n",
            "Epoch 5/15\n",
            "422/422 [==============================] - 7s 17ms/step - loss: 0.3861 - accuracy: 0.8850 - val_loss: 0.2589 - val_accuracy: 0.9265\n",
            "Epoch 6/15\n",
            "422/422 [==============================] - 7s 17ms/step - loss: 0.3666 - accuracy: 0.8906 - val_loss: 0.2528 - val_accuracy: 0.9298\n",
            "Epoch 7/15\n",
            "422/422 [==============================] - 7s 17ms/step - loss: 0.3562 - accuracy: 0.8955 - val_loss: 0.2446 - val_accuracy: 0.9312\n",
            "Epoch 8/15\n",
            "422/422 [==============================] - 7s 17ms/step - loss: 0.3462 - accuracy: 0.8983 - val_loss: 0.2409 - val_accuracy: 0.9313\n",
            "Epoch 9/15\n",
            "422/422 [==============================] - 7s 17ms/step - loss: 0.3418 - accuracy: 0.9005 - val_loss: 0.2337 - val_accuracy: 0.9312\n",
            "Epoch 10/15\n",
            "422/422 [==============================] - 7s 17ms/step - loss: 0.3322 - accuracy: 0.9032 - val_loss: 0.2301 - val_accuracy: 0.9377\n",
            "Epoch 11/15\n",
            "422/422 [==============================] - 7s 17ms/step - loss: 0.3323 - accuracy: 0.9032 - val_loss: 0.2286 - val_accuracy: 0.9368\n",
            "Epoch 12/15\n",
            "422/422 [==============================] - 10s 23ms/step - loss: 0.3238 - accuracy: 0.9061 - val_loss: 0.2254 - val_accuracy: 0.9368\n",
            "Epoch 13/15\n",
            "422/422 [==============================] - 7s 17ms/step - loss: 0.3205 - accuracy: 0.9072 - val_loss: 0.2248 - val_accuracy: 0.9350\n",
            "Epoch 14/15\n",
            "422/422 [==============================] - 7s 17ms/step - loss: 0.3200 - accuracy: 0.9080 - val_loss: 0.2299 - val_accuracy: 0.9347\n",
            "Epoch 15/15\n",
            "422/422 [==============================] - 7s 17ms/step - loss: 0.3143 - accuracy: 0.9094 - val_loss: 0.2220 - val_accuracy: 0.9367\n"
          ]
        }
      ]
    },
    {
      "cell_type": "markdown",
      "source": [
        "# Plots\n"
      ],
      "metadata": {
        "id": "eH_2h45Azdri"
      }
    },
    {
      "cell_type": "code",
      "source": [
        "plt.plot(feed_foward_fit.history['accuracy'])\n",
        "plt.plot(cnn_fit.history['accuracy'])"
      ],
      "metadata": {
        "colab": {
          "base_uri": "https://localhost:8080/",
          "height": 282
        },
        "id": "SKLCzghTzgED",
        "outputId": "e43a2a23-e8f9-4ed2-ae36-fff391d3acd4"
      },
      "execution_count": 45,
      "outputs": [
        {
          "output_type": "execute_result",
          "data": {
            "text/plain": [
              "[<matplotlib.lines.Line2D at 0x7fbfcfab6350>]"
            ]
          },
          "metadata": {},
          "execution_count": 45
        },
        {
          "output_type": "display_data",
          "data": {
            "text/plain": [
              "<Figure size 432x288 with 1 Axes>"
            ],
            "image/png": "[encoded data removed]"
          },
          "metadata": {
            "needs_background": "light"
          }
        }
      ]
    },
    {
      "cell_type": "code",
      "source": [
        "plt.plot(feed_foward_fit.history['loss'])\n",
        "plt.plot(cnn_fit.history['loss'])"
      ],
      "metadata": {
        "colab": {
          "base_uri": "https://localhost:8080/",
          "height": 282
        },
        "id": "_hyQj0wNz2Wx",
        "outputId": "fe384781-4607-4350-d382-449a34e289b8"
      },
      "execution_count": 46,
      "outputs": [
        {
          "output_type": "execute_result",
          "data": {
            "text/plain": [
              "[<matplotlib.lines.Line2D at 0x7fbfcfa33410>]"
            ]
          },
          "metadata": {},
          "execution_count": 46
        },
        {
          "output_type": "display_data",
          "data": {
            "text/plain": [
              "<Figure size 432x288 with 1 Axes>"
            ],
            "image/png": "[encoded data removed]"
          },
          "metadata": {
            "needs_background": "light"
          }
        }
      ]
    }
  ]
}