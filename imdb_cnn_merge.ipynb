{
  "nbformat": 4,
  "nbformat_minor": 0,
  "metadata": {
    "colab": {
      "provenance": [],
      "authorship_tag": "ABX9TyP7fwzBq8npYRbxSCMlbsmM",
      "include_colab_link": true
    },
    "kernelspec": {
      "name": "python3",
      "display_name": "Python 3"
    },
    "language_info": {
      "name": "python"
    },
    "accelerator": "GPU"
  },
  "cells": [
    {
      "cell_type": "markdown",
      "metadata": {
        "id": "view-in-github",
        "colab_type": "text"
      },
      "source": [
        "<a href=\"https://colab.research.google.com/github/carvalheiracarlos/deep_leaning_notebooks/blob/main/imdb_cnn_merge.ipynb\" target=\"_parent\"><img src=\"https://colab.research.google.com/assets/colab-badge.svg\" alt=\"Open In Colab\"/></a>"
      ]
    },
    {
      "cell_type": "code",
      "execution_count": 1,
      "metadata": {
        "id": "t9d1db2aB0ZW"
      },
      "outputs": [],
      "source": [
        "import numpy as np\n",
        "import matplotlib.pyplot as plt\n",
        "import tensorflow as tf\n",
        "from keras.preprocessing.sequence import pad_sequences"
      ]
    },
    {
      "cell_type": "code",
      "source": [
        "device_name = tf.test.gpu_device_name()\n",
        "if device_name != '/device:GPU:0':\n",
        "  raise SystemError('GPU device not found')\n",
        "print('Found GPU at: {}'.format(device_name))"
      ],
      "metadata": {
        "colab": {
          "base_uri": "https://localhost:8080/"
        },
        "id": "yqK3hMRCxIJ0",
        "outputId": "aa690d85-b443-40f7-a014-5128fb0d18dd"
      },
      "execution_count": 2,
      "outputs": [
        {
          "output_type": "stream",
          "name": "stdout",
          "text": [
            "Found GPU at: /device:GPU:0\n"
          ]
        }
      ]
    },
    {
      "cell_type": "code",
      "source": [
        "(X_train, y_train), (X_test, y_test) = tf.keras.datasets.imdb.load_data(num_words=10000)"
      ],
      "metadata": {
        "id": "4azctbIeCDPf"
      },
      "execution_count": 3,
      "outputs": []
    },
    {
      "cell_type": "code",
      "source": [
        "'''\n",
        "Probably need to merge this X_train and X_test, \n",
        "than partition again in some better proportion(train: 80% | test: 20%).\n",
        "\n",
        "Fill review arrarys with zeros to have same lenght.\n",
        "'''\n",
        "print(f'Train Sets Shapes.....X_train: {X_train.shape}')\n",
        "print(f'Train Sets Shapes.....y_train: {y_train.shape}')\n",
        "print(f'Train Sets Largest Review Size: {max([max(review) for review in X_train])}')\n",
        "print(f'Tests Sets Shapes.....X_test: {X_test.shape}')\n",
        "print(f'Tests Sets Shapes.....y_test: {y_test.shape}')\n",
        "print(f'Train Sets Largest Review Size: {max([max(review) for review in X_test])}')"
      ],
      "metadata": {
        "colab": {
          "base_uri": "https://localhost:8080/"
        },
        "id": "_8bpZO37Sd81",
        "outputId": "9ef9ed0b-a297-42c4-e6b9-4e7e9de65f4f"
      },
      "execution_count": 4,
      "outputs": [
        {
          "output_type": "stream",
          "name": "stdout",
          "text": [
            "Train Sets Shapes.....X_train: (25000,)\n",
            "Train Sets Shapes.....y_train: (25000,)\n",
            "Train Sets Largest Review Size: 9999\n",
            "Tests Sets Shapes.....X_test: (25000,)\n",
            "Tests Sets Shapes.....y_test: (25000,)\n",
            "Train Sets Largest Review Size: 9999\n"
          ]
        }
      ]
    },
    {
      "cell_type": "code",
      "source": [
        "X_train, X_val = X_train[:-5000], X_train[-5000:]\n",
        "y_train, y_val = y_train[:-5000], y_train[-5000:]"
      ],
      "metadata": {
        "id": "WaKtwibhEPQE"
      },
      "execution_count": 5,
      "outputs": []
    },
    {
      "cell_type": "code",
      "source": [
        "maximum_sequence_length = 500 # maximum length of all review sequences\n",
        "word_index = tf.keras.datasets.imdb.get_word_index()\n",
        "word_index[\"<PAD>\"] = 0\n",
        "\n",
        "X_train = pad_sequences(X_train, value= word_index[\"<PAD>\"], padding= 'post', maxlen= maximum_sequence_length)\n",
        "X_val = pad_sequences(X_val, value= word_index[\"<PAD>\"], padding= 'post', maxlen= maximum_sequence_length)\n",
        "X_test = pad_sequences(X_test, value= word_index[\"<PAD>\"], padding= 'post', maxlen= maximum_sequence_length)\n",
        "\n",
        "print('X_train shape:', X_train.shape) # (n_samples, n_timesteps)\n",
        "print('X_val shape:', X_val.shape)\n",
        "print('X_test shape:', X_test.shape)"
      ],
      "metadata": {
        "colab": {
          "base_uri": "https://localhost:8080/"
        },
        "id": "UvTSAvPornXR",
        "outputId": "40393c22-a477-49c8-caa6-a7dd2e89326e"
      },
      "execution_count": 7,
      "outputs": [
        {
          "output_type": "stream",
          "name": "stdout",
          "text": [
            "X_train shape: (20000, 500)\n",
            "X_val shape: (5000, 500)\n",
            "X_test shape: (25000, 500)\n"
          ]
        }
      ]
    },
    {
      "cell_type": "code",
      "source": [
        "class ConvNet:\n",
        "  @staticmethod\n",
        "  def build(input_dim,\n",
        "            embedding_dim,\n",
        "            n_classes, \n",
        "            activation='relu', \n",
        "            weights_path=None):\n",
        "\n",
        "    model = tf.keras.models.Sequential()\n",
        "\n",
        "    model.add(tf.keras.layers.Embedding(input_dim, embedding_dim, input_length=maximum_sequence_length))\n",
        "    model.add(tf.keras.layers.Conv1D(filters=128, \n",
        "                                     kernel_size=4,\n",
        "                                     strides=1,\n",
        "                                     activation=activation))\n",
        "    model.add(tf.keras.layers.BatchNormalization())\n",
        "    model.add(tf.keras.layers.GlobalMaxPooling1D())\n",
        "    model.add(tf.keras.layers.Dropout(0.5))\n",
        "    '''\n",
        "    model.add(tf.keras.layers.Conv1D(filters=256, \n",
        "                                     kernel_size=4,\n",
        "                                     strides=1,\n",
        "                                     activation=activation))\n",
        "    model.add(tf.keras.layers.BatchNormalization())\n",
        "    model.add(tf.keras.layers.GlobalMaxPooling1D())\n",
        "    model.add(tf.keras.layers.Dropout(0.5))\n",
        "    '''\n",
        "    model.add(tf.keras.layers.Flatten())\n",
        "\n",
        "    model.add(tf.keras.layers.Dense(256, activation=activation, kernel_regularizer=tf.keras.regularizers.l2(0.09)))\n",
        "\n",
        "    model.add(tf.keras.layers.Dense(n_classes, activation='sigmoid'))\n",
        "\n",
        "    # if a weights path is supplied (inicating that the model was\n",
        "    # pre-trained), then load the weights\n",
        "    if weights_path is not None:\n",
        "      model.load_weights(weights_path)\n",
        "    \n",
        "    return model"
      ],
      "metadata": {
        "id": "MfjP15KQWpJu"
      },
      "execution_count": 8,
      "outputs": []
    },
    {
      "cell_type": "code",
      "source": [
        "n_epochs = 100 \n",
        "ini_learning_rate = 1e-4\n",
        "batch_size=128"
      ],
      "metadata": {
        "id": "kBC_rlcnXrsB"
      },
      "execution_count": 9,
      "outputs": []
    },
    {
      "cell_type": "code",
      "source": [
        "with tf.device('/device:GPU:0') as sess:\n",
        "  train_model = ConvNet.build(input_dim=10000,\n",
        "                              embedding_dim=16, \n",
        "                              n_classes=1, \n",
        "                              activation='relu', \n",
        "                              weights_path=None)\n",
        "  \n",
        "  opt = tf.keras.optimizers.Adam(learning_rate=ini_learning_rate,\n",
        "                                beta_1=0.9, \n",
        "                                beta_2=0.999, \n",
        "                                epsilon=1e-08,\n",
        "                                decay=ini_learning_rate)\n",
        "  \n",
        "  train_model.compile(loss=tf.keras.losses.BinaryCrossentropy(from_logits=True), \n",
        "                      optimizer=opt, \n",
        "                      metrics=[tf.keras.metrics.BinaryAccuracy()])\n",
        "  \n",
        "  train_model.summary()\n",
        "  \n",
        "  tensorboard = tf.keras.callbacks.TensorBoard('./logs/fit/',\n",
        "                                            write_images=True)\n",
        "  \n",
        "  callbacks_list = [tensorboard]\n",
        "  \n",
        "  fit_history = train_model.fit(x=X_train,\n",
        "                                y=y_train,\n",
        "                                epochs=n_epochs,\n",
        "                                validation_data=(X_val, y_val),\n",
        "                                validation_freq=1,\n",
        "                                batch_size=batch_size,\n",
        "                                callbacks=callbacks_list,\n",
        "                                verbose=1)\n"
      ],
      "metadata": {
        "colab": {
          "base_uri": "https://localhost:8080/"
        },
        "id": "jmmD9BhHXikH",
        "outputId": "e2c48c06-28f3-47f7-8a94-8f3b437ec292"
      },
      "execution_count": 11,
      "outputs": [
        {
          "output_type": "stream",
          "name": "stdout",
          "text": [
            "Model: \"sequential\"\n",
            "_________________________________________________________________\n",
            " Layer (type)                Output Shape              Param #   \n",
            "=================================================================\n",
            " embedding (Embedding)       (None, 500, 16)           160000    \n",
            "                                                                 \n",
            " conv1d (Conv1D)             (None, 497, 128)          8320      \n",
            "                                                                 \n",
            " batch_normalization (BatchN  (None, 497, 128)         512       \n",
            " ormalization)                                                   \n",
            "                                                                 \n",
            " global_max_pooling1d (Globa  (None, 128)              0         \n",
            " lMaxPooling1D)                                                  \n",
            "                                                                 \n",
            " dropout (Dropout)           (None, 128)               0         \n",
            "                                                                 \n",
            " flatten (Flatten)           (None, 128)               0         \n",
            "                                                                 \n",
            " dense (Dense)               (None, 256)               33024     \n",
            "                                                                 \n",
            " dense_1 (Dense)             (None, 1)                 257       \n",
            "                                                                 \n",
            "=================================================================\n",
            "Total params: 202,113\n",
            "Trainable params: 201,857\n",
            "Non-trainable params: 256\n",
            "_________________________________________________________________\n",
            "Epoch 1/100\n"
          ]
        },
        {
          "output_type": "stream",
          "name": "stderr",
          "text": [
            "/usr/local/lib/python3.7/dist-packages/tensorflow/python/util/dispatch.py:1082: UserWarning: \"`binary_crossentropy` received `from_logits=True`, but the `output` argument was produced by a sigmoid or softmax activation and thus does not represent logits. Was this intended?\"\n",
            "  return dispatch_target(*args, **kwargs)\n"
          ]
        },
        {
          "output_type": "stream",
          "name": "stdout",
          "text": [
            "157/157 [==============================] - 5s 16ms/step - loss: 13.7489 - binary_accuracy: 0.4992 - val_loss: 11.4664 - val_binary_accuracy: 0.4974\n",
            "Epoch 2/100\n",
            "157/157 [==============================] - 2s 14ms/step - loss: 9.7202 - binary_accuracy: 0.5224 - val_loss: 8.1137 - val_binary_accuracy: 0.5750\n",
            "Epoch 3/100\n",
            "157/157 [==============================] - 2s 15ms/step - loss: 6.8722 - binary_accuracy: 0.5433 - val_loss: 5.7449 - val_binary_accuracy: 0.5878\n",
            "Epoch 4/100\n",
            "157/157 [==============================] - 2s 15ms/step - loss: 4.8533 - binary_accuracy: 0.6029 - val_loss: 4.0563 - val_binary_accuracy: 0.6580\n",
            "Epoch 5/100\n",
            "157/157 [==============================] - 2s 15ms/step - loss: 3.4267 - binary_accuracy: 0.6644 - val_loss: 2.8608 - val_binary_accuracy: 0.6648\n",
            "Epoch 6/100\n",
            "157/157 [==============================] - 2s 15ms/step - loss: 2.4407 - binary_accuracy: 0.6929 - val_loss: 2.0439 - val_binary_accuracy: 0.6952\n",
            "Epoch 7/100\n",
            "157/157 [==============================] - 2s 15ms/step - loss: 1.7527 - binary_accuracy: 0.7272 - val_loss: 1.4749 - val_binary_accuracy: 0.7548\n",
            "Epoch 8/100\n",
            "157/157 [==============================] - 2s 14ms/step - loss: 1.2790 - binary_accuracy: 0.7572 - val_loss: 1.0837 - val_binary_accuracy: 0.7774\n",
            "Epoch 9/100\n",
            "157/157 [==============================] - 2s 14ms/step - loss: 0.9563 - binary_accuracy: 0.7840 - val_loss: 0.8243 - val_binary_accuracy: 0.8026\n",
            "Epoch 10/100\n",
            "157/157 [==============================] - 2s 15ms/step - loss: 0.7412 - binary_accuracy: 0.8094 - val_loss: 0.6548 - val_binary_accuracy: 0.8228\n",
            "Epoch 11/100\n",
            "157/157 [==============================] - 2s 15ms/step - loss: 0.5954 - binary_accuracy: 0.8260 - val_loss: 0.5400 - val_binary_accuracy: 0.8384\n",
            "Epoch 12/100\n",
            "157/157 [==============================] - 2s 15ms/step - loss: 0.5028 - binary_accuracy: 0.8429 - val_loss: 0.4711 - val_binary_accuracy: 0.8378\n",
            "Epoch 13/100\n",
            "157/157 [==============================] - 2s 15ms/step - loss: 0.4364 - binary_accuracy: 0.8544 - val_loss: 0.4222 - val_binary_accuracy: 0.8526\n",
            "Epoch 14/100\n",
            "157/157 [==============================] - 2s 15ms/step - loss: 0.3892 - binary_accuracy: 0.8679 - val_loss: 0.3926 - val_binary_accuracy: 0.8580\n",
            "Epoch 15/100\n",
            "157/157 [==============================] - 2s 15ms/step - loss: 0.3559 - binary_accuracy: 0.8763 - val_loss: 0.3696 - val_binary_accuracy: 0.8656\n",
            "Epoch 16/100\n",
            "157/157 [==============================] - 2s 16ms/step - loss: 0.3308 - binary_accuracy: 0.8865 - val_loss: 0.3542 - val_binary_accuracy: 0.8712\n",
            "Epoch 17/100\n",
            "157/157 [==============================] - 2s 15ms/step - loss: 0.3143 - binary_accuracy: 0.8926 - val_loss: 0.3440 - val_binary_accuracy: 0.8716\n",
            "Epoch 18/100\n",
            "157/157 [==============================] - 2s 16ms/step - loss: 0.2946 - binary_accuracy: 0.9020 - val_loss: 0.3356 - val_binary_accuracy: 0.8792\n",
            "Epoch 19/100\n",
            "157/157 [==============================] - 2s 16ms/step - loss: 0.2824 - binary_accuracy: 0.9066 - val_loss: 0.3278 - val_binary_accuracy: 0.8810\n",
            "Epoch 20/100\n",
            "157/157 [==============================] - 2s 15ms/step - loss: 0.2694 - binary_accuracy: 0.9137 - val_loss: 0.3240 - val_binary_accuracy: 0.8836\n",
            "Epoch 21/100\n",
            "157/157 [==============================] - 2s 15ms/step - loss: 0.2578 - binary_accuracy: 0.9187 - val_loss: 0.3197 - val_binary_accuracy: 0.8806\n",
            "Epoch 22/100\n",
            "157/157 [==============================] - 2s 15ms/step - loss: 0.2460 - binary_accuracy: 0.9251 - val_loss: 0.3163 - val_binary_accuracy: 0.8868\n",
            "Epoch 23/100\n",
            "157/157 [==============================] - 2s 15ms/step - loss: 0.2367 - binary_accuracy: 0.9286 - val_loss: 0.3132 - val_binary_accuracy: 0.8878\n",
            "Epoch 24/100\n",
            "157/157 [==============================] - 3s 17ms/step - loss: 0.2255 - binary_accuracy: 0.9327 - val_loss: 0.3104 - val_binary_accuracy: 0.8878\n",
            "Epoch 25/100\n",
            "157/157 [==============================] - 3s 17ms/step - loss: 0.2170 - binary_accuracy: 0.9381 - val_loss: 0.3081 - val_binary_accuracy: 0.8892\n",
            "Epoch 26/100\n",
            "157/157 [==============================] - 2s 15ms/step - loss: 0.2080 - binary_accuracy: 0.9417 - val_loss: 0.3092 - val_binary_accuracy: 0.8890\n",
            "Epoch 27/100\n",
            "157/157 [==============================] - 2s 15ms/step - loss: 0.1987 - binary_accuracy: 0.9439 - val_loss: 0.3067 - val_binary_accuracy: 0.8880\n",
            "Epoch 28/100\n",
            "157/157 [==============================] - 2s 16ms/step - loss: 0.1905 - binary_accuracy: 0.9500 - val_loss: 0.3058 - val_binary_accuracy: 0.8900\n",
            "Epoch 29/100\n",
            "157/157 [==============================] - 2s 16ms/step - loss: 0.1840 - binary_accuracy: 0.9524 - val_loss: 0.3067 - val_binary_accuracy: 0.8888\n",
            "Epoch 30/100\n",
            "157/157 [==============================] - 2s 15ms/step - loss: 0.1804 - binary_accuracy: 0.9528 - val_loss: 0.3054 - val_binary_accuracy: 0.8894\n",
            "Epoch 31/100\n",
            "157/157 [==============================] - 2s 15ms/step - loss: 0.1703 - binary_accuracy: 0.9582 - val_loss: 0.3055 - val_binary_accuracy: 0.8904\n",
            "Epoch 32/100\n",
            "157/157 [==============================] - 2s 15ms/step - loss: 0.1659 - binary_accuracy: 0.9591 - val_loss: 0.3042 - val_binary_accuracy: 0.8902\n",
            "Epoch 33/100\n",
            "157/157 [==============================] - 2s 15ms/step - loss: 0.1600 - binary_accuracy: 0.9618 - val_loss: 0.3054 - val_binary_accuracy: 0.8888\n",
            "Epoch 34/100\n",
            "157/157 [==============================] - 2s 16ms/step - loss: 0.1553 - binary_accuracy: 0.9633 - val_loss: 0.3071 - val_binary_accuracy: 0.8894\n",
            "Epoch 35/100\n",
            "157/157 [==============================] - 2s 15ms/step - loss: 0.1493 - binary_accuracy: 0.9658 - val_loss: 0.3066 - val_binary_accuracy: 0.8898\n",
            "Epoch 36/100\n",
            "157/157 [==============================] - 2s 15ms/step - loss: 0.1436 - binary_accuracy: 0.9674 - val_loss: 0.3076 - val_binary_accuracy: 0.8892\n",
            "Epoch 37/100\n",
            "157/157 [==============================] - 2s 15ms/step - loss: 0.1362 - binary_accuracy: 0.9715 - val_loss: 0.3090 - val_binary_accuracy: 0.8892\n",
            "Epoch 38/100\n",
            "157/157 [==============================] - 2s 15ms/step - loss: 0.1336 - binary_accuracy: 0.9719 - val_loss: 0.3098 - val_binary_accuracy: 0.8870\n",
            "Epoch 39/100\n",
            "157/157 [==============================] - 2s 16ms/step - loss: 0.1290 - binary_accuracy: 0.9742 - val_loss: 0.3111 - val_binary_accuracy: 0.8884\n",
            "Epoch 40/100\n",
            "157/157 [==============================] - 2s 15ms/step - loss: 0.1248 - binary_accuracy: 0.9740 - val_loss: 0.3210 - val_binary_accuracy: 0.8874\n",
            "Epoch 41/100\n",
            "157/157 [==============================] - 2s 15ms/step - loss: 0.1197 - binary_accuracy: 0.9771 - val_loss: 0.3133 - val_binary_accuracy: 0.8872\n",
            "Epoch 42/100\n",
            "157/157 [==============================] - 2s 15ms/step - loss: 0.1165 - binary_accuracy: 0.9772 - val_loss: 0.3130 - val_binary_accuracy: 0.8882\n",
            "Epoch 43/100\n",
            "157/157 [==============================] - 2s 15ms/step - loss: 0.1130 - binary_accuracy: 0.9782 - val_loss: 0.3130 - val_binary_accuracy: 0.8870\n",
            "Epoch 44/100\n",
            "157/157 [==============================] - 2s 16ms/step - loss: 0.1099 - binary_accuracy: 0.9801 - val_loss: 0.3160 - val_binary_accuracy: 0.8874\n",
            "Epoch 45/100\n",
            "157/157 [==============================] - 2s 16ms/step - loss: 0.1061 - binary_accuracy: 0.9814 - val_loss: 0.3146 - val_binary_accuracy: 0.8884\n",
            "Epoch 46/100\n",
            "157/157 [==============================] - 2s 15ms/step - loss: 0.1014 - binary_accuracy: 0.9821 - val_loss: 0.3182 - val_binary_accuracy: 0.8886\n",
            "Epoch 47/100\n",
            "157/157 [==============================] - 2s 15ms/step - loss: 0.0998 - binary_accuracy: 0.9824 - val_loss: 0.3181 - val_binary_accuracy: 0.8880\n",
            "Epoch 48/100\n",
            "157/157 [==============================] - 2s 15ms/step - loss: 0.0965 - binary_accuracy: 0.9837 - val_loss: 0.3219 - val_binary_accuracy: 0.8882\n",
            "Epoch 49/100\n",
            "157/157 [==============================] - 2s 16ms/step - loss: 0.0929 - binary_accuracy: 0.9855 - val_loss: 0.3252 - val_binary_accuracy: 0.8880\n",
            "Epoch 50/100\n",
            "157/157 [==============================] - 2s 16ms/step - loss: 0.0895 - binary_accuracy: 0.9866 - val_loss: 0.3235 - val_binary_accuracy: 0.8878\n",
            "Epoch 51/100\n",
            "157/157 [==============================] - 2s 15ms/step - loss: 0.0860 - binary_accuracy: 0.9871 - val_loss: 0.3245 - val_binary_accuracy: 0.8878\n",
            "Epoch 52/100\n",
            "157/157 [==============================] - 2s 16ms/step - loss: 0.0848 - binary_accuracy: 0.9870 - val_loss: 0.3277 - val_binary_accuracy: 0.8878\n",
            "Epoch 53/100\n",
            "157/157 [==============================] - 2s 15ms/step - loss: 0.0824 - binary_accuracy: 0.9884 - val_loss: 0.3300 - val_binary_accuracy: 0.8872\n",
            "Epoch 54/100\n",
            "157/157 [==============================] - 2s 15ms/step - loss: 0.0793 - binary_accuracy: 0.9895 - val_loss: 0.3304 - val_binary_accuracy: 0.8860\n",
            "Epoch 55/100\n",
            "157/157 [==============================] - 2s 16ms/step - loss: 0.0783 - binary_accuracy: 0.9894 - val_loss: 0.3299 - val_binary_accuracy: 0.8854\n",
            "Epoch 56/100\n",
            "157/157 [==============================] - 2s 15ms/step - loss: 0.0758 - binary_accuracy: 0.9898 - val_loss: 0.3342 - val_binary_accuracy: 0.8840\n",
            "Epoch 57/100\n",
            "157/157 [==============================] - 2s 16ms/step - loss: 0.0743 - binary_accuracy: 0.9898 - val_loss: 0.3388 - val_binary_accuracy: 0.8866\n",
            "Epoch 58/100\n",
            "157/157 [==============================] - 2s 16ms/step - loss: 0.0728 - binary_accuracy: 0.9901 - val_loss: 0.3371 - val_binary_accuracy: 0.8860\n",
            "Epoch 59/100\n",
            "157/157 [==============================] - 2s 15ms/step - loss: 0.0693 - binary_accuracy: 0.9912 - val_loss: 0.3391 - val_binary_accuracy: 0.8860\n",
            "Epoch 60/100\n",
            "157/157 [==============================] - 2s 15ms/step - loss: 0.0690 - binary_accuracy: 0.9912 - val_loss: 0.3402 - val_binary_accuracy: 0.8872\n",
            "Epoch 61/100\n",
            "157/157 [==============================] - 2s 16ms/step - loss: 0.0658 - binary_accuracy: 0.9923 - val_loss: 0.3387 - val_binary_accuracy: 0.8848\n",
            "Epoch 62/100\n",
            "157/157 [==============================] - 2s 15ms/step - loss: 0.0665 - binary_accuracy: 0.9912 - val_loss: 0.3397 - val_binary_accuracy: 0.8854\n",
            "Epoch 63/100\n",
            "157/157 [==============================] - 2s 15ms/step - loss: 0.0621 - binary_accuracy: 0.9932 - val_loss: 0.3429 - val_binary_accuracy: 0.8854\n",
            "Epoch 64/100\n",
            "157/157 [==============================] - 2s 16ms/step - loss: 0.0625 - binary_accuracy: 0.9927 - val_loss: 0.3426 - val_binary_accuracy: 0.8864\n",
            "Epoch 65/100\n",
            "157/157 [==============================] - 2s 15ms/step - loss: 0.0600 - binary_accuracy: 0.9930 - val_loss: 0.3440 - val_binary_accuracy: 0.8854\n",
            "Epoch 66/100\n",
            "157/157 [==============================] - 2s 16ms/step - loss: 0.0586 - binary_accuracy: 0.9938 - val_loss: 0.3503 - val_binary_accuracy: 0.8850\n",
            "Epoch 67/100\n",
            "157/157 [==============================] - 2s 16ms/step - loss: 0.0564 - binary_accuracy: 0.9948 - val_loss: 0.3491 - val_binary_accuracy: 0.8854\n",
            "Epoch 68/100\n",
            "157/157 [==============================] - 2s 15ms/step - loss: 0.0561 - binary_accuracy: 0.9933 - val_loss: 0.3508 - val_binary_accuracy: 0.8840\n",
            "Epoch 69/100\n",
            "157/157 [==============================] - 2s 15ms/step - loss: 0.0558 - binary_accuracy: 0.9938 - val_loss: 0.3513 - val_binary_accuracy: 0.8850\n",
            "Epoch 70/100\n",
            "157/157 [==============================] - 2s 15ms/step - loss: 0.0532 - binary_accuracy: 0.9944 - val_loss: 0.3542 - val_binary_accuracy: 0.8862\n",
            "Epoch 71/100\n",
            "157/157 [==============================] - 2s 16ms/step - loss: 0.0536 - binary_accuracy: 0.9941 - val_loss: 0.3592 - val_binary_accuracy: 0.8860\n",
            "Epoch 72/100\n",
            "157/157 [==============================] - 2s 15ms/step - loss: 0.0519 - binary_accuracy: 0.9949 - val_loss: 0.3618 - val_binary_accuracy: 0.8868\n",
            "Epoch 73/100\n",
            "157/157 [==============================] - 2s 15ms/step - loss: 0.0510 - binary_accuracy: 0.9944 - val_loss: 0.3554 - val_binary_accuracy: 0.8824\n",
            "Epoch 74/100\n",
            "157/157 [==============================] - 2s 16ms/step - loss: 0.0485 - binary_accuracy: 0.9952 - val_loss: 0.3610 - val_binary_accuracy: 0.8854\n",
            "Epoch 75/100\n",
            "157/157 [==============================] - 2s 16ms/step - loss: 0.0466 - binary_accuracy: 0.9962 - val_loss: 0.3659 - val_binary_accuracy: 0.8834\n",
            "Epoch 76/100\n",
            "157/157 [==============================] - 2s 16ms/step - loss: 0.0472 - binary_accuracy: 0.9950 - val_loss: 0.3650 - val_binary_accuracy: 0.8850\n",
            "Epoch 77/100\n",
            "157/157 [==============================] - 2s 15ms/step - loss: 0.0460 - binary_accuracy: 0.9960 - val_loss: 0.3651 - val_binary_accuracy: 0.8840\n",
            "Epoch 78/100\n",
            "157/157 [==============================] - 2s 16ms/step - loss: 0.0446 - binary_accuracy: 0.9961 - val_loss: 0.3710 - val_binary_accuracy: 0.8832\n",
            "Epoch 79/100\n",
            "157/157 [==============================] - 2s 16ms/step - loss: 0.0445 - binary_accuracy: 0.9958 - val_loss: 0.3686 - val_binary_accuracy: 0.8838\n",
            "Epoch 80/100\n",
            "157/157 [==============================] - 2s 15ms/step - loss: 0.0438 - binary_accuracy: 0.9962 - val_loss: 0.3703 - val_binary_accuracy: 0.8824\n",
            "Epoch 81/100\n",
            "157/157 [==============================] - 2s 16ms/step - loss: 0.0432 - binary_accuracy: 0.9959 - val_loss: 0.3678 - val_binary_accuracy: 0.8838\n",
            "Epoch 82/100\n",
            "157/157 [==============================] - 2s 15ms/step - loss: 0.0416 - binary_accuracy: 0.9963 - val_loss: 0.3722 - val_binary_accuracy: 0.8824\n",
            "Epoch 83/100\n",
            "157/157 [==============================] - 2s 16ms/step - loss: 0.0408 - binary_accuracy: 0.9969 - val_loss: 0.3748 - val_binary_accuracy: 0.8810\n",
            "Epoch 84/100\n",
            "157/157 [==============================] - 2s 15ms/step - loss: 0.0391 - binary_accuracy: 0.9967 - val_loss: 0.3760 - val_binary_accuracy: 0.8828\n",
            "Epoch 85/100\n",
            "157/157 [==============================] - 2s 16ms/step - loss: 0.0398 - binary_accuracy: 0.9965 - val_loss: 0.3761 - val_binary_accuracy: 0.8834\n",
            "Epoch 86/100\n",
            "157/157 [==============================] - 2s 16ms/step - loss: 0.0381 - binary_accuracy: 0.9969 - val_loss: 0.3784 - val_binary_accuracy: 0.8834\n",
            "Epoch 87/100\n",
            "157/157 [==============================] - 2s 16ms/step - loss: 0.0384 - binary_accuracy: 0.9966 - val_loss: 0.3830 - val_binary_accuracy: 0.8832\n",
            "Epoch 88/100\n",
            "157/157 [==============================] - 2s 16ms/step - loss: 0.0373 - binary_accuracy: 0.9966 - val_loss: 0.3831 - val_binary_accuracy: 0.8836\n",
            "Epoch 89/100\n",
            "157/157 [==============================] - 2s 16ms/step - loss: 0.0360 - binary_accuracy: 0.9973 - val_loss: 0.3853 - val_binary_accuracy: 0.8830\n",
            "Epoch 90/100\n",
            "157/157 [==============================] - 2s 16ms/step - loss: 0.0351 - binary_accuracy: 0.9974 - val_loss: 0.3865 - val_binary_accuracy: 0.8836\n",
            "Epoch 91/100\n",
            "157/157 [==============================] - 2s 15ms/step - loss: 0.0351 - binary_accuracy: 0.9971 - val_loss: 0.3852 - val_binary_accuracy: 0.8832\n",
            "Epoch 92/100\n",
            "157/157 [==============================] - 2s 15ms/step - loss: 0.0346 - binary_accuracy: 0.9973 - val_loss: 0.3869 - val_binary_accuracy: 0.8812\n",
            "Epoch 93/100\n",
            "157/157 [==============================] - 2s 16ms/step - loss: 0.0327 - binary_accuracy: 0.9979 - val_loss: 0.3896 - val_binary_accuracy: 0.8832\n",
            "Epoch 94/100\n",
            "157/157 [==============================] - 2s 15ms/step - loss: 0.0323 - binary_accuracy: 0.9978 - val_loss: 0.3894 - val_binary_accuracy: 0.8836\n",
            "Epoch 95/100\n",
            "157/157 [==============================] - 2s 16ms/step - loss: 0.0328 - binary_accuracy: 0.9976 - val_loss: 0.3916 - val_binary_accuracy: 0.8824\n",
            "Epoch 96/100\n",
            "157/157 [==============================] - 3s 16ms/step - loss: 0.0322 - binary_accuracy: 0.9975 - val_loss: 0.3927 - val_binary_accuracy: 0.8826\n",
            "Epoch 97/100\n",
            "157/157 [==============================] - 2s 15ms/step - loss: 0.0311 - binary_accuracy: 0.9976 - val_loss: 0.3954 - val_binary_accuracy: 0.8810\n",
            "Epoch 98/100\n",
            "157/157 [==============================] - 3s 16ms/step - loss: 0.0302 - binary_accuracy: 0.9980 - val_loss: 0.3989 - val_binary_accuracy: 0.8810\n",
            "Epoch 99/100\n",
            "157/157 [==============================] - 2s 16ms/step - loss: 0.0309 - binary_accuracy: 0.9973 - val_loss: 0.3968 - val_binary_accuracy: 0.8806\n",
            "Epoch 100/100\n",
            "157/157 [==============================] - 3s 16ms/step - loss: 0.0303 - binary_accuracy: 0.9977 - val_loss: 0.3979 - val_binary_accuracy: 0.8812\n"
          ]
        }
      ]
    },
    {
      "cell_type": "code",
      "source": [
        "fig, ax = plt.subplots(figsize=(10, 8))\n",
        "ax = plt.plot(fit_history.history['binary_accuracy'], label='Train')\n",
        "ax = plt.plot(fit_history.history['val_binary_accuracy'], label='Validation')\n",
        "ax = plt.xlabel('Epochs')\n",
        "ax = plt.ylabel('Accuracy')\n",
        "ax = plt.legend()"
      ],
      "metadata": {
        "id": "p5Pd6Kz-FVlq",
        "colab": {
          "base_uri": "https://localhost:8080/",
          "height": 497
        },
        "outputId": "ffd7dd53-661d-4941-c144-00fdb7b38dad"
      },
      "execution_count": 9,
      "outputs": [
        {
          "output_type": "display_data",
          "data": {
            "text/plain": [
              "<Figure size 720x576 with 1 Axes>"
            ],
            "image/png": "[encoded data removed]"
          },
          "metadata": {
            "needs_background": "light"
          }
        }
      ]
    },
    {
      "cell_type": "code",
      "source": [
        "fig, ax = plt.subplots(figsize=(10, 8))\n",
        "ax = plt.plot(fit_history.history['loss'], label='Train')\n",
        "ax = plt.plot(fit_history.history['val_loss'], label='Validation')\n",
        "ax = plt.xlabel('Epochs')\n",
        "ax = plt.ylabel('Loss')\n",
        "ax = plt.title('Loss')\n",
        "ax = plt.legend()"
      ],
      "metadata": {
        "id": "HlXqMOt9FiXF",
        "colab": {
          "base_uri": "https://localhost:8080/",
          "height": 513
        },
        "outputId": "e9a99e82-4287-4881-9220-6f926a1e7df7"
      },
      "execution_count": 10,
      "outputs": [
        {
          "output_type": "display_data",
          "data": {
            "text/plain": [
              "<Figure size 720x576 with 1 Axes>"
            ],
            "image/png": "[encoded data removed]"
          },
          "metadata": {
            "needs_background": "light"
          }
        }
      ]
    },
    {
      "cell_type": "code",
      "source": [
        "# Reference of Convolutional 1D Neural Network for imdb dataset\n",
        "# https://bagheri365.github.io/blog/Sentiment-Analysis-of-IMDB-Movie-Reviews-using-Convolutional-Neural-Network-(CNN)-with-Hyperparameters-Tuning/"
      ],
      "metadata": {
        "id": "ZIEtGQvAw3co"
      },
      "execution_count": 11,
      "outputs": []
    }
  ]
}